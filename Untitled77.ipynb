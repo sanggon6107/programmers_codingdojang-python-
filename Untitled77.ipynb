{
 "cells": [
  {
   "cell_type": "code",
   "execution_count": 10,
   "metadata": {},
   "outputs": [
    {
     "name": "stdout",
     "output_type": "stream",
     "text": [
      "INPUT :-10, 0\n",
      "INPUT :-1, 9\n",
      "-9\n",
      "-8\n",
      "-7\n",
      "-6\n",
      "-5\n",
      "-4\n",
      "-3\n",
      "-2\n"
     ]
    }
   ],
   "source": [
    "position_LIST = []\n",
    "for i in range(1, 3) :\n",
    "    position_LIST.append(eval('('+input(\"INPUT :\")+')'))\n",
    "if min(position_LIST[0][0], position_LIST[1][0]) == max(position_LIST[0][0], position_LIST[1][0]) :\n",
    "\n",
    "e = min(position_LIST[0][0], position_LIST[1][0])\n",
    "while True :\n",
    "    e += 1\n",
    "    if e+1 == max(position_LIST[0][0], position_LIST[1][0]) :\n",
    "        break"
   ]
  },
  {
   "cell_type": "code",
   "execution_count": 11,
   "metadata": {},
   "outputs": [
    {
     "ename": "IndentationError",
     "evalue": "unexpected indent (<ipython-input-11-b325c3634502>, line 2)",
     "output_type": "error",
     "traceback": [
      "\u001b[1;36m  File \u001b[1;32m\"<ipython-input-11-b325c3634502>\"\u001b[1;36m, line \u001b[1;32m2\u001b[0m\n\u001b[1;33m    else :##열 string, 행 list?\u001b[0m\n\u001b[1;37m    ^\u001b[0m\n\u001b[1;31mIndentationError\u001b[0m\u001b[1;31m:\u001b[0m unexpected indent\n"
     ]
    }
   ],
   "source": [
    "\n",
    "    else :##열 string, 행 list?\n",
    "        for i in range(0, int(inp1st)) :\n",
    "            globals()['GYOU{}'.format(i)] = ''\n",
    "            for m in range(0, int(inp2nd)) :\n",
    "                globals()['GYOU{}'.format(i)] += str(m).ljust(2)"
   ]
  },
  {
   "cell_type": "code",
   "execution_count": null,
   "metadata": {},
   "outputs": [],
   "source": []
  }
 ],
 "metadata": {
  "kernelspec": {
   "display_name": "Python 3",
   "language": "python",
   "name": "python3"
  },
  "language_info": {
   "codemirror_mode": {
    "name": "ipython",
    "version": 3
   },
   "file_extension": ".py",
   "mimetype": "text/x-python",
   "name": "python",
   "nbconvert_exporter": "python",
   "pygments_lexer": "ipython3",
   "version": "3.7.3"
  }
 },
 "nbformat": 4,
 "nbformat_minor": 2
}
