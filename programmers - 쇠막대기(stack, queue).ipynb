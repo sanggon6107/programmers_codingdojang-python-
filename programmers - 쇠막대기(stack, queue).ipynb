{
 "cells": [
  {
   "cell_type": "code",
   "execution_count": 58,
   "metadata": {},
   "outputs": [
    {
     "name": "stdout",
     "output_type": "stream",
     "text": [
      "17\n"
     ]
    }
   ],
   "source": [
    "import re\n",
    "\n",
    "def solution(arrangement):\n",
    "    com = re.compile(\"([(]{1}\\)?|[)])\")\n",
    "    find = com.findall(arrangement)\n",
    "    fe, answer = 0, 0\n",
    "    for i in find :\n",
    "        if i == \"(\" :\n",
    "            fe += 1\n",
    "            answer += 1\n",
    "        elif i == \")\" : fe -= 1\n",
    "        else : answer += fe\n",
    "    return answer\n",
    "\n",
    "if __name__ == \"__main__\" :\n",
    "    print(solution(\"()(((()())(())()))(()))\"))"
   ]
  },
  {
   "cell_type": "code",
   "execution_count": null,
   "metadata": {},
   "outputs": [],
   "source": []
  }
 ],
 "metadata": {
  "kernelspec": {
   "display_name": "Python 3",
   "language": "python",
   "name": "python3"
  },
  "language_info": {
   "codemirror_mode": {
    "name": "ipython",
    "version": 3
   },
   "file_extension": ".py",
   "mimetype": "text/x-python",
   "name": "python",
   "nbconvert_exporter": "python",
   "pygments_lexer": "ipython3",
   "version": "3.7.4"
  }
 },
 "nbformat": 4,
 "nbformat_minor": 2
}
