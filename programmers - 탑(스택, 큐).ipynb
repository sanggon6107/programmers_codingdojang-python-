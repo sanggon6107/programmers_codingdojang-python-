{
 "cells": [
  {
   "cell_type": "code",
   "execution_count": 9,
   "metadata": {},
   "outputs": [
    {
     "name": "stdout",
     "output_type": "stream",
     "text": [
      "[4, 7, 5, 9, 6]\n"
     ]
    },
    {
     "data": {
      "text/plain": [
       "[0, 0, 2, 2, 4]"
      ]
     },
     "execution_count": 9,
     "metadata": {},
     "output_type": "execute_result"
    }
   ],
   "source": [
    "def solution(heights):\n",
    "    rev, answer = list(reversed(heights)), []\n",
    "    for i in range(0, len(rev)) :\n",
    "        for j in range(i, len(rev)) :\n",
    "            if rev[j] > rev[i] : \n",
    "                answer.append(len(rev)-j)\n",
    "                break\n",
    "            if j == len(rev)-1 : answer.append(0)\n",
    "    return list(reversed(answer))\n",
    "solution([6,9,5,7,4])"
   ]
  },
  {
   "cell_type": "code",
   "execution_count": null,
   "metadata": {},
   "outputs": [],
   "source": []
  }
 ],
 "metadata": {
  "kernelspec": {
   "display_name": "Python 3",
   "language": "python",
   "name": "python3"
  },
  "language_info": {
   "codemirror_mode": {
    "name": "ipython",
    "version": 3
   },
   "file_extension": ".py",
   "mimetype": "text/x-python",
   "name": "python",
   "nbconvert_exporter": "python",
   "pygments_lexer": "ipython3",
   "version": "3.7.3"
  }
 },
 "nbformat": 4,
 "nbformat_minor": 2
}
