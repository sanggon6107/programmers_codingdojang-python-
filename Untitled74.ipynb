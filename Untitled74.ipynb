{
 "cells": [
  {
   "cell_type": "code",
   "execution_count": 21,
   "metadata": {},
   "outputs": [
    {
     "name": "stdout",
     "output_type": "stream",
     "text": [
      "INPUT : 169+248\n",
      "269\n"
     ]
    }
   ],
   "source": [
    "import re\n",
    "inp = input(\"INPUT : \")\n",
    "\n",
    "numbs = re.compile(\"\\d+\")\n",
    "oper = re.compile(\"[+x]{1}\")\n",
    "result = ''\n",
    "\n",
    "\n",
    "if oper_LIST[0] == \"+\" :\n",
    "    numbs_LIST, oper_LIST = sorted(numbs.findall(inp)), oper.findall(inp)\n",
    "    numbs_LIST[0] = numbs_LIST[0].rjust(len(numbs_LIST[1]), '0')\n",
    "    \n",
    "    for IND in range(0, len(numbs_LIST[0])) :\n",
    "        result += max(numbs_LIST[0][IND], numbs_LIST[1][IND])\n",
    "        \n",
    "    print(result)"
   ]
  },
  {
   "cell_type": "code",
   "execution_count": 15,
   "metadata": {},
   "outputs": [
    {
     "name": "stdout",
     "output_type": "stream",
     "text": [
      "[5, 5, 3, 2, 1]\n",
      "[123, 1235]\n"
     ]
    }
   ],
   "source": [
    "k = [5, 4, 3, 2, 1]\n",
    "\n",
    "k[1] = max(k[0], k[1])\n",
    "print(k)\n",
    "\n",
    "a = 123\n",
    "b = 1235\n",
    "\n",
    "kk = sorted([a, b])\n",
    "print(kk)\n",
    "\n",
    "    JUST_STRING = max(len(numbs_LIST[0]), len(numbs_LIST[1]))\n",
    "    numbs_LIST.append(numbs_LIST[0].rjust(JUST_STRING, '0'))\n",
    "    numbs_LIST.append(numbs_LIST[1].rjust(JUST_STRING, '0'))"
   ]
  },
  {
   "cell_type": "code",
   "execution_count": 18,
   "metadata": {},
   "outputs": [
    {
     "name": "stdout",
     "output_type": "stream",
     "text": [
      "0\n"
     ]
    }
   ],
   "source": [
    "w = [123, 456, 789]\n",
    "print(w.index(123))"
   ]
  },
  {
   "cell_type": "code",
   "execution_count": null,
   "metadata": {},
   "outputs": [],
   "source": []
  }
 ],
 "metadata": {
  "kernelspec": {
   "display_name": "Python 3",
   "language": "python",
   "name": "python3"
  },
  "language_info": {
   "codemirror_mode": {
    "name": "ipython",
    "version": 3
   },
   "file_extension": ".py",
   "mimetype": "text/x-python",
   "name": "python",
   "nbconvert_exporter": "python",
   "pygments_lexer": "ipython3",
   "version": "3.7.3"
  }
 },
 "nbformat": 4,
 "nbformat_minor": 2
}
