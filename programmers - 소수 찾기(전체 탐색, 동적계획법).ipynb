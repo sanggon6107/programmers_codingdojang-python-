{
 "cells": [
  {
   "cell_type": "code",
   "execution_count": 79,
   "metadata": {},
   "outputs": [
    {
     "name": "stdout",
     "output_type": "stream",
     "text": [
      "{1: False, 2: True, 3: True, 4: False, 5: True, 6: False, 7: True, 8: False, 9: False, 10: False, 11: True, 12: False, 13: True, 14: False, 15: False, 16: False, 17: True, 18: False, 19: True, 20: False, 21: False, 22: False, 23: True, 24: False, 25: False, 26: False, 27: False, 28: False, 29: True, 30: False, 31: True, 32: False, 33: False, 34: False, 35: False, 36: False, 37: True, 38: False, 39: False, 40: False, 41: True, 42: False, 43: True, 44: False, 45: False, 46: False, 47: True, 48: False, 49: False, 50: False, 51: False, 52: False, 53: True, 54: False, 55: False, 56: False, 57: False, 58: False, 59: True, 60: False, 61: True, 62: False, 63: False, 64: False, 65: False, 66: False, 67: True, 68: False, 69: False, 70: False, 71: True, 72: False, 73: True, 74: False, 75: False, 76: False, 77: False, 78: False, 79: True, 80: False, 81: False, 82: False, 83: True, 84: False, 85: False, 86: False, 87: False, 88: False, 89: True, 90: False, 91: False, 92: False, 93: False, 94: False, 95: False, 96: False, 97: True, 98: False, 99: False}\n",
      "[25]\n"
     ]
    },
    {
     "data": {
      "text/plain": [
       "'\\n상위 노드가 조건 만족하지 않더라도 하위 노드가 조건을 만족할 수 있다. (백트랙킹 알고리즘 x)\\n\\ndynamic programming : memoization과 그 사이즈 정보를 최상위 메서드에서 static으로 선언해야한다.(정적 메모리 할당량 큼)\\n\\n에라토스테네스의 채 : 주어진 범위 내 모든 수를 구해야 한다. time complexity O(n**(1/2))\\n\\n'"
      ]
     },
     "execution_count": 79,
     "metadata": {},
     "output_type": "execute_result"
    }
   ],
   "source": [
    "from itertools import permutations\n",
    "\n",
    "memoization = {}\n",
    "count = [0]\n",
    "def is_prime(n) :\n",
    "    for numbers in map(int, n) :\n",
    "        if numbers in memoization :\n",
    "            continue\n",
    "        elif numbers == 1 or numbers == 0 : \n",
    "            memoization[numbers] = False\n",
    "            continue\n",
    "        elif numbers == 2 : \n",
    "            memoization[numbers] = True\n",
    "            count[0] += 1\n",
    "            continue\n",
    "        else : \n",
    "            for i in range(2, numbers) :\n",
    "                if numbers%i == 0 : \n",
    "                    memoization[numbers] = False\n",
    "                    break\n",
    "                if i == numbers-1 :\n",
    "                    memoization[numbers] = True\n",
    "                    count[0] += 1\n",
    "\n",
    "\n",
    "def solution(numbers):\n",
    "    num_list = list(numbers)\n",
    "    for depth in range(1, len(numbers)+1) :\n",
    "        is_prime(map(\"\".join, permutations(num_list, depth)))\n",
    "    print(memoization)\n",
    "    return count[0]\n",
    "\n",
    "\n",
    "#print(solution('011'))\n",
    "test = list(range(1, 100))\n",
    "is_prime(test)\n",
    "print(memoization)\n",
    "print(count)\n",
    "#is_prime(['013', '111', '13', '1'])\n",
    "##print(memoization)\n",
    "#print(count)\n",
    "#print(\"count : \", count[0])\n",
    "\n",
    "'''\n",
    "상위 노드가 조건 만족하지 않더라도 하위 노드가 조건을 만족할 수 있다. (백트랙킹 알고리즘 x)\n",
    "\n",
    "dynamic programming : memoization과 그 사이즈 정보를 최상위 메서드에서 static으로 선언해야한다.(정적 메모리 할당량 큼)\n",
    "\n",
    "에라토스테네스의 채 : 주어진 범위 내 모든 수를 구해야 한다. time complexity O(n**(1/2))\n",
    "\n",
    "'''"
   ]
  },
  {
   "cell_type": "code",
   "execution_count": 56,
   "metadata": {},
   "outputs": [
    {
     "ename": "KeyError",
     "evalue": "5",
     "output_type": "error",
     "traceback": [
      "\u001b[1;31m---------------------------------------------------------------------------\u001b[0m",
      "\u001b[1;31mKeyError\u001b[0m                                  Traceback (most recent call last)",
      "\u001b[1;32m<ipython-input-56-31583de304d7>\u001b[0m in \u001b[0;36m<module>\u001b[1;34m\u001b[0m\n\u001b[0;32m      1\u001b[0m \u001b[0ma\u001b[0m \u001b[1;33m=\u001b[0m \u001b[1;33m{\u001b[0m\u001b[1;36m1\u001b[0m \u001b[1;33m:\u001b[0m \u001b[1;32mTrue\u001b[0m\u001b[1;33m,\u001b[0m \u001b[1;36m2\u001b[0m \u001b[1;33m:\u001b[0m \u001b[1;32mFalse\u001b[0m\u001b[1;33m,\u001b[0m \u001b[1;36m3\u001b[0m\u001b[1;33m:\u001b[0m \u001b[1;32mTrue\u001b[0m\u001b[1;33m,\u001b[0m \u001b[1;36m4\u001b[0m \u001b[1;33m:\u001b[0m \u001b[1;32mFalse\u001b[0m\u001b[1;33m}\u001b[0m\u001b[1;33m\u001b[0m\u001b[1;33m\u001b[0m\u001b[0m\n\u001b[1;32m----> 2\u001b[1;33m \u001b[0ma\u001b[0m\u001b[1;33m[\u001b[0m\u001b[1;36m5\u001b[0m\u001b[1;33m]\u001b[0m \u001b[1;33m!=\u001b[0m \u001b[1;32mTrue\u001b[0m\u001b[1;33m\u001b[0m\u001b[1;33m\u001b[0m\u001b[0m\n\u001b[0m",
      "\u001b[1;31mKeyError\u001b[0m: 5"
     ]
    }
   ],
   "source": [
    "a = {1 : True, 2 : False, 3: True, 4 : False}\n",
    "a[5] != True"
   ]
  },
  {
   "cell_type": "code",
   "execution_count": null,
   "metadata": {},
   "outputs": [],
   "source": []
  }
 ],
 "metadata": {
  "kernelspec": {
   "display_name": "Python 3",
   "language": "python",
   "name": "python3"
  },
  "language_info": {
   "codemirror_mode": {
    "name": "ipython",
    "version": 3
   },
   "file_extension": ".py",
   "mimetype": "text/x-python",
   "name": "python",
   "nbconvert_exporter": "python",
   "pygments_lexer": "ipython3",
   "version": "3.7.3"
  }
 },
 "nbformat": 4,
 "nbformat_minor": 2
}
