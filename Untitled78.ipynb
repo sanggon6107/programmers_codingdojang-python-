{
 "cells": [
  {
   "cell_type": "code",
   "execution_count": 21,
   "metadata": {},
   "outputs": [
    {
     "name": "stdout",
     "output_type": "stream",
     "text": [
      "INPUT : 1+1\n"
     ]
    },
    {
     "data": {
      "text/plain": [
       "NoneType"
      ]
     },
     "execution_count": 21,
     "metadata": {},
     "output_type": "execute_result"
    }
   ],
   "source": []
  },
  {
   "cell_type": "code",
   "execution_count": 42,
   "metadata": {},
   "outputs": [
    {
     "name": "stdout",
     "output_type": "stream",
     "text": [
      "INPUT : 12+15*6+56/4+1+51\n",
      "12+90+56/4+1+51\n",
      "12+90+14.0+1+51\n",
      "102+14.0+1+51\n",
      "116.0+1+51\n",
      "117.0+51\n",
      "168.0\n"
     ]
    }
   ],
   "source": [
    "import re\n",
    "\n",
    "INP = input(\"INPUT : \")\n",
    "c = re.compile(\"\\d*\\.?\\d+[*/]\\d*\\.?\\d+\")\n",
    "while True : #먼저 *, / 를 계산합니다.\n",
    "    SEP = c.search(INP)\n",
    "    if SEP == None : #search의 결과가 None일 경우 루프를 나갑니다.\n",
    "        break\n",
    "    else :\n",
    "        print(c.sub(str(eval(c.search(INP).group(0))), INP, count = 1)) #search의 결과 중 제일 첫 번째 결과를 계산해 결과를 바꿔넣습니다.\n",
    "        INP = c.sub(str(eval(c.search(INP).group(0))), INP, count = 1) #문자열을 갱신합니다.\n",
    "d = re.compile(\"\\d*\\.?\\d+[+-]\\d*\\.?\\d+\")\n",
    "while True : # +, -를 계산합니다.\n",
    "    PPE = d.search(INP)\n",
    "    if PPE == None :\n",
    "        break\n",
    "    else :\n",
    "        print(d.sub(str(eval(d.search(INP).group(0))), INP, count = 1))\n",
    "        INP = d.sub(str(eval(d.search(INP).group(0))), INP, count = 1)"
   ]
  },
  {
   "cell_type": "code",
   "execution_count": 43,
   "metadata": {},
   "outputs": [
    {
     "name": "stdout",
     "output_type": "stream",
     "text": [
      "INPUT : 2.123\n"
     ]
    },
    {
     "ename": "AttributeError",
     "evalue": "'NoneType' object has no attribute 'group'",
     "output_type": "error",
     "traceback": [
      "\u001b[1;31m---------------------------------------------------------------------------\u001b[0m",
      "\u001b[1;31mAttributeError\u001b[0m                            Traceback (most recent call last)",
      "\u001b[1;32m<ipython-input-43-1e93929b2608>\u001b[0m in \u001b[0;36m<module>\u001b[1;34m\u001b[0m\n\u001b[0;32m      3\u001b[0m \u001b[0mINP\u001b[0m \u001b[1;33m=\u001b[0m \u001b[0minput\u001b[0m\u001b[1;33m(\u001b[0m\u001b[1;34m\"INPUT : \"\u001b[0m\u001b[1;33m)\u001b[0m\u001b[1;33m\u001b[0m\u001b[1;33m\u001b[0m\u001b[0m\n\u001b[0;32m      4\u001b[0m \u001b[0mc\u001b[0m \u001b[1;33m=\u001b[0m \u001b[0mre\u001b[0m\u001b[1;33m.\u001b[0m\u001b[0mcompile\u001b[0m\u001b[1;33m(\u001b[0m\u001b[1;34m\"\\d+[*/]\\d+\\.?\\d+\"\u001b[0m\u001b[1;33m)\u001b[0m\u001b[1;33m\u001b[0m\u001b[1;33m\u001b[0m\u001b[0m\n\u001b[1;32m----> 5\u001b[1;33m \u001b[0mSEP\u001b[0m \u001b[1;33m=\u001b[0m \u001b[0mc\u001b[0m\u001b[1;33m.\u001b[0m\u001b[0msearch\u001b[0m\u001b[1;33m(\u001b[0m\u001b[0mINP\u001b[0m\u001b[1;33m)\u001b[0m\u001b[1;33m.\u001b[0m\u001b[0mgroup\u001b[0m\u001b[1;33m(\u001b[0m\u001b[1;36m0\u001b[0m\u001b[1;33m)\u001b[0m\u001b[1;33m\u001b[0m\u001b[1;33m\u001b[0m\u001b[0m\n\u001b[0m",
      "\u001b[1;31mAttributeError\u001b[0m: 'NoneType' object has no attribute 'group'"
     ]
    }
   ],
   "source": [
    "import re\n",
    "\n",
    "INP = input(\"INPUT : \")\n",
    "c = re.compile(\"\\d+[*/]\\d+\\.?\\d+\")\n",
    "SEP = c.search(INP).group(0)"
   ]
  },
  {
   "cell_type": "code",
   "execution_count": null,
   "metadata": {},
   "outputs": [],
   "source": []
  }
 ],
 "metadata": {
  "kernelspec": {
   "display_name": "Python 3",
   "language": "python",
   "name": "python3"
  },
  "language_info": {
   "codemirror_mode": {
    "name": "ipython",
    "version": 3
   },
   "file_extension": ".py",
   "mimetype": "text/x-python",
   "name": "python",
   "nbconvert_exporter": "python",
   "pygments_lexer": "ipython3",
   "version": "3.7.3"
  }
 },
 "nbformat": 4,
 "nbformat_minor": 2
}
