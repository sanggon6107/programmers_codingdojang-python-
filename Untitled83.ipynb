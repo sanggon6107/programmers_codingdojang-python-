{
 "cells": [
  {
   "cell_type": "code",
   "execution_count": 79,
   "metadata": {},
   "outputs": [
    {
     "name": "stdout",
     "output_type": "stream",
     "text": [
      "INPUT : (/ (+ 9 1) (+ 2 3))\n",
      "2.0\n"
     ]
    }
   ],
   "source": [
    "import re\n",
    "\n",
    "INP = input(\"INPUT : \")\n",
    "#(* (+ 2 3) (- 5 3))\n",
    "lisp_com = re.compile('\\({1}[*+-/]([ ]-?\\d*\\.?\\d+)+\\){1}')\n",
    "KEISAN = re.compile('[*+-/]|[ ]-?\\d*\\.?\\d+')\n",
    "while lisp_com.search(INP) != None :\n",
    "    TA = lisp_com.search(INP).group()\n",
    "    TA = lisp_com.sub(str(eval('%s' %KEISAN.findall(TA)[0].join(KEISAN.findall(TA)[1:]))), TA, count = 1)\n",
    "    INP = lisp_com.sub(TA, INP, count = 1)\n",
    "print(INP)"
   ]
  },
  {
   "cell_type": "code",
   "execution_count": 68,
   "metadata": {},
   "outputs": [
    {
     "name": "stdout",
     "output_type": "stream",
     "text": [
      "INPUT : x\n",
      "None\n"
     ]
    }
   ],
   "source": [
    "import re\n",
    "\n",
    "INP = input(\"INPUT : \")\n",
    "\n",
    "lisp_com = re.compile('(12)+')\n",
    "print(lisp_com.search(INP))"
   ]
  },
  {
   "cell_type": "code",
   "execution_count": 69,
   "metadata": {},
   "outputs": [
    {
     "data": {
      "text/plain": [
       "'1+2+3'"
      ]
     },
     "execution_count": 69,
     "metadata": {},
     "output_type": "execute_result"
    }
   ],
   "source": [
    "s = ['+', '1', '2', '3']\n",
    "\"%s\" %s[0].join(s[1:])"
   ]
  },
  {
   "cell_type": "code",
   "execution_count": null,
   "metadata": {},
   "outputs": [],
   "source": []
  }
 ],
 "metadata": {
  "kernelspec": {
   "display_name": "Python 3",
   "language": "python",
   "name": "python3"
  },
  "language_info": {
   "codemirror_mode": {
    "name": "ipython",
    "version": 3
   },
   "file_extension": ".py",
   "mimetype": "text/x-python",
   "name": "python",
   "nbconvert_exporter": "python",
   "pygments_lexer": "ipython3",
   "version": "3.7.3"
  }
 },
 "nbformat": 4,
 "nbformat_minor": 2
}
