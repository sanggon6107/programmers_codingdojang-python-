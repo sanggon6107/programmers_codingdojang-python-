{
 "cells": [
  {
   "cell_type": "code",
   "execution_count": 7,
   "metadata": {},
   "outputs": [
    {
     "name": "stdout",
     "output_type": "stream",
     "text": [
      "result(init) :   [[1, 0, 0, 0], [0, 1, 0, 0], [0, 0, 1, 0], [0, 0, 0, 1]]\n",
      "address(result) :  2006526781512\n",
      "adddress(inp) :  2006526659464\n",
      "([[1.0, 0.0, 0.0, 0.0], [0.0, 1.0, 0.0, 0.0], [0.0, 0.0, 1.0, 0.0], [-0.0, -0.0, -0.0, 1.0]], [[1.0, 0.0, 0.0, 0.0], [0.0, 1.0, 0.0, 0.0], [0.0, 0.0, 1.0, 0.0], [-0.0, -0.0, -0.0, 1.0]])\n"
     ]
    }
   ],
   "source": [
    "from copy import deepcopy\n",
    "\n",
    "def bk(mat__, c, d, e) :  # [c, d, e] : [col, col, factor]\n",
    "                          # d-c*e \n",
    "    for re in range(0, len(mat__)) :\n",
    "        mat__[d][re] -= mat__[c][re]*e\n",
    "    return deepcopy(mat__)\n",
    "\n",
    "def ik(mat_, a, b) :\n",
    "    tem = []\n",
    "    tem = mat_[b]\n",
    "    mat_[b] = mat_[a]\n",
    "    mat_[a] = tem\n",
    "    return deepcopy(mat_)\n",
    "\n",
    "def one(mat) :\n",
    "    result = deepcopy([list(map(int, \" \".join(bin(2**(len(mat)-1-i))[2:].zfill(len(mat)).split()))) for i in range(0, len(mat))])\n",
    "    print(\"result(init) :  \", result)\n",
    "    \n",
    "    for c in range(0, len(mat)) :\n",
    "        for cc in range(c, len(mat)) :\n",
    "            if mat[cc][c] != 0 :\n",
    "                mat = ik(mat, c, cc)\n",
    "                result = ik(result, c, cc) ##\n",
    "                break\n",
    "    for ch in range(0, len(mat)) :\n",
    "        if mat[ch][ch] == 0 :\n",
    "            for tr in range(0, len(mat)) :\n",
    "                if mat[tr][ch] != 0 and mat[ch][tr] != 0:\n",
    "                    mat = ik(mat, tr, ch)\n",
    "                    result = ik(result, tr, ch) ##\n",
    "                    break\n",
    "                    \n",
    "    for ne in range(0, len(mat)) :\n",
    "        \n",
    "        if mat[ne][ne] != 1 : \n",
    "            for di in range(0, len(mat)) :\n",
    "                mat[ne][di] /= mat[ne][ne]\n",
    "                result[ne][di] /= mat[ne][ne] ##\n",
    "        \n",
    "        for ne_ in range(0, len(mat)) :\n",
    "            if mat[ne_][ne] != 0 and ne != ne_ :\n",
    "                mat = bk(mat, ne, ne_, mat[ne_][ne])\n",
    "                result = bk(result, ne, ne_, mat[ne_][ne]) ##\n",
    "    \n",
    "    print(\"address(result) : \", id(result)) ## result 메모리 주소 확인\n",
    "    print(\"adddress(inp) : \", id(mat)) ## inp 메모리 주소 확인\n",
    "    \n",
    "    return mat, result\n",
    "\n",
    "def sol() :\n",
    "    inp_mat = []\n",
    "    while True :\n",
    "        inp = list(map(int, input(\"INPUT :\").split()))\n",
    "        inp_mat.append(deepcopy(inp))\n",
    "        if len(inp_mat) == len(inp) :\n",
    "            break\n",
    "    \n",
    "    \n",
    "    print((inp_mat))\n",
    "    \n",
    "    return 0\n",
    "\n",
    "\n",
    "if __name__ == \"__main__\" :\n",
    "    # sol()\n",
    "    #print(one([[0, 1, 1, 1], [1, 2, 3, 4], [2, 1, 0, 1], [1, 0, 3, 4]]))\n",
    "    #print(one([[1, 0, 1], [1, 0, 0], [1, 1, 1]]))\n",
    "    \n",
    "    #print(bk([[2, 0, 8], [6, 2, 0], [0, 19, 2]], 0, 2, 2 ))\n",
    "    #print(one([[2, 0, 8], [6, 2, 0], [0, 19, 2]]))\n",
    "    print(one([[1, 1, 1, 1],[1, 2, 3, 4],[2, 1, 3, 4],[1, 0, 3, 4]]))"
   ]
  },
  {
   "cell_type": "code",
   "execution_count": null,
   "metadata": {},
   "outputs": [],
   "source": []
  }
 ],
 "metadata": {
  "kernelspec": {
   "display_name": "myFirstVenvs",
   "language": "python",
   "name": "myfirstvenvs"
  },
  "language_info": {
   "codemirror_mode": {
    "name": "ipython",
    "version": 3
   },
   "file_extension": ".py",
   "mimetype": "text/x-python",
   "name": "python",
   "nbconvert_exporter": "python",
   "pygments_lexer": "ipython3",
   "version": "3.7.4"
  }
 },
 "nbformat": 4,
 "nbformat_minor": 2
}
