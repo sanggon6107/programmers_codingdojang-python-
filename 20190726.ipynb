{
 "cells": [
  {
   "cell_type": "code",
   "execution_count": 12,
   "metadata": {},
   "outputs": [
    {
     "name": "stdout",
     "output_type": "stream",
     "text": [
      "\n",
      "yes(kk)\n",
      "no(ee)\n",
      "yes(test)\n",
      "<re.Match object; span=(0, 27), match='ikgbahliefhnailefhawieulfah'>\n",
      "['bmh', 'classic', 'dark_background', 'fast', 'fivethirtyeight', 'ggplot', 'grayscale', 'seaborn-bright', 'seaborn-colorblind', 'seaborn-dark-palette', 'seaborn-dark', 'seaborn-darkgrid', 'seaborn-deep', 'seaborn-muted', 'seaborn-notebook', 'seaborn-paper', 'seaborn-pastel', 'seaborn-poster', 'seaborn-talk', 'seaborn-ticks', 'seaborn-white', 'seaborn-whitegrid', 'seaborn', 'Solarize_Light2', 'tableau-colorblind10', '_classic_test']\n"
     ]
    }
   ],
   "source": [
    "print()\n",
    "\n",
    "import csv\n",
    "from matplotlib import pyplot as plt\n",
    "import re\n",
    "\n",
    "kk = \"ikgbahliefhnailefhawieulfah@a;ogjaioe;fjieo\"\n",
    "ee = \"fewhfuihzkvbeuiafheuifjseui0\"\n",
    "\n",
    "if \"@\" in kk :\n",
    "    print(\"yes(kk)\")\n",
    "    \n",
    "else :\n",
    "    print(\"no(kk)\")\n",
    "    \n",
    "if \"@\" in ee :\n",
    "    print(\"yes(ee)\")\n",
    "    \n",
    "else :\n",
    "    print(\"no(ee)\")\n",
    "    \n",
    "test= [\"abce\", \"222\", \"hne@tth\", \"asdf\"]\n",
    "\n",
    "if \"@\" in test[2] :  #존재 여부 파악할 떄. 단, 리스트 전체를 탐색할 수는 없고, 요소만 탐색 가능\n",
    "    print(\"yes(test)\")\n",
    "    \n",
    "else :\n",
    "    print(\"no(test)\")\n",
    "    \n",
    "regular = re.search(\".+(?=@)\", kk)\n",
    "print(regular)\n",
    "\n",
    "\n",
    "\n",
    "# plot 스타일\n",
    "## plt.style.use('ggplot')\n",
    "\n",
    "print(plt.style.available)"
   ]
  },
  {
   "cell_type": "code",
   "execution_count": null,
   "metadata": {},
   "outputs": [],
   "source": []
  }
 ],
 "metadata": {
  "kernelspec": {
   "display_name": "Python 3",
   "language": "python",
   "name": "python3"
  },
  "language_info": {
   "codemirror_mode": {
    "name": "ipython",
    "version": 3
   },
   "file_extension": ".py",
   "mimetype": "text/x-python",
   "name": "python",
   "nbconvert_exporter": "python",
   "pygments_lexer": "ipython3",
   "version": "3.7.3"
  }
 },
 "nbformat": 4,
 "nbformat_minor": 2
}
