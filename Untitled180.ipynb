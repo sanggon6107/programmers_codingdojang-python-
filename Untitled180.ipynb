{
 "cells": [
  {
   "cell_type": "code",
   "execution_count": 27,
   "metadata": {},
   "outputs": [
    {
     "name": "stdout",
     "output_type": "stream",
     "text": [
      "[[0], [1], [2], [3]] 4\n",
      "[[0, 1], [2]] 2\n",
      "[[0, 1, 2]] 1\n",
      "[[0, 1, 2, 5, 7], [3, 4], [6]] 3\n",
      "[[0]] 1\n",
      "[[0], [1]] 2\n",
      "[[0, 1, 2]] 1\n",
      "[[0, 3], [1], [2]] 3\n"
     ]
    }
   ],
   "source": [
    "def solution(n, computers):\n",
    "    groups = [[0]]\n",
    "    for c in range(0, len(computers)) :\n",
    "        counter = 0\n",
    "        for r in range(0, c) :\n",
    "            if computers[c][r] == 1 :\n",
    "                for g in range(0, len(groups)) :\n",
    "                    if r in groups[g] and counter == 0 :\n",
    "                        groups[g].append(c)\n",
    "                        counter = 1\n",
    "                        break\n",
    "            if r == c-1 and counter == 0 :\n",
    "                groups.append([c])\n",
    "    return print(groups, len(groups))\n",
    "solution(4, [[1, 0, 0, 0], [0, 1, 0, 0], [0, 0, 1, 0], [0, 0, 0, 1]])\n",
    "solution(3, [[1, 1, 0], [1, 1, 0], [0, 0, 1]])\n",
    "solution(3, [[1, 1, 0], [1, 1, 1], [0, 1, 1]])\n",
    "solution(8, [[1, 1, 1, 0, 0, 0, 0, 0], [1, 1, 0, 0, 0, 0, 0, 1], [1, 0, 1, 0, 0, 1, 0, 0], [0, 0, 0, 1, 1, 0, 0, 0], [0, 0, 0, 1, 1, 0, 0, 0], [0, 0, 1, 0, 0, 1, 0, 1], [0, 0, 0, 0, 0, 0, 1, 0], [0, 1, 0, 0, 0, 1, 0, 1]])\n",
    "solution(1, [1])\n",
    "solution(2, [[1, 0], [0, 1]])\n",
    "solution(3, [[1, 1, 1], [1, 1, 0], [1, 0, 1]])\n",
    "solution(4, [[1, 0, 0, 1], [0, 1, 0, 1], [0, 0, 1, 1], [1, 1, 1, 1]])"
   ]
  },
  {
   "cell_type": "code",
   "execution_count": 41,
   "metadata": {},
   "outputs": [
    {
     "name": "stdout",
     "output_type": "stream",
     "text": [
      "[{0, 3}, {1, 3}, {2, 3}] 3\n"
     ]
    }
   ],
   "source": [
    "from itertools import combinations\n",
    "\n",
    "def solution(n, computers):\n",
    "    groups1 = [set([0])]\n",
    "    for c in range(0, len(computers)) :\n",
    "        counter = 0\n",
    "        for r in range(0, c) :\n",
    "            if computers[c][r] == 1 :\n",
    "                for g in range(0, len(groups1)) :\n",
    "                    if r in groups1[g]:\n",
    "                        groups1[g].add(c)\n",
    "                        counter = 1\n",
    "            if r == c-1 and counter == 0 :\n",
    "                groups1.append(set([c]))\n",
    "                \n",
    "    \n",
    "    \n",
    "    return print(groups1, len(groups1))\n",
    "\n",
    "\n",
    "#solution(4, [[1, 0, 0, 0], [0, 1, 0, 0], [0, 0, 1, 0], [0, 0, 0, 1]])\n",
    "#solution(3, [[1, 1, 0], [1, 1, 0], [0, 0, 1]])\n",
    "#solution(3, [[1, 1, 0], [1, 1, 1], [0, 1, 1]])\n",
    "#solution(8, [[1, 1, 1, 0, 0, 0, 0, 0], [1, 1, 0, 0, 0, 0, 0, 1], [1, 0, 1, 0, 0, 1, 0, 0], [0, 0, 0, 1, 1, 0, 0, 0], [0, 0, 0, 1, 1, 0, 0, 0], [0, 0, 1, 0, 0, 1, 0, 1], [0, 0, 0, 0, 0, 0, 1, 0], [0, 1, 0, 0, 0, 1, 0, 1]])\n",
    "#solution(1, [1])\n",
    "#solution(2, [[1, 0], [0, 1]])\n",
    "#solution(3, [[1, 1, 1], [1, 1, 0], [1, 0, 1]])\n",
    "solution(4, [[1, 0, 0, 1], [0, 1, 0, 1], [0, 0, 1, 1], [1, 1, 1, 1]])"
   ]
  },
  {
   "cell_type": "code",
   "execution_count": 40,
   "metadata": {},
   "outputs": [
    {
     "data": {
      "text/plain": [
       "0"
      ]
     },
     "execution_count": 40,
     "metadata": {},
     "output_type": "execute_result"
    }
   ],
   "source": [
    "a = set([1, 2])\n",
    "b = set([3, 4, 5])"
   ]
  },
  {
   "cell_type": "code",
   "execution_count": null,
   "metadata": {},
   "outputs": [],
   "source": []
  }
 ],
 "metadata": {
  "kernelspec": {
   "display_name": "Python 3",
   "language": "python",
   "name": "python3"
  },
  "language_info": {
   "codemirror_mode": {
    "name": "ipython",
    "version": 3
   },
   "file_extension": ".py",
   "mimetype": "text/x-python",
   "name": "python",
   "nbconvert_exporter": "python",
   "pygments_lexer": "ipython3",
   "version": "3.7.3"
  }
 },
 "nbformat": 4,
 "nbformat_minor": 2
}
