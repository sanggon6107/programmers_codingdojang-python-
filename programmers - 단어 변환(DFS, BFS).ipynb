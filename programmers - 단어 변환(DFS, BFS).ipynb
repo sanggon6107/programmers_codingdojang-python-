{
 "cells": [
  {
   "cell_type": "code",
   "execution_count": 18,
   "metadata": {},
   "outputs": [
    {
     "name": "stderr",
     "output_type": "stream",
     "text": [
      "IOPub data rate exceeded.\n",
      "The notebook server will temporarily stop sending output\n",
      "to the client in order to avoid crashing it.\n",
      "To change this limit, set the config variable\n",
      "`--NotebookApp.iopub_data_rate_limit`.\n",
      "\n",
      "Current values:\n",
      "NotebookApp.iopub_data_rate_limit=1000000.0 (bytes/sec)\n",
      "NotebookApp.rate_limit_window=3.0 (secs)\n",
      "\n"
     ]
    }
   ],
   "source": [
    "'''\n",
    "minimum depth 문제. BFS알고리즘. \n",
    "\n",
    "'''\n",
    "from collections import deque\n",
    "from copy import deepcopy\n",
    "\n",
    "def fal_count(word_1, word_2) :\n",
    "    count = 0\n",
    "    for pos in range(0, len(word_1)) :\n",
    "        if word_1[pos] != word_2[pos] : count += 1\n",
    "    return count\n",
    "\n",
    "\n",
    "def solution(begin, target, words):\n",
    "    deq_queue, m_begin_len = deque([begin]), -len(begin)\n",
    "    while True :\n",
    "        popData = deq_queue.popleft()\n",
    "        for next_ in words :\n",
    "            copyData = deepcopy(popData)\n",
    "            copyData += next_\n",
    "            if copyData[:m_begin_len] == target :\n",
    "                copyData\n",
    "                return copyData\n",
    "            else :\n",
    "                deq_queue.append(copyData)\n",
    "        print(deq_queue)\n",
    "    return 0\n",
    "solution(\"hit\", \"cog\", [\"hot\", \"dot\", \"dog\", \"lot\", \"log\", \"cog\"])"
   ]
  },
  {
   "cell_type": "code",
   "execution_count": 9,
   "metadata": {},
   "outputs": [
    {
     "name": "stdout",
     "output_type": "stream",
     "text": [
      "deque(['a1', 'b'])\n"
     ]
    }
   ],
   "source": [
    "from collections import deque\n",
    "a = deque(['a', 'b'])"
   ]
  },
  {
   "cell_type": "code",
   "execution_count": null,
   "metadata": {},
   "outputs": [],
   "source": []
  }
 ],
 "metadata": {
  "kernelspec": {
   "display_name": "Python 3",
   "language": "python",
   "name": "python3"
  },
  "language_info": {
   "codemirror_mode": {
    "name": "ipython",
    "version": 3
   },
   "file_extension": ".py",
   "mimetype": "text/x-python",
   "name": "python",
   "nbconvert_exporter": "python",
   "pygments_lexer": "ipython3",
   "version": "3.7.3"
  }
 },
 "nbformat": 4,
 "nbformat_minor": 2
}
