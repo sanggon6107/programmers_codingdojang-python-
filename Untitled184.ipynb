{
 "cells": [
  {
   "cell_type": "code",
   "execution_count": 1,
   "metadata": {},
   "outputs": [
    {
     "name": "stdout",
     "output_type": "stream",
     "text": [
      "shdeh : 1% 400g\n",
      "shdeh : 8% 300g\n",
      "shdeh : end\n",
      "4.13% 700.0g\n"
     ]
    }
   ],
   "source": [
    "flo4 = 0.0\n",
    "flo5 = 0.0\n",
    "\n",
    "lst1 = [] #소금양\n",
    "lst2 = [] #물양\n",
    "for i in range(10) :\n",
    "    s = input(\"shdeh : \")\n",
    "    if s == \"end\" :\n",
    "        break\n",
    "    flo1 = float(s.split(\" \")[0].replace(\"%\", \"\")) / 100 # 농도\n",
    "    flo2 = float(s.split(\" \")[1].replace(\"g\", \"\")) # water gram\n",
    "    flo3 = flo1*flo2 / (1-flo1) # 소금\n",
    "\n",
    "    lst1.append(str(flo3))\n",
    "    lst2.append(str(flo2))\n",
    "\n",
    "for j in lst1 :\n",
    "    flo4 += float(j)\n",
    "for k in lst2 :\n",
    "    flo5 += float(k)\n",
    "\n",
    "print(\"{0}% {1}g\".format(round(flo4/(flo4+flo5)*100,2), flo5))\n"
   ]
  },
  {
   "cell_type": "code",
   "execution_count": 2,
   "metadata": {},
   "outputs": [
    {
     "name": "stdout",
     "output_type": "stream",
     "text": [
      "1% 400g\n",
      "8% 300g\n",
      "end\n",
      "4.00% 700.00g\n"
     ]
    }
   ],
   "source": [
    "def calc_salt_gram(pcnt, gram):\n",
    "    pcnt = pcnt.split('%')[0]\n",
    "    water_gram = gram.split('g')[0]\n",
    "    return float(water_gram) * float(pcnt) / 100, float(water_gram)\n",
    "\n",
    "if __name__ == \"__main__\":\n",
    "    text = ''\n",
    "    placeholder = []\n",
    "    for i in range(10):\n",
    "        one_line = input()\n",
    "        text = one_line\n",
    "        if text != 'end':            \n",
    "            pcnt, gram = one_line.split(' ')\n",
    "            salt_gram, water_gram = calc_salt_gram(pcnt, gram)\n",
    "            placeholder.append((salt_gram, water_gram))\n",
    "        else:\n",
    "            break\n",
    "\n",
    "    salt = 0\n",
    "    water = 0\n",
    "    for row in placeholder:\n",
    "        salt += row[0]\n",
    "        water += row[1]\n",
    "\n",
    "    res_pcnt = salt/water * 100\n",
    "    total_water = water\n",
    "    print(\"{:.2f}% {:.2f}g\".format(res_pcnt, total_water))\n"
   ]
  },
  {
   "cell_type": "code",
   "execution_count": null,
   "metadata": {},
   "outputs": [],
   "source": []
  }
 ],
 "metadata": {
  "kernelspec": {
   "display_name": "Python 3",
   "language": "python",
   "name": "python3"
  },
  "language_info": {
   "codemirror_mode": {
    "name": "ipython",
    "version": 3
   },
   "file_extension": ".py",
   "mimetype": "text/x-python",
   "name": "python",
   "nbconvert_exporter": "python",
   "pygments_lexer": "ipython3",
   "version": "3.7.4"
  }
 },
 "nbformat": 4,
 "nbformat_minor": 2
}
