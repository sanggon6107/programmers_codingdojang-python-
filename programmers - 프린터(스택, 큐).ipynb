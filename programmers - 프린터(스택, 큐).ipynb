{
 "cells": [
  {
   "cell_type": "code",
   "execution_count": 29,
   "metadata": {},
   "outputs": [
    {
     "data": {
      "text/plain": [
       "5"
      ]
     },
     "execution_count": 29,
     "metadata": {},
     "output_type": "execute_result"
    }
   ],
   "source": [
    "from collections import deque\n",
    "def solution(priorities, location):\n",
    "    queue = []\n",
    "    for queue_p in range(0, len(priorities)) :\n",
    "        queue.append([priorities[queue_p], queue_p]) # [priority, location]\n",
    "    answer = []\n",
    "    while len(queue) != 0 :\n",
    "        if len(queue) == 1 :\n",
    "            answer.append(queue[0][1])\n",
    "            break\n",
    "        popData = queue.pop(0)\n",
    "        for comp in queue :\n",
    "            if comp[0] > popData[0] :\n",
    "                queue.append(popData)\n",
    "                break\n",
    "            if comp == queue[-1] :\n",
    "                answer.append(popData[1])\n",
    "    return (answer.index(location))+1\n",
    "#solution([2, 1, 3, 2], 2)\n",
    "solution([1, 1, 9, 1, 1, 1], 0)"
   ]
  },
  {
   "cell_type": "code",
   "execution_count": 28,
   "metadata": {},
   "outputs": [
    {
     "name": "stdout",
     "output_type": "stream",
     "text": [
      "deque([0, 1, 2, 3, 4])\n"
     ]
    }
   ],
   "source": [
    "from collections import deque\n",
    "def solution(priorities, location):\n",
    "    queue = []\n",
    "    for queue_p in range(0, len(priorities)) :\n",
    "        queue.append([priorities[queue_p], queue_p]) # [priority, location]\n",
    "    queue_de = deque(queue)\n",
    "    answer = []\n",
    "    while len(queue_de) != 0 :\n",
    "        if len(queue_de) == 1 :\n",
    "            answer.append(queue[0][1])\n",
    "            break\n",
    "        popData = queue.pop(0)\n",
    "        for comp in queue :\n",
    "            if comp[0] > popData[0] :\n",
    "                queue.append(popData)\n",
    "                break\n",
    "            if comp == queue[-1] :\n",
    "                answer.append(popData[1])\n",
    "    return (answer.index(location))+1\n",
    "#solution([2, 1, 3, 2], 2)\n",
    "solution([1, 1, 9, 1, 1, 1], 0)"
   ]
  },
  {
   "cell_type": "code",
   "execution_count": null,
   "metadata": {},
   "outputs": [],
   "source": []
  }
 ],
 "metadata": {
  "kernelspec": {
   "display_name": "Python 3",
   "language": "python",
   "name": "python3"
  },
  "language_info": {
   "codemirror_mode": {
    "name": "ipython",
    "version": 3
   },
   "file_extension": ".py",
   "mimetype": "text/x-python",
   "name": "python",
   "nbconvert_exporter": "python",
   "pygments_lexer": "ipython3",
   "version": "3.7.3"
  }
 },
 "nbformat": 4,
 "nbformat_minor": 2
}
