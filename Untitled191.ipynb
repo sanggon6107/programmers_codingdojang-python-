{
 "cells": [
  {
   "cell_type": "code",
   "execution_count": 8,
   "metadata": {},
   "outputs": [
    {
     "name": "stdout",
     "output_type": "stream",
     "text": [
      "0.0 1.5\n",
      "2\n",
      "1.5 3.0\n",
      "5\n",
      "3.0 4.5\n",
      "7\n",
      "4.5 6.0\n",
      "10\n",
      "6.0 7.5\n",
      "12\n",
      "7.5 9.0\n",
      "15\n",
      "9.0 10.5\n",
      "17\n",
      "10.5 12.0\n",
      "20\n",
      "20\n",
      "2\n",
      "2\n"
     ]
    }
   ],
   "source": [
    "def check(a, b) :\n",
    "    if a%1 == 0 and  :\n",
    "        \n",
    "    elif b\n",
    "\n",
    "def solution(w,h):\n",
    "    if w == h :\n",
    "        return w\n",
    "    else :\n",
    "        answer, d = 0, h/w\n",
    "        for i in range(0, w) :\n",
    "            answer += check(i*d, (i+1)*d)\n",
    "            print(i*d, (i+1)*d)\n",
    "            print(answer)\n",
    "        return answer\n",
    "    \n",
    "if __name__ == '__main__' :\n",
    "    print(solution(8, 12))\n",
    "    #print(solution(100000000, 99999999))\n",
    "    print(check(1.2, 2))\n",
    "    print(check(2, 3.4))"
   ]
  },
  {
   "cell_type": "code",
   "execution_count": null,
   "metadata": {},
   "outputs": [],
   "source": []
  }
 ],
 "metadata": {
  "kernelspec": {
   "display_name": "Python 3",
   "language": "python",
   "name": "python3"
  },
  "language_info": {
   "codemirror_mode": {
    "name": "ipython",
    "version": 3
   },
   "file_extension": ".py",
   "mimetype": "text/x-python",
   "name": "python",
   "nbconvert_exporter": "python",
   "pygments_lexer": "ipython3",
   "version": "3.7.4"
  }
 },
 "nbformat": 4,
 "nbformat_minor": 2
}
