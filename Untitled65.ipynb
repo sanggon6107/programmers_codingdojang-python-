{
 "cells": [
  {
   "cell_type": "code",
   "execution_count": null,
   "metadata": {},
   "outputs": [
    {
     "name": "stdout",
     "output_type": "stream",
     "text": [
      "12\n",
      "24\n",
      "30\n",
      "36\n",
      "40\n",
      "48\n",
      "56\n",
      "60\n",
      "60\n",
      "84\n",
      "90\n",
      "120\n",
      "120\n",
      "168\n",
      "180\n",
      "240\n",
      "240\n",
      "360\n",
      "420\n",
      "420\n"
     ]
    }
   ],
   "source": [
    "# p = a+b+c, a+b<c. Thus, c>(p/2)\n",
    "mx = 0\n",
    "for p in range(1, 1001) :\n",
    "    cou = 0\n",
    "    for cc in range(1, int(p/2)+1) :              #in range((p/2)+1 ~ p-1)\n",
    "        for aa in range(1, int((p-cc)/2)+1) :\n",
    "            if aa**2 + (p-cc-aa)**2 == cc**2 :\n",
    "                #print(p-cc-aa, ', ', aa,', ',cc)\n",
    "                cou += 1\n",
    "                if cou >= mx :\n",
    "                    mx = cou\n",
    "                    print(p)\n",
    "print(mx)"
   ]
  },
  {
   "cell_type": "code",
   "execution_count": 5,
   "metadata": {},
   "outputs": [
    {
     "data": {
      "text/plain": [
       "25"
      ]
     },
     "execution_count": 5,
     "metadata": {},
     "output_type": "execute_result"
    }
   ],
   "source": []
  },
  {
   "cell_type": "code",
   "execution_count": null,
   "metadata": {},
   "outputs": [],
   "source": []
  }
 ],
 "metadata": {
  "kernelspec": {
   "display_name": "Python 3",
   "language": "python",
   "name": "python3"
  },
  "language_info": {
   "codemirror_mode": {
    "name": "ipython",
    "version": 3
   },
   "file_extension": ".py",
   "mimetype": "text/x-python",
   "name": "python",
   "nbconvert_exporter": "python",
   "pygments_lexer": "ipython3",
   "version": "3.7.3"
  }
 },
 "nbformat": 4,
 "nbformat_minor": 2
}
