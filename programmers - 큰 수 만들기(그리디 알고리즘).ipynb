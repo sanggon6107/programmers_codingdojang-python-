{
 "cells": [
  {
   "cell_type": "code",
   "execution_count": 6,
   "metadata": {},
   "outputs": [
    {
     "data": {
      "text/plain": [
       "'775841'"
      ]
     },
     "execution_count": 6,
     "metadata": {},
     "output_type": "execute_result"
    }
   ],
   "source": [
    "def solution(number, k):\n",
    "    answer, len_num_ini = '', len(number)\n",
    "    while len(number) != 0 :\n",
    "        if k == 0 :\n",
    "            answer += number\n",
    "            break\n",
    "        p_data = list(map(int, list(number[:k+1])))\n",
    "        max_= max(p_data)\n",
    "        answer += str(max_)\n",
    "        #p_data.index(max(p_data))\n",
    "        k -= p_data.index(max_)\n",
    "        number = number[p_data.index(max_)+1:]\n",
    "    if k != 0 :\n",
    "        answer = answer[:-k]\n",
    "    return answer\n",
    "\n",
    "solution('10000', 2)\n",
    "solution('4177252841', 4)"
   ]
  },
  {
   "cell_type": "code",
   "execution_count": 43,
   "metadata": {},
   "outputs": [
    {
     "data": {
      "text/plain": [
       "'775841'"
      ]
     },
     "execution_count": 43,
     "metadata": {},
     "output_type": "execute_result"
    }
   ],
   "source": [
    "def maximum(num_list) :\n",
    "    for i in range(9, -1, -1) :\n",
    "        if i in num_list :\n",
    "            return i\n",
    "\n",
    "def slice_til(n_list, ind) :\n",
    "    for z in range(0, ind+1) :\n",
    "        del n_list[0]\n",
    "    return n_list\n",
    "\n",
    "def solution(number, k):\n",
    "    answer, len_num_ini, number = '', len(number), list(map(int, list(number)))\n",
    "    while len(number) != 0 :\n",
    "        if k == 0 :\n",
    "            answer += \"\".join(map(str, number))\n",
    "            break\n",
    "        p_data = number[:k+1] #[0]에서 [k]까지 k+1개\n",
    "        \n",
    "        max_ = maximum(p_data)\n",
    "        \n",
    "        answer += str(max_)\n",
    "        k -= p_data.index(max_)\n",
    "        #print(number) ##########\n",
    "        #number = number[p_data.index(max_)+1:]\n",
    "        number = slice_til(number, p_data.index(max_))\n",
    "        ########################\n",
    "        #print(number)\n",
    "        #break\n",
    "        #######################\n",
    "        \n",
    "    if k != 0 :\n",
    "        answer = answer[:-k]\n",
    "    return answer\n",
    "\n",
    "\n",
    "# list slicing은 그 자체로 시간복잡도가 O(n)이다.\n",
    "\n",
    "solution('4177252841', 4)\n",
    "#solution('10000', 2)"
   ]
  },
  {
   "cell_type": "code",
   "execution_count": 42,
   "metadata": {},
   "outputs": [
    {
     "data": {
      "text/plain": [
       "'775841'"
      ]
     },
     "execution_count": 42,
     "metadata": {},
     "output_type": "execute_result"
    }
   ],
   "source": [
    "def maximum(num_list) :\n",
    "    for i in range(9, -1, -1) :\n",
    "        if i in num_list :\n",
    "            return i\n",
    "\n",
    "def maximum_til(num_list, o) :\n",
    "    for i in range(9, -1, -1) :\n",
    "        for ind in range(0, o) :\n",
    "            if num_list[ind] == i :\n",
    "                return i\n",
    "\n",
    "\n",
    "def slice_til(n_list, ind) :\n",
    "    for z in range(0, ind+1) :\n",
    "        del n_list[0]\n",
    "    return n_list\n",
    "\n",
    "def solution(number, k):\n",
    "    answer, len_num_ini, number = '', len(number), list(map(int, list(number)))\n",
    "    while len(number) != 0 :\n",
    "        if k == 0 :\n",
    "            answer += \"\".join(map(str, number))\n",
    "            break\n",
    "\n",
    "        max_ = maximum_til(number, k+1)\n",
    "        answer += str(max_)\n",
    "        maxIndex = number.index(max_)\n",
    "        k -= maxIndex\n",
    "\n",
    "        number = slice_til(number, maxIndex)\n",
    "        \n",
    "    if k != 0 :\n",
    "        answer = answer[:-k]\n",
    "    return answer\n",
    "\n",
    "\n",
    "solution('4177252841', 4)\n",
    "#solution('10000', 2)"
   ]
  },
  {
   "cell_type": "code",
   "execution_count": 41,
   "metadata": {},
   "outputs": [
    {
     "data": {
      "text/plain": [
       "'775841'"
      ]
     },
     "execution_count": 41,
     "metadata": {},
     "output_type": "execute_result"
    }
   ],
   "source": [
    "def maximum(num_list) :\n",
    "    for i in range(9, -1, -1) :\n",
    "        if i in num_list :\n",
    "            return i\n",
    "\n",
    "def maximum_til(num_list, o) :\n",
    "    for i in range(9, -1, -1) :\n",
    "        for ind in range(0, o) :\n",
    "            if num_list[ind] == i :\n",
    "                return i\n",
    "\n",
    "\n",
    "def slice_til(n_list, ind) :\n",
    "    for z in range(0, ind+1) :\n",
    "        del n_list[0]\n",
    "    return n_list\n",
    "\n",
    "def solution(number, k):\n",
    "    answer, len_num_ini, number = '', len(number), list(map(int, list(number)))\n",
    "    while len(number) != 0 :\n",
    "        if k == 0 :\n",
    "            answer += \"\".join(map(str, number))\n",
    "            break\n",
    "\n",
    "        max_ = maximum_til(number, k+1)\n",
    "        answer += str(max_)\n",
    "        maxIndex = number.index(max_)\n",
    "        k -= maxIndex\n",
    "\n",
    "        number = slice_til(number, maxIndex)\n",
    "        \n",
    "    if k != 0 :\n",
    "        answer = answer[:-k]\n",
    "    return answer\n",
    "\n",
    "\n",
    "solution('4177252841', 4)\n",
    "#solution('10000', 2)\n",
    "\n",
    "'''\n",
    "maximum_til함수는 파이썬 내부의 recursion maximum depth 초과를 유발한다.\n",
    "'''\n",
    "\n"
   ]
  },
  {
   "cell_type": "code",
   "execution_count": 58,
   "metadata": {},
   "outputs": [
    {
     "data": {
      "text/plain": [
       "'\\n변수 answer를 리스트로 변경. 서브문제 해결 시 데이터 타입 변경할 필요가 없다.\\n\\n'"
      ]
     },
     "execution_count": 58,
     "metadata": {},
     "output_type": "execute_result"
    }
   ],
   "source": [
    "def maximum(num_list) :\n",
    "    for i in range(9, -1, -1) :\n",
    "        if i in num_list :\n",
    "            return i\n",
    "\n",
    "def slice_til(n_list, ind) :\n",
    "    for z in range(0, ind+1) :\n",
    "        del n_list[0]\n",
    "    return n_list\n",
    "\n",
    "def solution(number, k):\n",
    "    answer, len_num_ini, number = [], len(number), list(map(int, list(number)))\n",
    "    while len(number) != 0 :\n",
    "        if k == 0 :\n",
    "            answer += number\n",
    "            return \"\".join(map(str, answer))\n",
    "\n",
    "        max_ = maximum(number[:k+1])\n",
    "        \n",
    "        answer.append(max_)\n",
    "        maxIndex = number.index(max_)\n",
    "        k -= maxIndex\n",
    "        number = slice_til(number, maxIndex)\n",
    "\n",
    "\n",
    "    if k != 0 :\n",
    "        answer = answer[:-k]\n",
    "    return \"\".join(map(str, answer))\n",
    "\n",
    "solution('4177252841', 4)\n",
    "#solution('10000', 2)\n",
    "solution(\"1231234\", 3)\n",
    "\n",
    "'''\n",
    "변수 answer를 리스트로 변경. 서브문제 해결 시 데이터 타입 변경할 필요가 없다.\n",
    "\n",
    "'''\n",
    "\n"
   ]
  },
  {
   "cell_type": "code",
   "execution_count": null,
   "metadata": {},
   "outputs": [],
   "source": [
    "def maximum(num_list) :\n",
    "    for i in range(9, -1, -1) :\n",
    "        if i in num_list :\n",
    "            return i\n",
    "\n",
    "def slice_til(n_list, ind) :\n",
    "    for z in range(0, ind+1) :\n",
    "        del n_list[0]\n",
    "    return n_list\n",
    "\n",
    "def solution(number, k):\n",
    "    answer, len_num_ini, number = [], len(number), list(map(int, list(number)))\n",
    "    while len(number) != 0 :\n",
    "        if k == 0 :\n",
    "            answer += number\n",
    "            return \"\".join(map(str, answer))\n",
    "\n",
    "        max_ = maximum(number[:k+1])\n",
    "        \n",
    "        answer.append(max_)\n",
    "        maxIndex = number.index(max_)\n",
    "        k -= maxIndex\n",
    "        number = slice_til(number, maxIndex)\n",
    "\n",
    "\n",
    "    if k != 0 :\n",
    "        answer = answer[:-k]\n",
    "    return \"\".join(map(str, answer))\n",
    "\n",
    "solution('4177252841', 4)\n",
    "#solution('10000', 2)\n",
    "solution(\"1231234\", 3)\n",
    "\n",
    "'''\n",
    "테스트 케이스 8 : 700[ms]\n",
    "'''\n",
    "\n"
   ]
  },
  {
   "cell_type": "code",
   "execution_count": null,
   "metadata": {},
   "outputs": [],
   "source": [
    "def maximum(num_list) :\n",
    "    for i in range(9, -1, -1) :\n",
    "        if i in num_list :\n",
    "            return i\n",
    "\n",
    "def slice_til(n_list, ind) :\n",
    "    for z in range(0, ind+1) :\n",
    "        del n_list[0]\n",
    "    return n_list\n",
    "\n",
    "def solution(number, k):\n",
    "    answer, len_num_ini, number = [], len(number), list(map(int, list(number))) # O(n**2) \n",
    "    \n",
    "    \n",
    "    $$ maximum함수는 number를 리스트화하지 않고도 시행할 수 있다.\n",
    "    \n",
    "    \n",
    "    \n",
    "    while len(number) != 0 :\n",
    "        if k == 0 :\n",
    "            answer += number\n",
    "            return \"\".join(map(str, answer))\n",
    "\n",
    "        max_ = maximum(number[:k+1])\n",
    "        \n",
    "        answer.append(max_)\n",
    "        maxIndex = number.index(max_)\n",
    "        k -= maxIndex\n",
    "        number = slice_til(number, maxIndex)\n",
    "\n",
    "\n",
    "    if k != 0 :\n",
    "        answer = answer[:-k]\n",
    "    return \"\".join(map(str, answer))\n",
    "\n",
    "solution('4177252841', 4)\n",
    "#solution('10000', 2)\n",
    "solution(\"1231234\", 3)\n",
    "\n",
    "'''\n",
    "테스트 케이스 8 : 700[ms]\n",
    "'''"
   ]
  },
  {
   "cell_type": "code",
   "execution_count": 71,
   "metadata": {},
   "outputs": [
    {
     "name": "stdout",
     "output_type": "stream",
     "text": [
      "775841\n",
      "3234\n"
     ]
    },
    {
     "data": {
      "text/plain": [
       "'\\n테스트 케이스 8 : 700[ms]\\n'"
      ]
     },
     "execution_count": 71,
     "metadata": {},
     "output_type": "execute_result"
    }
   ],
   "source": [
    "def maximum(num_str) :\n",
    "    for i in ['9', '8', '7', '6', '5', '4', '3', '2', '1', '0'] :\n",
    "        if i in num_str :\n",
    "            return i\n",
    "\n",
    "def slice_til(n_list, ind) :\n",
    "    for z in range(0, ind+1) :\n",
    "        del n_list[0]\n",
    "    return n_list\n",
    "\n",
    "def solution(number, k):\n",
    "    answer, len_num_ini = '', len(number)\n",
    "    \n",
    "    while len(number) != 0 :\n",
    "        if k == 0 :\n",
    "            answer += number\n",
    "            return answer\n",
    "\n",
    "        max_ = maximum(number[:k+1])\n",
    "        \n",
    "        answer += max_\n",
    "        \n",
    "        maxIndex = number.index(max_)\n",
    "        k -= maxIndex\n",
    "        number = number[maxIndex+1:]\n",
    "    if k != 0 :\n",
    "        answer = answer[:-k]\n",
    "    return answer\n",
    "\n",
    "print(solution('4177252841', 4))\n",
    "#solution('10000', 2)\n",
    "print(solution(\"1231234\", 3))\n",
    "\n",
    "'''\n",
    "테스트 케이스 8 : 700[ms]\n",
    "'''"
   ]
  },
  {
   "cell_type": "code",
   "execution_count": 68,
   "metadata": {},
   "outputs": [
    {
     "ename": "TypeError",
     "evalue": "'str' object doesn't support item deletion",
     "output_type": "error",
     "traceback": [
      "\u001b[1;31m---------------------------------------------------------------------------\u001b[0m",
      "\u001b[1;31mTypeError\u001b[0m                                 Traceback (most recent call last)",
      "\u001b[1;32m<ipython-input-68-c895f42a7861>\u001b[0m in \u001b[0;36m<module>\u001b[1;34m\u001b[0m\n\u001b[0;32m      1\u001b[0m \u001b[0ma\u001b[0m \u001b[1;33m=\u001b[0m \u001b[1;34m'abcd'\u001b[0m\u001b[1;33m\u001b[0m\u001b[1;33m\u001b[0m\u001b[0m\n\u001b[1;32m----> 2\u001b[1;33m \u001b[1;32mdel\u001b[0m \u001b[0ma\u001b[0m\u001b[1;33m[\u001b[0m\u001b[1;36m0\u001b[0m\u001b[1;33m]\u001b[0m\u001b[1;33m\u001b[0m\u001b[1;33m\u001b[0m\u001b[0m\n\u001b[0m\u001b[0;32m      3\u001b[0m \u001b[0mprint\u001b[0m\u001b[1;33m(\u001b[0m\u001b[0ma\u001b[0m\u001b[1;33m)\u001b[0m\u001b[1;33m\u001b[0m\u001b[1;33m\u001b[0m\u001b[0m\n",
      "\u001b[1;31mTypeError\u001b[0m: 'str' object doesn't support item deletion"
     ]
    }
   ],
   "source": [
    "a = 'abcd'\n",
    "del a[0]\n",
    "print(a)"
   ]
  },
  {
   "cell_type": "code",
   "execution_count": null,
   "metadata": {},
   "outputs": [],
   "source": []
  }
 ],
 "metadata": {
  "kernelspec": {
   "display_name": "Python 3",
   "language": "python",
   "name": "python3"
  },
  "language_info": {
   "codemirror_mode": {
    "name": "ipython",
    "version": 3
   },
   "file_extension": ".py",
   "mimetype": "text/x-python",
   "name": "python",
   "nbconvert_exporter": "python",
   "pygments_lexer": "ipython3",
   "version": "3.7.3"
  }
 },
 "nbformat": 4,
 "nbformat_minor": 2
}
