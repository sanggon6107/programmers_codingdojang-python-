{
 "cells": [
  {
   "cell_type": "code",
   "execution_count": 45,
   "metadata": {},
   "outputs": [
    {
     "name": "stdout",
     "output_type": "stream",
     "text": [
      "C#DEFGAB\n",
      "C#DEFGABC#DEFGA\n",
      "\n",
      "ABCDE\n"
     ]
    },
    {
     "data": {
      "text/plain": [
       "[]"
      ]
     },
     "execution_count": 45,
     "metadata": {},
     "output_type": "execute_result"
    }
   ],
   "source": [
    "'''\n",
    "전체탐색(musicinfos의 순서는 바꾸지 않는다.)\n",
    "\n",
    "\n",
    "재생시간 : 00 : 00 이후 x -> elif not 오름차순 -> 00 : 00 까지\n",
    "재생시간만큼 코드 문자열로. (m의 길이에 따라 이 문자열은 줄어들 수 있다. m의 길이, 곡의 길이, 재생시간 모두 고려할 것)\n",
    "문자열 안에 m이 있는가?\n",
    "\n",
    "조건에 맞는 데이터만 순차적으로 queue에 쌓아놓는다.\n",
    "\n",
    "그중 재생시간이 가장 길면서, 리스트의 인덱스 넘버가 작은 데이터를 반환한다.\n",
    "\n",
    "'''\n",
    "\n",
    "import re\n",
    "\n",
    "def code_f(string) :\n",
    "    find = re.compile(\"C\\#?|D\\#?|E|F\\#?|G\\#?|A\\#?|B\")\n",
    "    resList = find.findall(string)\n",
    "    return resList, len(resList)\n",
    "\n",
    "def time(t1, t2) :\n",
    "    t1_h, t1_m, t2_h, t2_m = int(t1[:2]), int(t1[3:]), int(t2[:2]), int(t2[3:])\n",
    "    if t2_h >= t1_h :\n",
    "        return ((t2_h*60)+t2_m) - ((t1_h*60)+t1_m)\n",
    "    else : return 1440 - ((t1_h*60)+t1_m)\n",
    "\n",
    "def solution(m, musicinfos):\n",
    "    nomList = []\n",
    "    for i in range(0, len(musicinfos)) :\n",
    "        dataList = musicinfos[i].split(\",\")\n",
    "        timeLen = time(dataList[0], dataList[1])\n",
    "        codeList = code_f(dataList[3])\n",
    "        check_str = int(( timeLen )/codeList[1])*(\"\".join(codeList[0])) + \"\".join(codeList[0][:timeLen%codeList[1]])\n",
    "        if m in check_str :\n",
    "            nomList.append(dataList+[timeLen])\n",
    "    \n",
    "    \n",
    "    answer = ''\n",
    "    return nomList\n",
    "\n",
    "solution(\"ABCDEFG\", [\"12:00,12:13,HELLO,C#DEFGAB\", \"13:00,13:05,WORLD,ABCDEF\"])\n"
   ]
  },
  {
   "cell_type": "code",
   "execution_count": 12,
   "metadata": {},
   "outputs": [
    {
     "name": "stdout",
     "output_type": "stream",
     "text": [
      "45\n"
     ]
    }
   ],
   "source": [
    "def time(t1, t2) :\n",
    "    t1_h, t1_m, t2_h, t2_m = int(t1[:2]), int(t1[3:]), int(t2[:2]), int(t2[3:])\n",
    "    if t2_h >= t1_h :\n",
    "        return ((t2_h*60)+t2_m) - ((t1_h*60)+t1_m)\n",
    "    else : return 1440 - ((t1_h*60)+t1_m)\n",
    "\n",
    "print(time(\"23:15\", \"01:15\"))\n",
    "    "
   ]
  },
  {
   "cell_type": "code",
   "execution_count": 4,
   "metadata": {},
   "outputs": [
    {
     "name": "stdout",
     "output_type": "stream",
     "text": [
      "['12:00', '12:14', 'HELLO', 'CDEFGAB']\n",
      "12\n"
     ]
    }
   ],
   "source": [
    "s = \"12:00,12:14,HELLO,CDEFGAB\"\n",
    "a = s.split(\",\")\n",
    "print(a)\n",
    "print(a[0][:2])"
   ]
  },
  {
   "cell_type": "code",
   "execution_count": 36,
   "metadata": {},
   "outputs": [
    {
     "data": {
      "text/plain": [
       "(['C', 'C#', 'B', 'C', 'C#', 'B', 'C', 'C#', 'B', 'C', 'C#', 'B'], 12)"
      ]
     },
     "execution_count": 36,
     "metadata": {},
     "output_type": "execute_result"
    }
   ],
   "source": [
    "import re\n",
    "def code_f(string) :\n",
    "    find = re.compile(\"C\\#?|D\\#?|E|F\\#?|G\\#?|A\\#?|B\")\n",
    "    resList = find.findall(string)\n",
    "    return resList, len(resList)\n",
    "\n",
    "code_f(\"CC#BCC#BCC#BCC#B\")"
   ]
  },
  {
   "cell_type": "code",
   "execution_count": null,
   "metadata": {},
   "outputs": [],
   "source": []
  }
 ],
 "metadata": {
  "kernelspec": {
   "display_name": "Python 3",
   "language": "python",
   "name": "python3"
  },
  "language_info": {
   "codemirror_mode": {
    "name": "ipython",
    "version": 3
   },
   "file_extension": ".py",
   "mimetype": "text/x-python",
   "name": "python",
   "nbconvert_exporter": "python",
   "pygments_lexer": "ipython3",
   "version": "3.7.3"
  }
 },
 "nbformat": 4,
 "nbformat_minor": 2
}
