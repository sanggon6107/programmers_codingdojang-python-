{
 "cells": [
  {
   "cell_type": "code",
   "execution_count": 6,
   "metadata": {},
   "outputs": [
    {
     "name": "stdout",
     "output_type": "stream",
     "text": [
      "input : 6015240, 1507968, 4530816\n"
     ]
    },
    {
     "data": {
      "text/plain": [
       "[6015240, 1507968, 4530816]"
      ]
     },
     "execution_count": 6,
     "metadata": {},
     "output_type": "execute_result"
    }
   ],
   "source": [
    "\"\"\"kaz = 6015240, 1507968, 4530816\n",
    "\n",
    "\"\"\"\n",
    "\n",
    "INPUT_LIST = list(map(int, input(\"input : \").split(\", \")))\n"
   ]
  },
  {
   "cell_type": "code",
   "execution_count": 13,
   "metadata": {},
   "outputs": [
    {
     "name": "stdout",
     "output_type": "stream",
     "text": [
      "168\n"
     ]
    }
   ],
   "source": [
    "count = 999\n",
    "for i in range(2, 1001) :\n",
    "    for k in range(2, i) :\n",
    "        if i%k == 0 :\n",
    "            count -= 1\n",
    "            break\n",
    "print(count)"
   ]
  },
  {
   "cell_type": "code",
   "execution_count": 18,
   "metadata": {},
   "outputs": [
    {
     "name": "stdout",
     "output_type": "stream",
     "text": [
      "input : 1w627r00o00p00\n"
     ]
    },
    {
     "data": {
      "text/plain": [
       "1627000000"
      ]
     },
     "execution_count": 18,
     "metadata": {},
     "output_type": "execute_result"
    }
   ],
   "source": [
    "import re\n",
    "inp = input(\"input : \")\n",
    "k = re.compile(\"\\d+\")\n",
    "int(\"\".join(k.findall(inp)))"
   ]
  },
  {
   "cell_type": "code",
   "execution_count": 22,
   "metadata": {},
   "outputs": [
    {
     "data": {
      "text/plain": [
       "'20150111'"
      ]
     },
     "execution_count": 22,
     "metadata": {},
     "output_type": "execute_result"
    }
   ],
   "source": [
    "tex = \"iuuuuuyy\"\n",
    "comz, como, comt, comf = str(tex.count(\"3\")), str(tex.count(\"i\")), str(tex.count(\"y\")), str(tex.count(\"u\"))\n",
    "comt+comz+como+comf+comz+como*3"
   ]
  },
  {
   "cell_type": "code",
   "execution_count": 26,
   "metadata": {},
   "outputs": [
    {
     "name": "stdout",
     "output_type": "stream",
     "text": [
      "232792560\n"
     ]
    }
   ],
   "source": [
    "i, sig = 1, 0\n",
    "while True : \n",
    "    sig = 0\n",
    "    for k in range(1, 21) :\n",
    "        if i%k != 0 :\n",
    "            sig = 1\n",
    "            break\n",
    "    if sig == 0 :\n",
    "        print(i)\n",
    "        break\n",
    "    i += 1"
   ]
  },
  {
   "cell_type": "code",
   "execution_count": null,
   "metadata": {},
   "outputs": [],
   "source": []
  }
 ],
 "metadata": {
  "kernelspec": {
   "display_name": "Python 3",
   "language": "python",
   "name": "python3"
  },
  "language_info": {
   "codemirror_mode": {
    "name": "ipython",
    "version": 3
   },
   "file_extension": ".py",
   "mimetype": "text/x-python",
   "name": "python",
   "nbconvert_exporter": "python",
   "pygments_lexer": "ipython3",
   "version": "3.7.3"
  }
 },
 "nbformat": 4,
 "nbformat_minor": 2
}
