{
 "cells": [
  {
   "cell_type": "code",
   "execution_count": 27,
   "metadata": {},
   "outputs": [
    {
     "name": "stdout",
     "output_type": "stream",
     "text": [
      "2\n",
      "10000\n"
     ]
    },
    {
     "data": {
      "text/plain": [
       "'100'"
      ]
     },
     "execution_count": 27,
     "metadata": {},
     "output_type": "execute_result"
    }
   ],
   "source": [
    "def solution(number, k):\n",
    "    answer, len_num_ini = '', len(number)\n",
    "    while len(number) != 0 :\n",
    "        if k == 0 :\n",
    "            answer += number\n",
    "            break\n",
    "        p_data = list(map(int, list(number[:k+1])))\n",
    "        max_= max(p_data)\n",
    "        answer += str(max_)\n",
    "        #p_data.index(max(p_data))\n",
    "        k -= p_data.index(max_)\n",
    "        number = number[p_data.index(max_)+1:]\n",
    "    if k != 0 :\n",
    "        answer = answer[:-k]\n",
    "    return answer\n",
    "\n",
    "solution('10000', 2)"
   ]
  },
  {
   "cell_type": "code",
   "execution_count": 47,
   "metadata": {},
   "outputs": [
    {
     "data": {
      "text/plain": [
       "'775841'"
      ]
     },
     "execution_count": 47,
     "metadata": {},
     "output_type": "execute_result"
    }
   ],
   "source": [
    "def solution(number, k):\n",
    "    answer, len_num_ini, number = '', len(number), list(map(int, list(number)))\n",
    "    while len(number) != 0 :\n",
    "        if k == 0 :\n",
    "            answer += \"\".join(map(str, number))\n",
    "            break\n",
    "        p_data = number[:k+1]\n",
    "        for i in range(9, -1, -1) :\n",
    "            if i in p_data :\n",
    "                max_ = i\n",
    "                break\n",
    "        answer += str(max_)\n",
    "        k -= p_data.index(max_)\n",
    "        number = number[p_data.index(max_)+1:]\n",
    "    if k != 0 :\n",
    "        answer = answer[:-k]\n",
    "    return answer\n",
    "\n",
    "\n",
    "# list slicing은 그 자체로 시간복잡도가 O(n)이다.\n",
    "\n",
    "solution('4177252841', 4)"
   ]
  },
  {
   "cell_type": "code",
   "execution_count": 46,
   "metadata": {},
   "outputs": [
    {
     "name": "stdout",
     "output_type": "stream",
     "text": [
      "7\n"
     ]
    }
   ],
   "source": [
    "a = [4, 1, 7, 7, 2]\n",
    "for i in range(9, -1, -1) :\n",
    "    if i in a :\n",
    "        max_ = i\n",
    "        break\n",
    "print(max_)"
   ]
  },
  {
   "cell_type": "code",
   "execution_count": null,
   "metadata": {},
   "outputs": [],
   "source": []
  }
 ],
 "metadata": {
  "kernelspec": {
   "display_name": "Python 3",
   "language": "python",
   "name": "python3"
  },
  "language_info": {
   "codemirror_mode": {
    "name": "ipython",
    "version": 3
   },
   "file_extension": ".py",
   "mimetype": "text/x-python",
   "name": "python",
   "nbconvert_exporter": "python",
   "pygments_lexer": "ipython3",
   "version": "3.7.3"
  }
 },
 "nbformat": 4,
 "nbformat_minor": 2
}
