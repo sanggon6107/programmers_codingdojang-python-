{
 "cells": [
  {
   "cell_type": "code",
   "execution_count": 6,
   "metadata": {},
   "outputs": [
    {
     "name": "stdout",
     "output_type": "stream",
     "text": [
      "Size : 1 2\n",
      "[1, 2]\n"
     ]
    }
   ],
   "source": [
    "#hunt-and-kill algorithm\n",
    "import random\n",
    "\n",
    "def Gen_maze(lis) :\n",
    "    map_ =               # 2차원 배열로 구현.\n",
    "    visited =            # 방문기록 좌표 set()형으로 설정. map_duplicate로 하면 메모리 사용량 많음.\n",
    "    return lis\n",
    "if __name__ == '__main__' :\n",
    "    Gen_maze(list(map(int, input(\"Size : \").split()))[:2])"
   ]
  },
  {
   "cell_type": "code",
   "execution_count": null,
   "metadata": {},
   "outputs": [],
   "source": [
    "'''\n",
    "+-+-+\n",
    "  |#|\n",
    "|   |\n",
    "+---+\n",
    "\n",
    "'''"
   ]
  }
 ],
 "metadata": {
  "kernelspec": {
   "display_name": "Python 3",
   "language": "python",
   "name": "python3"
  },
  "language_info": {
   "codemirror_mode": {
    "name": "ipython",
    "version": 3
   },
   "file_extension": ".py",
   "mimetype": "text/x-python",
   "name": "python",
   "nbconvert_exporter": "python",
   "pygments_lexer": "ipython3",
   "version": "3.7.3"
  }
 },
 "nbformat": 4,
 "nbformat_minor": 2
}
