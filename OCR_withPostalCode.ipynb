#郵便番号まで

import re
#import cv2
from pytesseract import *
from PIL import Image, ImageFilter
from copy import deepcopy
import csv

wholeDATA, head = [], []

####### settings ######
theNumberOfPapers = 18
comf = re.compile("[^\n]+")                    # 데이터 행간 구분 정규식
image_bairitsu = 1.5                           # 이미지 리사이징 배율 설정
image_bairitsuOfPostalCode = 1.45               # P.C 이미지 리사이징 배율 설정
area = (1135, 687, 2463, 1161)                 # 픽셀 범위
areaOfPostalCode = (1793, 961, 2153, 1021)     # Postal code 픽셀 범위
#######################



# load files
for i in range(1, theNumberOfPapers+1) :
    rem_ = ""  # 이름 replace 대상 초기화
    #img = Image.open('%s.jpg' %str(i).zfill(2)).convert('L')
    img = Image.open('D:doc03434320201112110833_1000000d_1_%s.png' %str(i)).convert('L')
# define the size of the files.

    
    cropImage = img.crop(area)  # cropping
    cropImageOfPostalCode = img.crop(areaOfPostalCode)
    re_cropImage = cropImage.resize((int((area[2]-area[0])*(image_bairitsu)), int((area[3]-area[1])*(image_bairitsu))))  # resizing
    re_cropImageOfPostalCode = cropImageOfPostalCode.resize((int((areaOfPostalCode[2]-areaOfPostalCode[0])*(image_bairitsuOfPostalCode)), int((areaOfPostalCode[3]-areaOfPostalCode[1])*(image_bairitsuOfPostalCode)))) #Postal code resizing
    
    #################################### Postal code 이외 이진화 ###########################
    (width, height) = re_cropImage.size
    im = re_cropImage.load()
    
    for h in range(0, height) :
        for w in range(0, width) : 
            if im[w, h] < 220 : 
                im[w, h] = 0
            else :
                im[w, h] = 255
                
    re_cropImage.save("D:kansei_%s.png" %str(i))
    
    ########################### Postal code 이외 이진화 끝 #################################
    #################################### Postal code 이진화 ###########################
    (widthOfPostalCode, heightOfPostalCode) = re_cropImageOfPostalCode.size
    imOfPostalCode = re_cropImageOfPostalCode.load()
    
    for hp in range(0, heightOfPostalCode) :
        for wp in range(0, widthOfPostalCode) : 
            if imOfPostalCode[wp, hp] < 220 : 
                imOfPostalCode[wp, hp] = 0
            else :
                imOfPostalCode[wp, hp] = 255
                
    re_cropImageOfPostalCode.save("D:postalKansei_%s.png" %str(i))
    
    ########################### Postal code 이진화 끝 #################################
    
    ########################### OCR  #####################################
    
    #re_cropImage = cropImage.resize((520,int((515*(area[3]-area[1]))/(area[2]-area[0]))))
    #cropImage.show
    #re_cropImage.show()
    text = pytesseract.image_to_string(re_cropImage,lang='kor', config='-c preserve_interword_spaces=1')
    textOfPostalCode = pytesseract.image_to_string(re_cropImageOfPostalCode,lang='eng', config='--psm 10 --oem 3 -c tessedit_char_whitelist=0123456789')
    ########################### OCR 끝 #####################################
    print("extracted P.C : ", textOfPostalCode)
# extracting text from the image files.

    findAll = comf.findall(text)
    findAll_deepcopy = deepcopy(findAll)
    for rem in findAll_deepcopy :
        if "귀하(중)" in rem :
            print(True)
            rem_ = rem.replace("귀하(중)", "")
            rem = rem_
    print("findAll : ", findAll, "\n[rem_]+findall_deepcopy : ", [str(textOfPostalCode)]+[rem_]+findAll_deepcopy[:4])


    wholeDATA.append([str(textOfPostalCode)]+[rem_]+findAll_deepcopy[:4])

############################# lan settings ######################
### text = pytesseract.image_to_string(img,lang='kor')
### text = pytesseract.image_to_string(img,lang='kor+eng', config='-c preserve_interword_spaces=1')
#################################################################


####### print samples ########
#print(text)
#print(findAll)
##############################

print(wholeDATA, len(wholeDATA))

ff = open("D:post.csv", 'w', encoding='utf-8-sig', newline='')
wr = csv.writer(ff)
for rr in range(0, len(wholeDATA)) :
    wr.writerow(wholeDATA[rr])
ff.close()


if __name__ == "__main__" :
    print("FILE SAVED.")
