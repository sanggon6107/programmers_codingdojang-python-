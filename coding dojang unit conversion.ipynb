{
 "cells": [
  {
   "cell_type": "code",
   "execution_count": null,
   "metadata": {},
   "outputs": [],
   "source": [
    "'''\n",
    "px RULED OUT\n",
    "'''\n",
    "\n",
    "import re\n",
    "\n",
    "UNIT_DICTIONARY = ['mm', 'cm', 'inch', 'pt', 'dxa', 'emu']\n",
    "UNIT_RELA = ['*(1/10)', '*(1/254)', '*72', '*20', '*635', '*1']\n",
    "\n",
    "while True : \n",
    "    print(\"=\"*30+\"Type \\'QUIT\\' to exit.\"+\"=\"*30)\n",
    "    inp = input(\"INPUT : \")\n",
    "        \n",
    "    if inp == 'QUIT' :\n",
    "        break\n",
    "        \n",
    "    else : \n",
    "        \n",
    "        TRANS_digits = re.compile(\"\\d+\")\n",
    "        TRANS_unit = re.compile(\"[a-zA-Z]+\")\n",
    "        \n",
    "        digits_BEFORE_TRANS = \"\".join(TRANS_digits.findall(inp))\n",
    "        unit_BEFORE_TRANS = \"\".join(TRANS_unit.findall(inp))\n",
    "        \n",
    "        inp2nd = input(\"CONVERSE INTO : \")\n",
    "        print(UNIT_DICTIONARY.index(unit_BEFORE_TRANS), 'TO', UNIT_DICTIONARY.index(inp2nd))\n",
    "        result = str(digits_BEFORE_TRANS)\n",
    "        for k in range(UNIT_DICTIONARY.index(unit_BEFORE_TRANS), UNIT_DICTIONARY.index(inp2nd)) :\n",
    "            result += UNIT_RELA[k]\n",
    "        \n",
    "        print(str(digits_BEFORE_TRANS)+inp2nd)\n",
    "        "
   ]
  },
  {
   "cell_type": "code",
   "execution_count": null,
   "metadata": {},
   "outputs": [],
   "source": []
  }
 ],
 "metadata": {
  "kernelspec": {
   "display_name": "Python 3",
   "language": "python",
   "name": "python3"
  },
  "language_info": {
   "codemirror_mode": {
    "name": "ipython",
    "version": 3
   },
   "file_extension": ".py",
   "mimetype": "text/x-python",
   "name": "python",
   "nbconvert_exporter": "python",
   "pygments_lexer": "ipython3",
   "version": "3.7.3"
  }
 },
 "nbformat": 4,
 "nbformat_minor": 2
}
