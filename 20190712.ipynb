{
 "cells": [
  {
   "cell_type": "code",
   "execution_count": 15,
   "metadata": {},
   "outputs": [
    {
     "name": "stdout",
     "output_type": "stream",
     "text": [
      "================================================== 2019.07.12 ==================================================\n",
      "Match found :  python\n",
      "None.\n",
      "life is too short\n",
      "<callable_iterator object at 0x09884570> \n",
      "\n",
      "<re.Match object; span=(0, 4), match='life'>\n",
      "<re.Match object; span=(5, 7), match='is'>\n",
      "<re.Match object; span=(8, 11), match='too'>\n",
      "<re.Match object; span=(12, 17), match='short'>\n",
      "\n",
      "\n",
      "DONE.\n",
      "\n"
     ]
    }
   ],
   "source": [
    "print(\"=\"*50, \"2019.07.12\", \"=\"*50)\n",
    "\n",
    "import re\n",
    "import numpy as np\n",
    "import pandas as pd\n",
    "from copy import copy\n",
    "\n",
    "# self.match() 정규 표현식으로 코드를 짜기 위해서는 객체가 2개 필요하다.(정규 표현식 컴파일, 정규표현식 메서드) \n",
    "\n",
    "regular = re.compile(\"[a-z]+\")\n",
    "M = regular.match(\"python\")\n",
    "\n",
    "if M :\n",
    "    print(\"Match found : \", M.group())\n",
    "    \n",
    "else :\n",
    "    print(\"None.\")\n",
    "\n",
    "    \n",
    "# self.search()\n",
    "\n",
    "velt = re.compile(\"[0-9]+\")\n",
    "S = velt.search(\"python\")\n",
    "\n",
    "if S :\n",
    "    print(\"Search : \", S.group())\n",
    "    \n",
    "else :\n",
    "    print(\"None.\")\n",
    "    \n",
    "# self.findall()\n",
    "\n",
    "fast = re.compile(\"[a-z]+\")\n",
    "FA = fast.findall(\"life is too short\")\n",
    "\n",
    "if FA :\n",
    "    print(\" \".join(FA))\n",
    "    \n",
    "else :\n",
    "    print(\"None.\")\n",
    "    \n",
    "# self.finditer()\n",
    "\n",
    "FI = fast.finditer(\"life is too short\")\n",
    "\n",
    "print(FI, \"\\n\")\n",
    "r = 0\n",
    "\n",
    "for r in FI :\n",
    "    print(r)\n",
    "\n",
    "print(\"\\n\\nDONE.\\n\")"
   ]
  },
  {
   "cell_type": "code",
   "execution_count": null,
   "metadata": {},
   "outputs": [],
   "source": []
  }
 ],
 "metadata": {
  "kernelspec": {
   "display_name": "Python 3",
   "language": "python",
   "name": "python3"
  },
  "language_info": {
   "codemirror_mode": {
    "name": "ipython",
    "version": 3
   },
   "file_extension": ".py",
   "mimetype": "text/x-python",
   "name": "python",
   "nbconvert_exporter": "python",
   "pygments_lexer": "ipython3",
   "version": "3.7.3"
  }
 },
 "nbformat": 4,
 "nbformat_minor": 2
}
