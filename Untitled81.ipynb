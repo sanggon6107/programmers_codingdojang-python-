{
 "cells": [
  {
   "cell_type": "code",
   "execution_count": 31,
   "metadata": {},
   "outputs": [
    {
     "name": "stdout",
     "output_type": "stream",
     "text": [
      "INPUT : 5\n",
      "INPUT : 5 6\n",
      "INPUT : 1 4\n",
      "INPUT : 10 10\n",
      "INPUT : 6 9\n",
      "INPUT : 8 10\n",
      "[(1, 4), (5, 10)]\n"
     ]
    }
   ],
   "source": [
    "import re\n",
    "\n",
    "inp1, EXT = input(\"INPUT : \"), []\n",
    "\n",
    "for i in range(1, int(inp1)+1) : #리스트 EXT에 입력된 범위들을 튜플 형식으로 저장\n",
    "    ad_ext = input(\"INPUT : \")\n",
    "    ad_com = re.compile(\"\\d+\")\n",
    "    EXT.append(tuple(map(int, ad_com.findall(ad_ext))))\n",
    "EXT.sort() #EXT 정렬\n",
    "res = [EXT[0]] #res에 EXT[0]값만 저장해놓습니다.\n",
    "\n",
    "for m in range(1, int(inp1)) :\n",
    "    if res[-1][1] >= EXT[m][0] : # 순서대로 res의 마지막 항과 겹치는지 확인해서 겹치면 범위 수정\n",
    "        res[-1] = (res[-1][0], max(res[-1][1], EXT[m][1]))\n",
    "    else : #겹치지 않을 시 해당 튜플을 res에 추가\n",
    "        res.append(EXT[m])\n",
    "print(res)"
   ]
  },
  {
   "cell_type": "code",
   "execution_count": 33,
   "metadata": {},
   "outputs": [
    {
     "data": {
      "text/plain": [
       "'1010'"
      ]
     },
     "execution_count": 33,
     "metadata": {},
     "output_type": "execute_result"
    }
   ],
   "source": []
  },
  {
   "cell_type": "code",
   "execution_count": null,
   "metadata": {},
   "outputs": [],
   "source": []
  }
 ],
 "metadata": {
  "kernelspec": {
   "display_name": "Python 3",
   "language": "python",
   "name": "python3"
  },
  "language_info": {
   "codemirror_mode": {
    "name": "ipython",
    "version": 3
   },
   "file_extension": ".py",
   "mimetype": "text/x-python",
   "name": "python",
   "nbconvert_exporter": "python",
   "pygments_lexer": "ipython3",
   "version": "3.7.3"
  }
 },
 "nbformat": 4,
 "nbformat_minor": 2
}
