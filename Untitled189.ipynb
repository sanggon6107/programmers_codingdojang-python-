{
 "cells": [
  {
   "cell_type": "code",
   "execution_count": 3,
   "metadata": {},
   "outputs": [
    {
     "name": "stdout",
     "output_type": "stream",
     "text": [
      "8\n",
      "4\n"
     ]
    }
   ],
   "source": [
    "def solution(num):\n",
    "    count, number = 0, num\n",
    "    for i in range(1, 501) :\n",
    "        if number == 1 : return count\n",
    "        elif number % 2 == 0 :\n",
    "            number = number/2\n",
    "            count += 1\n",
    "        elif number % 2 == 1:\n",
    "            number = number*3+1\n",
    "            count += 1\n",
    "    return -1\n",
    "\n",
    "print(solution(6))\n",
    "print(solution(16))\n"
   ]
  },
  {
   "cell_type": "code",
   "execution_count": null,
   "metadata": {},
   "outputs": [],
   "source": []
  }
 ],
 "metadata": {
  "kernelspec": {
   "display_name": "Python 3",
   "language": "python",
   "name": "python3"
  },
  "language_info": {
   "codemirror_mode": {
    "name": "ipython",
    "version": 3
   },
   "file_extension": ".py",
   "mimetype": "text/x-python",
   "name": "python",
   "nbconvert_exporter": "python",
   "pygments_lexer": "ipython3",
   "version": "3.7.4"
  }
 },
 "nbformat": 4,
 "nbformat_minor": 2
}
