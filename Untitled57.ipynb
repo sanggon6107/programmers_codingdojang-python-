{
 "cells": [
  {
   "cell_type": "code",
   "execution_count": null,
   "metadata": {},
   "outputs": [],
   "source": [
    "#Lunar Arithmetic\n",
    "\n",
    "def LA_add(a, b) :\n",
    "    result = []\n",
    "    a, b = list(str(a)), list(str(b))\n",
    "    while len(a) != len(b) :\n",
    "        min(a, b).insert(0, '0')\n",
    "    for i in range(1, max(len(a), len(b))+1) :\n",
    "        result.append(max(a[-i], b[-i]))\n",
    "        result.reverse()\n",
    "    return ''.join(result)\n",
    "LA_add(1123469, 248)"
   ]
  },
  {
   "cell_type": "code",
   "execution_count": 14,
   "metadata": {},
   "outputs": [
    {
     "data": {
      "text/plain": [
       "124525"
      ]
     },
     "execution_count": 14,
     "metadata": {},
     "output_type": "execute_result"
    }
   ],
   "source": [
    "def ladd(a, b):\n",
    "    c = ''\n",
    "    a, b = str(a)[::-1], str(b)[::-1]\n",
    "    for i in range(max(len(a), len(b))):\n",
    "        c += max(a[i:i+1], b[i:i+1])\n",
    "    return int(c[::-1])\n",
    "ladd(124124, 4515)"
   ]
  },
  {
   "cell_type": "code",
   "execution_count": 24,
   "metadata": {},
   "outputs": [
    {
     "data": {
      "text/plain": [
       "[1, 2, 3, 3, 3]"
      ]
     },
     "execution_count": 24,
     "metadata": {},
     "output_type": "execute_result"
    }
   ],
   "source": [
    "a = [1, 2, 3, 3, 3]\n",
    "b = [1, 2, 3, 4]\n",
    "min(a, b)"
   ]
  },
  {
   "cell_type": "code",
   "execution_count": null,
   "metadata": {},
   "outputs": [],
   "source": []
  }
 ],
 "metadata": {
  "kernelspec": {
   "display_name": "Python 3",
   "language": "python",
   "name": "python3"
  },
  "language_info": {
   "codemirror_mode": {
    "name": "ipython",
    "version": 3
   },
   "file_extension": ".py",
   "mimetype": "text/x-python",
   "name": "python",
   "nbconvert_exporter": "python",
   "pygments_lexer": "ipython3",
   "version": "3.7.3"
  }
 },
 "nbformat": 4,
 "nbformat_minor": 2
}
