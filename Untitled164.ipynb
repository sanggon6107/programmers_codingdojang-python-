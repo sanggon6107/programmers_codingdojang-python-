{
 "cells": [
  {
   "cell_type": "code",
   "execution_count": 22,
   "metadata": {},
   "outputs": [
    {
     "data": {
      "text/plain": [
       "'()()()()'"
      ]
     },
     "execution_count": 22,
     "metadata": {},
     "output_type": "execute_result"
    }
   ],
   "source": [
    "def solution(p):\n",
    "    find, inpList = 0, list(p)\n",
    "    for pos in range(0, len(inpList)) :\n",
    "        if inpList[pos] == '(' :\n",
    "            find += 1\n",
    "        else : \n",
    "            find -= 1\n",
    "        \n",
    "        if find < 0 and inpList[pos] == ')' : \n",
    "            inpList[pos] = '('\n",
    "            find += 2\n",
    "            for i in range(pos+1, len(inpList)) :\n",
    "                if inpList[i] == '(' :\n",
    "                    inpList[i] = ')'\n",
    "    return \"\".join(inpList)"
   ]
  },
  {
   "cell_type": "code",
   "execution_count": 29,
   "metadata": {},
   "outputs": [
    {
     "name": "stdout",
     "output_type": "stream",
     "text": [
      "('', '', True)\n"
     ]
    }
   ],
   "source": [
    "def u_v(s) :\n",
    "    find, TF, u, v = 0, True, \"\", \"\"\n",
    "    for pos in range(0, len(s)) :\n",
    "        if s[pos] == '(' :\n",
    "            find += 1\n",
    "        else :\n",
    "            find -= 1\n",
    "        if find == 0 :\n",
    "            u = s[:pos+1]\n",
    "            v = s[pos+1:]\n",
    "        if find < 0 :\n",
    "            TF = False\n",
    "    return u, v, TF\n",
    "res = u_v('')\n",
    "print(res)"
   ]
  },
  {
   "cell_type": "code",
   "execution_count": 70,
   "metadata": {},
   "outputs": [
    {
     "name": "stdout",
     "output_type": "stream",
     "text": [
      "p :  ()))((()\n",
      "('()', '))((()', True)\n",
      "p :  ))((()\n",
      "('))((', '()', False)\n",
      "p :  ()\n",
      "('()', '', True)\n",
      "p :  \n",
      "('', '', True)\n",
      "e_2  :  (())()\n"
     ]
    },
    {
     "data": {
      "text/plain": [
       "'()(())()'"
      ]
     },
     "execution_count": 70,
     "metadata": {},
     "output_type": "execute_result"
    }
   ],
   "source": [
    "def u_v(s) :\n",
    "    find, TF, u, v = 0, True, \"\", \"\"\n",
    "    if s == '' : return u, v, TF\n",
    "    for pos in range(0, len(s)) :\n",
    "        if s[pos] == '(' :\n",
    "            find += 1\n",
    "        else :\n",
    "            find -= 1\n",
    "        if find < 0 :\n",
    "            TF = False\n",
    "        if find == 0 :\n",
    "            u = s[:pos+1]\n",
    "            v = s[pos+1:]\n",
    "            return u, v, TF\n",
    "\n",
    "def inv(k) :\n",
    "    k = list(k)\n",
    "    for o in range(0, len(k)) :\n",
    "        if k[o] == '(' :\n",
    "            k[o] = ')'\n",
    "        else :\n",
    "            k[o] = '('\n",
    "    return \"\".join(k)\n",
    "\n",
    "def solution(p):\n",
    "    res = u_v(p)\n",
    "    if res[0] == '' :\n",
    "        return res[0]\n",
    "    \n",
    "    if res[-1] == True :\n",
    "        return res[0]+solution(res[1])\n",
    "    else :\n",
    "        e_2 = \"(\"+solution(res[1])+\")\"+inv(res[0][1:-1])\n",
    "        return e_2\n",
    "#solution(\"(()())()\")\n",
    "#solution(\")(\")\n",
    "solution(\"()))((()\"\t)"
   ]
  },
  {
   "cell_type": "code",
   "execution_count": 54,
   "metadata": {},
   "outputs": [
    {
     "data": {
      "text/plain": [
       "'1534'"
      ]
     },
     "execution_count": 54,
     "metadata": {},
     "output_type": "execute_result"
    }
   ],
   "source": []
  },
  {
   "cell_type": "code",
   "execution_count": null,
   "metadata": {},
   "outputs": [],
   "source": []
  }
 ],
 "metadata": {
  "kernelspec": {
   "display_name": "Python 3",
   "language": "python",
   "name": "python3"
  },
  "language_info": {
   "codemirror_mode": {
    "name": "ipython",
    "version": 3
   },
   "file_extension": ".py",
   "mimetype": "text/x-python",
   "name": "python",
   "nbconvert_exporter": "python",
   "pygments_lexer": "ipython3",
   "version": "3.7.3"
  }
 },
 "nbformat": 4,
 "nbformat_minor": 2
}
