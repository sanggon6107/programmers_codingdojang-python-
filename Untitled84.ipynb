{
 "cells": [
  {
   "cell_type": "code",
   "execution_count": 4,
   "metadata": {},
   "outputs": [
    {
     "name": "stdout",
     "output_type": "stream",
     "text": [
      "['1', '2', '3', '4', '5', '6', '7', '8', '9']\n"
     ]
    }
   ],
   "source": [
    "import re\n",
    "\n",
    "def ToTri(n) :\n",
    "    res, k, ret = '', 0, ''\n",
    "    while n != 0 :\n",
    "        if 3 ** k > n :\n",
    "            res = str(k-1) + res\n",
    "            n = n - (3**(k-1))\n",
    "            k = 0\n",
    "        else :\n",
    "            k += 1\n",
    "    for ke in range(0, max(map(int, list(res)))+1) :\n",
    "        ret = str(res.count(str(ke))) + ret\n",
    "    return ret\n",
    "\n",
    "NUM_LIST, HUG_LIST = [str(i) for i in range(1, 10)], ['+', '-', '']\n",
    "\n",
    "def KIG(li, hug, sho) :\n",
    "    ##3진법 전체 탐색. DFS로 구현.\n",
    "    \n",
    "    \n",
    "KIG(NUM_LIST, HUG_LIST, 0)"
   ]
  },
  {
   "cell_type": "code",
   "execution_count": 5,
   "metadata": {},
   "outputs": [
    {
     "ename": "TypeError",
     "evalue": "int() can't convert non-string with explicit base",
     "output_type": "error",
     "traceback": [
      "\u001b[1;31m---------------------------------------------------------------------------\u001b[0m",
      "\u001b[1;31mTypeError\u001b[0m                                 Traceback (most recent call last)",
      "\u001b[1;32m<ipython-input-5-7c74d0b0e706>\u001b[0m in \u001b[0;36m<module>\u001b[1;34m\u001b[0m\n\u001b[1;32m----> 1\u001b[1;33m \u001b[0mint\u001b[0m\u001b[1;33m(\u001b[0m\u001b[1;36m3\u001b[0m\u001b[1;33m**\u001b[0m\u001b[1;36m8\u001b[0m\u001b[1;33m,\u001b[0m \u001b[0mbase\u001b[0m \u001b[1;33m=\u001b[0m \u001b[1;36m3\u001b[0m\u001b[1;33m)\u001b[0m\u001b[1;33m\u001b[0m\u001b[1;33m\u001b[0m\u001b[0m\n\u001b[0m",
      "\u001b[1;31mTypeError\u001b[0m: int() can't convert non-string with explicit base"
     ]
    }
   ],
   "source": [
    "def ToTri(n) :\n",
    "    res, k = '', 0\n",
    "    while True :\n",
    "        if 3 ** k > n :\n",
    "            for s in [1, 2] :\n",
    "                s*(3**(k-1))\n",
    "    else :\n",
    "        k += 1\n",
    "        continue"
   ]
  },
  {
   "cell_type": "code",
   "execution_count": 39,
   "metadata": {},
   "outputs": [
    {
     "name": "stdout",
     "output_type": "stream",
     "text": [
      "8\n"
     ]
    },
    {
     "data": {
      "text/plain": [
       "'100000000'"
      ]
     },
     "execution_count": 39,
     "metadata": {},
     "output_type": "execute_result"
    }
   ],
   "source": [
    "def ToTri(n) :\n",
    "    res, k, ret = '', 0, ''\n",
    "    while n != 0 :\n",
    "        if 3 ** k > n :\n",
    "            res = str(k-1) + res\n",
    "            n = n - (3**(k-1))\n",
    "            k = 0\n",
    "        else :\n",
    "            k += 1\n",
    "    print(res)\n",
    "    for ke in range(0, max(map(int, list(res)))+1) :\n",
    "        ret = str(res.count(str(ke))) + ret\n",
    "    return ret\n",
    "ToTri(6561)"
   ]
  },
  {
   "cell_type": "code",
   "execution_count": 22,
   "metadata": {},
   "outputs": [
    {
     "data": {
      "text/plain": [
       "['4', '2', '2', '0']"
      ]
     },
     "execution_count": 22,
     "metadata": {},
     "output_type": "execute_result"
    }
   ],
   "source": [
    "res = '4220'\n",
    "list(res)"
   ]
  },
  {
   "cell_type": "code",
   "execution_count": 30,
   "metadata": {},
   "outputs": [
    {
     "data": {
      "text/plain": [
       "6561"
      ]
     },
     "execution_count": 30,
     "metadata": {},
     "output_type": "execute_result"
    }
   ],
   "source": [
    "3**8"
   ]
  },
  {
   "cell_type": "code",
   "execution_count": null,
   "metadata": {},
   "outputs": [],
   "source": []
  }
 ],
 "metadata": {
  "kernelspec": {
   "display_name": "Python 3",
   "language": "python",
   "name": "python3"
  },
  "language_info": {
   "codemirror_mode": {
    "name": "ipython",
    "version": 3
   },
   "file_extension": ".py",
   "mimetype": "text/x-python",
   "name": "python",
   "nbconvert_exporter": "python",
   "pygments_lexer": "ipython3",
   "version": "3.7.3"
  }
 },
 "nbformat": 4,
 "nbformat_minor": 2
}
