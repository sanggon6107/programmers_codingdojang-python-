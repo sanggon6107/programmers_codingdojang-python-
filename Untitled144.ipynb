{
 "cells": [
  {
   "cell_type": "code",
   "execution_count": 91,
   "metadata": {},
   "outputs": [
    {
     "name": "stdout",
     "output_type": "stream",
     "text": [
      "[2] [6, 7]\n",
      "6\n"
     ]
    }
   ],
   "source": [
    "def solution(n, lost, reserve):\n",
    "    count = n-len(lost)\n",
    "    ten_reserve = set(reserve)\n",
    "    ten_lost = set(lost)\n",
    "    reserve = sorted(list(set(reserve)-ten_lost))\n",
    "    lost = sorted(list(set(lost)-ten_reserve))\n",
    "    count += (len(ten_reserve)-len(reserve))\n",
    "#    for pre in reserve :\n",
    "#        if pre in lost :\n",
    "#            lost.remove(pre)\n",
    "#            reserve.remove(pre)\n",
    "#            count += 1\n",
    "    print(lost, reserve)\n",
    "    while len(reserve) != 0 :\n",
    "        popData = reserve.pop(0)\n",
    "#        if popData in lost : \n",
    "#            lost.remove(popData)\n",
    "#            count += 1\n",
    "#            continue\n",
    "        if  popData-1 in lost :\n",
    "            lost.remove(popData-1)\n",
    "            count +=1\n",
    "        elif popData+1 in lost :\n",
    "            lost.remove(popData+1)\n",
    "            count+=1\n",
    "    return count"
   ]
  },
  {
   "cell_type": "code",
   "execution_count": 27,
   "metadata": {},
   "outputs": [
    {
     "name": "stdout",
     "output_type": "stream",
     "text": [
      "[[2, 4], [1, 3, 5], 0]\n"
     ]
    }
   ],
   "source": [
    "\n",
    "a = [2, 4]\n",
    "b = [1, 3, 5]\n",
    "queue = [[lost, reserve, 0]]\n",
    "print(queue)\n",
    "\n",
    "bfs -> -, + 순차적으로 탐색\n",
    "\n",
    "while len(queue) != 0 :\n",
    "    \n",
    "    \n",
    "    # 탐색 끝난 뒤  현재 max값과 비교"
   ]
  },
  {
   "cell_type": "code",
   "execution_count": 49,
   "metadata": {},
   "outputs": [
    {
     "name": "stdout",
     "output_type": "stream",
     "text": [
      "3 4\n",
      "3 2\n",
      "queue :  [[[2], [], 1], [[4], [], 1]]\n"
     ]
    },
    {
     "data": {
      "text/plain": [
       "4"
      ]
     },
     "execution_count": 49,
     "metadata": {},
     "output_type": "execute_result"
    }
   ],
   "source": [
    "from copy import deepcopy\n",
    "\n",
    "def solution(n, lost, reserve):\n",
    "    queue = [[lost, reserve, 0]]\n",
    "    maxReserve = 0\n",
    "    while len(queue) != 0 :\n",
    "        popData = queue.pop(0)\n",
    "        if len(popData[0]) == 0 or len(popData[1]) == 0 :\n",
    "            continue\n",
    "        if (not popData[1][0]+1 in popData[0]) and not (popData[1][0]-1 in popData[0]) :\n",
    "            copyData = deepcopy(popData)\n",
    "            copyData.remove(copyData[1][0])\n",
    "            queue.append(copyData)\n",
    "            continue\n",
    "        for cond in ['+', '-'] :\n",
    "            copyData = deepcopy(popData)\n",
    "            if eval(str(copyData[1][0])+cond+'1') in copyData[0] :\n",
    "                print(copyData[1][0], eval(str(copyData[1][0])+cond+'1'))\n",
    "                copyData[0].remove(eval(str(copyData[1][0])+cond+'1'))\n",
    "                copyData[1].remove(copyData[1][0])\n",
    "                copyData[2] +=1\n",
    "                queue.append(copyData)\n",
    "                if copyData[2] > maxReserve : \n",
    "                    maxReserve = copyData[2]\n",
    "        print(\"queue : \", queue)\n",
    "    return n-len(lost)+maxReserve\n",
    "\n",
    "a = [2, 4]\n",
    "b = [3]\n",
    "solution(5, a, b)"
   ]
  },
  {
   "cell_type": "code",
   "execution_count": 51,
   "metadata": {},
   "outputs": [
    {
     "data": {
      "text/plain": [
       "4"
      ]
     },
     "execution_count": 51,
     "metadata": {},
     "output_type": "execute_result"
    }
   ],
   "source": [
    "from copy import deepcopy\n",
    "\n",
    "def solution(n, lost, reserve):\n",
    "    queue = [[lost, sorted(list(set(reserve)-set(lost))), 0]]\n",
    "    maxReserve = 0\n",
    "    while len(queue) != 0 :\n",
    "        popData = queue.pop(0)\n",
    "        if len(popData[0]) == 0 or len(popData[1]) == 0 :\n",
    "            continue\n",
    "        if (not popData[1][0]+1 in popData[0]) and not (popData[1][0]-1 in popData[0]) :\n",
    "            copyData = deepcopy(popData)\n",
    "            copyData.remove(copyData[1][0])\n",
    "            queue.append(copyData)\n",
    "            continue\n",
    "        for cond in ['+', '-'] :\n",
    "            copyData = deepcopy(popData)\n",
    "            if eval(str(copyData[1][0])+cond+'1') in copyData[0] :\n",
    "                copyData[0].remove(eval(str(copyData[1][0])+cond+'1'))\n",
    "                copyData[1].remove(copyData[1][0])\n",
    "                copyData[2] +=1\n",
    "                queue.append(copyData)\n",
    "                if copyData[2] > maxReserve : \n",
    "                    maxReserve = copyData[2]\n",
    "    return n-len(lost)+maxReserve\n",
    "\n",
    "a = [2, 4]\n",
    "b = [3]\n",
    "solution(5, a, b)"
   ]
  },
  {
   "cell_type": "code",
   "execution_count": null,
   "metadata": {},
   "outputs": [],
   "source": [
    "def solution(n, lost, reserve):\n",
    "    answer = 0\n",
    "    return answer\n"
   ]
  }
 ],
 "metadata": {
  "kernelspec": {
   "display_name": "Python 3",
   "language": "python",
   "name": "python3"
  },
  "language_info": {
   "codemirror_mode": {
    "name": "ipython",
    "version": 3
   },
   "file_extension": ".py",
   "mimetype": "text/x-python",
   "name": "python",
   "nbconvert_exporter": "python",
   "pygments_lexer": "ipython3",
   "version": "3.7.3"
  }
 },
 "nbformat": 4,
 "nbformat_minor": 2
}
