{
 "cells": [
  {
   "cell_type": "code",
   "execution_count": 27,
   "metadata": {},
   "outputs": [
    {
     "name": "stdout",
     "output_type": "stream",
     "text": [
      "--------------------------------------------------TEST CASE--------------------------------------------------\n",
      "solution1 (45)\n",
      "2 25\n",
      "20 25\n",
      "solution1(45) :  True\n",
      "solution1 (46)\n",
      "2 116\n",
      "21 16\n",
      "211 6\n",
      "solution1(46) :  False\n",
      "solution1 (297)\n",
      "8 8209\n",
      "88 209\n",
      "solution1(297) :  True\n",
      "solution1(1) :  True\n",
      "solution1 (4)\n",
      "1 6\n",
      "solution1(4) :  False\n",
      "solution1 (3213)\n",
      "1 323369\n",
      "10 323369\n",
      "103 23369\n",
      "1032 3369\n",
      "10323 369\n",
      "103233 69\n",
      "1032336 9\n",
      "solution1(3213) :  False\n",
      "solution1 (100000)\n",
      "1 0\n",
      "10 0\n",
      "100 0\n",
      "1000 0\n",
      "10000 0\n",
      "100000 0\n",
      "solution1(100000) :  True\n",
      "TRUE\n",
      "0\n"
     ]
    }
   ],
   "source": [
    "def solution1(n) :\n",
    "    if n == 1 : return True\n",
    "    print(\"solution1 (%d)\" %n)\n",
    "    nN = str((int(n))**2)\n",
    "    for slicingPosition in range(0, len(nN)-1) :\n",
    "        print(int(nN[:slicingPosition+1]), int(nN[slicingPosition+1 :]))\n",
    "        if int(nN[:slicingPosition+1]) + int(nN[slicingPosition+1 :]) == n :\n",
    "            return True\n",
    "    return False\n",
    "\n",
    "def solution2(n) :\n",
    "    strN = str(n)\n",
    "    if len(strN) == 4 and (not strN[0] == strN[1] == strN[2] == strN[3]) :\n",
    "        print(\"TRUE\")\n",
    "    else : print(False)\n",
    "    \n",
    "    return 0\n",
    "\n",
    "\n",
    "\n",
    "if __name__ == \"__main__\" :\n",
    "    print(\"-\"*50+\"TEST CASE\"+\"-\"*50)\n",
    "    print(\"solution1(45) : \", solution1(45))\n",
    "    print(\"solution1(46) : \", solution1(46))\n",
    "    print(\"solution1(297) : \", solution1(297))\n",
    "    print(\"solution1(1) : \", solution1(1))\n",
    "    print(\"solution1(4) : \", solution1(4))\n",
    "    print(\"solution1(3213) : \", solution1(3213))\n",
    "    print(\"solution1(100000) : \", solution1(100000))\n",
    "    \n",
    "    print(solution2(1010))"
   ]
  },
  {
   "cell_type": "code",
   "execution_count": 1,
   "metadata": {},
   "outputs": [
    {
     "data": {
      "text/plain": [
       "88209"
      ]
     },
     "execution_count": 1,
     "metadata": {},
     "output_type": "execute_result"
    }
   ],
   "source": [
    "297*297"
   ]
  },
  {
   "cell_type": "code",
   "execution_count": null,
   "metadata": {},
   "outputs": [],
   "source": []
  }
 ],
 "metadata": {
  "kernelspec": {
   "display_name": "Python 3",
   "language": "python",
   "name": "python3"
  },
  "language_info": {
   "codemirror_mode": {
    "name": "ipython",
    "version": 3
   },
   "file_extension": ".py",
   "mimetype": "text/x-python",
   "name": "python",
   "nbconvert_exporter": "python",
   "pygments_lexer": "ipython3",
   "version": "3.7.4"
  }
 },
 "nbformat": 4,
 "nbformat_minor": 2
}
