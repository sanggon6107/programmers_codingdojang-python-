{
 "cells": [
  {
   "cell_type": "code",
   "execution_count": 4,
   "metadata": {},
   "outputs": [
    {
     "data": {
      "text/plain": [
       "[3]"
      ]
     },
     "execution_count": 4,
     "metadata": {},
     "output_type": "execute_result"
    }
   ],
   "source": [
    "from sympy import Symbol, solve\n",
    "import re\n",
    "\n",
    "x = sympy.Symbol('x')\n",
    "eq = 2*x - 6\n",
    "sympy.solve(eq)"
   ]
  },
  {
   "cell_type": "code",
   "execution_count": null,
   "metadata": {},
   "outputs": [
    {
     "name": "stdout",
     "output_type": "stream",
     "text": [
      "INPUT : 0 0\n",
      "INPUT : -1 -1\n",
      "INPUT : dd\n"
     ]
    }
   ],
   "source": [
    "from sympy import Symbol, solve\n",
    "import re\n",
    "\n",
    "inp_com, inp_LIST = re.compile(\"\\d*\\.?\\d+\"), []\n",
    "\n",
    "while True : \n",
    "    inp_LIST.append(inp_com.findall(input(\"INPUT : \")))\n",
    "    if inp_LIST[-1] == ['s', 's'] :\n",
    "        break\n",
    "\n",
    "print(inp_LIST)"
   ]
  },
  {
   "cell_type": "code",
   "execution_count": null,
   "metadata": {},
   "outputs": [],
   "source": []
  }
 ],
 "metadata": {
  "kernelspec": {
   "display_name": "Python 3",
   "language": "python",
   "name": "python3"
  },
  "language_info": {
   "codemirror_mode": {
    "name": "ipython",
    "version": 3
   },
   "file_extension": ".py",
   "mimetype": "text/x-python",
   "name": "python",
   "nbconvert_exporter": "python",
   "pygments_lexer": "ipython3",
   "version": "3.7.3"
  }
 },
 "nbformat": 4,
 "nbformat_minor": 2
}
