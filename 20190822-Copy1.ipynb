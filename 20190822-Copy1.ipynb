{
 "cells": [
  {
   "cell_type": "code",
   "execution_count": 1,
   "metadata": {},
   "outputs": [
    {
     "ename": "SystemExit",
     "evalue": "0",
     "output_type": "error",
     "traceback": [
      "An exception has occurred, use %tb to see the full traceback.\n",
      "\u001b[1;31mSystemExit\u001b[0m\u001b[1;31m:\u001b[0m 0\n"
     ]
    },
    {
     "name": "stderr",
     "output_type": "stream",
     "text": [
      "C:\\ProgramData\\Anaconda3\\lib\\site-packages\\IPython\\core\\interactiveshell.py:3304: UserWarning: To exit: use 'exit', 'quit', or Ctrl-D.\n",
      "  warn(\"To exit: use 'exit', 'quit', or Ctrl-D.\", stacklevel=1)\n"
     ]
    }
   ],
   "source": [
    "import sys\n",
    "import pyautogui\n",
    "from PyQt5.QtWidgets import *\n",
    "from PyQt5.QtGui import QPixmap\n",
    "\n",
    "\n",
    "\n",
    "class MyApp(QWidget):\n",
    "\n",
    "    def __init__(self):\n",
    "        super().__init__()\n",
    "\n",
    "        self.open_btn = QPushButton('Open Image')\n",
    "        self.label = QLabel()\n",
    "        self.x_le = QLineEdit()\n",
    "        self.y_le = QLineEdit()\n",
    "        self.n_le = QLineEdit()\n",
    "        self.t_le = QLineEdit()\n",
    "        self.z_le = QLineEdit(list(map(int, self.t_lee[1:4]))\n",
    "        self.e_le = QlineEdit()\n",
    "\n",
    "        self.click_btn = QPushButton('Click')\n",
    "        self.fname = ''\n",
    "        self.initUI()\n",
    "\n",
    "    def initUI(self):\n",
    "\n",
    "        hbox = QHBoxLayout()\n",
    "        hbox.addStretch(1)\n",
    "        hbox.addWidget(self.label)\n",
    "        hbox.addStretch(1)\n",
    "\n",
    "        hbox2 = QHBoxLayout()\n",
    "        hbox2.addWidget(QLabel('x: '))\n",
    "        hbox2.addWidget(self.x_le)\n",
    "        hbox2.addWidget(QLabel('y: '))\n",
    "        hbox2.addWidget(self.y_le)\n",
    "\n",
    "        hbox3 = QHBoxLayout()\n",
    "        hbox3.addWidget(QLabel('횟수: '))\n",
    "        hbox3.addWidget(self.n_le)\n",
    "        hbox3.addWidget(QLabel('딜레이: '))\n",
    "        hbox3.addWidget(self.t_le)\n",
    "\n",
    "        vbox = QVBoxLayout()\n",
    "        vbox.addWidget(self.open_btn)\n",
    "        vbox.addLayout(hbox)\n",
    "        vbox.addLayout(hbox2)\n",
    "        vbox.addLayout(hbox3)\n",
    "        vbox.addWidget(self.click_btn)\n",
    "        self.setLayout(vbox)\n",
    "\n",
    "        self.open_btn.clicked.connect(self.show_dialog)\n",
    "        self.click_btn.clicked.connect(self.click_btn_clicked)\n",
    "\n",
    "        self.setWindowTitle('Image')\n",
    "        self.setGeometry(300, 300, 300, 300)\n",
    "        self.show()\n",
    "\n",
    "    def show_dialog(self):#filedialog 함수. filedialog의 객체를 fname에 선언하면, getopenfilename으로 파일을 받아 리스트 자료형으로 돌려준다.\n",
    "\n",
    "        fname = QFileDialog.getOpenFileName(self, 'Open file', './')#filedialog의 객체 선언, 메서드\n",
    "\n",
    "        if fname[0]:\n",
    "            pixmap = QPixmap(fname[0])#객체 pixmap에 QPixmap 호출. fname[0]에 들어가있는 이미지 파일을 QLabel로서 보여주기 위함. self.label(객체)에 QLabel이 호출되어 있음.\n",
    "            self.label.setPixmap(pixmap.scaledToWidth(pixmap.width()*1.1))#pixmap안에 들어있는 fname[0]의 이미지를 self.label에 설정.(by setPixmap)\n",
    "            self.fname = fname[0]#객체 fname의 0번째 리스트 요소에 저장된 이미지 파일을 self.fname에 저장하여 다른 메서드에서도 사용 가능하도록 함.\n",
    "\n",
    "    def click_btn_clicked(self):\n",
    "\n",
    "        n = int(self.n_le.text())\n",
    "        t = float(self.t_le.text())\n",
    "\n",
    "        if self.x_le.text() and self.y_le.text():\n",
    "            x_pos = int(self.x_le.text())\n",
    "            y_pos = int(self.y_le.text())\n",
    "            pyautogui.click(x_pos, y_pos, clicks=n, interval=t)\n",
    "        elif self.fname:\n",
    "            center = pyautogui.locateCenterOnScreen(self.fname)\n",
    "            pyautogui.click(center, clicks=n, interval=t)\n",
    "\n",
    "\n",
    "if __name__ == '__main__':\n",
    "    app = QApplication(sys.argv)\n",
    "    ex = MyApp()\n",
    "    sys.exit(app.exec_())"
   ]
  },
  {
   "cell_type": "code",
   "execution_count": null,
   "metadata": {},
   "outputs": [],
   "source": []
  }
 ],
 "metadata": {
  "kernelspec": {
   "display_name": "Python 3",
   "language": "python",
   "name": "python3"
  },
  "language_info": {
   "codemirror_mode": {
    "name": "ipython",
    "version": 3
   },
   "file_extension": ".py",
   "mimetype": "text/x-python",
   "name": "python",
   "nbconvert_exporter": "python",
   "pygments_lexer": "ipython3",
   "version": "3.7.4"
  }
 },
 "nbformat": 4,
 "nbformat_minor": 2
}
