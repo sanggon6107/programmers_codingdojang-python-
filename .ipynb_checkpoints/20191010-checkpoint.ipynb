{
 "cells": [
  {
   "cell_type": "code",
   "execution_count": 20,
   "metadata": {},
   "outputs": [
    {
     "name": "stdout",
     "output_type": "stream",
     "text": [
      "21\n"
     ]
    }
   ],
   "source": [
    "count = 0\n",
    "for numb in range(100, 1000) :\n",
    "    if list(str(numb * int(\"\".join(reversed(list(str(numb))))))) == sorted(list(str(numb * int(\"\".join(reversed(list(str(numb)))))))) :\n",
    "        count += 1\n",
    "print(count)"
   ]
  },
  {
   "cell_type": "code",
   "execution_count": 21,
   "metadata": {},
   "outputs": [
    {
     "data": {
      "text/plain": [
       "['3', '3', '4', '8', '9']"
      ]
     },
     "execution_count": 21,
     "metadata": {},
     "output_type": "execute_result"
    }
   ],
   "source": [
    "numb = 123\n",
    "sorted(list(str(numb * int(\"\".join(reversed(list(str(numb))))))))"
   ]
  },
  {
   "cell_type": "code",
   "execution_count": 27,
   "metadata": {},
   "outputs": [
    {
     "name": "stdout",
     "output_type": "stream",
     "text": [
      "[1, 2, 2, 4, 5, 6, 7, 8, 8, 34, 34, 45]\n",
      "[1, 0, 2, 1, 1, 1, 1, 0, 26, 0, 11]\n"
     ]
    },
    {
     "data": {
      "text/plain": [
       "10"
      ]
     },
     "execution_count": 27,
     "metadata": {},
     "output_type": "execute_result"
    }
   ],
   "source": [
    "#사용자 입력으로 리스트 개수 설정, 리스트 생성\n",
    "s = [1, 2, 34,5 , 2]\n",
    "k = [7, 8,8, 45, 34 , 4, 6]\n",
    "print(sorted(s+k))\n",
    "sa = []\n",
    "for i in range(0, len(s+k)-1) :\n",
    "    sa.append(sorted(s+k)[i+1]-sorted(s+k)[i])\n",
    "print(sa)"
   ]
  },
  {
   "cell_type": "code",
   "execution_count": 28,
   "metadata": {},
   "outputs": [
    {
     "name": "stdout",
     "output_type": "stream",
     "text": [
      "[20, 24]\n"
     ]
    }
   ],
   "source": [
    "def f1(arr1):\n",
    "    result = abs(max(arr1) - min(arr1))\n",
    "    return result\n",
    "\n",
    "list_1 = [4, 10, 15, 24, 26]\n",
    "list_2 = [0, 9, 12, 20]\n",
    "list_3 = [5, 18, 22, 30]\n",
    "\n",
    "result2 = []\n",
    "for i1 in list_1:\n",
    "    for i2 in list_2:\n",
    "        for i3 in list_3:\n",
    "            result2.append([i1, i2, i3])\n",
    "result3 = result2[0]\n",
    "for i1 in range(1, len(result2)):\n",
    "    if f1(result3) > f1(result2[i1]):\n",
    "        result3 = result2[i1]\n",
    "print([min(result3), max(result3)])"
   ]
  },
  {
   "cell_type": "code",
   "execution_count": 30,
   "metadata": {},
   "outputs": [
    {
     "name": "stdout",
     "output_type": "stream",
     "text": [
      "input : 12\n",
      "2 자리수\n"
     ]
    }
   ],
   "source": [
    "print(len(input(\"input : \")), \"자리수\")"
   ]
  },
  {
   "cell_type": "code",
   "execution_count": 61,
   "metadata": {},
   "outputs": [
    {
     "name": "stdout",
     "output_type": "stream",
     "text": [
      "input : qqq\n",
      "cj\n",
      "rkx\n",
      "rkx\n",
      "q3\n"
     ]
    }
   ],
   "source": [
    "inp, count, result = input(\"input : \"), 0, []\n",
    "for k in range(0, len(inp)) :\n",
    "    if inp[k] == inp[k-1] and k != 0 :\n",
    "        count += 1\n",
    "    elif k == 0 :\n",
    "        result.append(str(inp[k]))\n",
    "        count = 1\n",
    "    elif inp[k] != inp[k-1] :\n",
    "        result.append(str(count))\n",
    "        result.append(str(inp[k]))\n",
    "        count = 1\n",
    "result.append(str(count))\n",
    "print(\"\".join(result))"
   ]
  },
  {
   "cell_type": "code",
   "execution_count": 66,
   "metadata": {},
   "outputs": [
    {
     "name": "stdout",
     "output_type": "stream",
     "text": [
      "input : 25\n",
      "6\n"
     ]
    }
   ],
   "source": [
    "from math import factorial as fct\n",
    "inp, cou = str(fct(int(input(\"input : \")))), 0\n",
    "for k in range(1, len(inp)+1) :\n",
    "    if inp[-k] == '0' :\n",
    "        cou += 1\n",
    "    elif inp[-k] != 0 :\n",
    "        break\n",
    "print(cou)"
   ]
  },
  {
   "cell_type": "code",
   "execution_count": null,
   "metadata": {},
   "outputs": [],
   "source": []
  }
 ],
 "metadata": {
  "kernelspec": {
   "display_name": "Python 3",
   "language": "python",
   "name": "python3"
  },
  "language_info": {
   "codemirror_mode": {
    "name": "ipython",
    "version": 3
   },
   "file_extension": ".py",
   "mimetype": "text/x-python",
   "name": "python",
   "nbconvert_exporter": "python",
   "pygments_lexer": "ipython3",
   "version": "3.7.3"
  }
 },
 "nbformat": 4,
 "nbformat_minor": 2
}
