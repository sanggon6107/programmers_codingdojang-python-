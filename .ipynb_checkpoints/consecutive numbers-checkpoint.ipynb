{
 "cells": [
  {
   "cell_type": "code",
   "execution_count": 85,
   "metadata": {},
   "outputs": [
    {
     "name": "stdout",
     "output_type": "stream",
     "text": [
      "+1+2+3-4+5+6+78+9\n",
      "+1+2+34-5+67-8+9\n",
      "+1+23-4+5+6+78-9\n",
      "+1+23-4+56+7+8+9\n",
      "+12+3+4+5-6-7+89\n",
      "+12+3-4+5+67+8+9\n",
      "+12-3-4+5-6+7+89\n",
      "+123+4-5+67-89\n",
      "+123+45-67+8-9\n",
      "+123-4-5-6-7+8-9\n",
      "+123-45-67+89\n"
     ]
    }
   ],
   "source": [
    "def ToTri(n) :\n",
    "    if str(n) == '0' :\n",
    "        return list(map(int, list('0'*9)))\n",
    "    else :\n",
    "        res, k, ret = '', 0, ''\n",
    "        while n != 0 :\n",
    "            if 3 ** k > n :\n",
    "                res = str(k-1) + res\n",
    "                n = n - (3**(k-1))\n",
    "                k = 0\n",
    "            else :\n",
    "                k += 1\n",
    "        for ke in range(0, max(map(int, list(res)))+1) :\n",
    "            ret = str(res.count(str(ke))) + ret\n",
    "        return list(map(int, list(ret.rjust(9, '0'))))\n",
    "\n",
    "NUM_LIST, HUG_LIST = [str(i) for i in range(1, 10)], ['+', '-', '']\n",
    "\n",
    "def KIG(li, hug, result) :\n",
    "    sho = 0\n",
    "    while sho != 6561 :\n",
    "        for p in range(0, 9) :\n",
    "            result += hug[ToTri(sho)[p]]+li[p]\n",
    "        if eval(result) == 100 :\n",
    "            print(result)\n",
    "        sho += 1\n",
    "        result = ''\n",
    "KIG(NUM_LIST, HUG_LIST, '')"
   ]
  },
  {
   "cell_type": "code",
   "execution_count": 5,
   "metadata": {},
   "outputs": [
    {
     "ename": "TypeError",
     "evalue": "int() can't convert non-string with explicit base",
     "output_type": "error",
     "traceback": [
      "\u001b[1;31m---------------------------------------------------------------------------\u001b[0m",
      "\u001b[1;31mTypeError\u001b[0m                                 Traceback (most recent call last)",
      "\u001b[1;32m<ipython-input-5-7c74d0b0e706>\u001b[0m in \u001b[0;36m<module>\u001b[1;34m\u001b[0m\n\u001b[1;32m----> 1\u001b[1;33m \u001b[0mint\u001b[0m\u001b[1;33m(\u001b[0m\u001b[1;36m3\u001b[0m\u001b[1;33m**\u001b[0m\u001b[1;36m8\u001b[0m\u001b[1;33m,\u001b[0m \u001b[0mbase\u001b[0m \u001b[1;33m=\u001b[0m \u001b[1;36m3\u001b[0m\u001b[1;33m)\u001b[0m\u001b[1;33m\u001b[0m\u001b[1;33m\u001b[0m\u001b[0m\n\u001b[0m",
      "\u001b[1;31mTypeError\u001b[0m: int() can't convert non-string with explicit base"
     ]
    }
   ],
   "source": [
    "def ToTri(n) :\n",
    "    res, k = '', 0\n",
    "    while True :\n",
    "        if 3 ** k > n :\n",
    "            for s in [1, 2] :\n",
    "                s*(3**(k-1))\n",
    "    else :\n",
    "        k += 1\n",
    "        continue"
   ]
  },
  {
   "cell_type": "code",
   "execution_count": 77,
   "metadata": {},
   "outputs": [
    {
     "data": {
      "text/plain": [
       "[1, 0, 0, 0, 0, 0, 0, 0, 0]"
      ]
     },
     "execution_count": 77,
     "metadata": {},
     "output_type": "execute_result"
    }
   ],
   "source": [
    "def ToTri(n) :\n",
    "    if str(n) == '0' :\n",
    "        return list(map(int, list('0'*9)))\n",
    "    else :\n",
    "        res, k, ret = '', 0, ''\n",
    "        while n != 0 :\n",
    "            if 3 ** k > n :\n",
    "                res = str(k-1) + res\n",
    "                n = n - (3**(k-1))\n",
    "                k = 0\n",
    "            else :\n",
    "                k += 1\n",
    "        for ke in range(0, max(map(int, list(res)))+1) :\n",
    "            ret = str(res.count(str(ke))) + ret\n",
    "        return list(map(int, list(ret.rjust(9, '0'))))\n",
    "ToTri(6561)"
   ]
  },
  {
   "cell_type": "code",
   "execution_count": 84,
   "metadata": {
    "scrolled": false
   },
   "outputs": [
    {
     "name": "stdout",
     "output_type": "stream",
     "text": [
      "1->2->4->8->16->32->64->128->256->652->1304->2608->5216->6215->12430->24860->49720->9724->19448->38896->77792->27797->55594->45595->91190->1199->9191->18382->28381->56762->26765->53530->3535->7070->77\n",
      "1->2->4->8->16->61->122->244->488->976->679->1358->8351->16702->26701->53402->106804->213608->427216->627214->1254428->2508856->5017712->2017715->4035430->35434->45433->90866->181732->281731->563462->263465->526930->26935->53870->3875->7750->757\n"
     ]
    }
   ],
   "source": [
    "def _progress(num: int):  # num에 대해 2배, 리버스 계산 튜플 반환\n",
    "    reversed_num = 1\n",
    "    if num >= 10:\n",
    "        strnum = str(num)\n",
    "        strnum = strnum[-1] + strnum[1:-1] + strnum[0]\n",
    "        reversed_num = int(strnum)\n",
    "    return num * 2, reversed_num\n",
    "\n",
    "\n",
    "def _find_routes(target: int):\n",
    "    routes = {1: \"\"}\n",
    "    while target not in routes:  # 목표 정수가 routes에 없을 경우\n",
    "        tmpdic = {}\n",
    "        for k in routes:  # routes 내 키(정수)에 대해 2배, 리버스 수행\n",
    "            dbl, swp = _progress(k)\n",
    "            if dbl not in routes and dbl not in tmpdic:\n",
    "                tmpdic[dbl] = routes[k] + \"D\"\n",
    "            if swp not in routes and swp not in tmpdic:\n",
    "                tmpdic[swp] = routes[k] + \"R\"\n",
    "        routes.update(tmpdic)  # 중복 키를 제외한 사전을 추가하여 routes 갱신\n",
    "    return routes[target]\n",
    "\n",
    "\n",
    "def get_routes(target):  # 1 -> num까지 도달하는 과정 출력\n",
    "    routes = _find_routes(target)\n",
    "    result = [1]\n",
    "    for c in routes:\n",
    "        # 'D': 2배, 'R': 리버스\n",
    "        addval = result[-1] * 2 if c == \"D\" else _progress(result[-1])[1]\n",
    "        result.append(addval)\n",
    "    return \"->\".join(str(i) for i in result)\n",
    "\n",
    "\n",
    "def main():\n",
    "    result = get_routes(77)\n",
    "    print(result)\n",
    "    result = get_routes(757)\n",
    "    print(result)\n",
    "\n",
    "\n",
    "if __name__ == \"__main__\":\n",
    "    main()"
   ]
  },
  {
   "cell_type": "code",
   "execution_count": 87,
   "metadata": {},
   "outputs": [
    {
     "name": "stdout",
     "output_type": "stream",
     "text": [
      "6\n",
      "1 3 4 10 11 21\n",
      "2 5 9 12 20 22\n",
      "6 8 13 19 23 30\n",
      "7 14 18 24 29 31\n",
      "15 17 25 28 32 35\n",
      "16 26 27 33 34 36\n"
     ]
    }
   ],
   "source": [
    "n = int(input())\n",
    "C = sorted(((x, y) for x in range(n) for y in range(n)),\n",
    "           key=lambda z:(z[0]+z[1], z[1] if (z[0]+z[1])%2 else z[0]))\n",
    "L = [[0] * n for _ in range(n)]\n",
    "for i, (x, y) in enumerate(C, 1): L[x][y] = i\n",
    "for line in L: print(*line)"
   ]
  },
  {
   "cell_type": "code",
   "execution_count": 117,
   "metadata": {},
   "outputs": [
    {
     "name": "stdout",
     "output_type": "stream",
     "text": [
      "21\n"
     ]
    }
   ],
   "source": [
    "def zouka(num, cou) :\n",
    "    if num >= 1000 : \n",
    "        return print(cou)\n",
    "    s = \"\".join(list(reversed(list(str(num)))))\n",
    "    while s[0] == '0' :\n",
    "        s = s[1:]\n",
    "    su = eval(s+'*'+ str(num))\n",
    "    if \"\".join(sorted(list(str(su)))) == str(su) : # 증가수 판별\n",
    "        return zouka(num+1, cou+1)\n",
    "    else :\n",
    "        return zouka(num+1, cou)\n",
    "zouka(100, 0)"
   ]
  },
  {
   "cell_type": "code",
   "execution_count": 114,
   "metadata": {},
   "outputs": [
    {
     "ename": "SyntaxError",
     "evalue": "invalid token (<ipython-input-114-26b2adc291b2>, line 1)",
     "output_type": "error",
     "traceback": [
      "\u001b[1;36m  File \u001b[1;32m\"<ipython-input-114-26b2adc291b2>\"\u001b[1;36m, line \u001b[1;32m1\u001b[0m\n\u001b[1;33m    int(001)\u001b[0m\n\u001b[1;37m          ^\u001b[0m\n\u001b[1;31mSyntaxError\u001b[0m\u001b[1;31m:\u001b[0m invalid token\n"
     ]
    }
   ],
   "source": []
  },
  {
   "cell_type": "code",
   "execution_count": null,
   "metadata": {},
   "outputs": [],
   "source": []
  }
 ],
 "metadata": {
  "kernelspec": {
   "display_name": "Python 3",
   "language": "python",
   "name": "python3"
  },
  "language_info": {
   "codemirror_mode": {
    "name": "ipython",
    "version": 3
   },
   "file_extension": ".py",
   "mimetype": "text/x-python",
   "name": "python",
   "nbconvert_exporter": "python",
   "pygments_lexer": "ipython3",
   "version": "3.7.3"
  }
 },
 "nbformat": 4,
 "nbformat_minor": 2
}
