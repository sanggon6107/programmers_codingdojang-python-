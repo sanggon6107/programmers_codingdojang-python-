{
 "cells": [
  {
   "cell_type": "code",
   "execution_count": 32,
   "metadata": {},
   "outputs": [
    {
     "name": "stdout",
     "output_type": "stream",
     "text": [
      "================================================== 2019.07.15 ==================================================\n",
      "['fj13', 't1']\n",
      "['fj13', 't1']\n",
      "['fj13', 't1']\n",
      "String to List :  ['N', 'N', 'R', 'R', 'S', 'G', 'E', 'J', 'J', '1', '4', '2']\n"
     ]
    }
   ],
   "source": [
    "print(\"=\"*50, \"2019.07.15\", \"=\"*50)\n",
    "\n",
    "import re\n",
    "import numpy as np\n",
    "from copy import copy\n",
    "import pandas as pd\n",
    "\n",
    "#regular expression 모듈단위로 수행하기\n",
    "\n",
    "##모듈 단위가 아닌 기본 단위\n",
    "\n",
    "s = re.compile(\"[a-z]+[1-3]+\")\n",
    "p = s.findall(\"fj13i jji iojio 33 t1 iiii owjit 3ij ff\")\n",
    "\n",
    "if p :\n",
    "    print(p)\n",
    "\n",
    "else : \n",
    "    print(\"None.\")\n",
    "\n",
    "    \n",
    "## 모듈 단위로 수행하기\n",
    "\n",
    "hn = re.findall(\"\"\"[a-z]+  ####소문자+숫자\n",
    "[1-3]+\"\"\" , \"fj13i jji iojio 33 t1 iiii owjit 3ij ff\", re.VERBOSE)\n",
    "\n",
    "if hn :\n",
    "    print(hn)\n",
    "    \n",
    "else : \n",
    "    print(\"None.\")\n",
    "    \n",
    "kn = re.compile(\"\"\"[a-z]+\n",
    "[1-3]+\"\"\", re.VERBOSE)\n",
    "\n",
    "mkr = s.findall(\"fj13i jji iojio 33 t1 iiii owjit 3ij ff\")\n",
    "\n",
    "if p :\n",
    "    print(p)\n",
    "\n",
    "else : \n",
    "    print(\"None.\")\n",
    "    \n",
    "    \n",
    "nni=\"NNRRSGEJJ142\"\n",
    "sb = 0\n",
    "my = []\n",
    "\n",
    "while True :\n",
    "    if sb >=  len(nni) :\n",
    "        break\n",
    "        \n",
    "    my.append(nni[sb])\n",
    "    \n",
    "    sb += 1\n",
    "    continue\n",
    "\n",
    "print(\"String to List : \", my)"
   ]
  },
  {
   "cell_type": "code",
   "execution_count": null,
   "metadata": {},
   "outputs": [],
   "source": []
  }
 ],
 "metadata": {
  "kernelspec": {
   "display_name": "Python 3",
   "language": "python",
   "name": "python3"
  },
  "language_info": {
   "codemirror_mode": {
    "name": "ipython",
    "version": 3
   },
   "file_extension": ".py",
   "mimetype": "text/x-python",
   "name": "python",
   "nbconvert_exporter": "python",
   "pygments_lexer": "ipython3",
   "version": "3.7.3"
  }
 },
 "nbformat": 4,
 "nbformat_minor": 2
}
