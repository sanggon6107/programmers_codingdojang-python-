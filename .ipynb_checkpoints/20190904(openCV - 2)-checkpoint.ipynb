{
 "cells": [
  {
   "cell_type": "code",
   "execution_count": 1,
   "metadata": {},
   "outputs": [
    {
     "name": "stdout",
     "output_type": "stream",
     "text": [
      "================================================== 2019.09.04 ==================================================\n",
      "openCV 4 - 2\n",
      "SHOW\n",
      "DONE\n"
     ]
    }
   ],
   "source": [
    "print(\"=\"*50, \"2019.09.04\", \"=\"*50)\n",
    "\n",
    "print(\"openCV - 2\")\n",
    "\n",
    "import cv2\n",
    "\n",
    "img = cv2.imread(\"D:lenna.bmp\", cv2.IMREAD_COLOR)  #이미지 불러오기. 속성은 컬러\n",
    "\n",
    "if img is None :\n",
    "    print(\"Image load failed!\")\n",
    "\n",
    "cv2.imshow('image', img)\n",
    "\n",
    "\n",
    "print(\"SHOW\")\n",
    "\n",
    "cv2.waitKey()  # key시그널이 들어오면 이미지 창 닫음\n",
    "\n",
    "print(\"DONE\")"
   ]
  },
  {
   "cell_type": "code",
   "execution_count": null,
   "metadata": {},
   "outputs": [],
   "source": []
  }
 ],
 "metadata": {
  "kernelspec": {
   "display_name": "Python 3",
   "language": "python",
   "name": "python3"
  },
  "language_info": {
   "codemirror_mode": {
    "name": "ipython",
    "version": 3
   },
   "file_extension": ".py",
   "mimetype": "text/x-python",
   "name": "python",
   "nbconvert_exporter": "python",
   "pygments_lexer": "ipython3",
   "version": "3.7.3"
  }
 },
 "nbformat": 4,
 "nbformat_minor": 2
}
