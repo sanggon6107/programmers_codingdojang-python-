{
 "cells": [
  {
   "cell_type": "code",
   "execution_count": 21,
   "metadata": {},
   "outputs": [
    {
     "name": "stdout",
     "output_type": "stream",
     "text": [
      "input :26\n",
      "[[3, 23], [7, 19], [13, 13]]\n"
     ]
    }
   ],
   "source": [
    "i = int(input(\"input :\"))\n",
    "i_list = []   #소수 리스트 선언. i보다 작고 2 이상인 소수를 모두 이 리스트에 추가한다.\n",
    "for k in range(2, i) : #k를 range(2, i)의 범위에서 반복\n",
    "    k_list = [k%kk for kk in range(2, k)] #k는 소수인가?\n",
    "    if not 0 in k_list :\n",
    "        i_list.append(k)  #2이상 k미만의 수 중에서 나누어 떨어지는 수가 하나도 없다면 소수리스트에 추가한다.\n",
    "        \n",
    "result = []\n",
    "for m in i_list :\n",
    "    if i-m in i_list : # 합이 i가 되는 수가 있으면 result에 추가한다.\n",
    "        result.append([m, i-m])\n",
    "        i_list.remove(m)  #중복을 피하기 위해서 result에 추가된 요소는 삭제\n",
    "print(result)"
   ]
  },
  {
   "cell_type": "code",
   "execution_count": 39,
   "metadata": {},
   "outputs": [
    {
     "name": "stdout",
     "output_type": "stream",
     "text": [
      "input :18\n"
     ]
    },
    {
     "data": {
      "text/plain": [
       "[[1, 18], [2, 9], [3, 6], [6, 3], [9, 2], [18, 1]]"
      ]
     },
     "execution_count": 39,
     "metadata": {},
     "output_type": "execute_result"
    }
   ],
   "source": [
    "# DIV\n",
    "\n",
    "n = int(input(\"input :\"))\n",
    "result = []\n",
    "\n",
    "n_list = list(range(1, n+1))\n",
    "for k in n_list :\n",
    "    if int(n%k) == 0 :\n",
    "        result.append([k, int(n/k)])\n",
    "result"
   ]
  },
  {
   "cell_type": "code",
   "execution_count": 60,
   "metadata": {},
   "outputs": [
    {
     "name": "stdout",
     "output_type": "stream",
     "text": [
      "input : 900 1000\n",
      "174\n"
     ]
    }
   ],
   "source": [
    "# 3n+1 problem\n",
    "i, j = input(\"input : \").split(\" \")    #i, j를 입력으로 받음\n",
    "result = 0                             #최대 사이클 수를 result로 설정\n",
    "for k in range(int(i), int(j)+1) :\n",
    "    count = 1\n",
    "    while k != 1 :                     #사이클 수를 계산. i이상 j이하의 수 k가 짝수이면 2로 나누고, 홀수이면 3k+1로 갱신\n",
    "        if k%2 == 0 :\n",
    "            k = int(k/2)\n",
    "            count += 1\n",
    "        else :\n",
    "            k = int(3*k+1)\n",
    "            count += 1\n",
    "    if count > result :                #사이클 수(count)가 현재 최대치(result)를 넘으면 result에 최대치 갱신\n",
    "        result = count\n",
    "print(result)"
   ]
  },
  {
   "cell_type": "code",
   "execution_count": 64,
   "metadata": {},
   "outputs": [
    {
     "name": "stdout",
     "output_type": "stream",
     "text": [
      "input : fawe65fe41\n",
      "['a', 'e', 'e']\n"
     ]
    }
   ],
   "source": []
  },
  {
   "cell_type": "code",
   "execution_count": null,
   "metadata": {},
   "outputs": [],
   "source": []
  }
 ],
 "metadata": {
  "kernelspec": {
   "display_name": "Python 3",
   "language": "python",
   "name": "python3"
  },
  "language_info": {
   "codemirror_mode": {
    "name": "ipython",
    "version": 3
   },
   "file_extension": ".py",
   "mimetype": "text/x-python",
   "name": "python",
   "nbconvert_exporter": "python",
   "pygments_lexer": "ipython3",
   "version": "3.7.3"
  }
 },
 "nbformat": 4,
 "nbformat_minor": 2
}
