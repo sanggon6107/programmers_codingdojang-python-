{
 "cells": [
  {
   "cell_type": "code",
   "execution_count": null,
   "metadata": {},
   "outputs": [],
   "source": []
  },
  {
   "cell_type": "code",
   "execution_count": 30,
   "metadata": {
    "scrolled": true
   },
   "outputs": [
    {
     "name": "stdout",
     "output_type": "stream",
     "text": [
      "================================================== 2019.07.10 ==================================================\n",
      "number = 1000\n",
      "[15, 30, 45, 60, 75, 90, 105, 120, 135, 150, 165, 180, 195, 210, 225, 240, 255, 270, 285, 300, 315, 330, 345, 360, 375, 390, 405, 420, 435, 450, 465, 480, 495, 510, 525, 540, 555, 570, 585, 600, 615, 630, 645, 660, 675, 690, 705, 720, 735, 750, 765, 780, 795, 810, 825, 840, 855, 870, 885, 900, 915, 930, 945, 960, 975, 990]\n"
     ]
    }
   ],
   "source": [
    "print(\"=\"*50, \"2019.07.10\", \"=\"*50)\n",
    "\n",
    "import sys\n",
    "import numpy as np\n",
    "import pandas as pd\n",
    "\n",
    "\n",
    "file = open(\"D:FILE001.txt\", 'w')\n",
    "\n",
    "number = 1\n",
    "\n",
    "while True :\n",
    "    write_DATA1 = \"%s \" % number\n",
    "    file.write(write_DATA1)\n",
    "    \n",
    "    number += 1\n",
    "    \n",
    "    if COUNT%10 == 1 :\n",
    "        write_DATA02 = \"\\n\"\n",
    "        file.write(write_DATA02)\n",
    "        \n",
    "    if COUNT == 101 :\n",
    "        break\n",
    "        \n",
    "FILE_001.close()\n",
    "\n",
    "# script\n",
    "\n",
    "YU = input(\"number = \")\n",
    "tyi = int(YU)\n",
    "n = 1\n",
    "result = []\n",
    "\n",
    "while True:\n",
    "    if n > tyi :\n",
    "        break\n",
    "    \n",
    "    if n%3 == 0 and n%5 == 0 :\n",
    "        result.append(n) \n",
    "    \n",
    "    n += 1\n",
    "    \n",
    "    continue\n",
    "    \n",
    "print(result)\n",
    "\n",
    "\n"
   ]
  },
  {
   "cell_type": "code",
   "execution_count": null,
   "metadata": {},
   "outputs": [],
   "source": []
  }
 ],
 "metadata": {
  "kernelspec": {
   "display_name": "Python 3",
   "language": "python",
   "name": "python3"
  },
  "language_info": {
   "codemirror_mode": {
    "name": "ipython",
    "version": 3
   },
   "file_extension": ".py",
   "mimetype": "text/x-python",
   "name": "python",
   "nbconvert_exporter": "python",
   "pygments_lexer": "ipython3",
   "version": "3.7.3"
  }
 },
 "nbformat": 4,
 "nbformat_minor": 2
}
