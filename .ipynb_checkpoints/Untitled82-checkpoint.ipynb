{
 "cells": [
  {
   "cell_type": "code",
   "execution_count": 16,
   "metadata": {},
   "outputs": [
    {
     "name": "stdout",
     "output_type": "stream",
     "text": [
      "6\n"
     ]
    }
   ],
   "source": [
    "def seven(s) :\n",
    "    if s % 7 == 0 :\n",
    "        return True\n",
    "    if s % 10 == 7 :\n",
    "        return True\n",
    "    if 80 > s % 100 > 69 :\n",
    "        return True\n",
    "    if 800 > s % 1000 > 699 :\n",
    "        return True\n",
    "    return False\n",
    "\n",
    "def ping(k, i, n) :\n",
    "    if n == 1 :\n",
    "        return k\n",
    "    elif seven(k) == True :\n",
    "        return ping(k-i, -i, n-1)\n",
    "    elif seven(k) == False :\n",
    "        return ping(k+i, i, n-1)\n",
    "\n",
    "def pingpong(o) :\n",
    "    return ping(1, 1, o)\n",
    "\n",
    "print(pingpong())\n",
    "# 항 수 판별(메모리 할당 없이 재귀함수의 반복 횟수 파악)\n",
    "# 변수 할당을 사용하지 않은 방향 벡터 설정?\n",
    "# 재귀 함수의 깊이 한계 극복\n",
    "# string을 사용하지 않고 7 포함 수 판별"
   ]
  },
  {
   "cell_type": "code",
   "execution_count": 8,
   "metadata": {},
   "outputs": [
    {
     "name": "stdout",
     "output_type": "stream",
     "text": [
      "False\n",
      "False\n",
      "True\n",
      "True\n",
      "True\n",
      "True\n",
      "False\n",
      "False\n",
      "False\n"
     ]
    }
   ],
   "source": [
    "def seven(k) :\n",
    "    if k % 7 == 0 :\n",
    "        return True\n",
    "    if k % 10 == 7 :\n",
    "        return True\n",
    "    if 80 > k % 100 > 69 :\n",
    "        return True\n",
    "    if 800 > k % 1000 > 699 :\n",
    "        return True\n",
    "    return False"
   ]
  },
  {
   "cell_type": "code",
   "execution_count": null,
   "metadata": {},
   "outputs": [],
   "source": []
  }
 ],
 "metadata": {
  "kernelspec": {
   "display_name": "Python 3",
   "language": "python",
   "name": "python3"
  },
  "language_info": {
   "codemirror_mode": {
    "name": "ipython",
    "version": 3
   },
   "file_extension": ".py",
   "mimetype": "text/x-python",
   "name": "python",
   "nbconvert_exporter": "python",
   "pygments_lexer": "ipython3",
   "version": "3.7.3"
  }
 },
 "nbformat": 4,
 "nbformat_minor": 2
}
