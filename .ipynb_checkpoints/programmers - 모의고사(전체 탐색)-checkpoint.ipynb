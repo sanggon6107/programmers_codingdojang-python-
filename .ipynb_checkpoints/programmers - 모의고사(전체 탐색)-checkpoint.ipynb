{
 "cells": [
  {
   "cell_type": "code",
   "execution_count": 12,
   "metadata": {},
   "outputs": [
    {
     "data": {
      "text/plain": [
       "[1]"
      ]
     },
     "execution_count": 12,
     "metadata": {},
     "output_type": "execute_result"
    }
   ],
   "source": [
    "def solution(answers):\n",
    "    p1, p2, p3 = [1, 2, 3, 4, 5], [2, 1, 2, 3, 2, 4, 2, 5], [3, 3, 1, 1, 2, 2, 4, 4, 5, 5]\n",
    "    answer = []\n",
    "    countList = [[d[0] == d[1] for d in list(zip([p1[j%len(p1)] for j in range(0, len(answers))], answers))].count(True), \n",
    "                 [c[0] == c[1] for c in list(zip([p2[i%len(p2)] for i in range(0, len(answers))], answers))].count(True), \n",
    "                 [e[0] == e[1] for e in list(zip([p3[k%len(p3)] for k in range(0, len(answers))], answers))].count(True)]\n",
    "    countMax = max(countList)\n",
    "    for fin in range(0, 3) :\n",
    "        if countMax == countList[fin] :\n",
    "            answer.append(fin+1)\n",
    "    return sorted(answer)\n",
    "\n",
    "solution([1,2,3,4,5])"
   ]
  },
  {
   "cell_type": "code",
   "execution_count": 1,
   "metadata": {},
   "outputs": [
    {
     "name": "stdout",
     "output_type": "stream",
     "text": [
      "[1, 2, 3]\n"
     ]
    }
   ],
   "source": [
    "answers = [1,3,2,4,2]\n",
    "p1, p2, p3 = [1, 2, 3, 4, 5], [2, 1, 2, 3, 2, 4, 2, 5], [3, 3, 1, 1, 2, 2, 4, 4, 5, 5]\n",
    "p2_list = [p2[i%len(p2)] for i in range(0, len(answers))]\n",
    "answer = []\n",
    "\n",
    "p1_ans = [d[0] == d[1] for d in list(zip([p1[j%len(p1)] for j in range(0, len(answers))], answers))].count(True)\n",
    "p2_ans = [c[0] == c[1] for c in list(zip([p2[i%len(p2)] for i in range(0, len(answers))], answers))].count(True)\n",
    "p3_ans = [e[0] == e[1] for e in list(zip([p3[k%len(p3)] for k in range(0, len(answers))], answers))].count(True)\n",
    "ss = [p1_ans, p2_ans, p3_ans]\n",
    "\n",
    "for fin in range(0, 3) :\n",
    "    if max(ss) == ss[fin] :\n",
    "        answer.append(fin+1)\n",
    "print(sorted(answer))"
   ]
  },
  {
   "cell_type": "code",
   "execution_count": 4,
   "metadata": {},
   "outputs": [
    {
     "name": "stdout",
     "output_type": "stream",
     "text": [
      "[1, 2, 3, 4, 5, 6, 4, 5]\n"
     ]
    }
   ],
   "source": []
  },
  {
   "cell_type": "code",
   "execution_count": null,
   "metadata": {},
   "outputs": [],
   "source": []
  }
 ],
 "metadata": {
  "kernelspec": {
   "display_name": "Python 3",
   "language": "python",
   "name": "python3"
  },
  "language_info": {
   "codemirror_mode": {
    "name": "ipython",
    "version": 3
   },
   "file_extension": ".py",
   "mimetype": "text/x-python",
   "name": "python",
   "nbconvert_exporter": "python",
   "pygments_lexer": "ipython3",
   "version": "3.7.3"
  }
 },
 "nbformat": 4,
 "nbformat_minor": 2
}
