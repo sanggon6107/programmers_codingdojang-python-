{
 "cells": [
  {
   "cell_type": "code",
   "execution_count": 7,
   "metadata": {},
   "outputs": [
    {
     "name": "stdout",
     "output_type": "stream",
     "text": [
      "input :c910m6ia 1ho\n",
      "int : 91061\n",
      "str : cmia ho\n"
     ]
    }
   ],
   "source": [
    "# seperator\n",
    "\n",
    "import re\n",
    "\n",
    "num = re.compile(\"[0-9]\")\n",
    "n_list, n_not_list = [], []\n",
    "\n",
    "inp = input(\"input :\")\n",
    "for k in inp :\n",
    "    if num.match(k) == None :\n",
    "        n_not_list.append(k)\n",
    "    else :\n",
    "        n_list.append(k)\n",
    "print(\"int : %s\\nstr : %s\"%(\"\".join(n_list), \"\".join(n_not_list)))"
   ]
  },
  {
   "cell_type": "code",
   "execution_count": 46,
   "metadata": {},
   "outputs": [
    {
     "name": "stdout",
     "output_type": "stream",
     "text": [
      "in : 12\n",
      "the : 10\n",
      "Bolikango : 5\n",
      "a : 4\n",
      "of : 4\n",
      "and : 3\n",
      "his : 3\n",
      "to : 3\n",
      "Congo : 2\n",
      "Deputy : 2\n"
     ]
    }
   ],
   "source": [
    "import re\n",
    "file = open(\"D:word counter.txt\", 'r')\n",
    "read_data = file.readlines()\n",
    "com = re.compile(\"[a-zA-Z0-9]+\")\n",
    "so = sorted(com.findall(read_data[0]))\n",
    "result0, count = [], 1\n",
    "for da in range(0, len(so)) :\n",
    "    if so[da] != so[da-1] :\n",
    "        count = 1\n",
    "        result0.append([so[da], count])\n",
    "    elif so[da] == so[da-1] :\n",
    "        count += 1\n",
    "        result0[-1][1] = count\n",
    "result0.sort(key = lambda x:x[1], reverse = True)\n",
    "for k in range(0, 10) :\n",
    "    print(\"%s : %s\"%(result0[k][0], result0[k][1]))"
   ]
  },
  {
   "cell_type": "code",
   "execution_count": 54,
   "metadata": {},
   "outputs": [
    {
     "name": "stdout",
     "output_type": "stream",
     "text": [
      "input : 558\n",
      "[1, 2, 3, 6, 9, 18, 31, 62, 93, 186, 279, 558] \n",
      " 12\n"
     ]
    }
   ],
   "source": [
    "inp, li = int(input(\"input : \")), []\n",
    "for k in range(1, inp+1) :\n",
    "    if inp%k == 0 :\n",
    "        li.append(k)\n",
    "print(li, \"\\n\",len(li))"
   ]
  },
  {
   "cell_type": "code",
   "execution_count": 76,
   "metadata": {},
   "outputs": [
    {
     "data": {
      "text/plain": [
       "4000"
      ]
     },
     "execution_count": 76,
     "metadata": {},
     "output_type": "execute_result"
    }
   ],
   "source": [
    "# google\n",
    "\"\".join([str(i) for i in list(range(1, 10001))]).count(\"8\")"
   ]
  },
  {
   "cell_type": "code",
   "execution_count": 104,
   "metadata": {},
   "outputs": [
    {
     "name": "stdout",
     "output_type": "stream",
     "text": [
      "input :1-2+3\n",
      "['+', '-']\n",
      "['3', '2', '1']\n"
     ]
    }
   ],
   "source": [
    "import re\n",
    "inp = input(\"input :\")\n",
    "kigou, suuji = re.compile(\"\\W\"), re.compile(\"[0-9]+\")\n",
    "kigou_re, suuji_re = kigou.findall(inp), suuji.findall(inp)\n",
    "kigou_re.reverse(), suuji_re.reverse()\n",
    "print(kigou_re)\n",
    "print(suuji_re)"
   ]
  },
  {
   "cell_type": "code",
   "execution_count": 108,
   "metadata": {},
   "outputs": [
    {
     "name": "stdout",
     "output_type": "stream",
     "text": [
      "input :10\n"
     ]
    },
    {
     "data": {
      "text/plain": [
       "[0, 1, 1, 2, 3, 5, 8, 13, 21, 34]"
      ]
     },
     "execution_count": 108,
     "metadata": {},
     "output_type": "execute_result"
    }
   ],
   "source": [
    "inp = int(input(\"input :\"))\n",
    "result = [0, 1]\n",
    "for k in range(2, inp) :\n",
    "    result.append(result[k-2]+result[k-1])\n",
    "result"
   ]
  },
  {
   "cell_type": "code",
   "execution_count": 129,
   "metadata": {},
   "outputs": [
    {
     "name": "stdout",
     "output_type": "stream",
     "text": [
      "input : [1, 2, 3, 4, 5, 6, 7]\n",
      "짝수 : 3, 홀수 : 4\n"
     ]
    }
   ],
   "source": [
    "inp = eval(input(\"input : \"))\n",
    "even = len([k for k in inp if k % 2 == 0])\n",
    "print(\"짝수 : %d, 홀수 : %d\"%(even, len(inp)-even))"
   ]
  }
 ],
 "metadata": {
  "kernelspec": {
   "display_name": "Python 3",
   "language": "python",
   "name": "python3"
  },
  "language_info": {
   "codemirror_mode": {
    "name": "ipython",
    "version": 3
   },
   "file_extension": ".py",
   "mimetype": "text/x-python",
   "name": "python",
   "nbconvert_exporter": "python",
   "pygments_lexer": "ipython3",
   "version": "3.7.3"
  }
 },
 "nbformat": 4,
 "nbformat_minor": 2
}
