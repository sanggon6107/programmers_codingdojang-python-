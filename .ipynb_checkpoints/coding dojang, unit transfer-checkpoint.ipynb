{
 "cells": [
  {
   "cell_type": "code",
   "execution_count": 2,
   "metadata": {},
   "outputs": [
    {
     "name": "stdout",
     "output_type": "stream",
     "text": [
      "==============================Type 'QUIT' to exit.==============================\n",
      "INPUT : 768px\n",
      "CONVERSE INTO : inch\n",
      "8.0 inch\n",
      "==============================Type 'QUIT' to exit.==============================\n",
      "INPUT : 1024px\n",
      "CONVERSE INTO : pt\n",
      "768.0 pt\n",
      "==============================Type 'QUIT' to exit.==============================\n",
      "INPUT : QUIT\n"
     ]
    }
   ],
   "source": [
    "import re\n",
    "\n",
    "UNIT_DICTIONARY = ['mm', 'cm', 'inch', 'pt', 'dxa', 'emu']\n",
    "UNIT_RELA = ['(1/10)', '(1/(2.54))', '72', '20', '635', '1']\n",
    "\n",
    "while True : \n",
    "    print(\"=\"*30+\"Type \\'QUIT\\' to exit.\"+\"=\"*30)\n",
    "    inp = input(\"INPUT : \")\n",
    "        \n",
    "    if inp == 'QUIT' :\n",
    "        break\n",
    "        \n",
    "    else : \n",
    "        \n",
    "        TRANS_digits = re.compile(\"\\d+\")\n",
    "        TRANS_unit = re.compile(\"[a-zA-Z]+\")\n",
    "        \n",
    "        digits_BEFORE_TRANS = \"\".join(TRANS_digits.findall(inp))\n",
    "        unit_BEFORE_TRANS = \"\".join(TRANS_unit.findall(inp))\n",
    "        \n",
    "        if unit_BEFORE_TRANS == 'px' :\n",
    "            unit_BEFORE_TRANS = 'inch'\n",
    "            digits_BEFORE_TRANS = '('+digits_BEFORE_TRANS+')'+'*(1/96)'\n",
    "        \n",
    "        inp2nd = input(\"CONVERSE INTO : \")\n",
    "        \n",
    "        pxON = 0\n",
    "        if inp2nd == 'px' :\n",
    "            inp2nd = 'inch'\n",
    "            pxON = 1\n",
    "        \n",
    "        result = str(digits_BEFORE_TRANS)\n",
    "        \n",
    "        if UNIT_DICTIONARY.index(inp2nd) < UNIT_DICTIONARY.index(unit_BEFORE_TRANS) :\n",
    "            for i in range(1, UNIT_DICTIONARY.index(unit_BEFORE_TRANS)-UNIT_DICTIONARY.index(inp2nd)+1) :\n",
    "                result = '('+result+')'+'/' + UNIT_RELA[UNIT_DICTIONARY.index(unit_BEFORE_TRANS)-i]\n",
    "        else : \n",
    "            for k in range(UNIT_DICTIONARY.index(unit_BEFORE_TRANS), UNIT_DICTIONARY.index(inp2nd)) :\n",
    "                result += '*' + UNIT_RELA[k]\n",
    "        \n",
    "        if pxON == 1 :\n",
    "            result = '('+result+')'+'*96'\n",
    "            inp2nd = 'px'\n",
    "            pxON = 0\n",
    "            \n",
    "        print(eval(result), inp2nd)"
   ]
  },
  {
   "cell_type": "code",
   "execution_count": null,
   "metadata": {},
   "outputs": [],
   "source": []
  }
 ],
 "metadata": {
  "kernelspec": {
   "display_name": "Python 3",
   "language": "python",
   "name": "python3"
  },
  "language_info": {
   "codemirror_mode": {
    "name": "ipython",
    "version": 3
   },
   "file_extension": ".py",
   "mimetype": "text/x-python",
   "name": "python",
   "nbconvert_exporter": "python",
   "pygments_lexer": "ipython3",
   "version": "3.7.3"
  }
 },
 "nbformat": 4,
 "nbformat_minor": 2
}
