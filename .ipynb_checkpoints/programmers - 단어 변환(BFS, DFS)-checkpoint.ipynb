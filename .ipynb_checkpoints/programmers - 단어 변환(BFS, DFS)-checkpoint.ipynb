{
 "cells": [
  {
   "cell_type": "code",
   "execution_count": 2,
   "metadata": {},
   "outputs": [
    {
     "ename": "ImportError",
     "evalue": "cannot import name 'deque' from 'functools' (C:\\ProgramData\\Anaconda3\\lib\\functools.py)",
     "output_type": "error",
     "traceback": [
      "\u001b[1;31m---------------------------------------------------------------------------\u001b[0m",
      "\u001b[1;31mImportError\u001b[0m                               Traceback (most recent call last)",
      "\u001b[1;32m<ipython-input-2-d21e0b670145>\u001b[0m in \u001b[0;36m<module>\u001b[1;34m\u001b[0m\n\u001b[1;32m----> 1\u001b[1;33m \u001b[1;32mfrom\u001b[0m \u001b[0mfunctools\u001b[0m \u001b[1;32mimport\u001b[0m \u001b[0mdeque\u001b[0m\u001b[1;33m\u001b[0m\u001b[1;33m\u001b[0m\u001b[0m\n\u001b[0m",
      "\u001b[1;31mImportError\u001b[0m: cannot import name 'deque' from 'functools' (C:\\ProgramData\\Anaconda3\\lib\\functools.py)"
     ]
    }
   ],
   "source": [
    "2:13"
   ]
  },
  {
   "cell_type": "code",
   "execution_count": 27,
   "metadata": {
    "scrolled": false
   },
   "outputs": [
    {
     "data": {
      "text/plain": [
       "4"
      ]
     },
     "execution_count": 27,
     "metadata": {},
     "output_type": "execute_result"
    }
   ],
   "source": [
    "from collections import deque\n",
    "from copy import deepcopy\n",
    "\n",
    "def check(word1, word2) :\n",
    "    return list(map(lambda x : x[0] == x[1] , zip(list(word1), list(word2)))).count(False)\n",
    "\n",
    "def solution(begin, target, words):\n",
    "    visited = set([begin])\n",
    "    queue = deque([[begin, 0]])\n",
    "    while len(queue) != 0 :\n",
    "        popData = queue.popleft()\n",
    "        for comp in words :\n",
    "            copyData = deepcopy(popData)\n",
    "            if check(popData[0], comp) == 1 and not comp in visited :\n",
    "                if comp == target :\n",
    "                    return copyData[1]+1\n",
    "                queue.append([comp, copyData[1]+1])\n",
    "                visited.add(comp)\n",
    "    return 0\n",
    "\n",
    "solution(\"hit\", \"cog\", ['hot', 'dot', 'dog', 'lot', 'log', 'cog'])"
   ]
  },
  {
   "cell_type": "code",
   "execution_count": 11,
   "metadata": {},
   "outputs": [
    {
     "data": {
      "text/plain": [
       "1"
      ]
     },
     "execution_count": 11,
     "metadata": {},
     "output_type": "execute_result"
    }
   ],
   "source": [
    "a = 'abcdefg'\n",
    "b = 'hijklfn'\n",
    "list(map(lambda x : x[0] == x[1] , zip(list(a), list(b)))).count(True)"
   ]
  },
  {
   "cell_type": "code",
   "execution_count": 14,
   "metadata": {},
   "outputs": [
    {
     "data": {
      "text/plain": [
       "'begin'"
      ]
     },
     "execution_count": 14,
     "metadata": {},
     "output_type": "execute_result"
    }
   ],
   "source": [
    "begin = \"begin\"\n",
    "queue = deque(\n",
    "    [begin, 0])\n",
    "queue[0]"
   ]
  },
  {
   "cell_type": "code",
   "execution_count": null,
   "metadata": {},
   "outputs": [],
   "source": []
  }
 ],
 "metadata": {
  "kernelspec": {
   "display_name": "Python 3",
   "language": "python",
   "name": "python3"
  },
  "language_info": {
   "codemirror_mode": {
    "name": "ipython",
    "version": 3
   },
   "file_extension": ".py",
   "mimetype": "text/x-python",
   "name": "python",
   "nbconvert_exporter": "python",
   "pygments_lexer": "ipython3",
   "version": "3.7.3"
  }
 },
 "nbformat": 4,
 "nbformat_minor": 2
}
