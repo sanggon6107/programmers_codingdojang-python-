{
 "cells": [
  {
   "cell_type": "code",
   "execution_count": 54,
   "metadata": {},
   "outputs": [
    {
     "name": "stdout",
     "output_type": "stream",
     "text": [
      "N : 4\n",
      "INPUT : 92\n",
      "INPUT : 56\n",
      "INPUT : 47\n",
      "INPUT : 82\n",
      "(129, 148)\n"
     ]
    }
   ],
   "source": [
    "def inp() : # 사용자 입력\n",
    "    numb_p, w_list = int(input(\"N : \")), []\n",
    "    for i in range(numb_p) :\n",
    "        w_list.append(int(input(\"INPUT : \")))\n",
    "        w_list_1 = w_list[:int(len(w_list)/2)]\n",
    "        w_list_2 = w_list[int(len(w_list)/2):]\n",
    "\n",
    "    return numb_p, w_list_1, w_list_2\n",
    "\n",
    "def det_min(D_list) : #2차원 리스트에서 최소값과 그 인덱스 반환\n",
    "    res = [min(D_list[0]), 0, D_list[0].index(min(D_list[0]))]\n",
    "    for th in D_list :\n",
    "        qwer = min(th)\n",
    "        if qwer < res[0] : res = [qwer, D_list.index(th), th.index(qwer)]\n",
    "    return res\n",
    "\n",
    "'''\n",
    "mat구성의 abs함수에서 오차 발생\n",
    "sum(w_L_1)의 방향과 스텝 설정에서, abs로 인해 다른 방향으로 떨어질 가능성 있음\n",
    "'''\n",
    "\n",
    "def M_pr(N, w_L_1, w_L_2) :\n",
    "    ave = (sum(w_L_1)+sum(w_L_2))/2\n",
    "    w_L_1_D, w_L_2_D, mat, loc_min = sum(w_L_1)-ave, sum(w_L_2)-ave, [[0]*len(w_L_2) for i1 in w_L_1], float('inf')\n",
    "    #이상치(모든 요소의 합/2)와의 편차 선언, 최소값 초기화\n",
    "    \n",
    "    while True : #최소값을 찾을 떄 까지 반환\n",
    "        for pos in w_L_1 :\n",
    "            mat[w_L_1.index(pos)] = (list(map(lambda x : abs(pos -x -w_L_1_D), w_L_2))) \n",
    "        min_in_iter = det_min(mat)\n",
    "        if min_in_iter[0] < loc_min : #현재까지의 반복으로 구해진 최소값보다 이번 반복에 구해진 최소값이 더 작다면 :\n",
    "            tent = w_L_1[min_in_iter[1]]\n",
    "            w_L_1[min_in_iter[1]] = w_L_2[min_in_iter[2]]\n",
    "            w_L_2[min_in_iter[2]] = tent #둘을 교환한다\n",
    "            loc_min = min_in_iter[0] #최소값을 갱신한다\n",
    "        else :\n",
    "            return sum(w_L_1), sum(w_L_2)\n",
    "        # 이중 리스트 구조에서 최소값 인덱스 확인 후, 전회의 이터레이션에서 계산된 local minimum보다 '작은' 경우만 갱신. 작은 값 존재하지 않으면 현재 조합 반환\n",
    "    return ave, w_L_1_D, w_L_2_D\n",
    "\n",
    "q, w, e = inp()\n",
    "print(M_pr(q, w, e))"
   ]
  },
  {
   "cell_type": "code",
   "execution_count": 60,
   "metadata": {},
   "outputs": [
    {
     "name": "stdout",
     "output_type": "stream",
     "text": [
      "N : 4\n",
      "INPUT : 92\n",
      "INPUT : 56\n",
      "INPUT : 47\n",
      "INPUT : 82\n",
      "(138, 139)\n"
     ]
    }
   ],
   "source": [
    "def inp() : # 사용자 입력\n",
    "    numb_p, w_list = int(input(\"N : \")), []\n",
    "    for i in range(numb_p) :\n",
    "        w_list.append(int(input(\"INPUT : \")))\n",
    "        w_list_1 = w_list[:int(len(w_list)/2)]\n",
    "        w_list_2 = w_list[int(len(w_list)/2):]\n",
    "\n",
    "    return numb_p, w_list_1, w_list_2\n",
    "\n",
    "def det_min(D_list) : #2차원 리스트에서 최소값과 그 인덱스 반환\n",
    "    res = [min(D_list[0]), 0, D_list[0].index(min(D_list[0]))]\n",
    "    for th in D_list :\n",
    "        qwer = min(th)\n",
    "        if qwer < res[0] : res = [qwer, D_list.index(th), th.index(qwer)]\n",
    "    return res\n",
    "\n",
    "def M_pr(N, w_L_1, w_L_2) :\n",
    "    mat, loc_min = [[0]*len(w_L_2) for i1 in w_L_1], float('inf')\n",
    "    #mat은 (각 요소의 차)-(보정해야하는 양, 즉 이상치로부터의 편차). 이 값이 0에 가까우면 해당 인덱스를 이용하여 스왑\n",
    "    #loc_min은 현재 최소값 (초기화)\n",
    "    \n",
    "    while True : #최소값을 찾을 떄 까지 반환\n",
    "        ave = (sum(w_L_1)+sum(w_L_2))/2\n",
    "        w_L_1_D, w_L_2_D = sum(w_L_1)-ave, sum(w_L_2)-ave\n",
    "        for pos in w_L_1 :\n",
    "            mat[w_L_1.index(pos)] = (list(map(lambda x : abs(pos -x -w_L_1_D), w_L_2))) \n",
    "        min_in_iter = det_min(mat)\n",
    "        if min_in_iter[0] < loc_min : #현재까지의 반복으로 구해진 최소값보다 이번 반복에 구해진 최소값이 더 작다면 :\n",
    "            tent = w_L_1[min_in_iter[1]]\n",
    "            w_L_1[min_in_iter[1]] = w_L_2[min_in_iter[2]]\n",
    "            w_L_2[min_in_iter[2]] = tent #둘을 교환한다\n",
    "            loc_min = min_in_iter[0] #최소값을 갱신한다\n",
    "        else :\n",
    "            return sum(w_L_1), sum(w_L_2)\n",
    "        # 이중 리스트 구조에서 최소값 인덱스 확인 후, 전회의 이터레이션에서 계산된 local minimum보다 '작은' 경우만 갱신. 작은 값 존재하지 않으면 현재 조합 반환\n",
    "    return ave, w_L_1_D, w_L_2_D\n",
    "\n",
    "q, w, e = inp()\n",
    "print(M_pr(q, w, e))"
   ]
  },
  {
   "cell_type": "code",
   "execution_count": null,
   "metadata": {},
   "outputs": [],
   "source": []
  }
 ],
 "metadata": {
  "kernelspec": {
   "display_name": "Python 3",
   "language": "python",
   "name": "python3"
  },
  "language_info": {
   "codemirror_mode": {
    "name": "ipython",
    "version": 3
   },
   "file_extension": ".py",
   "mimetype": "text/x-python",
   "name": "python",
   "nbconvert_exporter": "python",
   "pygments_lexer": "ipython3",
   "version": "3.7.3"
  }
 },
 "nbformat": 4,
 "nbformat_minor": 2
}
