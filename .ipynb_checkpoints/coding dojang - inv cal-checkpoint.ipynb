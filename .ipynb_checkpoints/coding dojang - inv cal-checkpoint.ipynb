{
 "cells": [
  {
   "cell_type": "code",
   "execution_count": 60,
   "metadata": {
    "scrolled": true
   },
   "outputs": [
    {
     "name": "stdout",
     "output_type": "stream",
     "text": [
      "[[1.0, 0.0, 0.0, 0.0], [0.0, 1.0, 0.0, 0.0], [0.0, 0.0, 1.0, 0.0], [0.0, 0.0, 0.0, 1.0]]\n",
      "[[1, 0, 0], [0, 1, 0], [0, 0, 1]]\n",
      "[[1.0, 0.0, 0.0], [0.0, 1.0, 0.0], [0.0, 0.0, 1.0]]\n",
      "[[1.0, 0.0, 0.0, 0.0], [0.0, 1.0, 0.0, 0.0], [0.0, 0.0, 1.0, 0.0], [-0.0, -0.0, -0.0, 1.0]]\n"
     ]
    }
   ],
   "source": [
    "from copy import deepcopy\n",
    "\n",
    "def bk(mat__, c, d, e) :  # [c, d, e] : [col, col, factor]\n",
    "                          # d-c*e \n",
    "    for re in range(0, len(mat__)) :\n",
    "        mat__[d][re] -= mat__[c][re]*e\n",
    "    return deepcopy(mat__)\n",
    "\n",
    "def ik(mat_, a, b) :\n",
    "    tem = []\n",
    "    tem = mat_[b]\n",
    "    mat_[b] = mat_[a]\n",
    "    mat_[a] = tem\n",
    "    return deepcopy(mat_)\n",
    "\n",
    "def one(mat, result) :\n",
    "    for c in range(0, len(mat)) :\n",
    "        for cc in range(c, len(mat)) :\n",
    "            if mat[cc][c] != 0 :\n",
    "                mat = ik(mat, c, cc)\n",
    "                break\n",
    "    for ch in range(0, len(mat)) :\n",
    "        if mat[ch][ch] == 0 :\n",
    "            for tr in range(0, len(mat)) :\n",
    "                if mat[tr][ch] != 0 and mat[ch][tr] != 0:\n",
    "                    mat = ik(mat, tr, ch)\n",
    "                    break\n",
    "    for ne in range(0, len(mat)) :\n",
    "        \n",
    "        if mat[ne][ne] != 1 : \n",
    "            for di in range(0, len(mat)) :\n",
    "                mat[ne][di] /= mat[ne][ne]\n",
    "        \n",
    "        for ne_ in range(0, len(mat)) :\n",
    "            if mat[ne_][ne] != 0 and ne != ne_ :\n",
    "                mat = bk(mat, ne, ne_, mat[ne_][ne])\n",
    "\n",
    "    return mat, result\n",
    "\n",
    "def sol() :\n",
    "    inp_mat = []\n",
    "    while True :\n",
    "        inp = list(map(int, input(\"INPUT :\").split()))\n",
    "        inp_mat.append(deepcopy(inp))\n",
    "        if len(inp_mat) == len(inp) :\n",
    "            break\n",
    "    \n",
    "    \n",
    "    print((inp_mat))\n",
    "    \n",
    "    return 0\n",
    "\n",
    "\n",
    "if __name__ == \"__main__\" :\n",
    "    # sol()\n",
    "    #print(one([[0, 1, 1, 1], [1, 2, 3, 4], [2, 1, 0, 1], [1, 0, 3, 4]]))\n",
    "    #print(one([[1, 0, 1], [1, 0, 0], [1, 1, 1]]))\n",
    "    \n",
    "    #print(bk([[2, 0, 8], [6, 2, 0], [0, 19, 2]], 0, 2, 2 ))\n",
    "    #print(one([[2, 0, 8], [6, 2, 0], [0, 19, 2]]))\n",
    "    #print(one([[1, 1, 1, 1],[1, 2, 3, 4],[2, 1, 3, 4],[1, 0, 3, 4]]))"
   ]
  },
  {
   "cell_type": "code",
   "execution_count": 77,
   "metadata": {},
   "outputs": [
    {
     "name": "stdout",
     "output_type": "stream",
     "text": [
      "RESULT :  [[1.0, 0.0, 0.0, 0.0], [0.0, 1.0, 0.0, 0.0], [0.0, 0.0, 1.0, 0.0], [-0.0, -0.0, -0.0, 1.0]]\n",
      "([[1.0, 0.0, 0.0, 0.0], [0.0, 1.0, 0.0, 0.0], [0.0, 0.0, 1.0, 0.0], [-0.0, -0.0, -0.0, 1.0]], [[1.0, 0.0, 0.0, 0.0], [0.0, 1.0, 0.0, 0.0], [0.0, 0.0, 1.0, 0.0], [-0.0, -0.0, -0.0, 1.0]])\n"
     ]
    }
   ],
   "source": [
    "from copy import deepcopy\n",
    "\n",
    "def bk(mat__, c, d, e) :  # [c, d, e] : [col, col, factor]\n",
    "                          # d-c*e \n",
    "    for re in range(0, len(mat__)) :\n",
    "        mat__[d][re] -= mat__[c][re]*e\n",
    "    return deepcopy(mat__)\n",
    "\n",
    "def ik(mat_, a, b) :\n",
    "    tem = []\n",
    "    tem = mat_[b]\n",
    "    mat_[b] = mat_[a]\n",
    "    mat_[a] = tem\n",
    "    return deepcopy(mat_)\n",
    "\n",
    "def one(mat) :\n",
    "    result = deepcopy([list(map(int, \" \".join(bin(2**(len(mat)-1-i))[2:].zfill(len(mat)).split()))) for i in range(0, len(mat))])\n",
    "    \n",
    "    for c in range(0, len(mat)) :\n",
    "        for cc in range(c, len(mat)) :\n",
    "            if mat[cc][c] != 0 :\n",
    "                mat = ik(mat, c, cc)\n",
    "                result = ik(result, c, cc) ##\n",
    "                break\n",
    "    for ch in range(0, len(mat)) :\n",
    "        if mat[ch][ch] == 0 :\n",
    "            for tr in range(0, len(mat)) :\n",
    "                if mat[tr][ch] != 0 and mat[ch][tr] != 0:\n",
    "                    mat = ik(mat, tr, ch)\n",
    "                    result = ik(result, tr, ch) ##\n",
    "                    break\n",
    "                    \n",
    "    for ne in range(0, len(mat)) :\n",
    "        \n",
    "        if mat[ne][ne] != 1 : \n",
    "            for di in range(0, len(mat)) :\n",
    "                mat[ne][di] /= mat[ne][ne]\n",
    "                result[ne][di] /= mat[ne][ne] ##\n",
    "        \n",
    "        for ne_ in range(0, len(mat)) :\n",
    "            if mat[ne_][ne] != 0 and ne != ne_ :\n",
    "                mat = bk(mat, ne, ne_, mat[ne_][ne])\n",
    "                result = bk(result, ne, ne_, mat[ne_][ne]) ##\n",
    "    return mat, result\n",
    "\n",
    "def sol() :\n",
    "    inp_mat = []\n",
    "    while True :\n",
    "        inp = list(map(int, input(\"INPUT :\").split()))\n",
    "        inp_mat.append(deepcopy(inp))\n",
    "        if len(inp_mat) == len(inp) :\n",
    "            break\n",
    "    \n",
    "    \n",
    "    print((inp_mat))\n",
    "    \n",
    "    return 0\n",
    "\n",
    "\n",
    "if __name__ == \"__main__\" :\n",
    "    # sol()\n",
    "    #print(one([[0, 1, 1, 1], [1, 2, 3, 4], [2, 1, 0, 1], [1, 0, 3, 4]]))\n",
    "    #print(one([[1, 0, 1], [1, 0, 0], [1, 1, 1]]))\n",
    "    \n",
    "    #print(bk([[2, 0, 8], [6, 2, 0], [0, 19, 2]], 0, 2, 2 ))\n",
    "    #print(one([[2, 0, 8], [6, 2, 0], [0, 19, 2]]))\n",
    "    print(one([[1, 1, 1, 1],[1, 2, 3, 4],[2, 1, 3, 4],[1, 0, 3, 4]]))"
   ]
  },
  {
   "cell_type": "code",
   "execution_count": 65,
   "metadata": {},
   "outputs": [
    {
     "data": {
      "text/plain": [
       "'1000'"
      ]
     },
     "execution_count": 65,
     "metadata": {},
     "output_type": "execute_result"
    }
   ],
   "source": [
    "bin(2**())\n",
    "\n",
    "bin(2**3)[2:]"
   ]
  },
  {
   "cell_type": "raw",
   "metadata": {},
   "source": [
    "\n",
    "\n",
    "\n",
    "\n",
    "\n",
    "\n",
    "\n",
    "\n",
    "\n",
    "\n",
    "\n",
    "\n",
    "\n",
    "\n",
    "'''\n",
    "[1, 1, 1, 1]\n",
    "[1, 2, 3, 4]\n",
    "[2, 1, 3, 1]\n",
    "[1, 0, 3, 4]\n",
    "'''\n",
    "\n"
   ]
  },
  {
   "cell_type": "code",
   "execution_count": 29,
   "metadata": {},
   "outputs": [
    {
     "ename": "TypeError",
     "evalue": "unsupported operand type(s) for -: 'list' and 'list'",
     "output_type": "error",
     "traceback": [
      "\u001b[1;31m---------------------------------------------------------------------------\u001b[0m",
      "\u001b[1;31mTypeError\u001b[0m                                 Traceback (most recent call last)",
      "\u001b[1;32m<ipython-input-29-ca1d87dcaf3d>\u001b[0m in \u001b[0;36m<module>\u001b[1;34m\u001b[0m\n\u001b[1;32m----> 1\u001b[1;33m \u001b[1;33m[\u001b[0m\u001b[1;36m1\u001b[0m\u001b[1;33m,\u001b[0m \u001b[1;36m2\u001b[0m\u001b[1;33m,\u001b[0m \u001b[1;36m3\u001b[0m\u001b[1;33m]\u001b[0m \u001b[1;33m-\u001b[0m \u001b[1;33m[\u001b[0m\u001b[1;36m2\u001b[0m\u001b[1;33m,\u001b[0m \u001b[1;36m3\u001b[0m\u001b[1;33m,\u001b[0m \u001b[1;36m4\u001b[0m\u001b[1;33m]\u001b[0m\u001b[1;33m\u001b[0m\u001b[1;33m\u001b[0m\u001b[0m\n\u001b[0m",
      "\u001b[1;31mTypeError\u001b[0m: unsupported operand type(s) for -: 'list' and 'list'"
     ]
    }
   ],
   "source": []
  },
  {
   "cell_type": "code",
   "execution_count": null,
   "metadata": {},
   "outputs": [],
   "source": []
  }
 ],
 "metadata": {
  "kernelspec": {
   "display_name": "Python 3",
   "language": "python",
   "name": "python3"
  },
  "language_info": {
   "codemirror_mode": {
    "name": "ipython",
    "version": 3
   },
   "file_extension": ".py",
   "mimetype": "text/x-python",
   "name": "python",
   "nbconvert_exporter": "python",
   "pygments_lexer": "ipython3",
   "version": "3.7.4"
  }
 },
 "nbformat": 4,
 "nbformat_minor": 2
}
