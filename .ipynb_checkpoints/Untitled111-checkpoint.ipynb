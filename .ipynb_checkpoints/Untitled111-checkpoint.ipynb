{
 "cells": [
  {
   "cell_type": "code",
   "execution_count": 43,
   "metadata": {},
   "outputs": [
    {
     "name": "stdout",
     "output_type": "stream",
     "text": [
      "[1, 2, 3, 4, 5, 6, 7, 8, 9, 10, 11, 12, 13, 14, 15, 16, 17, 18, 19, 20]\n",
      "INPUT : 2 5\n",
      "[1, 5, 4, 3, 2, 6, 7, 8, 9, 10, 11, 12, 13, 14, 15, 16, 17, 18, 19, 20]\n",
      "INPUT : 10 11\n",
      "[1, 5, 4, 3, 2, 6, 7, 8, 9, 11, 10, 12, 13, 14, 15, 16, 17, 18, 19, 20]\n",
      "INPUT : 19 20\n",
      "[1, 5, 4, 3, 2, 6, 7, 8, 9, 11, 10, 12, 13, 14, 15, 16, 17, 18, 20, 19]\n",
      "INPUT : 5 9\n",
      "[1, 5, 4, 3, 9, 8, 7, 6, 2, 11, 10, 12, 13, 14, 15, 16, 17, 18, 20, 19]\n",
      "INPUT : d\n"
     ]
    },
    {
     "ename": "ValueError",
     "evalue": "invalid literal for int() with base 10: 'd'",
     "output_type": "error",
     "traceback": [
      "\u001b[1;31m---------------------------------------------------------------------------\u001b[0m",
      "\u001b[1;31mValueError\u001b[0m                                Traceback (most recent call last)",
      "\u001b[1;32m<ipython-input-43-de672bf79b5f>\u001b[0m in \u001b[0;36m<module>\u001b[1;34m\u001b[0m\n\u001b[0;32m      2\u001b[0m \u001b[0mprint\u001b[0m\u001b[1;33m(\u001b[0m\u001b[0mk\u001b[0m\u001b[1;33m)\u001b[0m\u001b[1;33m\u001b[0m\u001b[1;33m\u001b[0m\u001b[0m\n\u001b[0;32m      3\u001b[0m \u001b[1;32mfor\u001b[0m \u001b[0mc\u001b[0m \u001b[1;32min\u001b[0m \u001b[0mrange\u001b[0m\u001b[1;33m(\u001b[0m\u001b[1;36m10\u001b[0m\u001b[1;33m)\u001b[0m \u001b[1;33m:\u001b[0m\u001b[1;33m\u001b[0m\u001b[1;33m\u001b[0m\u001b[0m\n\u001b[1;32m----> 4\u001b[1;33m     \u001b[0minp1\u001b[0m\u001b[1;33m,\u001b[0m \u001b[0minp2\u001b[0m \u001b[1;33m=\u001b[0m \u001b[0mmap\u001b[0m\u001b[1;33m(\u001b[0m\u001b[0mint\u001b[0m\u001b[1;33m,\u001b[0m \u001b[0minput\u001b[0m\u001b[1;33m(\u001b[0m\u001b[1;34m\"INPUT : \"\u001b[0m\u001b[1;33m)\u001b[0m\u001b[1;33m.\u001b[0m\u001b[0msplit\u001b[0m\u001b[1;33m(\u001b[0m\u001b[1;33m)\u001b[0m\u001b[1;33m)\u001b[0m\u001b[1;33m\u001b[0m\u001b[1;33m\u001b[0m\u001b[0m\n\u001b[0m\u001b[0;32m      5\u001b[0m     \u001b[0mk\u001b[0m \u001b[1;33m=\u001b[0m \u001b[0mk\u001b[0m\u001b[1;33m[\u001b[0m\u001b[1;33m:\u001b[0m\u001b[0minp1\u001b[0m\u001b[1;33m-\u001b[0m\u001b[1;36m1\u001b[0m\u001b[1;33m]\u001b[0m\u001b[1;33m+\u001b[0m\u001b[0mlist\u001b[0m\u001b[1;33m(\u001b[0m\u001b[0mreversed\u001b[0m\u001b[1;33m(\u001b[0m\u001b[0mk\u001b[0m\u001b[1;33m[\u001b[0m\u001b[0minp1\u001b[0m\u001b[1;33m-\u001b[0m\u001b[1;36m1\u001b[0m\u001b[1;33m:\u001b[0m\u001b[0minp2\u001b[0m\u001b[1;33m]\u001b[0m\u001b[1;33m)\u001b[0m\u001b[1;33m)\u001b[0m\u001b[1;33m+\u001b[0m\u001b[0mk\u001b[0m\u001b[1;33m[\u001b[0m\u001b[0minp2\u001b[0m\u001b[1;33m:\u001b[0m\u001b[1;33m]\u001b[0m\u001b[1;33m\u001b[0m\u001b[1;33m\u001b[0m\u001b[0m\n\u001b[0;32m      6\u001b[0m     \u001b[0mprint\u001b[0m\u001b[1;33m(\u001b[0m\u001b[0mk\u001b[0m\u001b[1;33m)\u001b[0m\u001b[1;33m\u001b[0m\u001b[1;33m\u001b[0m\u001b[0m\n",
      "\u001b[1;31mValueError\u001b[0m: invalid literal for int() with base 10: 'd'"
     ]
    }
   ],
   "source": [
    "k = list(range(1, 21))\n",
    "print(k)\n",
    "for c in range(10) :\n",
    "    inp1, inp2 = map(int, input(\"INPUT : \").split())\n",
    "    k = k[:inp1-1]+list(reversed(k[inp1-1:inp2]))+k[inp2:]\n",
    "    print(k)"
   ]
  },
  {
   "cell_type": "code",
   "execution_count": 86,
   "metadata": {},
   "outputs": [
    {
     "name": "stdout",
     "output_type": "stream",
     "text": [
      "INPUT : 1 5 9 6 2\n",
      "(0, 0) (1, 1)\n",
      "{1, 5}\n",
      "(1, 1) (2, 2)\n",
      "{1, 5, 9}\n",
      "(2, 2) (1, 2)\n",
      "{1, 5, 9, 6}\n",
      "(1, 2) (0, 1)\n",
      "{1, 2, 5, 6, 9}\n"
     ]
    },
    {
     "data": {
      "text/plain": [
       "True"
      ]
     },
     "execution_count": 86,
     "metadata": {},
     "output_type": "execute_result"
    }
   ],
   "source": [
    "from math import sqrt\n",
    "\n",
    "def pattern(op_inp) :\n",
    "    map_ = {1 : (0, 0), 2 : (0, 1), 3 : (0, 2), \n",
    "            4 : (1, 0), 5 : (1, 1), 6 : (1, 2), \n",
    "            7 : (2, 0), 8 : (2, 1), 9 : (2, 2)}\n",
    "    visited = set([])\n",
    "    for pos in range(0, len(op_inp)-1) :\n",
    "        if op_inp[pos+1] in visited : ## 중복된 숫자 : return False\n",
    "            return False\n",
    "        else :\n",
    "            print(map_[op_inp[pos]], map_[op_inp[pos+1]])\n",
    "            dis = sqrt((map_[op_inp[pos]][0]-map_[op_inp[pos+1]][0])**2+(map_[op_inp[pos]][1]-map_[op_inp[pos+1]][1])**2)\n",
    "            visited.update([op_inp[pos], op_inp[pos+1]])\n",
    "            print(visited)\n",
    "    return True\n",
    "\n",
    "## 단순 계산 시 False 대상 노드 거리 : 2.0, 2*sqrt(2)\n",
    "## 단순 계산 시 True 대상 노드 거리 : 1.0, sqrt(2), \n",
    "## 확인 필요 : sqrt(5)\n",
    "\n",
    "pattern(list(map(int, input(\"INPUT : \").split())))\n",
    "### 입력 내부에 중복 숫자([6, 8, 6])확인\n",
    "### 딕셔너리로 노드 좌표와 노드명 매치\n",
    "### 노드간 거리, visited node에 대한 확인 collection으로.\n",
    "### 노드간 거리가 False형임에도 visited node의 제외로 인해 True로 되는 예외적 경우 고려"
   ]
  },
  {
   "cell_type": "code",
   "execution_count": 62,
   "metadata": {},
   "outputs": [
    {
     "data": {
      "text/plain": [
       "[('1', '2'), ('2', '3'), ('3', '4'), ('4', '5'), ('5', '6'), ('6', '7')]"
      ]
     },
     "execution_count": 62,
     "metadata": {},
     "output_type": "execute_result"
    }
   ],
   "source": [
    "from functools import reduce\n",
    "a = ['1', '2', '3', '4', '5', '6', '7']\n",
    "\n",
    "list(zip(a, a[1:]))"
   ]
  },
  {
   "cell_type": "code",
   "execution_count": null,
   "metadata": {},
   "outputs": [],
   "source": []
  }
 ],
 "metadata": {
  "kernelspec": {
   "display_name": "Python 3",
   "language": "python",
   "name": "python3"
  },
  "language_info": {
   "codemirror_mode": {
    "name": "ipython",
    "version": 3
   },
   "file_extension": ".py",
   "mimetype": "text/x-python",
   "name": "python",
   "nbconvert_exporter": "python",
   "pygments_lexer": "ipython3",
   "version": "3.7.3"
  }
 },
 "nbformat": 4,
 "nbformat_minor": 2
}
