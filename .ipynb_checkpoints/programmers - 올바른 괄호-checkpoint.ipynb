{
 "cells": [
  {
   "cell_type": "code",
   "execution_count": 1,
   "metadata": {},
   "outputs": [
    {
     "name": "stdout",
     "output_type": "stream",
     "text": [
      "INPUT : (())()\n",
      "True\n"
     ]
    }
   ],
   "source": [
    "import re\n",
    "def main(li) :\n",
    "    balancing_com = re.compile(\"\\([^\\(^\\)]*\\)\")\n",
    "    while True :\n",
    "        try :\n",
    "            det = balancing_com.search(li).group()\n",
    "            li = balancing_com.sub(det[1:-1], li)\n",
    "        except :\n",
    "            if li == '' : return True\n",
    "            else : return False\n",
    "if __name__ == '__main__' :\n",
    "    print(main(input(\"INPUT : \")))"
   ]
  },
  {
   "cell_type": "code",
   "execution_count": 5,
   "metadata": {},
   "outputs": [],
   "source": [
    "import re\n",
    "def solution(s):\n",
    "    balancing_com = re.compile(\"\\([^\\(^\\)]*\\)\")\n",
    "    if s[-1] == '(' or s[0] == ')' : return False\n",
    "    if s.count('(') == s.count(')') :\n",
    "        while True :\n",
    "            try :\n",
    "                det = balancing_com.search(s).group()\n",
    "                s = balancing_com.sub(det[1:-1], s)\n",
    "            except :\n",
    "                if s == '' : return True\n",
    "                else : return False\n",
    "    else : return False"
   ]
  },
  {
   "cell_type": "code",
   "execution_count": 7,
   "metadata": {},
   "outputs": [],
   "source": [
    "def solution(s):\n",
    "    c = 0\n",
    "    if s[-1] == '(' or s[0] == ')' : return False\n",
    "    if s.count('(') == s.count(')') :\n",
    "        for i in s :\n",
    "            if c < 0 : return False\n",
    "            if i == '(' :\n",
    "                c += 1\n",
    "            elif i == ')' :\n",
    "                c -= 1\n",
    "        if c == 0 : return True\n",
    "    else : return False"
   ]
  },
  {
   "cell_type": "code",
   "execution_count": null,
   "metadata": {},
   "outputs": [],
   "source": []
  }
 ],
 "metadata": {
  "kernelspec": {
   "display_name": "Python 3",
   "language": "python",
   "name": "python3"
  },
  "language_info": {
   "codemirror_mode": {
    "name": "ipython",
    "version": 3
   },
   "file_extension": ".py",
   "mimetype": "text/x-python",
   "name": "python",
   "nbconvert_exporter": "python",
   "pygments_lexer": "ipython3",
   "version": "3.7.3"
  }
 },
 "nbformat": 4,
 "nbformat_minor": 2
}
