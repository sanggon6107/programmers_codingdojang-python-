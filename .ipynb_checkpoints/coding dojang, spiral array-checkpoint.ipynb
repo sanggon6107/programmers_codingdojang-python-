{
 "cells": [
  {
   "cell_type": "code",
   "execution_count": 10,
   "metadata": {},
   "outputs": [
    {
     "name": "stdout",
     "output_type": "stream",
     "text": [
      "G : 5\n",
      "R : 5\n",
      "0 1 2 3 4 \n"
     ]
    }
   ],
   "source": [
    "while True : \n",
    "\n",
    "    print(\"Type \\'QUIT\\' to exit.\")\n",
    "    inp1st = input('G : ')\n",
    "    inp2nd, RESULT, F_RESULT = input('R : '), [], ''\n",
    "    \n",
    "    if inp1st == 'QUIT' or inp2nd == 'QUIT' :\n",
    "        break\n",
    "    \n",
    "    else :##열 string, 행 list?\n",
    "        \n",
    "        for i in range(0, int(inp2nd)) :\n",
    "            RESULT.append(str(i).ljust(2))\n",
    "        \n",
    "        for k in range(0, int(inp2nd)) :\n",
    "            F_RESULT += RESULT[k]\n",
    "        \n",
    "        print(F_RESULT)"
   ]
  },
  {
   "cell_type": "code",
   "execution_count": 26,
   "metadata": {},
   "outputs": [
    {
     "name": "stdout",
     "output_type": "stream",
     "text": [
      "Type 'QUIT' to exit.\n",
      "G : 10\n",
      "R : 10\n",
      "0 1 2 3 4 5 6 7 8 9 \n",
      "0 1 2 3 4 5 6 7 8 9 \n",
      "0 1 2 3 4 5 6 7 8 9 \n",
      "0 1 2 3 4 5 6 7 8 9 \n",
      "0 1 2 3 4 5 6 7 8 9 \n",
      "0 1 2 3 4 5 6 7 8 9 \n",
      "0 1 2 3 4 5 6 7 8 9 \n",
      "0 1 2 3 4 5 6 7 8 9 \n",
      "0 1 2 3 4 5 6 7 8 9 \n",
      "0 1 2 3 4 5 6 7 8 9 \n",
      "Type 'QUIT' to exit.\n",
      "G : QUIT\n",
      "R : QUIT\n"
     ]
    }
   ],
   "source": [
    "while True : \n",
    "\n",
    "    print(\"Type \\'QUIT\\' to exit.\")\n",
    "    inp1st = input('G : ')\n",
    "    inp2nd, RESULT, F_RESULT = input('R : '), [], ''\n",
    "    \n",
    "    if inp1st == 'QUIT' or inp2nd == 'QUIT' :\n",
    "        break\n",
    "    \n",
    "    else :##열 string, 행 list?\n",
    "        for i in range(0, int(inp1st)) :\n",
    "            globals()['GYOU{}'.format(i)] = ''\n",
    "            for m in range(0, int(inp2nd)) :\n",
    "                globals()['GYOU{}'.format(i)] += str(m).ljust(2)\n",
    "        \n",
    "        for s in range(0, int(inp1st)) :\n",
    "            print(globals()['GYOU{}'.format(s)])"
   ]
  },
  {
   "cell_type": "code",
   "execution_count": 9,
   "metadata": {},
   "outputs": [
    {
     "name": "stdout",
     "output_type": "stream",
     "text": [
      "Type 'QUIT' to exit.\n",
      "G : 4\n",
      "R : 4\n",
      "[['# ', '# ', '# ', '# '], ['# ', '# ', '# ', '# '], ['# ', '# ', '# ', '# '], ['# ', '# ', '# ', '# ']]\n",
      "0 0\n",
      "[['0', '# ', '# ', '# '], ['0', '# ', '# ', '# '], ['0', '# ', '# ', '# '], ['0', '# ', '# ', '# ']]\n",
      "1 0\n",
      "[['0', '1', '# ', '# '], ['0', '1', '# ', '# '], ['0', '1', '# ', '# '], ['0', '1', '# ', '# ']]\n",
      "1 -1\n",
      "[['0', '2', '# ', '# '], ['0', '2', '# ', '# '], ['0', '2', '# ', '# '], ['0', '2', '# ', '# ']]\n",
      "1 -2\n",
      "[['0', '3', '# ', '# '], ['0', '3', '# ', '# '], ['0', '3', '# ', '# '], ['0', '3', '# ', '# ']]\n",
      "0 -2\n",
      "[['4', '3', '# ', '# '], ['4', '3', '# ', '# '], ['4', '3', '# ', '# '], ['4', '3', '# ', '# ']]\n",
      "-1 -2\n",
      "[['4', '3', '# ', '5'], ['4', '3', '# ', '5'], ['4', '3', '# ', '5'], ['4', '3', '# ', '5']]\n",
      "-2 -2\n",
      "[['4', '3', '6', '5'], ['4', '3', '6', '5'], ['4', '3', '6', '5'], ['4', '3', '6', '5']]\n",
      "-3 -2\n",
      "[['4', '7', '6', '5'], ['4', '7', '6', '5'], ['4', '7', '6', '5'], ['4', '7', '6', '5']]\n",
      "-3 -1\n",
      "[['4', '8', '6', '5'], ['4', '8', '6', '5'], ['4', '8', '6', '5'], ['4', '8', '6', '5']]\n",
      "-2 -1\n",
      "[['4', '8', '9', '5'], ['4', '8', '9', '5'], ['4', '8', '9', '5'], ['4', '8', '9', '5']]\n",
      "-2 -2\n",
      "[['4', '8', '10', '5'], ['4', '8', '10', '5'], ['4', '8', '10', '5'], ['4', '8', '10', '5']]\n",
      "-3 -2\n",
      "[['4', '11', '10', '5'], ['4', '11', '10', '5'], ['4', '11', '10', '5'], ['4', '11', '10', '5']]\n",
      "-3 -1\n",
      "[['4', '12', '10', '5'], ['4', '12', '10', '5'], ['4', '12', '10', '5'], ['4', '12', '10', '5']]\n",
      "-2 -1\n",
      "[['4', '12', '13', '5'], ['4', '12', '13', '5'], ['4', '12', '13', '5'], ['4', '12', '13', '5']]\n",
      "-2 -2\n",
      "[['4', '12', '14', '5'], ['4', '12', '14', '5'], ['4', '12', '14', '5'], ['4', '12', '14', '5']]\n",
      "-3 -2\n",
      "[['4', '15', '14', '5'], ['4', '15', '14', '5'], ['4', '15', '14', '5'], ['4', '15', '14', '5']]\n",
      "Type 'QUIT' to exit.\n",
      "G : QUIT\n",
      "R : e\n"
     ]
    }
   ],
   "source": [
    "while True : \n",
    "\n",
    "    print(\"Type \\'QUIT\\' to exit.\")\n",
    "    inp1st = input('G : ')\n",
    "    inp2nd, RESULT = input('R : '), []\n",
    "    \n",
    "    if inp1st == 'QUIT' or inp2nd == 'QUIT' :\n",
    "        break\n",
    "    \n",
    "    else :##열 string, 행 list?\n",
    "        for i in range(0, int(inp1st)) :\n",
    "            globals()['GYOU{}'.format(i)] = ['#'.ljust(3) for x in range(0, int(inp2nd))]\n",
    "        for m in range(0, int(inp1st)) :\n",
    "            RESULT.append(globals()['GYOU{}'.format(i)])\n",
    "        print(RESULT)\n",
    "    x, y, dx, dy, LIST_DXDY, dxad, dyad = 0, 0, 1, 0, [(1, 0), (0, -1), (-1, 0), (0, 1)], 0, 0\n",
    "    for v in range(0, int(inp1st)*int(inp2nd)) :\n",
    "        if not '# ' in RESULT[x+dx][y+dy] :\n",
    "            dxad = (dxad+1)%4\n",
    "            dyad = (dyad+1)%4\n",
    "            dx = LIST_DXDY[dxad][0]\n",
    "            dy = LIST_DXDY[dyad][1]\n",
    "    \n",
    "    ### RESULT[y][x]의 결과가, RESULT[y]에 일괄적용되는 원인?\n",
    "    \n",
    "        print(x, y)\n",
    "        RESULT[y][x] = str(v)\n",
    "        print(RESULT)\n",
    "        x, y = x+dx, y+dy"
   ]
  },
  {
   "cell_type": "code",
   "execution_count": 5,
   "metadata": {},
   "outputs": [
    {
     "name": "stdout",
     "output_type": "stream",
     "text": [
      "66\n"
     ]
    }
   ],
   "source": [
    "k = [[1, 2, 3], [4, 5, 6]]\n",
    "k[1][1] = 66\n",
    "print(k[1][1])"
   ]
  },
  {
   "cell_type": "code",
   "execution_count": 5,
   "metadata": {},
   "outputs": [
    {
     "name": "stdout",
     "output_type": "stream",
     "text": [
      "INPUT : 4 4\n",
      "16  15  14  13  \n",
      "5   4   3   12  \n",
      "6   1   2   11  \n",
      "7   8   9   10  \n"
     ]
    }
   ],
   "source": [
    "def vec(dxdy1) :\n",
    "    dxdy_LIST = [(1, 0), (0, 1), (-1, 0), (0, -1)]\n",
    "    return dxdy_LIST[(int(dxdy_LIST.index(dxdy1))+1)%4]\n",
    "inp = list(map(int, input('INPUT : ').split(\" \")))\n",
    "result, dxdy, x, y = [], (1, 0), 0, 0,\n",
    "\n",
    "for a in range(0, inp[1]) :\n",
    "    result.append(['#'.ljust(2) for x in range(0, int(inp[0]))])\n",
    "for n in range(0, inp[0]*inp[1]) :\n",
    "    result[y][x] = inp[0]*inp[1]-n # 숫자 대입\n",
    "    if (y, x) ==  (0, inp[0]-1) or (y, x) == (inp[1]-1, inp[0]-1) or (y, x) == (inp[1]-1, 0) :\n",
    "        dxdy = vec(dxdy)\n",
    "    elif result[y+dxdy[1]][x+dxdy[0]] != \"#\".ljust(2) :\n",
    "        dxdy = vec(dxdy)\n",
    "    x, y = x + dxdy[0], y + dxdy[1]\n",
    "\n",
    "for o in range(0, inp[1]) :\n",
    "    for u in range(0, inp[0]) :\n",
    "        print(str(result[o][u]).ljust(4), end = \"\")\n",
    "    print(\"\")"
   ]
  },
  {
   "cell_type": "code",
   "execution_count": 53,
   "metadata": {},
   "outputs": [
    {
     "name": "stdout",
     "output_type": "stream",
     "text": [
      "FALSE\n"
     ]
    }
   ],
   "source": [
    "x = 8\n",
    "if x == 1 or x == 5 or x == 6 :\n",
    "    print(\"TRUE\")\n",
    "else :\n",
    "    print(\"FALSE\")"
   ]
  },
  {
   "cell_type": "code",
   "execution_count": 6,
   "metadata": {},
   "outputs": [
    {
     "data": {
      "text/plain": [
       "1"
      ]
     },
     "execution_count": 6,
     "metadata": {},
     "output_type": "execute_result"
    }
   ],
   "source": [
    "(0+1)%4"
   ]
  },
  {
   "cell_type": "code",
   "execution_count": 7,
   "metadata": {},
   "outputs": [
    {
     "name": "stdout",
     "output_type": "stream",
     "text": [
      "4 4\n",
      "4\n",
      "4\n",
      "  0  1  2  3\n",
      " 11 12 13  4\n",
      " 10 15 14  5\n",
      "  9  8  7  6\n"
     ]
    }
   ],
   "source": [
    "w, h = map(int,input().split(\" \"))\n",
    "t = eval(repr([[0]*h]*w))\n",
    "ds = [[1,0],[0,1],[-1,0],[0,-1]]\n",
    "e=x=y=d=0\n",
    "for i in range(w*h):\n",
    "    t[x][y] = i\n",
    "    \n",
    "    if x+ds[d][0] in [e-1-(1 if d==3 else 0),w-e] or y+ds[d][1] in [e-1,h-e]:\n",
    "        d = (d+1)%4\n",
    "        e += d//3\n",
    "    x, y = map(sum,zip(ds[d],[x,y]))\n",
    "for i in range(w*h):\n",
    "    print((\"%%%dd\" % (len(str(w*h-1))+1)) % t[i%w][i//w], end=('\\n' if i%w==w-1 else ''))"
   ]
  },
  {
   "cell_type": "code",
   "execution_count": null,
   "metadata": {},
   "outputs": [],
   "source": []
  }
 ],
 "metadata": {
  "kernelspec": {
   "display_name": "Python 3",
   "language": "python",
   "name": "python3"
  },
  "language_info": {
   "codemirror_mode": {
    "name": "ipython",
    "version": 3
   },
   "file_extension": ".py",
   "mimetype": "text/x-python",
   "name": "python",
   "nbconvert_exporter": "python",
   "pygments_lexer": "ipython3",
   "version": "3.7.3"
  }
 },
 "nbformat": 4,
 "nbformat_minor": 2
}
