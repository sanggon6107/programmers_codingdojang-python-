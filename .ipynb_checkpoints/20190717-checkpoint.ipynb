{
 "cells": [
  {
   "cell_type": "code",
   "execution_count": 64,
   "metadata": {},
   "outputs": [
    {
     "name": "stdout",
     "output_type": "stream",
     "text": [
      "================================================== 2019.07.17 ==================================================\n",
      "http:\n",
      "http\n",
      "None\n",
      "solid.exe\n",
      "GEM.html\n",
      "exe exe jeap jpg install\n",
      "<re.Match object; span=(0, 3), match='cat'>\n",
      "2 + 4 =  6\n",
      "None\n"
     ]
    }
   ],
   "source": [
    "print(\"=\"*50, \"2019.07.17\", \"=\"*50)\n",
    "\n",
    "import numpy as np\n",
    "import re\n",
    "import pandas as pd\n",
    "\n",
    "\n",
    "# Regular  expression\n",
    "\n",
    "## Lookahead Assertions\n",
    "\n",
    "p = re.search(\".+:\", \"http://www.google.com\")\n",
    "print(p.group(0))\n",
    "l = re.search(\".+(?=:)\", \"http://www.google.com\")\n",
    "print(l.group(0))\n",
    "\n",
    "a = re.compile(\"^.*[.](?!bat$).*$\")\n",
    "\n",
    "b = a.search(\"acorbat.bat\")\n",
    "c = a.search(\"solid.exe\")\n",
    "d = a.search(\"GEM.html\")\n",
    "\n",
    "n = 0\n",
    "k = [b, c, d]\n",
    "\n",
    "for n in k:\n",
    "\n",
    "    if n == None :\n",
    "        print(\"None\")\n",
    "    \n",
    "    else : \n",
    "        print(n.group(0))\n",
    "        \n",
    "        \n",
    "        \n",
    "# 문자열 바꾸기 sub\n",
    "\n",
    "ilji = re.compile(r\"\\bhtml\\b\")\n",
    "alji = ilji.sub(\"exe\", \"exe html jeap jpg install\")\n",
    "\n",
    "if alji == \"exe html jeap jpg install\" :\n",
    "    print(\"None.\")\n",
    "    \n",
    "else :\n",
    "    print(alji)\n",
    "    \n",
    "    \n",
    "sat = re.search(\"ca?t\", \"cat\")\n",
    "print(sat)\n",
    "\n",
    "class Cal :\n",
    "    def add(self, first, second) :\n",
    "        result = first + second\n",
    "        print(\"%s + %s = \" %(first, second), result)\n",
    "    def sub(self, first, second) :\n",
    "        result = first - second\n",
    "        print(\"%s - %s = \" %(first, second), result)\n",
    "while True :\n",
    "    exam = Cal()\n",
    "    ii = input(\"first : \")\n",
    "    il = input(\"second : \")\n",
    "    sagyou = \n",
    "    print(exam.add(2, 4))"
   ]
  },
  {
   "cell_type": "code",
   "execution_count": null,
   "metadata": {},
   "outputs": [],
   "source": []
  }
 ],
 "metadata": {
  "kernelspec": {
   "display_name": "Python 3",
   "language": "python",
   "name": "python3"
  },
  "language_info": {
   "codemirror_mode": {
    "name": "ipython",
    "version": 3
   },
   "file_extension": ".py",
   "mimetype": "text/x-python",
   "name": "python",
   "nbconvert_exporter": "python",
   "pygments_lexer": "ipython3",
   "version": "3.7.3"
  }
 },
 "nbformat": 4,
 "nbformat_minor": 2
}
