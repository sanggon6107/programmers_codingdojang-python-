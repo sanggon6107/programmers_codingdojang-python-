{
 "cells": [
  {
   "cell_type": "code",
   "execution_count": 8,
   "metadata": {},
   "outputs": [
    {
     "data": {
      "text/plain": [
       "'52341'"
      ]
     },
     "execution_count": 8,
     "metadata": {},
     "output_type": "execute_result"
    }
   ],
   "source": [
    "k = str(k)\n",
    "k = k[-1]+k[1:-1]+k[0]"
   ]
  },
  {
   "cell_type": "code",
   "execution_count": 16,
   "metadata": {},
   "outputs": [
    {
     "name": "stdout",
     "output_type": "stream",
     "text": [
      "2\n",
      "3\n",
      "4\n",
      "5\n",
      "7\n",
      "10\n",
      "14\n",
      "19\n",
      "26\n",
      "37\n",
      "55\n",
      "81\n",
      "121\n",
      "182\n",
      "272\n",
      "402\n",
      "601\n",
      "910\n",
      "1380\n",
      "2096\n",
      "3183\n",
      "4820\n",
      "7289\n",
      "10995\n",
      "16589\n",
      "25063\n",
      "37889\n",
      "57251\n",
      "86567\n",
      "130773\n",
      "197763\n",
      "299093\n",
      "452584\n",
      "684822\n",
      "(77, 'DDDDDDDDRDDDRDDDRDDDRDRDRRDRDRDRDR')\n"
     ]
    }
   ],
   "source": [
    "def rev(r) :\n",
    "    if r < 10 :\n",
    "        return r\n",
    "    else :\n",
    "        r = str(r)\n",
    "        return int(r[-1]+r[1:-1]+r[0])\n",
    "\n",
    "def cal(res, ob) :\n",
    "    while not ob in res :\n",
    "        pre_res = {}\n",
    "        for n in res :\n",
    "            rev_n, doub_n = rev(n), 2 * n\n",
    "            if not rev_n in res :\n",
    "                pre_res[rev_n] = res[n] + 'R'\n",
    "            if not doub_n in res :\n",
    "                pre_res[doub_n] = res[n] + \"D\"\n",
    "        res.update(pre_res)\n",
    "    return ob, res[ob]\n",
    "\n",
    "\n",
    "RES = {1 : ''}\n",
    "OBJ = 77\n",
    "print(cal(RES, OBJ))"
   ]
  },
  {
   "cell_type": "code",
   "execution_count": null,
   "metadata": {},
   "outputs": [],
   "source": []
  }
 ],
 "metadata": {
  "kernelspec": {
   "display_name": "Python 3",
   "language": "python",
   "name": "python3"
  },
  "language_info": {
   "codemirror_mode": {
    "name": "ipython",
    "version": 3
   },
   "file_extension": ".py",
   "mimetype": "text/x-python",
   "name": "python",
   "nbconvert_exporter": "python",
   "pygments_lexer": "ipython3",
   "version": "3.7.3"
  }
 },
 "nbformat": 4,
 "nbformat_minor": 2
}
