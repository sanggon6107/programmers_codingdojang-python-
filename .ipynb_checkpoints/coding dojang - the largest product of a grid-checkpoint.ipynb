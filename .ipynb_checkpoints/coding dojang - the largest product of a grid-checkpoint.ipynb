{
 "cells": [
  {
   "cell_type": "code",
   "execution_count": 36,
   "metadata": {},
   "outputs": [
    {
     "name": "stdout",
     "output_type": "stream",
     "text": [
      "[[8, 2, 22, 97, 38, 15, 0, 40, 0, 75, 4, 5, 7, 78, 52, 12, 50, 77, 91, 8], [49, 49, 99, 40, 17, 81, 18, 57, 60, 87, 17, 40, 98, 43, 69, 48, 4, 56, 62, 0], [81, 49, 31, 73, 55, 79, 14, 29, 93, 71, 40, 67, 53, 88, 30, 3, 49, 13, 36, 65], [52, 70, 95, 23, 4, 60, 11, 42, 69, 24, 68, 56, 1, 32, 56, 71, 37, 2, 36, 91], [22, 31, 16, 71, 51, 67, 63, 89, 41, 92, 36, 54, 22, 40, 40, 28, 66, 33, 13, 80], [24, 47, 32, 60, 99, 3, 45, 2, 44, 75, 33, 53, 78, 36, 84, 20, 35, 17, 12, 50], [32, 98, 81, 28, 64, 23, 67, 10, 26, 38, 40, 67, 59, 54, 70, 66, 18, 38, 64, 70], [67, 26, 20, 68, 2, 62, 12, 20, 95, 63, 94, 39, 63, 8, 40, 91, 66, 49, 94, 21], [24, 55, 58, 5, 66, 73, 99, 26, 97, 17, 78, 78, 96, 83, 14, 88, 34, 89, 63, 72], [21, 36, 23, 9, 75, 0, 76, 44, 20, 45, 35, 14, 0, 61, 33, 97, 34, 31, 33, 95], [78, 17, 53, 28, 22, 75, 31, 67, 15, 94, 3, 80, 4, 62, 16, 14, 9, 53, 56, 92], [16, 39, 5, 42, 96, 35, 31, 47, 55, 58, 88, 24, 0, 17, 54, 24, 36, 29, 85, 57], [86, 56, 0, 48, 35, 71, 89, 7, 5, 44, 44, 37, 44, 60, 21, 58, 51, 54, 17, 58], [19, 80, 81, 68, 5, 94, 47, 69, 28, 73, 92, 13, 86, 52, 17, 77, 4, 89, 55, 40], [4, 52, 8, 83, 97, 35, 99, 16, 7, 97, 57, 32, 16, 26, 26, 79, 33, 27, 98, 66], [88, 36, 68, 87, 57, 62, 20, 72, 3, 46, 33, 67, 46, 55, 12, 32, 63, 93, 53, 69], [4, 42, 16, 73, 38, 25, 39, 11, 24, 94, 72, 18, 8, 46, 29, 32, 40, 62, 76, 36], [20, 69, 36, 41, 72, 30, 23, 88, 34, 62, 99, 69, 82, 67, 59, 85, 74, 4, 36, 16], [20, 73, 35, 29, 78, 31, 90, 1, 74, 31, 49, 71, 48, 86, 81, 16, 23, 57, 5, 54], [1, 70, 54, 71, 83, 51, 54, 69, 16, 92, 33, 48, 61, 43, 52, 1, 89, 19, 67, 48]]\n",
      "[4204200, 11118600, 13956768, 25723980, 17696040, 23660000, 7953400, 25480000, 21149604, 16518600, 12501216, 27832896, 14942340, 51267216, 27663636, 13214880, 48477312, 35868960, 6638874, 28894440, 3427050, 17519250, 13193840, 20304768, 10615920, 23569344, 12975312, 35845044, 27896715, 26004536, 21426363, 14577860, 6785280, 17712864, 37529514, 23740128, 22275540]\n"
     ]
    }
   ],
   "source": [
    "map_ = ''' 08 02 22 97 38 15 00 40 00 75 04 05 07 78 52 12 50 77 91 08\n",
    " 49 49 99 40 17 81 18 57 60 87 17 40 98 43 69 48 04 56 62 00\n",
    " 81 49 31 73 55 79 14 29 93 71 40 67 53 88 30 03 49 13 36 65\n",
    " 52 70 95 23 04 60 11 42 69 24 68 56 01 32 56 71 37 02 36 91\n",
    " 22 31 16 71 51 67 63 89 41 92 36 54 22 40 40 28 66 33 13 80\n",
    " 24 47 32 60 99 03 45 02 44 75 33 53 78 36 84 20 35 17 12 50\n",
    " 32 98 81 28 64 23 67 10 26 38 40 67 59 54 70 66 18 38 64 70\n",
    " 67 26 20 68 02 62 12 20 95 63 94 39 63 08 40 91 66 49 94 21\n",
    " 24 55 58 05 66 73 99 26 97 17 78 78 96 83 14 88 34 89 63 72\n",
    " 21 36 23 09 75 00 76 44 20 45 35 14 00 61 33 97 34 31 33 95\n",
    " 78 17 53 28 22 75 31 67 15 94 03 80 04 62 16 14 09 53 56 92\n",
    " 16 39 05 42 96 35 31 47 55 58 88 24 00 17 54 24 36 29 85 57\n",
    " 86 56 00 48 35 71 89 07 05 44 44 37 44 60 21 58 51 54 17 58\n",
    " 19 80 81 68 05 94 47 69 28 73 92 13 86 52 17 77 04 89 55 40\n",
    " 04 52 08 83 97 35 99 16 07 97 57 32 16 26 26 79 33 27 98 66\n",
    " 88 36 68 87 57 62 20 72 03 46 33 67 46 55 12 32 63 93 53 69\n",
    " 04 42 16 73 38 25 39 11 24 94 72 18 08 46 29 32 40 62 76 36\n",
    " 20 69 36 41 72 30 23 88 34 62 99 69 82 67 59 85 74 04 36 16\n",
    " 20 73 35 29 78 31 90 01 74 31 49 71 48 86 81 16 23 57 05 54\n",
    " 01 70 54 71 83 51 54 69 16 92 33 48 61 43 52 01 89 19 67 48 '''\n",
    "\n",
    "map_list_1 = [list(map(int, i.split())) for i in map_.split('\\n')]\n",
    "\n",
    "def cmp(li) :\n",
    "    res = []\n",
    "    print(li)\n",
    "    for h in range(0, len(li)) : \n",
    "        # hor\n",
    "        res.append(max(list(map(lambda x : eval('*'.join(map(str, x))), zip(li[h], li[h][1:], li[h][2:], li[h][3:])))))\n",
    "        #ver\n",
    "        if h <= len(li)-4 :\n",
    "            res.append(max(list(map(lambda x : eval('*'.join(map(str, x))), zip(li[h], li[h+1], li[h+2], li[h+3])))))\n",
    "        \n",
    "    \n",
    "    \n",
    "    return res\n",
    "\n",
    "\n",
    "print(cmp(map_list_1))\n",
    "ppppp='''\n",
    "ver\n",
    "hor\n",
    "sla\n",
    "sla_inv\n",
    "'''"
   ]
  },
  {
   "cell_type": "code",
   "execution_count": 24,
   "metadata": {},
   "outputs": [
    {
     "data": {
      "text/plain": [
       "14520"
      ]
     },
     "execution_count": 24,
     "metadata": {},
     "output_type": "execute_result"
    }
   ],
   "source": [
    "li = [1, 2, 3, 4, 5, 6, 7, 8, 9, 10, 11, 12, 11, 1]\n",
    "\n",
    "max(list(map(lambda x : eval('*'.join(map(str, x))), zip(li, li[1:], li[2:], li[3:]))))"
   ]
  },
  {
   "cell_type": "code",
   "execution_count": 19,
   "metadata": {},
   "outputs": [
    {
     "data": {
      "text/plain": [
       "24"
      ]
     },
     "execution_count": 19,
     "metadata": {},
     "output_type": "execute_result"
    }
   ],
   "source": [
    "s = [1, 2, 3, 4]\n",
    "\n",
    "eval(\"*\".join(map(str,s)))"
   ]
  },
  {
   "cell_type": "code",
   "execution_count": 33,
   "metadata": {},
   "outputs": [
    {
     "name": "stdout",
     "output_type": "stream",
     "text": [
      "[(1, 1, 1, 1), (2, 2, 2, 2), (3, 3, 3, 3), (4, 4, 4, 4), (5, 5, 5, 5), (6, 6, 6, 6), (7, 7, 7, 7), (8, 8, 8, 8), (9, 9, 9, 9), (10, 10, 10, 10), (11, 11, 11, 11), (12, 12, 12, 12), (11, 11, 11, 11), (1, 1, 1, 1)]\n"
     ]
    }
   ],
   "source": [
    "li = [[1, 2, 3, 4, 5, 6, 7, 8, 9, 10, 11, 12, 11, 1], [1, 2, 3, 4, 5, 6, 7, 8, 9, 10, 11, 12, 11, 1], [1, 2, 3, 4, 5, 6, 7, 8, 9, 10, 11, 12, 11, 1], [1, 2, 3, 4, 5, 6, 7, 8, 9, 10, 11, 12, 11, 1]]\n",
    "\n",
    "print(list(zip(li[0], li[1], li[2], li[3])))"
   ]
  },
  {
   "cell_type": "code",
   "execution_count": 39,
   "metadata": {},
   "outputs": [
    {
     "name": "stdout",
     "output_type": "stream",
     "text": [
      "70600674\n"
     ]
    }
   ],
   "source": [
    "map_ = ''' 08 02 22 97 38 15 00 40 00 75 04 05 07 78 52 12 50 77 91 08\n",
    " 49 49 99 40 17 81 18 57 60 87 17 40 98 43 69 48 04 56 62 00\n",
    " 81 49 31 73 55 79 14 29 93 71 40 67 53 88 30 03 49 13 36 65\n",
    " 52 70 95 23 04 60 11 42 69 24 68 56 01 32 56 71 37 02 36 91\n",
    " 22 31 16 71 51 67 63 89 41 92 36 54 22 40 40 28 66 33 13 80\n",
    " 24 47 32 60 99 03 45 02 44 75 33 53 78 36 84 20 35 17 12 50\n",
    " 32 98 81 28 64 23 67 10 26 38 40 67 59 54 70 66 18 38 64 70\n",
    " 67 26 20 68 02 62 12 20 95 63 94 39 63 08 40 91 66 49 94 21\n",
    " 24 55 58 05 66 73 99 26 97 17 78 78 96 83 14 88 34 89 63 72\n",
    " 21 36 23 09 75 00 76 44 20 45 35 14 00 61 33 97 34 31 33 95\n",
    " 78 17 53 28 22 75 31 67 15 94 03 80 04 62 16 14 09 53 56 92\n",
    " 16 39 05 42 96 35 31 47 55 58 88 24 00 17 54 24 36 29 85 57\n",
    " 86 56 00 48 35 71 89 07 05 44 44 37 44 60 21 58 51 54 17 58\n",
    " 19 80 81 68 05 94 47 69 28 73 92 13 86 52 17 77 04 89 55 40\n",
    " 04 52 08 83 97 35 99 16 07 97 57 32 16 26 26 79 33 27 98 66\n",
    " 88 36 68 87 57 62 20 72 03 46 33 67 46 55 12 32 63 93 53 69\n",
    " 04 42 16 73 38 25 39 11 24 94 72 18 08 46 29 32 40 62 76 36\n",
    " 20 69 36 41 72 30 23 88 34 62 99 69 82 67 59 85 74 04 36 16\n",
    " 20 73 35 29 78 31 90 01 74 31 49 71 48 86 81 16 23 57 05 54\n",
    " 01 70 54 71 83 51 54 69 16 92 33 48 61 43 52 01 89 19 67 48 '''\n",
    "\n",
    "map_list_1 = [list(map(int, i.split())) for i in map_.split('\\n')]\n",
    "\n",
    "def cmp(li) :\n",
    "    res = []\n",
    "    for h in range(0, len(li)) : \n",
    "        res.append(max(list(map(lambda x : eval('*'.join(map(str, x))), zip(li[h], li[h][1:], li[h][2:], li[h][3:])))))\n",
    "        if h <= len(li)-4 :\n",
    "            res.append(max(list(map(lambda x : eval('*'.join(map(str, x))), zip(li[h], li[h+1], li[h+2], li[h+3])))))\n",
    "            res.append(max(list(map(lambda x : eval('*'.join(map(str, x))), zip(li[h], li[h+1][1:], li[h+2][2:], li[h+3][3:])))))\n",
    "            res.append(max(list(map(lambda x : eval('*'.join(map(str, x))), zip(li[h][3:], li[h+1][2:], li[h+2][1:], li[h+3])))))\n",
    "    return max(res)\n",
    "\n",
    "print(cmp(map_list_1))"
   ]
  },
  {
   "cell_type": "code",
   "execution_count": 62,
   "metadata": {},
   "outputs": [
    {
     "name": "stdout",
     "output_type": "stream",
     "text": [
      "13\n"
     ]
    }
   ],
   "source": [
    "def stairway(N, J) :\n",
    "    queue, res = [[i+1] for i in range(J)], []\n",
    "    \n",
    "    while len(queue) != 0 :\n",
    "        fst = queue.pop(0)\n",
    "        if sum(fst) == N : \n",
    "            res.append(fst) \n",
    "            continue\n",
    "        for st in range(1, J+1) :\n",
    "            if sum(fst)+st <= N :\n",
    "                queue.append(fst+[st])\n",
    "    return len(res)\n",
    "print(stairway(5, 3))"
   ]
  },
  {
   "cell_type": "code",
   "execution_count": 1,
   "metadata": {
    "scrolled": true
   },
   "outputs": [],
   "source": [
    "from copy import deepcopy\n",
    "\n",
    "map_ ='''OOOOO\n",
    "XOOXO\n",
    "OOOOO\n",
    "OOXOO\n",
    "OOOOX'''\n",
    "\n",
    "map_list_1 = [list(i) for i in map_.split('\\n')]\n",
    "\n",
    "def check(data) :  # 완료 여부 확인\n",
    "    count = 0\n",
    "    for line in data[:-1] :\n",
    "        if 'O' in line : count += line.count('O')\n",
    "    if count <= 1 : return True\n",
    "    else : return False\n",
    "\n",
    "def search_(li) :\n",
    "    queue, count = [li+[[0, 0]]], 0\n",
    "    while len(queue) != 0 :\n",
    "        head = queue.pop(0)\n",
    "        if check(head) == True :\n",
    "            count += 1\n",
    "            print('\\n\\n'+str(count)+':')\n",
    "            for RL in head[:-1] :\n",
    "                print(''.join(RL))\n",
    "            head = 0\n",
    "            continue\n",
    "        for cond in [(-1, 0, 'L', head[-1][0]), (1, 0, 'R', len(head[0])-1-head[-1][0]), (0, -1, 'U', head[-1][1]), (0, 1, 'D', len(head)-2-head[-1][1])] :\n",
    "            head_1 = deepcopy(head)\n",
    "            if cond[3] > 0 and head_1[head_1[-1][1]+cond[1]][head_1[-1][0]+cond[0]] == 'O' :\n",
    "                head_1[head_1[-1][1]][head_1[-1][0]] = cond[2] #'O'값 방향으로 대체\n",
    "                head_1[-1][0], head_1[-1][1] = head_1[-1][0]+cond[0], head_1[-1][1]+cond[1] #좌표 갱신\n",
    "                queue.append(head_1)\n",
    "\n",
    "search_(map_list_1)"
   ]
  },
  {
   "cell_type": "code",
   "execution_count": 83,
   "metadata": {
    "scrolled": true
   },
   "outputs": [
    {
     "data": {
      "text/plain": [
       "0"
      ]
     },
     "execution_count": 83,
     "metadata": {},
     "output_type": "execute_result"
    }
   ],
   "source": [
    "from copy import deepcopy\n",
    "\n",
    "map_ ='''OOOOO\n",
    "XOOXO\n",
    "OOOOO\n",
    "OOOOO\n",
    "OOOOX'''\n",
    "\n",
    "\n",
    "\n",
    "\n",
    "\n",
    "\n",
    "\n",
    "\n",
    "\n",
    "\n",
    "\n",
    "\n",
    "\n",
    "\n",
    "map_list_1 = [list(i) for i in map_.split('\\n')]\n",
    "\n",
    "def check(data) :  # 완료 여부 확인\n",
    "    for line in data[:-1] :\n",
    "        if 'O' in line : return False\n",
    "        else : continue\n",
    "    return True\n",
    "\n",
    "def search_(li) :\n",
    "    queue = [li+[[0, 0]]]\n",
    "    while len(queue) != 0 :\n",
    "        head = queue.pop(0)\n",
    "        # for 반복자 조건 설정 :  dx, dy, 교체 방향, \n",
    "        for cond in [(-1, 0, 'L', head[-1][0]), (1, 0, 'R', len(head[0])-1-head[-1][0]), (0, -1, 'U', head[-1][1]), (0, 1, 'D', len(head)-2-head[-1][1])] :####### 3, 2 결과 : L, D, R\n",
    "            head_1 = deepcopy(head)\n",
    "            if cond[3] > 0 and head_1[head_1[-1][1]+cond[1]][head_1[-1][0]+cond[0]] == 'O' :\n",
    "                head_1[head_1[-1][1]][head_1[-1][0]] = cond[2]\n",
    "                head_1[-1][0], head_1[-1][1] = head_1[-1][0]+cond[0], head_1[-1][1]+cond[1] #좌표 갱신\n",
    "                if check(head_1) == True :\n",
    "                    for RL in head_1[:-1] :\n",
    "                        print(''.join(RL))\n",
    "                    print('\\n\\n')\n",
    "                    head = 0\n",
    "                queue.append(head_1)\n",
    "    return 0\n",
    "#for cond in ((-1, 0, ten_y, 'U'), (1, 0, len(ss)-2-ten_y, 'D'), (0, -1, ten_x, 'L'), (0, 1, len(ss[0])-2-ten_x, 'R'))\n",
    "search_(map_list_1)"
   ]
  },
  {
   "cell_type": "code",
   "execution_count": 3,
   "metadata": {
    "scrolled": true
   },
   "outputs": [],
   "source": [
    "from copy import deepcopy\n",
    "\n",
    "map_ ='''OOOOO\n",
    "XOOXO\n",
    "OOOOO\n",
    "OOXOO\n",
    "OOOOX'''\n",
    "\n",
    "map_list_1 = [list(i) for i in map_.split('\\n')]\n",
    "\n",
    "def check(data) :  # 완료 여부 확인\n",
    "    count = 0\n",
    "    for line in data[:-1] :\n",
    "        if 'O' in line : count += line.count('O')\n",
    "    if count <= 1 : return True\n",
    "    else : return False\n",
    "\n",
    "def search_(li) :\n",
    "    queue, count = [li+[[0, 0]]], 0\n",
    "    while len(queue) != 0 :\n",
    "        head = queue.pop(0)\n",
    "        if check(head) == True :  # 성공적으로 탐색을 완료한 경우 그 결과를 출력\n",
    "            count += 1\n",
    "            print('\\n\\n'+str(count)+':')\n",
    "            for RL in head[:-1] :\n",
    "                print(''.join(RL))\n",
    "            head = 0\n",
    "            continue\n",
    "        for cond in [(-1, 0, 'L', head[-1][0]), (1, 0, 'R', len(head[0])-1-head[-1][0]), (0, -1, 'U', head[-1][1]), (0, 1, 'D', len(head)-2-head[-1][1])] :  # 순서대로 dx, dy, 방향, 좌표가 데이터 범위 내 있을 조건\n",
    "            head_1 = deepcopy(head)\n",
    "            if cond[3] > 0 and head_1[head_1[-1][1]+cond[1]][head_1[-1][0]+cond[0]] == 'O' : # 좌표가 데이터 범위 내에 있으면서 탐색 가능한 경우\n",
    "                head_1[head_1[-1][1]][head_1[-1][0]] = cond[2] #'O'값 방향으로 대체\n",
    "                head_1[-1][0], head_1[-1][1] = head_1[-1][0]+cond[0], head_1[-1][1]+cond[1] #좌표 갱신\n",
    "                queue.append(head_1) # queue의 마지막에 추가\n",
    "search_(map_list_1)"
   ]
  },
  {
   "cell_type": "code",
   "execution_count": null,
   "metadata": {},
   "outputs": [],
   "source": []
  }
 ],
 "metadata": {
  "kernelspec": {
   "display_name": "Python 3",
   "language": "python",
   "name": "python3"
  },
  "language_info": {
   "codemirror_mode": {
    "name": "ipython",
    "version": 3
   },
   "file_extension": ".py",
   "mimetype": "text/x-python",
   "name": "python",
   "nbconvert_exporter": "python",
   "pygments_lexer": "ipython3",
   "version": "3.7.3"
  }
 },
 "nbformat": 4,
 "nbformat_minor": 2
}
