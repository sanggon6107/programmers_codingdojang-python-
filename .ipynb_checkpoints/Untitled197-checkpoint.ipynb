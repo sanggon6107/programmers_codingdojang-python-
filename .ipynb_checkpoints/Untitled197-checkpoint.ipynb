{
 "cells": [
  {
   "cell_type": "code",
   "execution_count": 21,
   "metadata": {},
   "outputs": [
    {
     "name": "stdout",
     "output_type": "stream",
     "text": [
      "INITIAL POINT : (0.150000, -3.977500)\n",
      "\n",
      "----------ITERATION 1----------\n",
      "next_pos = (13.408333, 175.783403)\n",
      "\n",
      "----------ITERATION 2----------\n",
      "next_pos = (6.853328, 42.968100)\n",
      "\n",
      "----------ITERATION 3----------\n",
      "next_pos = (3.718493, 9.827189)\n",
      "\n",
      "----------ITERATION 4----------\n",
      "next_pos = (2.397099, 1.746082)\n",
      "\n",
      "----------ITERATION 5----------\n",
      "next_pos = (2.032891, 0.132647)\n",
      "\n",
      "----------ITERATION 6----------\n",
      "next_pos = (2.000266, 0.001064)\n",
      "\n",
      "----------ITERATION 7----------\n",
      "next_pos = (2.000000, 0.000000)\n",
      "\n"
     ]
    }
   ],
   "source": [
    "def sol(a, b, c) :\n",
    "    initial = 15\n",
    "    initial_2 = 0.15\n",
    "    \n",
    "    the_number_of_iteration = 0\n",
    "    \n",
    "    pos = [initial_2, a*(initial_2)**2+b*(initial_2)+c]\n",
    "    next_pos = [0, 0]\n",
    "    \n",
    "    print(\"INITIAL POINT : (%f, %f)\\n\" %(pos[0], pos[1]))\n",
    "    \n",
    "    while True :\n",
    "        the_number_of_iteration += 1\n",
    "        print(\"-\"*10+\"ITERATION %d\" % the_number_of_iteration+\"-\"*10)\n",
    "        next_pos[0] = ((-pos[1])/(2*a*pos[0]+b)) + pos[0]\n",
    "        next_pos[1] = a*(next_pos[0])**2+b*(next_pos[0])+c\n",
    "        \n",
    "        pos = [next_pos[0], next_pos[1]]\n",
    "        \n",
    "        print(\"next_pos = (%f, %f)\\n\" %(next_pos[0], next_pos[1]))\n",
    "        \n",
    "        if pos[1] <= 1.00e-6 :\n",
    "            break\n",
    "        \n",
    "    return 0\n",
    "\n",
    "def cen(a2, b2, c2) :\n",
    "    j = (-b2)/(2*a2)\n",
    "    \n",
    "\n",
    "\n",
    "\n",
    "if __name__ == \"__main__\" :\n",
    "    sol(1, 0, -4)\n"
   ]
  },
  {
   "cell_type": "code",
   "execution_count": null,
   "metadata": {},
   "outputs": [],
   "source": []
  }
 ],
 "metadata": {
  "kernelspec": {
   "display_name": "Python 3",
   "language": "python",
   "name": "python3"
  },
  "language_info": {
   "codemirror_mode": {
    "name": "ipython",
    "version": 3
   },
   "file_extension": ".py",
   "mimetype": "text/x-python",
   "name": "python",
   "nbconvert_exporter": "python",
   "pygments_lexer": "ipython3",
   "version": "3.7.4"
  }
 },
 "nbformat": 4,
 "nbformat_minor": 2
}
