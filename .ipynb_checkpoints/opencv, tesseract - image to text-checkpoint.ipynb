{
 "cells": [
  {
   "cell_type": "code",
   "execution_count": 39,
   "metadata": {
    "collapsed": true
   },
   "outputs": [
    {
     "name": "stdout",
     "output_type": "stream",
     "text": [
      "부산광역시 연제구 면수로 200-2\n",
      "(연산동)\n",
      "\n",
      "김옥자 퀴하(중)\n",
      "\n",
      "61 4\n",
      "[\n",
      "\n",
      "4761\n",
      "부1 (부산) 605 (부산연제) 06\n",
      "['부산광역시 연제구 면수로 200-2', '(연산동)', '김옥자 퀴하(중)', '61 4', '[', '4761', '부1 (부산) 605 (부산연제) 06']\n",
      "[['부산광역시 연제구 면수로 200-2', '(연산동)', '김옥자 퀴하(중)', '61 4', '[', '4761', '부1 (부산) 605 (부산연제) 06']]\n"
     ]
    }
   ],
   "source": [
    "import re\n",
    "#import cv2\n",
    "from pytesseract import *\n",
    "from PIL import Image, ImageFilter, ImageEnhance\n",
    "from copy import deepcopy\n",
    "\n",
    "\n",
    "wholeDATA, head = [], []\n",
    "\n",
    "# load files\n",
    "\n",
    "img = Image.open('')\n",
    "\n",
    "# define the size of the files.\n",
    "\n",
    "area = (650, 377, 650+773, 377+260)\n",
    "area2 = (10, 10, 100, 100)\n",
    "cropImage = img.crop(area)\n",
    "cropImage_filtered = cropImage.filter(ImageFilter.CONTOUR)\n",
    "\n",
    "enhancer = ImageEnhance.Contrast(cropImage_filtered)\n",
    "enhanced = enhancer.enhance(2)\n",
    "\n",
    "enhanced.show()\n",
    "#cropImage.show()\n",
    "\n",
    "#cropImage.show()\n",
    "text = pytesseract.image_to_string(enhanced,lang='kor', config='-c preserve_interword_spaces=1')\n",
    "\n",
    "# extracting text from the image files.\n",
    "\n",
    "comf = re.compile(\"[^\\n]+\")\n",
    "findAll = comf.findall(text)\n",
    "\n",
    "# text = pytesseract.image_to_string(img,lang='kor')\n",
    "# text = pytesseract.image_to_string(img,lang='kor+eng', config='-c preserve_interword_spaces=1')\n",
    "\n",
    "print(text)\n",
    "print(findAll)\n",
    "\n",
    "wholeDATA.append(findAll)\n",
    "print(wholeDATA)"
   ]
  },
  {
   "cell_type": "code",
   "execution_count": null,
   "metadata": {},
   "outputs": [],
   "source": [
    "import math\n",
    "\n",
    "def \n",
    "\n",
    "\n",
    "if __name__ == '__main__' :\n",
    "    print(\"main function operated\")"
   ]
  },
  {
   "cell_type": "code",
   "execution_count": 31,
   "metadata": {},
   "outputs": [
    {
     "name": "stdout",
     "output_type": "stream",
     "text": [
      "True\n",
      "findAll :  ['부산광역시 연제구 연수로 175-8', '(연산동)', '김양자 귀하(중)', '= 7 5 9 군'] \n",
      "[rem_]+findall_deepcopy :  ['김양자 ', '부산광역시 연제구 연수로 175-8', '(연산동)', '김양자 귀하(중)', '= 7 5 9 군']\n",
      "True\n",
      "findAll :  ['변', '부산광역시 연제구 연수로148번길 41', ', 101호 (연산동, 성주빌라)', '김덕  수 귀하(중)'] \n",
      "[rem_]+findall_deepcopy :  ['김덕  수 ', '변', '부산광역시 연제구 연수로148번길 41', ', 101호 (연산동, 성주빌라)', '김덕  수 귀하(중)']\n",
      "True\n",
      "findAll :  ['경상남도 김해시 활천로202번길 55', ', 402호 (어방동, 구륙하이츠빌라)', '윤순복 귀하(중)', '독 () 요 /』'] \n",
      "[rem_]+findall_deepcopy :  ['윤순복 ', '경상남도 김해시 활천로202번길 55', ', 402호 (어방동, 구륙하이츠빌라)', '윤순복 귀하(중)', '독 () 요 /』']\n",
      "True\n",
      "findAll :  ['부산광역시 연제구 연수로 202', '(연산동)', '이승철 귀하(중)', '시 고 승 기 4'] \n",
      "[rem_]+findall_deepcopy :  ['이승철 ', '부산광역시 연제구 연수로 202', '(연산동)', '이승철 귀하(중)', '시 고 승 기 4']\n",
      "True\n",
      "findAll :  ['부산광역시 연제구 고분로20번길 79-5', '(연산동)', '김팔연 귀하(중)', '시 72 도 효 ('] \n",
      "[rem_]+findall_deepcopy :  ['김팔연 ', '부산광역시 연제구 고분로20번길 79-5', '(연산동)', '김팔연 귀하(중)', '시 72 도 효 (']\n",
      "True\n",
      "findAll :  ['부산광역시 수영구 연수로 259', '강남크리닉빌딩5층 (망미동)', '표준종합건설 (주) 귀하(중)', '을 을 2 (1) 고'] \n",
      "[rem_]+findall_deepcopy :  ['표준종합건설 (주) ', '부산광역시 수영구 연수로 259', '강남크리닉빌딩5층 (망미동)', '표준종합건설 (주) 귀하(중)', '을 을 2 (1) 고']\n",
      "True\n",
      "findAll :  ['부산광역시 연제구 시청로 20', '(연산동)', '최호석 귀하(중)', '기 72 2 7'] \n",
      "[rem_]+findall_deepcopy :  ['최호석 ', '부산광역시 연제구 시청로 20', '(연산동)', '최호석 귀하(중)', '기 72 2 7']\n",
      "True\n",
      "findAll :  ['부산광역시 연제구 과정로265번다길 24-3', '(연산동)', '김영숙 귀하(중)', '이 0027 독 도 6'] \n",
      "[rem_]+findall_deepcopy :  ['김영숙 ', '부산광역시 연제구 과정로265번다길 24-3', '(연산동)', '김영숙 귀하(중)', '이 0027 독 도 6']\n",
      "True\n",
      "findAll :  ['경상남도 김해시 해반천로278번길 12-27', ', 110돔 1505호 (삼계동, 삼계이안아파트)', '이진용 귀하(중)', '트 [(] 요 콕 (1'] \n",
      "[rem_]+findall_deepcopy :  ['이진용 ', '경상남도 김해시 해반천로278번길 12-27', ', 110돔 1505호 (삼계동, 삼계이안아파트)', '이진용 귀하(중)', '트 [(] 요 콕 (1']\n",
      "True\n",
      "findAll :  ['부산광역시 연제구 고분로20번길 79-17', '(연산동)', '양수영 귀하(중)', '4 7 5 을 0'] \n",
      "[rem_]+findall_deepcopy :  ['양수영 ', '부산광역시 연제구 고분로20번길 79-17', '(연산동)', '양수영 귀하(중)', '4 7 5 을 0']\n",
      "True\n",
      "findAll :  ['부산광역시 연제구 마곡천로 70', '(연산동)', '럭키자동차운전학원 귀하(중)', '4 7 6 0'] \n",
      "[rem_]+findall_deepcopy :  ['럭키자동차운전학원 ', '부산광역시 연제구 마곡천로 70', '(연산동)', '럭키자동차운전학원 귀하(중)', '4 7 6 0']\n",
      "True\n",
      "findAll :  ['부산광역시 연제구 연수로148번길 41', ', 101호 (연산동, 성주빌라)', '김덕수 귀하(중)', '을 2 시\" 기 00'] \n",
      "[rem_]+findall_deepcopy :  ['김덕수 ', '부산광역시 연제구 연수로148번길 41', ', 101호 (연산동, 성주빌라)', '김덕수 귀하(중)', '을 2 시\" 기 00']\n",
      "True\n",
      "findAll :  ['부산광역시 연제구 거제천로 69 (거제동)', '권종갑 귀하(중)', '4 7 5 4 6'] \n",
      "[rem_]+findall_deepcopy :  ['권종갑 ', '부산광역시 연제구 거제천로 69 (거제동)', '권종갑 귀하(중)', '4 7 5 4 6']\n",
      "[['김양자 ', '부산광역시 연제구 연수로 175-8', '(연산동)', '김양자 귀하(중)', '= 7 5 9 군'], ['김덕  수 ', '변', '부산광역시 연제구 연수로148번길 41', ', 101호 (연산동, 성주빌라)', '김덕  수 귀하(중)'], ['윤순복 ', '경상남도 김해시 활천로202번길 55', ', 402호 (어방동, 구륙하이츠빌라)', '윤순복 귀하(중)', '독 () 요 /』'], ['이승철 ', '부산광역시 연제구 연수로 202', '(연산동)', '이승철 귀하(중)', '시 고 승 기 4'], ['김팔연 ', '부산광역시 연제구 고분로20번길 79-5', '(연산동)', '김팔연 귀하(중)', '시 72 도 효 ('], ['표준종합건설 (주) ', '부산광역시 수영구 연수로 259', '강남크리닉빌딩5층 (망미동)', '표준종합건설 (주) 귀하(중)', '을 을 2 (1) 고'], ['최호석 ', '부산광역시 연제구 시청로 20', '(연산동)', '최호석 귀하(중)', '기 72 2 7'], ['김영숙 ', '부산광역시 연제구 과정로265번다길 24-3', '(연산동)', '김영숙 귀하(중)', '이 0027 독 도 6'], ['이진용 ', '경상남도 김해시 해반천로278번길 12-27', ', 110돔 1505호 (삼계동, 삼계이안아파트)', '이진용 귀하(중)', '트 [(] 요 콕 (1'], ['양수영 ', '부산광역시 연제구 고분로20번길 79-17', '(연산동)', '양수영 귀하(중)', '4 7 5 을 0'], ['럭키자동차운전학원 ', '부산광역시 연제구 마곡천로 70', '(연산동)', '럭키자동차운전학원 귀하(중)', '4 7 6 0'], ['김덕수 ', '부산광역시 연제구 연수로148번길 41', ', 101호 (연산동, 성주빌라)', '김덕수 귀하(중)', '을 2 시\" 기 00'], ['권종갑 ', '부산광역시 연제구 거제천로 69 (거제동)', '권종갑 귀하(중)', '4 7 5 4 6']] 13\n",
      "FILE SAVED.\n"
     ]
    }
   ],
   "source": [
    "import re\n",
    "#import cv2\n",
    "from pytesseract import *\n",
    "from PIL import Image, ImageFilter\n",
    "from copy import deepcopy\n",
    "import csv\n",
    "\n",
    "wholeDATA, head = [], []\n",
    "\n",
    "####### settings ######\n",
    "theNumberOfPapers = 14\n",
    "comf = re.compile(\"[^\\n]+\")\n",
    "fileName = 'doc02703220200602143941_1000001a_1-2.jpg'\n",
    "image_bairitsu = 1.5\n",
    "#######################\n",
    "\n",
    "\n",
    "\n",
    "# load files\n",
    "for i in range(1, theNumberOfPapers) :\n",
    "    rem_ = \"\"  # 이름 replace 대상 초기화\n",
    "    #img = Image.open('%s.jpg' %str(i).zfill(2)).convert('L')\n",
    "    img = Image.open('D:doc02964720200717092903_10000005_1_%s.png' %str(i)).convert('L')\n",
    "# define the size of the files.\n",
    "\n",
    "    area = (1100, 640, 2181, 997)\n",
    "    cropImage = img.crop(area)  # cropping\n",
    "    re_cropImage = cropImage.resize((int((area[2]-area[0])*(image_bairitsu)), int((area[3]-area[1])*(image_bairitsu))))  # resizing\n",
    "    \n",
    "    \n",
    "    #################################### 이진화 ###########################\n",
    "    (width, height) = re_cropImage.size\n",
    "    im = re_cropImage.load()\n",
    "    \n",
    "    for h in range(0, height) :\n",
    "        for w in range(0, width) :\n",
    "            if im[w, h] < 220 : \n",
    "                im[w, h] = 0\n",
    "            else :\n",
    "                im[w, h] = 255\n",
    "                \n",
    "    re_cropImage.save(\"D:kansei_%s.png\" %str(i))\n",
    "    \n",
    "    \n",
    "    ########################### 이진화 끝 #################################\n",
    "    \n",
    "\n",
    "    #re_cropImage = cropImage.resize((520,int((515*(area[3]-area[1]))/(area[2]-area[0]))))\n",
    "    #cropImage.show\n",
    "    #re_cropImage.show()\n",
    "    text = pytesseract.image_to_string(re_cropImage,lang='kor', config='-c preserve_interword_spaces=1')\n",
    "    \n",
    "    \n",
    "    \n",
    "# extracting text from the image files.\n",
    "\n",
    "    findAll = comf.findall(text)\n",
    "    findAll_deepcopy = deepcopy(findAll)\n",
    "    for rem in findAll_deepcopy :\n",
    "        if \"귀하(중)\" in rem :\n",
    "            print(True)\n",
    "            rem_ = rem.replace(\"귀하(중)\", \"\")\n",
    "            rem = rem_\n",
    "    print(\"findAll : \", findAll, \"\\n[rem_]+findall_deepcopy : \", [rem_]+findAll_deepcopy[:4])\n",
    "\n",
    "\n",
    "    wholeDATA.append([rem_]+findAll_deepcopy[:4])\n",
    "\n",
    "############################# lan settings ######################\n",
    "### text = pytesseract.image_to_string(img,lang='kor')\n",
    "### text = pytesseract.image_to_string(img,lang='kor+eng', config='-c preserve_interword_spaces=1')\n",
    "#################################################################\n",
    "\n",
    "\n",
    "####### print samples ########\n",
    "#print(text)\n",
    "#print(findAll)\n",
    "##############################\n",
    "\n",
    "print(wholeDATA, len(wholeDATA))\n",
    "\n",
    "ff = open(\"D:post.csv\", 'w', encoding='utf-8-sig', newline='')\n",
    "wr = csv.writer(ff)\n",
    "for rr in range(0, len(wholeDATA)) :\n",
    "    wr.writerow(wholeDATA[rr])\n",
    "ff.close()\n",
    "\n",
    "\n",
    "if __name__ == \"__main__\" :\n",
    "    print(\"FILE SAVED.\")"
   ]
  },
  {
   "cell_type": "code",
   "execution_count": 25,
   "metadata": {
    "scrolled": true
   },
   "outputs": [
    {
     "name": "stdout",
     "output_type": "stream",
     "text": [
      "02\n",
      "['a', 'b', 'c']\n"
     ]
    }
   ],
   "source": []
  },
  {
   "cell_type": "code",
   "execution_count": 10,
   "metadata": {
    "collapsed": true
   },
   "outputs": [
    {
     "data": {
      "text/plain": [
       "795.6"
      ]
     },
     "execution_count": 10,
     "metadata": {},
     "output_type": "execute_result"
    }
   ],
   "source": []
  },
  {
   "cell_type": "code",
   "execution_count": 1,
   "metadata": {},
   "outputs": [
    {
     "name": "stdout",
     "output_type": "stream",
     "text": [
      "dd\n"
     ]
    },
    {
     "ename": "PDFInfoNotInstalledError",
     "evalue": "Unable to get page count. Is poppler installed and in PATH?",
     "output_type": "error",
     "traceback": [
      "\u001b[1;31m---------------------------------------------------------------------------\u001b[0m",
      "\u001b[1;31mFileNotFoundError\u001b[0m                         Traceback (most recent call last)",
      "\u001b[1;32mC:\\ProgramData\\Anaconda3\\lib\\site-packages\\pdf2image\\pdf2image.py\u001b[0m in \u001b[0;36mpdfinfo_from_path\u001b[1;34m(pdf_path, userpw, poppler_path)\u001b[0m\n\u001b[0;32m    419\u001b[0m             \u001b[0menv\u001b[0m\u001b[1;33m[\u001b[0m\u001b[1;34m\"LD_LIBRARY_PATH\"\u001b[0m\u001b[1;33m]\u001b[0m \u001b[1;33m=\u001b[0m \u001b[0mpoppler_path\u001b[0m \u001b[1;33m+\u001b[0m \u001b[1;34m\":\"\u001b[0m \u001b[1;33m+\u001b[0m \u001b[0menv\u001b[0m\u001b[1;33m.\u001b[0m\u001b[0mget\u001b[0m\u001b[1;33m(\u001b[0m\u001b[1;34m\"LD_LIBRARY_PATH\"\u001b[0m\u001b[1;33m,\u001b[0m \u001b[1;34m\"\"\u001b[0m\u001b[1;33m)\u001b[0m\u001b[1;33m\u001b[0m\u001b[1;33m\u001b[0m\u001b[0m\n\u001b[1;32m--> 420\u001b[1;33m         \u001b[0mproc\u001b[0m \u001b[1;33m=\u001b[0m \u001b[0mPopen\u001b[0m\u001b[1;33m(\u001b[0m\u001b[0mcommand\u001b[0m\u001b[1;33m,\u001b[0m \u001b[0menv\u001b[0m\u001b[1;33m=\u001b[0m\u001b[0menv\u001b[0m\u001b[1;33m,\u001b[0m \u001b[0mstdout\u001b[0m\u001b[1;33m=\u001b[0m\u001b[0mPIPE\u001b[0m\u001b[1;33m,\u001b[0m \u001b[0mstderr\u001b[0m\u001b[1;33m=\u001b[0m\u001b[0mPIPE\u001b[0m\u001b[1;33m)\u001b[0m\u001b[1;33m\u001b[0m\u001b[1;33m\u001b[0m\u001b[0m\n\u001b[0m\u001b[0;32m    421\u001b[0m \u001b[1;33m\u001b[0m\u001b[0m\n",
      "\u001b[1;32mC:\\ProgramData\\Anaconda3\\lib\\subprocess.py\u001b[0m in \u001b[0;36m__init__\u001b[1;34m(self, args, bufsize, executable, stdin, stdout, stderr, preexec_fn, close_fds, shell, cwd, env, universal_newlines, startupinfo, creationflags, restore_signals, start_new_session, pass_fds, encoding, errors, text)\u001b[0m\n\u001b[0;32m    774\u001b[0m                                 \u001b[0merrread\u001b[0m\u001b[1;33m,\u001b[0m \u001b[0merrwrite\u001b[0m\u001b[1;33m,\u001b[0m\u001b[1;33m\u001b[0m\u001b[1;33m\u001b[0m\u001b[0m\n\u001b[1;32m--> 775\u001b[1;33m                                 restore_signals, start_new_session)\n\u001b[0m\u001b[0;32m    776\u001b[0m         \u001b[1;32mexcept\u001b[0m\u001b[1;33m:\u001b[0m\u001b[1;33m\u001b[0m\u001b[1;33m\u001b[0m\u001b[0m\n",
      "\u001b[1;32mC:\\ProgramData\\Anaconda3\\lib\\subprocess.py\u001b[0m in \u001b[0;36m_execute_child\u001b[1;34m(self, args, executable, preexec_fn, close_fds, pass_fds, cwd, env, startupinfo, creationflags, shell, p2cread, p2cwrite, c2pread, c2pwrite, errread, errwrite, unused_restore_signals, unused_start_new_session)\u001b[0m\n\u001b[0;32m   1177\u001b[0m                                          \u001b[0mos\u001b[0m\u001b[1;33m.\u001b[0m\u001b[0mfspath\u001b[0m\u001b[1;33m(\u001b[0m\u001b[0mcwd\u001b[0m\u001b[1;33m)\u001b[0m \u001b[1;32mif\u001b[0m \u001b[0mcwd\u001b[0m \u001b[1;32mis\u001b[0m \u001b[1;32mnot\u001b[0m \u001b[1;32mNone\u001b[0m \u001b[1;32melse\u001b[0m \u001b[1;32mNone\u001b[0m\u001b[1;33m,\u001b[0m\u001b[1;33m\u001b[0m\u001b[1;33m\u001b[0m\u001b[0m\n\u001b[1;32m-> 1178\u001b[1;33m                                          startupinfo)\n\u001b[0m\u001b[0;32m   1179\u001b[0m             \u001b[1;32mfinally\u001b[0m\u001b[1;33m:\u001b[0m\u001b[1;33m\u001b[0m\u001b[1;33m\u001b[0m\u001b[0m\n",
      "\u001b[1;31mFileNotFoundError\u001b[0m: [WinError 2] 지정된 파일을 찾을 수 없습니다",
      "\nDuring handling of the above exception, another exception occurred:\n",
      "\u001b[1;31mPDFInfoNotInstalledError\u001b[0m                  Traceback (most recent call last)",
      "\u001b[1;32m<ipython-input-1-5b199c3d2cc0>\u001b[0m in \u001b[0;36m<module>\u001b[1;34m\u001b[0m\n\u001b[0;32m      5\u001b[0m \u001b[0mPDF_PATH\u001b[0m \u001b[1;33m=\u001b[0m \u001b[1;34m'D:doc02702420200602131658_10000012_1.pdf'\u001b[0m\u001b[1;33m\u001b[0m\u001b[1;33m\u001b[0m\u001b[0m\n\u001b[0;32m      6\u001b[0m \u001b[1;33m\u001b[0m\u001b[0m\n\u001b[1;32m----> 7\u001b[1;33m \u001b[0mimage\u001b[0m \u001b[1;33m=\u001b[0m \u001b[0mconvert_from_path\u001b[0m\u001b[1;33m(\u001b[0m\u001b[0mPDF_PATH\u001b[0m\u001b[1;33m,\u001b[0m \u001b[1;36m300\u001b[0m\u001b[1;33m)\u001b[0m \u001b[1;31m#300=DPI\u001b[0m\u001b[1;33m\u001b[0m\u001b[1;33m\u001b[0m\u001b[0m\n\u001b[0m\u001b[0;32m      8\u001b[0m \u001b[0mimage\u001b[0m\u001b[1;33m[\u001b[0m\u001b[1;36m0\u001b[0m\u001b[1;33m]\u001b[0m\u001b[1;33m.\u001b[0m\u001b[0msave\u001b[0m\u001b[1;33m(\u001b[0m\u001b[1;34m\"D:out.png\"\u001b[0m\u001b[1;33m,\u001b[0m \u001b[1;34m'png'\u001b[0m\u001b[1;33m)\u001b[0m\u001b[1;33m\u001b[0m\u001b[1;33m\u001b[0m\u001b[0m\n\u001b[0;32m      9\u001b[0m \u001b[0mprint\u001b[0m\u001b[1;33m(\u001b[0m\u001b[1;34m\"Lll\"\u001b[0m\u001b[1;33m)\u001b[0m\u001b[1;33m\u001b[0m\u001b[1;33m\u001b[0m\u001b[0m\n",
      "\u001b[1;32mC:\\ProgramData\\Anaconda3\\lib\\site-packages\\pdf2image\\pdf2image.py\u001b[0m in \u001b[0;36mconvert_from_path\u001b[1;34m(pdf_path, dpi, output_folder, first_page, last_page, fmt, jpegopt, thread_count, userpw, use_cropbox, strict, transparent, single_file, output_file, poppler_path, grayscale, size, paths_only, use_pdftocairo)\u001b[0m\n\u001b[0;32m     92\u001b[0m         \u001b[0mpoppler_path\u001b[0m \u001b[1;33m=\u001b[0m \u001b[0mpoppler_path\u001b[0m\u001b[1;33m.\u001b[0m\u001b[0mas_posix\u001b[0m\u001b[1;33m(\u001b[0m\u001b[1;33m)\u001b[0m\u001b[1;33m\u001b[0m\u001b[1;33m\u001b[0m\u001b[0m\n\u001b[0;32m     93\u001b[0m \u001b[1;33m\u001b[0m\u001b[0m\n\u001b[1;32m---> 94\u001b[1;33m     \u001b[0mpage_count\u001b[0m \u001b[1;33m=\u001b[0m \u001b[0mpdfinfo_from_path\u001b[0m\u001b[1;33m(\u001b[0m\u001b[0mpdf_path\u001b[0m\u001b[1;33m,\u001b[0m \u001b[0muserpw\u001b[0m\u001b[1;33m,\u001b[0m \u001b[0mpoppler_path\u001b[0m\u001b[1;33m=\u001b[0m\u001b[0mpoppler_path\u001b[0m\u001b[1;33m)\u001b[0m\u001b[1;33m[\u001b[0m\u001b[1;34m\"Pages\"\u001b[0m\u001b[1;33m]\u001b[0m\u001b[1;33m\u001b[0m\u001b[1;33m\u001b[0m\u001b[0m\n\u001b[0m\u001b[0;32m     95\u001b[0m \u001b[1;33m\u001b[0m\u001b[0m\n\u001b[0;32m     96\u001b[0m     \u001b[1;31m# We start by getting the output format, the buffer processing function and if we need pdftocairo\u001b[0m\u001b[1;33m\u001b[0m\u001b[1;33m\u001b[0m\u001b[1;33m\u001b[0m\u001b[0m\n",
      "\u001b[1;32mC:\\ProgramData\\Anaconda3\\lib\\site-packages\\pdf2image\\pdf2image.py\u001b[0m in \u001b[0;36mpdfinfo_from_path\u001b[1;34m(pdf_path, userpw, poppler_path)\u001b[0m\n\u001b[0;32m    440\u001b[0m     \u001b[1;32mexcept\u001b[0m \u001b[0mOSError\u001b[0m\u001b[1;33m:\u001b[0m\u001b[1;33m\u001b[0m\u001b[1;33m\u001b[0m\u001b[0m\n\u001b[0;32m    441\u001b[0m         raise PDFInfoNotInstalledError(\n\u001b[1;32m--> 442\u001b[1;33m             \u001b[1;34m\"Unable to get page count. Is poppler installed and in PATH?\"\u001b[0m\u001b[1;33m\u001b[0m\u001b[1;33m\u001b[0m\u001b[0m\n\u001b[0m\u001b[0;32m    443\u001b[0m         )\n\u001b[0;32m    444\u001b[0m     \u001b[1;32mexcept\u001b[0m \u001b[0mValueError\u001b[0m\u001b[1;33m:\u001b[0m\u001b[1;33m\u001b[0m\u001b[1;33m\u001b[0m\u001b[0m\n",
      "\u001b[1;31mPDFInfoNotInstalledError\u001b[0m: Unable to get page count. Is poppler installed and in PATH?"
     ]
    }
   ],
   "source": []
  },
  {
   "cell_type": "code",
   "execution_count": null,
   "metadata": {},
   "outputs": [],
   "source": []
  }
 ],
 "metadata": {
  "kernelspec": {
   "display_name": "Python 3",
   "language": "python",
   "name": "python3"
  },
  "language_info": {
   "codemirror_mode": {
    "name": "ipython",
    "version": 3
   },
   "file_extension": ".py",
   "mimetype": "text/x-python",
   "name": "python",
   "nbconvert_exporter": "python",
   "pygments_lexer": "ipython3",
   "version": "3.7.4"
  }
 },
 "nbformat": 4,
 "nbformat_minor": 2
}
