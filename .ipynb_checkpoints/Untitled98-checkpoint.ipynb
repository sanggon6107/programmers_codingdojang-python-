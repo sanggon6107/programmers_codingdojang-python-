{
 "cells": [
  {
   "cell_type": "code",
   "execution_count": 8,
   "metadata": {},
   "outputs": [
    {
     "name": "stdout",
     "output_type": "stream",
     "text": [
      "N : 6\n",
      "M : 5\n",
      "INPUT 1 : 1 1\n",
      "INPUT 2 : 2 2\n",
      "INPUT 3 : 3 3\n",
      "INPUT 4 : 4 4\n",
      "INPUT 5 : 5 5\n",
      "[[1, 1], [2, 2], [3, 3], [4, 4], [5, 5]]\n"
     ]
    }
   ],
   "source": [
    "import re\n",
    "\n",
    "HIK = []\n",
    "\n",
    "N = int(input(\"N : \")) # 주어지는 총량\n",
    "M = int(input(\"M : \")) # 비교 회수\n",
    "\n",
    "inp_com = re.compile(\"\\d+\")\n",
    "\n",
    "for i in range(M) :\n",
    "    HIK.append(list(map(int, inp_com.findall(input(\"INPUT %s : \"%str(i+1))))))\n",
    "print(HIK)"
   ]
  },
  {
   "cell_type": "code",
   "execution_count": 9,
   "metadata": {},
   "outputs": [
    {
     "ename": "SyntaxError",
     "evalue": "invalid syntax (<ipython-input-9-202e8c6bf082>, line 7)",
     "output_type": "error",
     "traceback": [
      "\u001b[1;36m  File \u001b[1;32m\"<ipython-input-9-202e8c6bf082>\"\u001b[1;36m, line \u001b[1;32m7\u001b[0m\n\u001b[1;33m    table_D = [[0, 3, 8, 'INF', -4]['INF', 0, ][][][]]\u001b[0m\n\u001b[1;37m                                                ^\u001b[0m\n\u001b[1;31mSyntaxError\u001b[0m\u001b[1;31m:\u001b[0m invalid syntax\n"
     ]
    }
   ],
   "source": [
    "# Floyd-Warshall algorithm\n",
    "\n",
    "# 구성요소 : 1, 2, 3, 4 , 5\n",
    "\n",
    "# 초기 테이블(D)\n",
    "\n",
    "table_D = [[0, 3, 8, 'INF', -4], ['INF', 0, 'INF', 1, 7], ['INF', 4, 0, 'INF', 'INF'], [2, 'INF', -5, 0, 'INF'], ['INF', 'INF', 'INF', 6, 0]]\n",
    "\n",
    "# 초기 테이블(P)\n",
    "\n",
    "table_P = [['NIL', 1, 1, 'NIL', '1'], ['NIL', 'NIL', 'NIL', 2, 2], ['NIL', 3, 'NIL', 'NIL', 'NIL'], [4, 1, 4, 'NIL', 1], ['NIL', 'NIL' 'NIL', 5, 'NIL']]\n"
   ]
  },
  {
   "cell_type": "code",
   "execution_count": null,
   "metadata": {},
   "outputs": [],
   "source": []
  }
 ],
 "metadata": {
  "kernelspec": {
   "display_name": "Python 3",
   "language": "python",
   "name": "python3"
  },
  "language_info": {
   "codemirror_mode": {
    "name": "ipython",
    "version": 3
   },
   "file_extension": ".py",
   "mimetype": "text/x-python",
   "name": "python",
   "nbconvert_exporter": "python",
   "pygments_lexer": "ipython3",
   "version": "3.7.3"
  }
 },
 "nbformat": 4,
 "nbformat_minor": 2
}
