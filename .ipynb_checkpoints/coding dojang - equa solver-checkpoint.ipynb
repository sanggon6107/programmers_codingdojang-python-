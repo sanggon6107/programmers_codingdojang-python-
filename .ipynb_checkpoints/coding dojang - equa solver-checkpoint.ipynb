{
 "cells": [
  {
   "cell_type": "code",
   "execution_count": 25,
   "metadata": {},
   "outputs": [
    {
     "name": "stdout",
     "output_type": "stream",
     "text": [
      "INPUT : -1 8 -9\n",
      "INITIAL POINT : (3.000000, 6.000000)\n",
      "\n",
      "----------ITERATION 1----------\n",
      "next_pos = (0.000000, -9.000000)\n",
      "\n",
      "----------ITERATION 2----------\n",
      "next_pos = (1.125000, -1.265625)\n",
      "\n",
      "----------ITERATION 3----------\n",
      "next_pos = (1.345109, -0.048448)\n",
      "\n",
      "----------ITERATION 4----------\n",
      "next_pos = (1.354233, -0.000083)\n",
      "\n",
      "----------ITERATION 5----------\n",
      "next_pos = (1.354249, -0.000000)\n",
      "\n",
      "INITIAL POINT : (5.000000, 6.000000)\n",
      "\n",
      "----------ITERATION 1----------\n",
      "next_pos = (8.000000, -9.000000)\n",
      "\n",
      "----------ITERATION 2----------\n",
      "next_pos = (6.875000, -1.265625)\n",
      "\n",
      "----------ITERATION 3----------\n",
      "next_pos = (6.654891, -0.048448)\n",
      "\n",
      "----------ITERATION 4----------\n",
      "next_pos = (6.645767, -0.000083)\n",
      "\n",
      "----------ITERATION 5----------\n",
      "next_pos = (6.645751, -0.000000)\n",
      "\n",
      "Numerical solution :  ( 1.3542486888886305 , 6.645751311111369 )\n",
      "( 1.3542486889354093 ,  6.645751311064591 )\n",
      "error :  4.677880305337112e-11 4.6778581008766196e-11\n"
     ]
    }
   ],
   "source": [
    "import math\n",
    "\n",
    "def sol(a, b, c, initial) :\n",
    "    \n",
    "    the_number_of_iteration = 0\n",
    "    pos = [initial, a*(initial)**2+b*(initial)+c]\n",
    "    next_pos = [0, 0]\n",
    "    \n",
    "    print(\"INITIAL POINT : (%f, %f)\\n\" %(pos[0], pos[1]))\n",
    "    \n",
    "    while True :\n",
    "        the_number_of_iteration += 1\n",
    "        print(\"-\"*10+\"ITERATION %d\" % the_number_of_iteration+\"-\"*10)\n",
    "        next_pos[0] = ((-pos[1])/(2*a*pos[0]+b)) + pos[0]\n",
    "        next_pos[1] = a*(next_pos[0])**2 + b*(next_pos[0]) + c\n",
    "        \n",
    "        pos = [next_pos[0], next_pos[1]]\n",
    "        \n",
    "        print(\"next_pos = (%f, %f)\\n\" %(next_pos[0], next_pos[1]))\n",
    "        \n",
    "        if abs(pos[1]) <= 1.00e-6 :\n",
    "            return (pos[0], pos[1])\n",
    "\n",
    "    return 0\n",
    "\n",
    "def cen(a2, b2, c2) :\n",
    "    j = (-b2)/(2*a2) \n",
    "    f_j = (a2*j)**2+(b2*j)+c2\n",
    "    \n",
    "    if a2*f_j > 0 : return (0, j)\n",
    "    elif  f_j == 0 : return (1, j)\n",
    "    else : return (2, j)\n",
    "\n",
    "\n",
    "def equa_solver(a3, b3, c3) :\n",
    "    r = cen(a3, b3, c3)\n",
    "    if r[0] == 0 : \n",
    "        print(\"No solution.\")\n",
    "        return r[1]\n",
    "    elif r[0] == 1 : \n",
    "        return print(r[1])\n",
    "    else :\n",
    "        D = math.sqrt((b3**2)-4*a3*c3)\n",
    "        x_1_2 = sorted([(-b3-D)/(2*a3), (-b3+D)/(2*a3)])\n",
    "        numerical = [sol(a3, b3, c3, r[1]-1)[0], sol(a3, b3, c3, r[1]+1)[0]]\n",
    "        print(\"Numerical solution : \", \"(\", numerical[0],\",\", numerical[1], \")\")\n",
    "        print(\"(\", x_1_2[0],\", \", x_1_2[1], \")\")\n",
    "        return print(\"error : \", abs(numerical[0]-x_1_2[0]), abs(numerical[1]-x_1_2[1]))\n",
    "\n",
    "if __name__ == \"__main__\" :\n",
    "\n",
    "    in_a, in_b, in_c = 0, 0, 0\n",
    "    while True :\n",
    "        try :\n",
    "            \n",
    "            in_a, in_b, in_c = map(int, input(\"INPUT : \").split())\n",
    "            if (-10<=in_a<=10) and (-10<=in_b<=10) and (-10<=in_c<=10) :\n",
    "                equa_solver(in_a, in_b, in_c)\n",
    "                break\n",
    "            else : continue\n",
    "        except :\n",
    "            print(\"ERROR\")\n",
    "            break\n",
    "    #equa_solver(1, -8, 14)\n",
    "    #sol(1, -4, 2)\n",
    "    #print(cen(1, -4, 2))"
   ]
  },
  {
   "cell_type": "code",
   "execution_count": 15,
   "metadata": {},
   "outputs": [
    {
     "name": "stdout",
     "output_type": "stream",
     "text": [
      "2.0\n"
     ]
    }
   ],
   "source": [
    "import math\n",
    "print(math.sqrt(4))"
   ]
  },
  {
   "cell_type": "code",
   "execution_count": null,
   "metadata": {},
   "outputs": [],
   "source": []
  }
 ],
 "metadata": {
  "kernelspec": {
   "display_name": "Python 3",
   "language": "python",
   "name": "python3"
  },
  "language_info": {
   "codemirror_mode": {
    "name": "ipython",
    "version": 3
   },
   "file_extension": ".py",
   "mimetype": "text/x-python",
   "name": "python",
   "nbconvert_exporter": "python",
   "pygments_lexer": "ipython3",
   "version": "3.7.4"
  }
 },
 "nbformat": 4,
 "nbformat_minor": 2
}
