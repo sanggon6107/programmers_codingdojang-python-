{
 "cells": [
  {
   "cell_type": "code",
   "execution_count": 2,
   "metadata": {},
   "outputs": [
    {
     "name": "stdout",
     "output_type": "stream",
     "text": [
      "input : 1D2S3T*\n",
      "1**2+2**1*2+3**3*2 = 59\n"
     ]
    }
   ],
   "source": [
    "import re\n",
    "inp, result = input(\"input : \"), []\n",
    "p = re.compile(\"\\d+[SDT][*#]?\")\n",
    "lst = p.findall(inp)                         #정규표현식으로 각 시행 결과를 리스트로 나눕니다\n",
    "for i in range(0, 3) :\n",
    "    if lst[i][-1] == '*' :                   #먼저 *를 처리합니다(SDT를 먼저 처리하면 그 결과에 *가 포함되므로)\n",
    "        lst[i] = lst[i].replace('*', '*2')\n",
    "        if i != 0 :\n",
    "            lst[i-1] += '*2'\n",
    "    lst[i] = lst[i].replace('S', '**1').replace('D', '**2').replace('T', '**3').replace('#', '*(-1)')\n",
    "    #SDT 및 #를 수식과 바꿉니다\n",
    "print(\"+\".join(lst),'=', eval(\"+\".join(lst))) #바꾼 문자열을 계산합니다"
   ]
  },
  {
   "cell_type": "code",
   "execution_count": 3,
   "metadata": {},
   "outputs": [],
   "source": [
    "import re\n",
    "def solution(dartResult):\n",
    "    p = re.compile(\"\\d+[SDT][*#]?\")\n",
    "    lst = p.findall(dartResult)\n",
    "    for i in range(0, 3) :\n",
    "        if lst[i][-1] == '*' :\n",
    "            lst[i] = lst[i].replace('*', '*2')\n",
    "            if i != 0 :\n",
    "                lst[i-1] += '*2'\n",
    "        lst[i] = lst[i].replace('S', '**1').replace('D', '**2').replace('T', '**3').replace('#', '*(-1)')\n",
    "    return eval(\"+\".join(lst))"
   ]
  },
  {
   "cell_type": "code",
   "execution_count": null,
   "metadata": {},
   "outputs": [],
   "source": []
  }
 ],
 "metadata": {
  "kernelspec": {
   "display_name": "Python 3",
   "language": "python",
   "name": "python3"
  },
  "language_info": {
   "codemirror_mode": {
    "name": "ipython",
    "version": 3
   },
   "file_extension": ".py",
   "mimetype": "text/x-python",
   "name": "python",
   "nbconvert_exporter": "python",
   "pygments_lexer": "ipython3",
   "version": "3.7.3"
  }
 },
 "nbformat": 4,
 "nbformat_minor": 2
}
