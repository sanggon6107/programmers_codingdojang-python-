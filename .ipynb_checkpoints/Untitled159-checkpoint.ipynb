{
 "cells": [
  {
   "cell_type": "code",
   "execution_count": 38,
   "metadata": {
    "scrolled": true
   },
   "outputs": [
    {
     "data": {
      "text/plain": [
       "5"
      ]
     },
     "execution_count": 38,
     "metadata": {},
     "output_type": "execute_result"
    }
   ],
   "source": [
    "def solution(numbers, target):\n",
    "    stack, numbers, answer = ['+','-'], list(map(str, numbers)), 0\n",
    "    while len(stack) != 0 :\n",
    "        popData = stack.pop()\n",
    "        if len(popData) == len(numbers) :\n",
    "            if eval(\"\".join([(list(popData))[i]+numbers[i] for i in range(0, len(numbers))])) == target :\n",
    "                answer += 1 \n",
    "        else :\n",
    "            for next_ in ('+', '-') : \n",
    "                stack.append(popData+next_)\n",
    "    return answer\n",
    "solution([1, 1, 1, 1, 1], 3)"
   ]
  },
  {
   "cell_type": "code",
   "execution_count": 19,
   "metadata": {},
   "outputs": [
    {
     "name": "stdout",
     "output_type": "stream",
     "text": [
      "['1', '1', '1', '1']\n",
      "['-', '-', '-', '-']\n"
     ]
    },
    {
     "data": {
      "text/plain": [
       "'-1-1-1-1'"
      ]
     },
     "execution_count": 19,
     "metadata": {},
     "output_type": "execute_result"
    }
   ],
   "source": [
    "from functools import reduce\n",
    "stack = ['++++', '----']\n",
    "numbers = [1, 1, 1, 1]\n",
    "numbers = list(map(str, numbers))\n",
    "popData = stack.pop()\n",
    "#print(reduce(lambda x, y : x+y , list(zip(list(popData), numbers))))\n",
    "print(numbers)\n",
    "print(list(popData))\n",
    "\"\".join([(list(popData))[i]+numbers[i] for i in range(0, len(numbers))])"
   ]
  },
  {
   "cell_type": "code",
   "execution_count": null,
   "metadata": {},
   "outputs": [],
   "source": [
    "from copy import deepcopy\n",
    "\n",
    "def solution(numbers, target):\n",
    "    stack, numbers, answer = [['+'],['-']], list(map(str, numbers)), 0\n",
    "    while len(stack) != 0 :\n",
    "        popData = stack.pop()\n",
    "        if len(popData) == len(numbers) :\n",
    "            if eval(\"\".join([(list(popData))[i]+numbers[i] for i in range(0, len(numbers))])) == target :\n",
    "                answer += 1 \n",
    "        else :\n",
    "            for next_ in ('+', '-') : \n",
    "                stack.append(popData+next_)\n",
    "    return answer\n",
    "solution([1, 1, 1, 1, 1], 3)"
   ]
  },
  {
   "cell_type": "code",
   "execution_count": null,
   "metadata": {},
   "outputs": [],
   "source": [
    "## int형으로 바로 계산.\n",
    "## 백트랙킹 알고리즘은 유지하되, depth를 나타내는 인덱스를 튜플 형태로 나타낼 것. ->  (number, depth)\n",
    "from copy import deepcopy\n",
    "def solution(numbers, target):\n",
    "    answer = 0\n",
    "    stack = [(numbers[0], 1), (-1*numbers[0], 1)]\n",
    "    while len(stack) != 0 :\n",
    "        popData = stack.pop()\n",
    "        if popData[1] == len(numbers) :\n",
    "            if popData[0] == target : answer += 1\n",
    "        copyData = deepcopy(popData)\n",
    "        stack.append()\n",
    "        \n",
    "        break\n",
    "        \n",
    "    queue.count(target)\n",
    "    return answer\n",
    "solution([1, 1, 1, 1, 1], 3)"
   ]
  }
 ],
 "metadata": {
  "kernelspec": {
   "display_name": "Python 3",
   "language": "python",
   "name": "python3"
  },
  "language_info": {
   "codemirror_mode": {
    "name": "ipython",
    "version": 3
   },
   "file_extension": ".py",
   "mimetype": "text/x-python",
   "name": "python",
   "nbconvert_exporter": "python",
   "pygments_lexer": "ipython3",
   "version": "3.7.3"
  }
 },
 "nbformat": 4,
 "nbformat_minor": 2
}
