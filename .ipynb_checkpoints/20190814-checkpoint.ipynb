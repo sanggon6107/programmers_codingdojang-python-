{
 "cells": [
  {
   "cell_type": "code",
   "execution_count": 1,
   "metadata": {},
   "outputs": [
    {
     "ename": "SystemExit",
     "evalue": "0",
     "output_type": "error",
     "traceback": [
      "An exception has occurred, use %tb to see the full traceback.\n",
      "\u001b[1;31mSystemExit\u001b[0m\u001b[1;31m:\u001b[0m 0\n"
     ]
    },
    {
     "name": "stderr",
     "output_type": "stream",
     "text": [
      "C:\\ProgramData\\Anaconda3\\lib\\site-packages\\IPython\\core\\interactiveshell.py:3304: UserWarning: To exit: use 'exit', 'quit', or Ctrl-D.\n",
      "  warn(\"To exit: use 'exit', 'quit', or Ctrl-D.\", stacklevel=1)\n"
     ]
    }
   ],
   "source": [
    "import sys\n",
    "from PyQt5.QtWidgets import QApplication, QWidget, QPushButton, QLabel #메인 윈도우(initUI) 모듈\n",
    "from PyQt5.QtWidgets import QMainWindow #스테이터스바를 위한 모듈\n",
    "from PyQt5.QtCore import QCoreApplication #버튼 이벤트(quit) 모듈\n",
    "from PyQt5.QtCore import QDateTime # DATETIME 모듈\n",
    "\n",
    "class MyApp(QMainWindow):\n",
    "\n",
    "    def __init__(self):\n",
    "        super().__init__()\n",
    "\n",
    "        self.initUI()\n",
    "        \n",
    "    def initUI(self):\n",
    "        \n",
    "        DT = QDateTime.currentDateTime()\n",
    "        self.statusBar().showMessage(DT.toString('yyyy년 MM월 dd일'))\n",
    "        \n",
    "        \n",
    "        btn_1 = QPushButton('Quit(NOTSAFE)', self)  #인스턴스(객체)를 정의한다\n",
    "        btn_1.move(100, 50) #객체에 저장된 버튼의 위치 및 크기 조절\n",
    "        btn_1.resize(btn_1.sizeHint())\n",
    "        btn_1.clicked.connect(QCoreApplication.instance().quit) #버튼 이벤트 설정\n",
    "\n",
    "        label1 = QLabel('label1', self)\n",
    "        label1.move(10, 50)\n",
    "        \n",
    "        label2 = QLabel(DT.toString('yyyy.MM.dd'), self)\n",
    "        label2.move(150, 150)\n",
    "        \n",
    "        self.setWindowTitle('PyQt5 Tutorial')\n",
    "        self.setGeometry(700, 300, 500, 500)\n",
    "        self.show()\n",
    "        \n",
    "if __name__ == '__main__':\n",
    "\n",
    "    app = QApplication(sys.argv)\n",
    "    ex = MyApp()\n",
    "    sys.exit(app.exec_())"
   ]
  },
  {
   "cell_type": "code",
   "execution_count": null,
   "metadata": {},
   "outputs": [],
   "source": []
  }
 ],
 "metadata": {
  "kernelspec": {
   "display_name": "Python 3",
   "language": "python",
   "name": "python3"
  },
  "language_info": {
   "codemirror_mode": {
    "name": "ipython",
    "version": 3
   },
   "file_extension": ".py",
   "mimetype": "text/x-python",
   "name": "python",
   "nbconvert_exporter": "python",
   "pygments_lexer": "ipython3",
   "version": "3.7.3"
  }
 },
 "nbformat": 4,
 "nbformat_minor": 2
}
