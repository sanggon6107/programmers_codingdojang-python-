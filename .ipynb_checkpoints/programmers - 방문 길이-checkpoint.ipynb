{
 "cells": [
  {
   "cell_type": "code",
   "execution_count": 22,
   "metadata": {},
   "outputs": [
    {
     "data": {
      "text/plain": [
       "7"
      ]
     },
     "execution_count": 22,
     "metadata": {},
     "output_type": "execute_result"
    }
   ],
   "source": [
    "def solution(dirs):\n",
    "    answer, visited, x, y = 0, [], 0, 0\n",
    "    dxdy = [['R', 'L', 'U', 'D'], [1, -1, 0, 0], [0, 0, 1, -1]]\n",
    "    for load in range(0, len(dirs)) :\n",
    "        #print(dxdy[0].index(dirs[load]))\n",
    "        xNext = x + dxdy[1][dxdy[0].index(dirs[load])]\n",
    "        yNext = y + dxdy[2][dxdy[0].index(dirs[load])]\n",
    "        if abs(xNext) > 5 or abs(yNext) > 5 :\n",
    "            continue\n",
    "        else :\n",
    "            p = {(x, y), (xNext, yNext)}\n",
    "            if p in visited :\n",
    "                pass\n",
    "            else :\n",
    "                visited.append(p)\n",
    "                answer += 1\n",
    "            x, y = xNext, yNext\n",
    "    return answer\n",
    "#solution(\"ULURRDLLU\")\n",
    "solution(\"LULLLLLLU\")"
   ]
  },
  {
   "cell_type": "code",
   "execution_count": null,
   "metadata": {},
   "outputs": [],
   "source": []
  }
 ],
 "metadata": {
  "kernelspec": {
   "display_name": "Python 3",
   "language": "python",
   "name": "python3"
  },
  "language_info": {
   "codemirror_mode": {
    "name": "ipython",
    "version": 3
   },
   "file_extension": ".py",
   "mimetype": "text/x-python",
   "name": "python",
   "nbconvert_exporter": "python",
   "pygments_lexer": "ipython3",
   "version": "3.7.3"
  }
 },
 "nbformat": 4,
 "nbformat_minor": 2
}
