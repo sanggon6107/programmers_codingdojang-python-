{
 "cells": [
  {
   "cell_type": "code",
   "execution_count": 34,
   "metadata": {},
   "outputs": [
    {
     "name": "stdout",
     "output_type": "stream",
     "text": [
      "input : 1+2+3+5+6+7+8+9\n",
      "['3', '8', '13', '17']\n",
      "1+2+3+5+6+7+17\n",
      "['3', '8', '13']\n",
      "1+2+3+5+13+17\n",
      "['3', '8', '30']\n",
      "1+2+3+5+30\n",
      "['3', '8']\n",
      "1+2+8+30\n",
      "['3', '38']\n",
      "1+2+38\n",
      "['3']\n",
      "3+38\n",
      "['41']\n",
      "41\n"
     ]
    }
   ],
   "source": [
    "import re\n",
    "\n",
    "inp = input(\"input : \")\n",
    "inpre1 = re.compile(\"[\\d.]+[*/][\\d.]+\")\n",
    "while inpre1.search(inp) :\n",
    "    slist1 = inpre1.findall(inp)\n",
    "    kei1 = [str(eval(slist1[i])) for i in range(0, len(slist1))]\n",
    "    print(kei1)\n",
    "    inp = inp.replace(slist1[-1], kei1[-1])\n",
    "    print(inp)\n",
    "\n",
    "inpre2 = re.compile(\"[\\d.]+[+-][\\d.]+\")\n",
    "while inpre2.search(inp) :\n",
    "    slist2 = inpre2.findall(inp)\n",
    "    kei2 = [str(eval(slist2[i])) for i in range(0, len(slist2))]\n",
    "    print(kei2)\n",
    "    inp = inp.replace(slist2[-1], kei2[-1])\n",
    "    print(inp)"
   ]
  },
  {
   "cell_type": "code",
   "execution_count": 14,
   "metadata": {},
   "outputs": [
    {
     "name": "stdout",
     "output_type": "stream",
     "text": [
      "5+18-6/2+5\n",
      "5+18-3+5\n",
      "23-3+5\n",
      "20+5\n",
      "25\n",
      "-------------------\n",
      "14-4+8\n",
      "10+8\n",
      "18\n"
     ]
    }
   ],
   "source": [
    "import re\n",
    "t= re.compile('[\\d]*([+]|[-])[\\d]*')\n",
    "t2= re.compile('[\\d]*([*]|[/])[\\d]*')\n",
    "a ='9+5-4+8'\n",
    "b ='5+6*3-6/2+5'\n",
    "\n",
    "def func(a):\n",
    "    while t.search(a):\n",
    "        if t.search(a):\n",
    "            a=a.replace(t.search(a).group(0),str(eval(t.search(a).group(0))))\n",
    "            print(a)\n",
    "\n",
    "while t2.search(b):\n",
    "    if t2.search(b):\n",
    "        b=b.replace(t2.search(b).group(0),str(int(eval(t2.search(b).group(0)))))\n",
    "        print(b)\n",
    "func(b)\n",
    "print('-------------------')\n",
    "func(a)"
   ]
  },
  {
   "cell_type": "code",
   "execution_count": 17,
   "metadata": {},
   "outputs": [
    {
     "name": "stdout",
     "output_type": "stream",
     "text": [
      "6*3\n"
     ]
    }
   ],
   "source": [
    "inp = '5+6*3-6/2+5'\n",
    "ee = re.compile('\\d+[*/]\\d+')\n",
    "a = ee.search(inp).group(0)\n",
    "print(a)"
   ]
  },
  {
   "cell_type": "code",
   "execution_count": 53,
   "metadata": {},
   "outputs": [
    {
     "name": "stdout",
     "output_type": "stream",
     "text": [
      "input : -3 1 2 3\n",
      "0.75\n"
     ]
    }
   ],
   "source": [
    "import re\n",
    "inp = input(\"input : \")\n",
    "reli = re.compile(\"[-]?[\\d.]+\")\n",
    "li, su = reli.findall(inp), 0\n",
    "for e in li :\n",
    "    su += float(e)\n",
    "print(su/len(li))"
   ]
  },
  {
   "cell_type": "code",
   "execution_count": null,
   "metadata": {},
   "outputs": [],
   "source": []
  },
  {
   "cell_type": "code",
   "execution_count": null,
   "metadata": {},
   "outputs": [],
   "source": []
  }
 ],
 "metadata": {
  "kernelspec": {
   "display_name": "Python 3",
   "language": "python",
   "name": "python3"
  },
  "language_info": {
   "codemirror_mode": {
    "name": "ipython",
    "version": 3
   },
   "file_extension": ".py",
   "mimetype": "text/x-python",
   "name": "python",
   "nbconvert_exporter": "python",
   "pygments_lexer": "ipython3",
   "version": "3.7.3"
  }
 },
 "nbformat": 4,
 "nbformat_minor": 2
}
