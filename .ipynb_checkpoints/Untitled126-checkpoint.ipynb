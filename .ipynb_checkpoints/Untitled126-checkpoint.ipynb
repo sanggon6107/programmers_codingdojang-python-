{
 "cells": [
  {
   "cell_type": "code",
   "execution_count": 2,
   "metadata": {
    "scrolled": false
   },
   "outputs": [
    {
     "name": "stdout",
     "output_type": "stream",
     "text": [
      "INPUT : asdf\n"
     ]
    },
    {
     "ename": "TypeError",
     "evalue": "compile() missing 1 required positional argument: 'pattern'",
     "output_type": "error",
     "traceback": [
      "\u001b[1;31m---------------------------------------------------------------------------\u001b[0m",
      "\u001b[1;31mTypeError\u001b[0m                                 Traceback (most recent call last)",
      "\u001b[1;32m<ipython-input-2-2c7fbdca4496>\u001b[0m in \u001b[0;36m<module>\u001b[1;34m\u001b[0m\n\u001b[0;32m     19\u001b[0m \u001b[1;33m\u001b[0m\u001b[0m\n\u001b[0;32m     20\u001b[0m \u001b[1;32mif\u001b[0m \u001b[0m__name__\u001b[0m \u001b[1;33m==\u001b[0m \u001b[1;34m'__main__'\u001b[0m \u001b[1;33m:\u001b[0m\u001b[1;33m\u001b[0m\u001b[1;33m\u001b[0m\u001b[0m\n\u001b[1;32m---> 21\u001b[1;33m     \u001b[0mprint\u001b[0m\u001b[1;33m(\u001b[0m\u001b[0mmain\u001b[0m\u001b[1;33m(\u001b[0m\u001b[0mlist\u001b[0m\u001b[1;33m(\u001b[0m\u001b[0minput\u001b[0m\u001b[1;33m(\u001b[0m\u001b[1;34m\"INPUT : \"\u001b[0m\u001b[1;33m)\u001b[0m\u001b[1;33m)\u001b[0m\u001b[1;33m)\u001b[0m\u001b[1;33m)\u001b[0m\u001b[1;33m\u001b[0m\u001b[1;33m\u001b[0m\u001b[0m\n\u001b[0m",
      "\u001b[1;32m<ipython-input-2-2c7fbdca4496>\u001b[0m in \u001b[0;36mmain\u001b[1;34m(li)\u001b[0m\n\u001b[0;32m      4\u001b[0m     \u001b[0mres\u001b[0m \u001b[1;33m=\u001b[0m \u001b[1;34m''\u001b[0m\u001b[1;33m\u001b[0m\u001b[1;33m\u001b[0m\u001b[0m\n\u001b[0;32m      5\u001b[0m     \u001b[0mbalancing_com\u001b[0m \u001b[1;33m=\u001b[0m \u001b[0mre\u001b[0m\u001b[1;33m.\u001b[0m\u001b[0mcompile\u001b[0m\u001b[1;33m(\u001b[0m\u001b[1;34m\"\\(\"\u001b[0m\u001b[1;33m)\u001b[0m\u001b[1;33m\u001b[0m\u001b[1;33m\u001b[0m\u001b[0m\n\u001b[1;32m----> 6\u001b[1;33m     \u001b[0mbalancing2nd_com\u001b[0m \u001b[1;33m=\u001b[0m \u001b[0mre\u001b[0m\u001b[1;33m.\u001b[0m\u001b[0mcompile\u001b[0m\u001b[1;33m(\u001b[0m\u001b[1;33m)\u001b[0m\u001b[1;33m\u001b[0m\u001b[1;33m\u001b[0m\u001b[0m\n\u001b[0m\u001b[0;32m      7\u001b[0m     \u001b[1;32mwhile\u001b[0m \u001b[1;32mTrue\u001b[0m \u001b[1;33m:\u001b[0m\u001b[1;33m\u001b[0m\u001b[1;33m\u001b[0m\u001b[0m\n\u001b[0;32m      8\u001b[0m         \u001b[1;32mtry\u001b[0m \u001b[1;33m:\u001b[0m\u001b[1;33m\u001b[0m\u001b[1;33m\u001b[0m\u001b[0m\n",
      "\u001b[1;31mTypeError\u001b[0m: compile() missing 1 required positional argument: 'pattern'"
     ]
    }
   ],
   "source": [
    "import re\n",
    "\n",
    "def main(li) :\n",
    "    res = ''\n",
    "    balancing_com = re.compile(\"\\(\")\n",
    "    balancing2nd_com = re.compile(\"\\)\")\n",
    "    while True :\n",
    "        try :\n",
    "            det =  balancing_com.search(li).group()\n",
    "            li = balancing_com.sub(\"\", li)\n",
    "            li = balancing2nd_com.sub(\"\", li)\n",
    "        except :\n",
    "            if li == '' :\n",
    "                return True\n",
    "            else :\n",
    "                return False\n",
    "        break\n",
    "    return res\n",
    "\n",
    "if __name__ == '__main__' :\n",
    "    print(main(list(input(\"INPUT : \"))))\n",
    "    \n",
    "## \\(.*\\)"
   ]
  },
  {
   "cell_type": "code",
   "execution_count": 30,
   "metadata": {},
   "outputs": [
    {
     "name": "stdout",
     "output_type": "stream",
     "text": [
      "INPUT : (()()(()\n",
      "False\n"
     ]
    }
   ],
   "source": [
    "import re\n",
    "def main(li) :\n",
    "    balancing_com = re.compile(\"\\([^\\(^\\)]*\\)\")\n",
    "    while True :\n",
    "        try :\n",
    "            det = balancing_com.search(li).group()\n",
    "            li = balancing_com.sub(det[1:-1], li)\n",
    "        except :\n",
    "            if li == '' : return True\n",
    "            else : return False\n",
    "    return li\n",
    "if __name__ == '__main__' :\n",
    "    print(main(input(\"INPUT : \")))"
   ]
  },
  {
   "cell_type": "code",
   "execution_count": null,
   "metadata": {},
   "outputs": [],
   "source": [
    "a1b2cde3~g45hi6 → a*b*cde*~g4*hi6\n",
    "a*b*cde*~g4*hi6"
   ]
  },
  {
   "cell_type": "code",
   "execution_count": 61,
   "metadata": {
    "scrolled": false
   },
   "outputs": [
    {
     "name": "stdout",
     "output_type": "stream",
     "text": [
      "INPUT : a1b2cde3~g45hi6\n",
      "a*b*cde*~g4*hi6\n"
     ]
    }
   ],
   "source": [
    "import re\n",
    "\n",
    "def main(inp) :\n",
    "    inp_ev = inp[1::2]\n",
    "    EOD_com  = re.compile(\"\\d\")\n",
    "    inp_ev = EOD_com.sub('*', inp_ev)\n",
    "    for i in range(0, len(inp_ev)) :\n",
    "        inp = inp.replace(inp[2*i+1], inp_ev[i])\n",
    "    return inp\n",
    "\n",
    "if __name__ == '__main__' :\n",
    "    print(main(input(\"INPUT : \")))"
   ]
  },
  {
   "cell_type": "code",
   "execution_count": 57,
   "metadata": {},
   "outputs": [
    {
     "name": "stdout",
     "output_type": "stream",
     "text": [
      "*bcd\n",
      "abcd\n"
     ]
    }
   ],
   "source": []
  },
  {
   "cell_type": "code",
   "execution_count": null,
   "metadata": {},
   "outputs": [],
   "source": []
  }
 ],
 "metadata": {
  "kernelspec": {
   "display_name": "Python 3",
   "language": "python",
   "name": "python3"
  },
  "language_info": {
   "codemirror_mode": {
    "name": "ipython",
    "version": 3
   },
   "file_extension": ".py",
   "mimetype": "text/x-python",
   "name": "python",
   "nbconvert_exporter": "python",
   "pygments_lexer": "ipython3",
   "version": "3.7.3"
  }
 },
 "nbformat": 4,
 "nbformat_minor": 2
}
