{
 "cells": [
  {
   "cell_type": "code",
   "execution_count": 14,
   "metadata": {},
   "outputs": [
    {
     "name": "stdout",
     "output_type": "stream",
     "text": [
      "STRING : Hello World!\n",
      "SCND_T : 2\n",
      "Igoqw Rwuwr!\n"
     ]
    }
   ],
   "source": [
    "def Dynamic_Programming(n, li) :\n",
    "    if n == 1  or n == 2 :\n",
    "        return li[n-1]\n",
    "    else :\n",
    "        if li[n-1] != '#' : return li[n-1]\n",
    "        elif li[n-1] == '#' :\n",
    "            li[n-1] = Dynamic_Programming(n-1, li)+ Dynamic_Programming(n-2, li)\n",
    "    return li[n-1]\n",
    "\n",
    "def fib(N, sec) :\n",
    "    LI = [1]+[sec]+['#' for i in range(N-2)]\n",
    "    Dynamic_Programming(N, LI)\n",
    "    return LI\n",
    "\n",
    "def main() :\n",
    "    str_input = input(\"STRING : \")\n",
    "    scnd_t = int(input(\"SCND_T : \"))\n",
    "    cod, res = fib(len(str_input), scnd_t), ''\n",
    "    map_ = 'aAbBcCdDeEfFgGhHiIjJkKlLmMnNoOpPqQrRsStTuUvVwWxXyYzZ'\n",
    "    \n",
    "    for i in range(0, len(str_input)) :\n",
    "        if str_input[i] in map_ :\n",
    "            res += map_[(map_.index(str_input[i])+2*cod[i])%52]\n",
    "        else :\n",
    "            res += str_input[i]\n",
    "    return res\n",
    "\n",
    "print(main())"
   ]
  },
  {
   "cell_type": "code",
   "execution_count": 5,
   "metadata": {},
   "outputs": [
    {
     "data": {
      "text/plain": [
       "52"
      ]
     },
     "execution_count": 5,
     "metadata": {},
     "output_type": "execute_result"
    }
   ],
   "source": []
  },
  {
   "cell_type": "code",
   "execution_count": null,
   "metadata": {},
   "outputs": [],
   "source": []
  }
 ],
 "metadata": {
  "kernelspec": {
   "display_name": "Python 3",
   "language": "python",
   "name": "python3"
  },
  "language_info": {
   "codemirror_mode": {
    "name": "ipython",
    "version": 3
   },
   "file_extension": ".py",
   "mimetype": "text/x-python",
   "name": "python",
   "nbconvert_exporter": "python",
   "pygments_lexer": "ipython3",
   "version": "3.7.3"
  }
 },
 "nbformat": 4,
 "nbformat_minor": 2
}
