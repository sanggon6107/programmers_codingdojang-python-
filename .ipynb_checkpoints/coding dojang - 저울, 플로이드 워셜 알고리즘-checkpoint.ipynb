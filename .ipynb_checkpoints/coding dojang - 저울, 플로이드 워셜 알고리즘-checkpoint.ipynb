{
 "cells": [
  {
   "cell_type": "code",
   "execution_count": 17,
   "metadata": {},
   "outputs": [
    {
     "name": "stdout",
     "output_type": "stream",
     "text": [
      "N : 6\n",
      "M : 5\n",
      "INPUT 1 : 1 2\n",
      "INPUT 2 : 2 3\n",
      "INPUT 3 : 3 4\n",
      "INPUT 4 : 5 4\n",
      "INPUT 5 : 6 5\n",
      "[[inf, inf, inf, inf, inf, inf], [1, inf, inf, inf, inf, inf], [2, 1, inf, inf, inf, inf], [3, 2, 1, inf, 1, 2], [inf, inf, inf, inf, inf, 1], [inf, inf, inf, inf, inf, inf]]\n",
      "[0, 1, 2, 5, 1, 0]\n"
     ]
    }
   ],
   "source": [
    "import re\n",
    "\n",
    "N = int(input(\"N : \")) # 주어지는 총량\n",
    "\n",
    "D_table = [[float('inf') for i in range(0, N)] for k in range(0, N)]\n",
    "# P_table = [['NIL' for i in range(0, N)] for k in range(0, N)]\n",
    "\n",
    "M = int(input(\"M : \")) # 비교 회수\n",
    "\n",
    "inp_com = re.compile(\"\\d+\")\n",
    "\n",
    "for o in range(0, M) :\n",
    "    tem_f = list(map(int, inp_com.findall(input(\"INPUT %s : \"% str(o+1)))))\n",
    "    D_table[tem_f[1]-1][tem_f[0]-1] = 1\n",
    "    P_table[tem_f[1]-1][tem_f[0]-1] = tem_f[1]\n",
    "\n",
    "# for i in range(M) :\n",
    "# HIK.append(list(map(int, inp_com.findall(input(\"INPUT %s : \"%str(i+1))))))\n",
    "# print(HIK)\n",
    "\n",
    "def get_table(D) :\n",
    "    #i행 j열 : 노드 i(2번번째 루프)에서  노드 j(3번째 루프, 가장 안쪽)까지 가는데 최단 경로를 계산. 노드 k(가장 바깥 루프) 를 경유하는\n",
    "    #경우를 계산한 후, local optimal solution을 반환하여 테이블을 수정한다.\n",
    "    for k in range(0, len(D)) :\n",
    "        for i in range(0, len(D)) :\n",
    "            for j in range(0, len(D[0])) :\n",
    "                if D[i][j] > D[i][k] + D[k][j] :\n",
    "                    D[i][j] = D[i][k] + D[k][j]\n",
    "    return D\n",
    "\n",
    "def route_ch(DD, co) :\n",
    "\n",
    "    for col in range(0, N) : #행에 대한 전체 탐색\n",
    "        co[col] = N-DD[col].count(float('inf'))\n",
    "    for row in range(0, N) : #열에 대한 전체 탐색\n",
    "        \n",
    "    \n",
    "    return co\n",
    "\n",
    "print(get_table(D_table))\n",
    "print(route_ch(D_table, [0 for u in range(0, N)]))\n"
   ]
  },
  {
   "cell_type": "code",
   "execution_count": 71,
   "metadata": {
    "scrolled": true
   },
   "outputs": [
    {
     "name": "stdout",
     "output_type": "stream",
     "text": [
      "From : 1, To : 1      1\n",
      "From : 1, To : 2      1-5-4-3-2\n",
      "From : 1, To : 3      1-5-4-3\n",
      "From : 1, To : 4      1-5-4\n",
      "From : 1, To : 5      1-5\n",
      "From : 2, To : 1      2-4-1\n",
      "From : 2, To : 2      2\n",
      "From : 2, To : 3      2-4-3\n",
      "From : 2, To : 4      2-4\n",
      "From : 2, To : 5      2-4-1-5\n",
      "From : 3, To : 1      3-2-4-1\n",
      "From : 3, To : 2      3-2\n",
      "From : 3, To : 3      3\n",
      "From : 3, To : 4      3-2-4\n",
      "From : 3, To : 5      3-2-4-1-5\n",
      "From : 4, To : 1      4-1\n",
      "From : 4, To : 2      4-3-2\n",
      "From : 4, To : 3      4-3\n",
      "From : 4, To : 4      4\n",
      "From : 4, To : 5      4-1-5\n",
      "From : 5, To : 1      5-4-1\n",
      "From : 5, To : 2      5-4-3-2\n",
      "From : 5, To : 3      5-4-3\n",
      "From : 5, To : 4      5-4\n",
      "From : 5, To : 5      5\n",
      "D : \n",
      " [[0, 1, -3, 2, -4], [3, 0, -4, 1, -1], [7, 4, 0, 5, 3], [2, -1, -5, 0, -2], [8, 5, 1, 6, 0]] \n",
      "\n",
      "\n",
      "None\n"
     ]
    }
   ],
   "source": [
    "# Floyd-Warshall algorithm\n",
    "\n",
    "# 구성요소 : 1, 2, 3, 4 , 5\n",
    "\n",
    "# 초기 테이블(D)\n",
    "\n",
    "table_D = [[0, 3, 8, float('inf'), -4], [float('inf'), 0, float('inf'), 1, 7], [float('inf'), 4, 0, float('inf'), float('inf')], [2, float('inf'), -5, 0, float('inf')], [float('inf'), float('inf'), float('inf'), 6, 0]]\n",
    "\n",
    "# 초기 테이블(P)\n",
    "\n",
    "### 코드 설계 : 1. 초기 테이블에 대하여, 노드1을 경유하는 경우의 D테이블 갱신 결과를 구현한다. ('INF'주의)\n",
    "###            2. 초기 테이블에 대하여, 노드1을 경유하는 경우의 P테이블 갱신 결과를 구현한다. ('NIL'주의)(D테이블 갱신작업과 동시에 수행)\n",
    "###            3. 모든 노드에 대한 테이블 갱신을 구현한다.\n",
    "###            4. route계산 함수를 구현한다.\n",
    "\n",
    "table_P = [['NIL', 1, 1, 'NIL', 1], ['NIL', 'NIL', 'NIL', 2, 2], ['NIL', 3, 'NIL', 'NIL', 'NIL'], [4, 'NIL', 4, 'NIL', 'NIL'], ['NIL', 'NIL', 'NIL', 5, 'NIL']]\n",
    "\n",
    "table_D1 = [[0, 4, -1, 8], [float('inf'), 0, -2, -10], [float('inf'), float('inf'), 0, 3], [float('inf'), float('inf'), float('inf'), 0]]\n",
    "table_P1 = [['NIL', 1, 1, 1], ['NIL', 'NIL', 2, 2], ['NIL', 'NIL', 'NIL', 3], ['NIL', 'NIL', 'NIL', 'NIL']]\n",
    "\n",
    "'''def dis_sum(al, be) : # 경로 합산\n",
    "    if type(al) == str :\n",
    "        return 'INF'\n",
    "    if type(be) == str :\n",
    "        return 'INF'\n",
    "    if type(al) == type(be) == int :\n",
    "        return al + be\n",
    "\n",
    "def dis_com(al_1, be_1) : #경로 코스트 비교\n",
    "'''\n",
    "\n",
    "#D_ex = [[float('inf'), float('inf'), float('inf'), float('inf'), float('inf'), float('inf')],[1, float('inf'), float('inf'), float('inf'), float('inf'), float('inf')],\n",
    "#        [1, float('inf'), float('inf'), float('inf'), float('inf'), float('inf')],[1, float('inf'), float('inf'), 1, 1],\n",
    "#        [float('inf'), float('inf'), float('inf'), float('inf'), float('inf'), float('inf')],[float('inf'), float('inf'), float('inf'), float('inf'), float('inf'), float('inf')]]\n",
    "#P_ex = [['NIL', ],[],[],[],[],[]]\n",
    "\n",
    "\n",
    "\n",
    "def get_table(D, P) :\n",
    "    #i행 j열 : 노드 i(2번번째 루프)에서  노드 j(3번째 루프, 가장 안쪽)까지 가는데 최단 경로를 계산. 노드 k(가장 바깥 루프) 를 경유하는\n",
    "    #경우를 계산한 후, local optimal solution을 반환하여 테이블을 수정한다.\n",
    "    for k in range(0, len(D)) :\n",
    "        for i in range(0, len(D)) :\n",
    "            for j in range(0, len(D[0])) :\n",
    "                if D[i][j] > D[i][k] + D[k][j] :\n",
    "                    D[i][j] = D[i][k] + D[k][j]\n",
    "                    P[i][j] = P[k][j]\n",
    "    return(D, P)\n",
    "\n",
    "def get_route(DD, PP) :\n",
    "    res_D, res_P = get_table(DD, PP)\n",
    "    \n",
    "    for x in range(0, len(res_P)) :\n",
    "        for y in range(0, len(res_P[0])) :\n",
    "            k = y\n",
    "            route = ''\n",
    "            while res_P[x][y] != 'NIL' :\n",
    "                route = str(res_P[x][y]) + route\n",
    "                y = res_P[x][y]-1\n",
    "            print('From : %s, To : %s'%(x+1, k+1),\"    \" , \"-\".join(list(route+str(k+1))))\n",
    "    \n",
    "    \n",
    "    return print(\"D : \\n\", res_D, '\\n\\n', )\n",
    "\n",
    "\n",
    "print(get_route(table_D, table_P))"
   ]
  },
  {
   "cell_type": "code",
   "execution_count": 14,
   "metadata": {},
   "outputs": [
    {
     "data": {
      "text/plain": [
       "1"
      ]
     },
     "execution_count": 14,
     "metadata": {},
     "output_type": "execute_result"
    }
   ],
   "source": [
    "k = [1, 2, 3, 4, 5]\n",
    "\n",
    "k.count(3)"
   ]
  },
  {
   "cell_type": "code",
   "execution_count": null,
   "metadata": {},
   "outputs": [],
   "source": []
  }
 ],
 "metadata": {
  "kernelspec": {
   "display_name": "Python 3",
   "language": "python",
   "name": "python3"
  },
  "language_info": {
   "codemirror_mode": {
    "name": "ipython",
    "version": 3
   },
   "file_extension": ".py",
   "mimetype": "text/x-python",
   "name": "python",
   "nbconvert_exporter": "python",
   "pygments_lexer": "ipython3",
   "version": "3.7.3"
  }
 },
 "nbformat": 4,
 "nbformat_minor": 2
}
