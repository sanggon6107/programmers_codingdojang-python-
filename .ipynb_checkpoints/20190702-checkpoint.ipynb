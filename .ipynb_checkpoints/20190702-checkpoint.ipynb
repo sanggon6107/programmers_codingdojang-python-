{
 "cells": [
  {
   "cell_type": "code",
   "execution_count": 20,
   "metadata": {},
   "outputs": [
    {
     "name": "stdout",
     "output_type": "stream",
     "text": [
      "================================================== 2019.07.01 ==================================================\n",
      "YNP= ['Life', 'is', 'short', 'you', 'need', 'Python']\n",
      "\n",
      " list to string :  Life is short you need Python\n",
      "\n",
      " using 'join' :  Life is short you need Python \n",
      "EVEN =  [2, 4, 6, 8, 10, 12]\n",
      "ODD =  [1, 3, 5, 7, 9, 11]\n",
      "\n",
      "\n",
      "out\n",
      "\n",
      "LIST_COMPREHENSION =  [6, 64, 88, 56]\n",
      "PR_LIST_COMPREHENSIION =  [12, 128, 176, 112]\n",
      "RESULT_LIST_COMPREHENSION =  [18, 192, 264, 168]\n"
     ]
    }
   ],
   "source": [
    "print(\"=\"*50, \"2019.07.01\", \"=\"*50)\n",
    "\n",
    "import sys\n",
    "import numpy as np\n",
    "from copy import copy\n",
    "\n",
    "#list to string : using formatting\n",
    "\n",
    "YNP=['Life', 'is', 'short', 'you', 'need', 'Python']\n",
    "print(\"YNP=\", YNP)\n",
    "\n",
    "YNPP=\"%s %s %s %s %s %s\" %(YNP[0], YNP[1], YNP[2], YNP[3], YNP[4], YNP[5])\n",
    "\n",
    "print(\"\\n list to string : \", YNPP)\n",
    "\n",
    "print(\"\\n using 'join' : \", \" \".join(YNP), '')\n",
    "\n",
    "#반대로, 문자열 자료형을 리스트 자료형으로 바꿀 떄는 while, for문 이용. **다른 방법 없나?\n",
    "\n",
    "\n",
    "#To make odd numbers even : using 'while True :', 'continue'\n",
    "\n",
    "COUNT_LIST = 0\n",
    "EVEN = [2, 4, 6, 8, 10, 12]\n",
    "ODD = []\n",
    "\n",
    "print(\"EVEN = \", EVEN)\n",
    "while True :\n",
    "    ODD.append(EVEN[COUNT_LIST]-1)  #list_name.append(value)\n",
    "    if COUNT_LIST == 5 :\n",
    "        break\n",
    "    else :\n",
    "        COUNT_LIST += 1\n",
    "        continue\n",
    "        \n",
    "print(\"ODD = \", ODD)\n",
    "\n",
    "print('\\n')\n",
    "sys.stdout.write('out')  # using sys.module\n",
    "print('\\n')\n",
    "\n",
    "#declaring range of 'for' using list, and 'range()'\n",
    "\n",
    "\n",
    "#list comprehension\n",
    "\n",
    "LIST_COMPREHENSION = [6, 64, 88, 56]\n",
    "print(\"LIST_COMPREHENSION = \", LIST_COMPREHENSION)\n",
    "PR_LIST_COMPREHENSION = []\n",
    "GYOU = 0\n",
    "GYOU2 = 0\n",
    "\n",
    "for GYOU in LIST_COMPREHENSION :   #LIST_COMPREHENSION의 각 요소값이 GYOU에 대입된다.\n",
    "    PR_LIST_COMPREHENSION.append(GYOU*2)\n",
    "    \n",
    "print(\"PR_LIST_COMPREHENSIION = \", PR_LIST_COMPREHENSION)\n",
    "\n",
    "RESULT_LIST_COMPREHENSION = [GYOU2*3 for GYOU2 in LIST_COMPREHENSION]\n",
    "print(\"RESULT_LIST_COMPREHENSION = \", RESULT_LIST_COMPREHENSION)"
   ]
  },
  {
   "cell_type": "code",
   "execution_count": null,
   "metadata": {},
   "outputs": [],
   "source": []
  }
 ],
 "metadata": {
  "kernelspec": {
   "display_name": "Python 3",
   "language": "python",
   "name": "python3"
  },
  "language_info": {
   "codemirror_mode": {
    "name": "ipython",
    "version": 3
   },
   "file_extension": ".py",
   "mimetype": "text/x-python",
   "name": "python",
   "nbconvert_exporter": "python",
   "pygments_lexer": "ipython3",
   "version": "3.7.3"
  }
 },
 "nbformat": 4,
 "nbformat_minor": 2
}
