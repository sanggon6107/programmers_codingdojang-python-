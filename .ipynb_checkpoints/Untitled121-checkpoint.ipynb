{
 "cells": [
  {
   "cell_type": "code",
   "execution_count": 28,
   "metadata": {},
   "outputs": [
    {
     "name": "stdout",
     "output_type": "stream",
     "text": [
      "INPUT1 : s\n",
      "INPUT2 : s\n",
      "1\n"
     ]
    },
    {
     "data": {
      "text/plain": [
       "'s'"
      ]
     },
     "execution_count": 28,
     "metadata": {},
     "output_type": "execute_result"
    }
   ],
   "source": [
    "def comm_char():\n",
    "    INP1 = input(\"INPUT1 : \")\n",
    "    INP2 = input(\"INPUT2 : \")\n",
    "    res = ''\n",
    "    for pos in range(0, len(INP1)) :\n",
    "        if INP1[pos] in INP2 :\n",
    "#            if len(INP1[pos]) > len(res) : res = INP1[pos]\n",
    "            for unt in range(0, len(INP1)-pos) : \n",
    "                if INP1[pos:pos+unt+1] in INP2 and len(INP1[pos:pos+unt+1]) > len(res) : \n",
    "                    res = INP1[pos:pos+unt+1]\n",
    "    print(len(res))\n",
    "    return res\n",
    "\n",
    "comm_char()"
   ]
  },
  {
   "cell_type": "code",
   "execution_count": 32,
   "metadata": {},
   "outputs": [
    {
     "name": "stdout",
     "output_type": "stream",
     "text": [
      "INPUT1 : abcd\n",
      "INPUT2 : efgh\n",
      "0\n",
      "\n"
     ]
    }
   ],
   "source": [
    "def comm_str():\n",
    "    INP1 = input(\"INPUT1 : \")\n",
    "    INP2 = input(\"INPUT2 : \")\n",
    "    res = ''\n",
    "    for pos in range(0, len(INP1)) :\n",
    "        if INP1[pos] in INP2 :\n",
    "#            if len(INP1[pos]) > len(res) : res = INP1[pos]\n",
    "            for unt in range(0, len(INP1)-pos) : \n",
    "                if INP1[pos:pos+unt+1] in INP2 and len(INP1[pos:pos+unt+1]) > len(res) : \n",
    "                    res = INP1[pos:pos+unt+1]\n",
    "    print(len(res))\n",
    "    print(res)\n",
    "\n",
    "comm_str()"
   ]
  },
  {
   "cell_type": "code",
   "execution_count": null,
   "metadata": {},
   "outputs": [],
   "source": [
    "INPUT1 : photography\n",
    "INPUT2 : autograph\n",
    "7\n",
    "tograph\n",
    "\n",
    "\n",
    "INPUT1 : abcd\n",
    "INPUT2 : efgh\n",
    "0\n"
   ]
  }
 ],
 "metadata": {
  "kernelspec": {
   "display_name": "Python 3",
   "language": "python",
   "name": "python3"
  },
  "language_info": {
   "codemirror_mode": {
    "name": "ipython",
    "version": 3
   },
   "file_extension": ".py",
   "mimetype": "text/x-python",
   "name": "python",
   "nbconvert_exporter": "python",
   "pygments_lexer": "ipython3",
   "version": "3.7.3"
  }
 },
 "nbformat": 4,
 "nbformat_minor": 2
}
