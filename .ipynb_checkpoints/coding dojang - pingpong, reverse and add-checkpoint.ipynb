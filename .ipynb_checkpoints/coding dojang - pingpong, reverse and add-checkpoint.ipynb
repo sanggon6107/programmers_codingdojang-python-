{
 "cells": [
  {
   "cell_type": "code",
   "execution_count": 22,
   "metadata": {},
   "outputs": [
    {
     "name": "stdout",
     "output_type": "stream",
     "text": [
      "6\n",
      "0\n",
      "2\n",
      "2\n"
     ]
    }
   ],
   "source": [
    "def seven(s) :\n",
    "    if s % 7 == 0 :\n",
    "        return True\n",
    "    if s % 10 == 7 :\n",
    "        return True\n",
    "    if 80 > s % 100 > 69 :\n",
    "        return True\n",
    "    if 800 > s % 1000 > 699 :\n",
    "        return True\n",
    "    return False\n",
    "\n",
    "# 초기치, 스텝, 초기 항 번호, 목표 번째\n",
    "def ping(k, i, n, o) :\n",
    "    if n == o :\n",
    "        return k\n",
    "    elif seven(n) == True :\n",
    "        return ping(k-i, -i, n+1, o)\n",
    "    elif seven(n) == False :\n",
    "        return ping(k+i, i, n+1, o)\n",
    "\n",
    "def pingpong(p) :\n",
    "    return ping(1, 1, 1, p)\n",
    "\n",
    "print(pingpong(8))\n",
    "print(pingpong(22))\n",
    "print(pingpong(68))\n",
    "print(pingpong(100))\n",
    "\n",
    "# 항 수 판별(메모리 할당 없이 재귀함수의 반복 횟수 파악)\n",
    "# 변수 할당을 사용하지 않은 방향 벡터 설정?\n",
    "# 재귀 함수의 깊이 한계 극복\n",
    "# string을 사용하지 않고 7 포함 수 판별"
   ]
  },
  {
   "cell_type": "code",
   "execution_count": 37,
   "metadata": {},
   "outputs": [
    {
     "name": "stdout",
     "output_type": "stream",
     "text": [
      "INPUT(N) : 3\n",
      "INPUT(NUMBER) : 195\n",
      "INPUT(NUMBER) : 265\n",
      "INPUT(NUMBER) : 750\n",
      "4 9339\n",
      "5 45254\n",
      "3 6666\n"
     ]
    }
   ],
   "source": [
    "inp1, inp_LIST = int(input(\"INPUT(N) : \")), []\n",
    "\n",
    "def dis(num, n) :\n",
    "    if str(num) == \"\".join(reversed(list(str(num)))) :\n",
    "        print(n, num)\n",
    "    else :\n",
    "        return dis(num+int(\"\".join(reversed(list(str(num))))), n+1)\n",
    "\n",
    "for a in range(0, inp1) :\n",
    "    inp_LIST.append(int(input(\"INPUT(NUMBER) : \")))\n",
    "for b in inp_LIST :\n",
    "    dis(b, 0)"
   ]
  },
  {
   "cell_type": "code",
   "execution_count": 28,
   "metadata": {},
   "outputs": [
    {
     "data": {
      "text/plain": [
       "'321'"
      ]
     },
     "execution_count": 28,
     "metadata": {},
     "output_type": "execute_result"
    }
   ],
   "source": [
    "n = 123\n",
    "\"\".join(reversed(list(str(n))))"
   ]
  },
  {
   "cell_type": "code",
   "execution_count": null,
   "metadata": {},
   "outputs": [],
   "source": []
  }
 ],
 "metadata": {
  "kernelspec": {
   "display_name": "Python 3",
   "language": "python",
   "name": "python3"
  },
  "language_info": {
   "codemirror_mode": {
    "name": "ipython",
    "version": 3
   },
   "file_extension": ".py",
   "mimetype": "text/x-python",
   "name": "python",
   "nbconvert_exporter": "python",
   "pygments_lexer": "ipython3",
   "version": "3.7.3"
  }
 },
 "nbformat": 4,
 "nbformat_minor": 2
}
