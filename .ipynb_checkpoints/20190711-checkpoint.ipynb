{
 "cells": [
  {
   "cell_type": "code",
   "execution_count": 19,
   "metadata": {},
   "outputs": [
    {
     "name": "stdout",
     "output_type": "stream",
     "text": [
      "================================================== 2019.07.11 ==================================================\n",
      "숫자를 입력하세요 : 5\n",
      "5\n",
      "[-9]\n"
     ]
    }
   ],
   "source": [
    "print(\"=\"*50, \"2019.07.11\", \"=\"*50)\n",
    "\n",
    "import sys\n",
    "import numpy as np\n",
    "import pandas as pd\n",
    "\n",
    "# Regular Expressions : meta characters([], dot, *, +, {m, n}, ?)\n",
    "\n",
    "## 문자클래스 [].  \\d : [0-9], \\D : [^0-9], \\W : [^a-zA-Z0-9_], \\w : [a-zA-Z0-9_]\n",
    "\n",
    "nkj = input(\"숫자를 입력하세요 : \")\n",
    "nkj2 = int(nkj)\n",
    "print(nkj2)\n",
    "\n",
    "## dot(.) : a.b a와 b 사이에 무엇이 오더라도 매치. 단, 문자 클래스 [.]의 경우, str자료형인\n",
    "## \".\"과의 매치를 의미함\n",
    "\n",
    "##반복(*) : ca*t은 a가 0번부터 몇 번이라도 반복될 수 있음을 의미함. 따라서, ct, caaat, caaaaat 모두 매치\n",
    "##반복(+) : ca+t은 a가 1번부터 몇 번이라도 반복될 수 있음을 의미함. 따라서, caaat, caaaat등이 매치\n",
    "\n",
    "##반복{m, n} : 반복 횟수 제한. ca{2, 5}t는 a가 2~5회일 떄 매치.\n",
    "##반복 ? : {0, 1}을 의미. 따라서, ca?t는 ct, cat가 매치."
   ]
  },
  {
   "cell_type": "code",
   "execution_count": null,
   "metadata": {},
   "outputs": [],
   "source": []
  }
 ],
 "metadata": {
  "kernelspec": {
   "display_name": "Python 3",
   "language": "python",
   "name": "python3"
  },
  "language_info": {
   "codemirror_mode": {
    "name": "ipython",
    "version": 3
   },
   "file_extension": ".py",
   "mimetype": "text/x-python",
   "name": "python",
   "nbconvert_exporter": "python",
   "pygments_lexer": "ipython3",
   "version": "3.7.3"
  }
 },
 "nbformat": 4,
 "nbformat_minor": 2
}
