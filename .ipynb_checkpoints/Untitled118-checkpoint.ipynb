{
 "cells": [
  {
   "cell_type": "code",
   "execution_count": 9,
   "metadata": {},
   "outputs": [
    {
     "name": "stdout",
     "output_type": "stream",
     "text": [
      "Initial point : 5 5\n",
      "Color : 2\n",
      "[[['0', '0', '0', '0', '0', '0', '0', '0', '0', '0'], ['0', '0', '0', '0', '0', '0', '1', '0', '0', '0'], ['0', '0', '0', '0', '1', '1', '0', '1', '0', '0'], ['0', '0', '1', '1', '0', '0', '0', '0', '1', '0'], ['0', '1', '0', '0', '0', '0', '0', '0', '1', '0'], ['0', '1', '0', '0', '0', '0', '0', '0', '1', '0'], ['0', '1', '0', '0', '0', '0', '0', '1', '0', '0'], ['0', '0', '1', '0', '0', '0', '1', '0', '0', '0'], ['0', '0', '0', '1', '0', '0', '1', '0', '0', '0'], ['0', '0', '0', '0', '1', '1', '0', '0', '0', '0']], ['5', '5', 0]]\n"
     ]
    }
   ],
   "source": [
    "from copy import deepcopy\n",
    "## visited point 방향 확인 불가한 경우이므로, queue에 중복된 경우 있는경우 append하지 않는다.\n",
    "## 증복(x, y까지 모두 일치해야 중복으로 간주해야 함.) 제외한 모든 경우의 수 queue에 append한다.\n",
    "## queue에 append할 조건 설정할 떄, 이동 자체가 불가능한 경우에 대해, else로 구현하되 else의 횟수를 세고 그 수가 queue의 len과 같다면 while 정지\n",
    "## 결과 queue에 대해, path의 maximum 성분을 출력하도록 한다.(path의 길이 )\n",
    "\n",
    "def painter(map_, x_i, y_i, color) :\n",
    "    queue = [[list(i) for i in map_.split()]]+[[x_i, y_i, 0]] # x, y, the length of the path\n",
    "    \n",
    "    \n",
    "    return queue\n",
    "\n",
    "sample = '''0000000000\n",
    "0000001000\n",
    "0000110100\n",
    "0011000010\n",
    "0100000010\n",
    "0100000010\n",
    "0100000100\n",
    "0010001000\n",
    "0001001000\n",
    "0000110000\n",
    "'''\n",
    "x, y = input(\"Initial point : \").split()\n",
    "c = input(\"Color : \")\n",
    "\n",
    "print(painter(sample, x, y, c))"
   ]
  },
  {
   "cell_type": "code",
   "execution_count": 7,
   "metadata": {},
   "outputs": [
    {
     "name": "stdout",
     "output_type": "stream",
     "text": [
      "[['0', '0', '0', '0', '0', '0', '0', '0', '0', '0'], ['0', '0', '0', '0', '0', '0', '1', '0', '0', '0'], ['0', '0', '0', '0', '1', '1', '0', '1', '0', '0'], ['0', '0', '1', '1', '0', '0', '0', '0', '1', '0'], ['0', '1', '0', '0', '0', '0', '0', '0', '1', '0'], ['0', '1', '0', '0', '0', '0', '0', '0', '1', '0'], ['0', '1', '0', '0', '0', '0', '0', '1', '0', '0'], ['0', '0', '1', '0', '0', '0', '1', '0', '0', '0'], ['0', '0', '0', '1', '0', '0', '1', '0', '0', '0'], ['0', '0', '0', '0', '1', '1', '0', '0', '0', '0']]\n"
     ]
    }
   ],
   "source": [
    "sample = '''0000000000\n",
    "0000001000\n",
    "0000110100\n",
    "0011000010\n",
    "0100000010\n",
    "0100000010\n",
    "0100000100\n",
    "0010001000\n",
    "0001001000\n",
    "0000110000\n",
    "'''\n",
    "\n",
    "[list(i) for i in sample.split()]"
   ]
  },
  {
   "cell_type": "code",
   "execution_count": null,
   "metadata": {},
   "outputs": [],
   "source": []
  }
 ],
 "metadata": {
  "kernelspec": {
   "display_name": "Python 3",
   "language": "python",
   "name": "python3"
  },
  "language_info": {
   "codemirror_mode": {
    "name": "ipython",
    "version": 3
   },
   "file_extension": ".py",
   "mimetype": "text/x-python",
   "name": "python",
   "nbconvert_exporter": "python",
   "pygments_lexer": "ipython3",
   "version": "3.7.3"
  }
 },
 "nbformat": 4,
 "nbformat_minor": 2
}
