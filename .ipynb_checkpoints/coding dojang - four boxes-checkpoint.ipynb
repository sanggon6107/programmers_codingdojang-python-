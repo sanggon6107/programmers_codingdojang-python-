{
 "cells": [
  {
   "cell_type": "code",
   "execution_count": 16,
   "metadata": {},
   "outputs": [
    {
     "name": "stdout",
     "output_type": "stream",
     "text": [
      "INPUT : 1 2 4 4\n",
      "INPUT : 2 3 5 7\n",
      "INPUT : 3 1 6 5\n",
      "INPUT : 7 3 8 6\n",
      "26\n"
     ]
    }
   ],
   "source": [
    "result = []\n",
    "for i in range(1, 5) :\n",
    "    globals()['POINTS{}'.format(i)] = input(\"INPUT : \").split(\" \")\n",
    "    for s in range(int(globals()['POINTS{}'.format(i)][1]), int(globals()['POINTS{}'.format(i)][3])) :\n",
    "        for k in range(int(globals()['POINTS{}'.format(i)][0]), int(globals()['POINTS{}'.format(i)][2])) :\n",
    "            if not (str(k), str(s)) in result :\n",
    "                result.append((str(k), str(s)))\n",
    "            else :\n",
    "                continue\n",
    "print(len(result))"
   ]
  },
  {
   "cell_type": "code",
   "execution_count": 7,
   "metadata": {},
   "outputs": [
    {
     "name": "stdout",
     "output_type": "stream",
     "text": [
      "{'g', 'o', 'd'}\n"
     ]
    }
   ],
   "source": []
  },
  {
   "cell_type": "code",
   "execution_count": null,
   "metadata": {},
   "outputs": [],
   "source": []
  }
 ],
 "metadata": {
  "kernelspec": {
   "display_name": "Python 3",
   "language": "python",
   "name": "python3"
  },
  "language_info": {
   "codemirror_mode": {
    "name": "ipython",
    "version": 3
   },
   "file_extension": ".py",
   "mimetype": "text/x-python",
   "name": "python",
   "nbconvert_exporter": "python",
   "pygments_lexer": "ipython3",
   "version": "3.7.3"
  }
 },
 "nbformat": 4,
 "nbformat_minor": 2
}
