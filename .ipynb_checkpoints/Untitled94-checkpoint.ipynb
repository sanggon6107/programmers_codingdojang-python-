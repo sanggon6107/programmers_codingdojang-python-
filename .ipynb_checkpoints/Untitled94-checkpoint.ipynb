{
 "cells": [
  {
   "cell_type": "code",
   "execution_count": 42,
   "metadata": {},
   "outputs": [
    {
     "data": {
      "text/plain": [
       "{'2': 'R', '1': 'R', '4': 'D', '6': 'D', '3': 'R'}"
      ]
     },
     "execution_count": 42,
     "metadata": {},
     "output_type": "execute_result"
    }
   ],
   "source": [
    "nod = {'1' : '', '2' : '', '3' : ''}\n",
    "\n",
    "def cal(li) :\n",
    "    res = {}\n",
    "    for i in li :\n",
    "        res[str(int(i)*2)] = li[i]+'D'\n",
    "        k = list(i)\n",
    "        k.append(k[0])\n",
    "        k[0] = k[-2]\n",
    "        del k[-2]\n",
    "        res[''.join(k)] = li[i]+'R'\n",
    "    return res\n",
    "\n",
    "cal(nod)"
   ]
  },
  {
   "cell_type": "code",
   "execution_count": 40,
   "metadata": {},
   "outputs": [
    {
     "data": {
      "text/plain": [
       "['4', '2', '3', '1']"
      ]
     },
     "execution_count": 40,
     "metadata": {},
     "output_type": "execute_result"
    }
   ],
   "source": [
    "k = list(i)\n",
    "k.append(k[0])\n",
    "k[0] = k[-2]\n",
    "del k[-2]"
   ]
  },
  {
   "cell_type": "code",
   "execution_count": 21,
   "metadata": {},
   "outputs": [
    {
     "data": {
      "text/plain": [
       "[1, 2, 3, 4]"
      ]
     },
     "execution_count": 21,
     "metadata": {},
     "output_type": "execute_result"
    }
   ],
   "source": [
    "def _progress(num: int):  # num에 대해 2배, 리버스 계산 튜플 반환\n",
    "    reversed_num = 1\n",
    "    if num >= 10:\n",
    "        strnum = str(num)\n",
    "        strnum = strnum[-1] + strnum[1:-1] + strnum[0]\n",
    "        reversed_num = int(strnum)\n",
    "    return num * 2, reversed_num\n",
    "\n",
    "\n",
    "def _find_routes(target: int):\n",
    "    routes = {1: \"\"}\n",
    "    while target not in routes:  # 목표 정수가 routes에 없을 경우\n",
    "        tmpdic = {}\n",
    "        for k in routes:  # routes 내 키(정수)에 대해 2배, 리버스 수행\n",
    "            dbl, swp = _progress(k)\n",
    "            if dbl not in routes and dbl not in tmpdic:\n",
    "                tmpdic[dbl] = routes[k] + \"D\"\n",
    "            if swp not in routes and swp not in tmpdic:\n",
    "                tmpdic[swp] = routes[k] + \"R\"\n",
    "        routes.update(tmpdic)  # 중복 키를 제외한 사전을 추가하여 routes 갱신\n",
    "    return routes[target]\n",
    "\n",
    "\n",
    "def get_routes(target):  # 1 -> num까지 도달하는 과정 출력\n",
    "    routes = _find_routes(target)\n",
    "    result = [1]\n",
    "    for c in routes:\n",
    "        # 'D': 2배, 'R': 리버스\n",
    "        addval = result[-1] * 2 if c == \"D\" else _progress(result[-1])[1]\n",
    "        result.append(addval)\n",
    "    return \"->\".join(str(i) for i in result)\n",
    "\n",
    "\n",
    "def main():\n",
    "    result = get_routes(77)\n",
    "    print(result)\n",
    "    result = get_routes(757)\n",
    "    print(result)\n",
    "\n",
    "\n",
    "if __name__ == \"__main__\":\n",
    "    main()"
   ]
  },
  {
   "cell_type": "code",
   "execution_count": null,
   "metadata": {},
   "outputs": [],
   "source": []
  }
 ],
 "metadata": {
  "kernelspec": {
   "display_name": "Python 3",
   "language": "python",
   "name": "python3"
  },
  "language_info": {
   "codemirror_mode": {
    "name": "ipython",
    "version": 3
   },
   "file_extension": ".py",
   "mimetype": "text/x-python",
   "name": "python",
   "nbconvert_exporter": "python",
   "pygments_lexer": "ipython3",
   "version": "3.7.3"
  }
 },
 "nbformat": 4,
 "nbformat_minor": 2
}
