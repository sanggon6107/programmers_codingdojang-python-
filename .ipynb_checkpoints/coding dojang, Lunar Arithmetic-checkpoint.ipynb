{
 "cells": [
  {
   "cell_type": "code",
   "execution_count": 21,
   "metadata": {},
   "outputs": [
    {
     "name": "stdout",
     "output_type": "stream",
     "text": [
      "INPUT : 169+248\n",
      "269\n"
     ]
    }
   ],
   "source": [
    "import re\n",
    "inp = input(\"INPUT : \")\n",
    "\n",
    "numbs = re.compile(\"\\d+\")\n",
    "oper = re.compile(\"[+x]{1}\")\n",
    "result = ''\n",
    "numbs_LIST, oper_LIST = sorted(numbs.findall(inp)), oper.findall(inp)\n",
    "\n",
    "if oper_LIST[0] == \"+\" :\n",
    "    numbs_LIST[0] = numbs_LIST[0].rjust(len(numbs_LIST[1]), '0')\n",
    "    \n",
    "    for IND in range(0, len(numbs_LIST[0])) :\n",
    "        result += max(numbs_LIST[0][IND], numbs_LIST[1][IND])\n",
    "        \n",
    "    print(result)\n",
    "    \n",
    "elif oper_LIST[0] == \"x\" :\n",
    "    for INDE in range"
   ]
  },
  {
   "cell_type": "code",
   "execution_count": 37,
   "metadata": {},
   "outputs": [
    {
     "name": "stdout",
     "output_type": "stream",
     "text": [
      "INPUT : 169+248\n",
      "269\n"
     ]
    }
   ],
   "source": [
    "import re\n",
    "\n",
    "def add(a, b) :\n",
    "    a = a.rjust(len(b), '0')\n",
    "    result = ''\n",
    "    for IND in range(0, len(a)) :\n",
    "        result += max(a[IND], b[IND])\n",
    "    return result\n",
    "def mul(c, d) :\n",
    "    result = []\n",
    "    for m in range(1, len(d)+1) :\n",
    "        RIN = ''\n",
    "        for n in range(0, len(c)) :\n",
    "            RIN += str(min(int(c[n]), int(d[-m])))\n",
    "        RIN += '0'*(m-1)\n",
    "        result.append(RIN)\n",
    "    for w in range(1, len(result)) :\n",
    "        result[0] = add(result[0], result[w])\n",
    "    return result[0]\n",
    "\n",
    "inp = input(\"INPUT : \")\n",
    "\n",
    "numbs = re.compile(\"\\d+\")\n",
    "oper = re.compile(\"[+x]{1}\")\n",
    "numbs_LIST, oper_LIST = numbs.findall(inp), oper.findall(inp)\n",
    "\n",
    "if oper_LIST[0] == \"+\" :\n",
    "    print(add(sorted(numbs_LIST)[0], sorted(numbs_LIST)[1]))\n",
    "elif oper_LIST[0] == \"x\" :\n",
    "    print(mul(numbs_LIST[0], numbs_LIST[1]))"
   ]
  },
  {
   "cell_type": "code",
   "execution_count": 28,
   "metadata": {},
   "outputs": [
    {
     "name": "stdout",
     "output_type": "stream",
     "text": [
      "0\n"
     ]
    }
   ],
   "source": [
    "w = [123, 456, 789]\n",
    "print(w.index(123))"
   ]
  },
  {
   "cell_type": "code",
   "execution_count": null,
   "metadata": {},
   "outputs": [],
   "source": []
  }
 ],
 "metadata": {
  "kernelspec": {
   "display_name": "Python 3",
   "language": "python",
   "name": "python3"
  },
  "language_info": {
   "codemirror_mode": {
    "name": "ipython",
    "version": 3
   },
   "file_extension": ".py",
   "mimetype": "text/x-python",
   "name": "python",
   "nbconvert_exporter": "python",
   "pygments_lexer": "ipython3",
   "version": "3.7.3"
  }
 },
 "nbformat": 4,
 "nbformat_minor": 2
}
