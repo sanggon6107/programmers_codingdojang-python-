{
 "cells": [
  {
   "cell_type": "code",
   "execution_count": 92,
   "metadata": {},
   "outputs": [
    {
     "name": "stdout",
     "output_type": "stream",
     "text": [
      "INPUT : \n",
      "\n"
     ]
    }
   ],
   "source": [
    "import re\n",
    "\n",
    "INP,  exc = input(\"INPUT : \"), ['(*)', '1', '(+)', '0']\n",
    "lisp_com = re.compile('\\({1}[*+-/]([ ]-?\\d*\\.?\\d+)*\\){1}')\n",
    "KEISAN = re.compile('[*+-/]|[ ]-?\\d*\\.?\\d+')\n",
    "while lisp_com.search(INP) != None :\n",
    "    if lisp_com.search(INP).group() == '(*)' or lisp_com.search(INP).group() == '(+)' :\n",
    "        INP = lisp_com.sub(exc[exc.index(lisp_com.search(INP).group())+1], INP, count = 1)\n",
    "    else :\n",
    "        TA = lisp_com.search(INP).group()\n",
    "        TA = lisp_com.sub(str(eval('%s' %KEISAN.findall(TA)[0].join(KEISAN.findall(TA)[1:]))), TA, count = 1)\n",
    "        INP = lisp_com.sub(TA, INP, count = 1)\n",
    "print(INP)"
   ]
  },
  {
   "cell_type": "code",
   "execution_count": 68,
   "metadata": {},
   "outputs": [
    {
     "name": "stdout",
     "output_type": "stream",
     "text": [
      "INPUT : x\n",
      "None\n"
     ]
    }
   ],
   "source": [
    "import re\n",
    "\n",
    "INP = input(\"INPUT : \")\n",
    "\n",
    "lisp_com = re.compile('(12)+')\n",
    "print(lisp_com.search(INP))"
   ]
  },
  {
   "cell_type": "code",
   "execution_count": 95,
   "metadata": {},
   "outputs": [
    {
     "name": "stdout",
     "output_type": "stream",
     "text": [
      "INPUT : 공백을 제외한 글자수만을 세는 코드 테스트\n"
     ]
    },
    {
     "data": {
      "text/plain": [
       "18"
      ]
     },
     "execution_count": 95,
     "metadata": {},
     "output_type": "execute_result"
    }
   ],
   "source": [
    "len(\"\".join(input(\"INPUT : \").split()))"
   ]
  },
  {
   "cell_type": "code",
   "execution_count": null,
   "metadata": {},
   "outputs": [],
   "source": []
  }
 ],
 "metadata": {
  "kernelspec": {
   "display_name": "Python 3",
   "language": "python",
   "name": "python3"
  },
  "language_info": {
   "codemirror_mode": {
    "name": "ipython",
    "version": 3
   },
   "file_extension": ".py",
   "mimetype": "text/x-python",
   "name": "python",
   "nbconvert_exporter": "python",
   "pygments_lexer": "ipython3",
   "version": "3.7.3"
  }
 },
 "nbformat": 4,
 "nbformat_minor": 2
}
