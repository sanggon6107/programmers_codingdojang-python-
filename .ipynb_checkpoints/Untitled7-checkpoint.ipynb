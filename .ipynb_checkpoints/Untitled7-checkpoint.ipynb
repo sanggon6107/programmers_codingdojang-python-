{
 "cells": [
  {
   "cell_type": "code",
   "execution_count": 4,
   "metadata": {},
   "outputs": [
    {
     "name": "stdout",
     "output_type": "stream",
     "text": [
      "================================================== 2019.07.01 ==================================================\n",
      "id(a)= 80085600\n",
      "b=a[:]\n",
      "id(b)= 79719400\n",
      "b= [3, 4, 38]\n",
      "c=copy(a)\n",
      "id(c)= 80085680\n",
      "c= [3, 6, 38]\n",
      "1\n",
      "3\n",
      "6\n",
      "a:b:c:d\n",
      "a:b:c:d\n",
      "'E' in ELIF.\n"
     ]
    }
   ],
   "source": [
    "print(\"=\"*50, \"2019.07.01\", \"=\"*50)\n",
    "import sys\n",
    "import numpy as np\n",
    "import datetime\n",
    "from copy import copy\n",
    "\n",
    "dt = datetime.datetime\n",
    "\n",
    "dt\n",
    "\n",
    "#variables(copy, [:])\n",
    "\n",
    "a=[3, 66, 38]\n",
    "print(\"id(a)=\", id(a))\n",
    "\n",
    "b=a[:]\n",
    "print(\"b=a[:]\")\n",
    "b[1] = 4\n",
    "print(\"id(b)=\", id(b))\n",
    "print(\"b=\", b)\n",
    "\n",
    "c=copy(a)\n",
    "print(\"c=copy(a)\")\n",
    "c[1]=6\n",
    "print(\"id(c)=\", id(c))\n",
    "print(\"c=\", c)\n",
    "\n",
    "[V, A, R, I, A, B, L, E]=[1, 2, 3, 4, 5, 6, 7, 8]\n",
    "\n",
    "print(V)\n",
    "print(R)\n",
    "print(B)\n",
    "\n",
    "#function : replace\n",
    "PIN=\"a:b:c:d\"\n",
    "print(PIN)\n",
    "PIN.replace(':', '$')\n",
    "print(PIN)\n",
    "\n",
    "#list to string : join\n",
    "LITS = ['Life', 'is', 'too', 'short']\n",
    "\" \".join(LITS)\n",
    "\n",
    "#if, or, and, not\n",
    "pocket = ['paper', 'money', 'cellphone']\n",
    "if 'money' in pocket and not 'mobile' in pocket:\n",
    "    pass \n",
    "else:\n",
    "    print(\"카드를 꺼내라\")\n",
    "    \n",
    "#elif 조건문 : 앞문장 모두 거짓일 때\n",
    "ELIF=['E', 'L', 'I', 'F', 'e', 'l', 'i', 'f']\n",
    "if 'ELIF' in ELIF:\n",
    "    print(\"'ELIF' in ELIF.\")\n",
    "elif 'E' in ELIF:\n",
    "    print(\"'E' in ELIF.\")\n",
    "elif 'e' in ELIF:  #elif 조건문 : 앞문장 모두 거짓일 때\n",
    "    print(\"'e' in ELIF.\")\n",
    "else:\n",
    "    pass\n",
    "\n",
    "#while\n",
    "number=0"
   ]
  },
  {
   "cell_type": "code",
   "execution_count": null,
   "metadata": {},
   "outputs": [],
   "source": []
  }
 ],
 "metadata": {
  "kernelspec": {
   "display_name": "Python 3",
   "language": "python",
   "name": "python3"
  },
  "language_info": {
   "codemirror_mode": {
    "name": "ipython",
    "version": 3
   },
   "file_extension": ".py",
   "mimetype": "text/x-python",
   "name": "python",
   "nbconvert_exporter": "python",
   "pygments_lexer": "ipython3",
   "version": "3.7.3"
  }
 },
 "nbformat": 4,
 "nbformat_minor": 2
}
