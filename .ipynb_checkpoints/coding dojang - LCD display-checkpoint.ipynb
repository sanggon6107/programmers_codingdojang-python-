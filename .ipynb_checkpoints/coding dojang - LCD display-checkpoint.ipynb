{
 "cells": [
  {
   "cell_type": "code",
   "execution_count": 36,
   "metadata": {},
   "outputs": [
    {
     "name": "stdout",
     "output_type": "stream",
     "text": [
      "input : 1 352\n",
      " -   -   -  \n",
      "  | |     | \n",
      " -   -   -  \n",
      "  |   | |   \n",
      " -   -   -  \n"
     ]
    }
   ],
   "source": [
    "import re\n",
    "\n",
    "INP = input(\"input : \")\n",
    "INP_COMPILE = re.compile(\"\\d+\")\n",
    "INP_LIST, RES, RES_LIST = INP_COMPILE.findall(INP), '', []\n",
    "\n",
    "MAP, a, b, c, d, e, f, g = 'abcdefg', '1011011111', '1000111111', '1111100111', '0011111011', '1010001010', '1101111111', '1011011011'\n",
    "COMP1, COMP2, COMP3 = ' ', '-', '|'\n",
    "\n",
    "for m in MAP :\n",
    "    for n in range(0, len(INP_LIST[1])) :\n",
    "        RES += eval(str(m)+'['+INP_LIST[1][n]+']')\n",
    "    RES_LIST.append(RES)\n",
    "    RES = ''\n",
    "\n",
    "def hor(o) :\n",
    "    typ = ''\n",
    "    for i in o :\n",
    "        typ += ' '+str('-'*int(INP_LIST[0])*int(i)).ljust(int(INP_LIST[0]))+'  '\n",
    "    print(typ)\n",
    "\n",
    "def ver(l1, l2) :\n",
    "    typ = ''\n",
    "    for w in range(0, len(l1)) :\n",
    "        typ += str('|'*int(l1[w])).ljust(1)+' '*int(INP_LIST[0])+str('|'*int(l2[w])).ljust(1)+' '\n",
    "    for dd in range(0, int(INP_LIST[0])) :\n",
    "        print(typ)\n",
    "\n",
    "def lcd(re) :\n",
    "    hor(re[0])\n",
    "    ver(re[1], re[2])\n",
    "    hor(re[3])\n",
    "    ver(re[4], re[5])\n",
    "    hor(re[6])\n",
    "    \n",
    "lcd(RES_LIST)"
   ]
  },
  {
   "cell_type": "code",
   "execution_count": null,
   "metadata": {},
   "outputs": [],
   "source": []
  },
  {
   "cell_type": "code",
   "execution_count": null,
   "metadata": {},
   "outputs": [],
   "source": []
  }
 ],
 "metadata": {
  "kernelspec": {
   "display_name": "Python 3",
   "language": "python",
   "name": "python3"
  },
  "language_info": {
   "codemirror_mode": {
    "name": "ipython",
    "version": 3
   },
   "file_extension": ".py",
   "mimetype": "text/x-python",
   "name": "python",
   "nbconvert_exporter": "python",
   "pygments_lexer": "ipython3",
   "version": "3.7.3"
  }
 },
 "nbformat": 4,
 "nbformat_minor": 2
}
