{
 "cells": [
  {
   "cell_type": "code",
   "execution_count": 40,
   "metadata": {},
   "outputs": [
    {
     "name": "stdout",
     "output_type": "stream",
     "text": [
      "5731226909\n"
     ]
    }
   ],
   "source": [
    "def fib(n) :\n",
    "    if n == 1 :\n",
    "        return 1\n",
    "    elif n == 2 :\n",
    "        return 90\n",
    "    else :\n",
    "        return fib(n-1)+fib(n-2)\n",
    "print(fib(40))"
   ]
  },
  {
   "cell_type": "code",
   "execution_count": 38,
   "metadata": {},
   "outputs": [
    {
     "name": "stdout",
     "output_type": "stream",
     "text": [
      "46598421\n"
     ]
    }
   ],
   "source": [
    "def Dynamic_Programming(n, li) :\n",
    "    if n == 1  or n == 2 :\n",
    "        return li[n-1]\n",
    "    else :\n",
    "        if li[n-1] != '#' : return li[n-1]\n",
    "        elif li[n-1] == '#' :\n",
    "            li[n-1] = Dynamic_Programming(n-1, li)+ Dynamic_Programming(n-2, li)\n",
    "    return li[n-1]\n",
    "\n",
    "def main(N, sec) :\n",
    "    LI = [1]+[sec]+['#' for i in range(N-2)]\n",
    "    return Dynamic_Programming(N, LI)\n",
    "print(main(30, 90))\n",
    "\n",
    "''''''\n",
    "\n",
    "import re\n",
    "\n",
    "def DP_2(n, li) :\n",
    "    k = list(map(int, li))\n",
    "    while True :\n",
    "        t = N+1\n",
    "        k.append(t)\n",
    "        \n",
    "        k[:-1] = k + [m for m in range(0, 10)]\n",
    "        FB.get(k[:N+len(k)/sum(k)])\n",
    "        \n",
    "        ## 동적계획법을 위한 테이블 선언은 재귀 함수의 밖에서 선언해야한다.\n",
    "        ## 재귀 함수 안에서 동적계획법 테이블 선언할 시, 매 재귀마다 새로운 테이블 선언한다.\n",
    "        \n",
    "        ## 아스키코드 활용 고려할 것.\n",
    "        \n",
    "        s = 'aAbBcCdDeEfFgGhHiIjJkKlLmMnNoOpPqQrRsStTuUvVwWxXyYzZ'\n",
    "        \n",
    "        for M in n :\n",
    "            try :\n",
    "                k.append(int(input(\"OUT\")))\n",
    "            except : pass\n",
    "        \n",
    "        break\n",
    "    return \"\".join([transform[pre_defined.find(_)] for _ in s ])\n",
    "''''''\n"
   ]
  },
  {
   "cell_type": "code",
   "execution_count": null,
   "metadata": {},
   "outputs": [],
   "source": [
    "## Bot_up\n",
    "\n",
    "def B_U(n) :\n",
    "    li = [1, 2]\n",
    "    for i in range(0, n) :\n",
    "        if n == 1 or n = 2 :\n",
    "            return li[n-1]\n",
    "        else :\n",
    "            "
   ]
  },
  {
   "cell_type": "code",
   "execution_count": 29,
   "metadata": {},
   "outputs": [
    {
     "data": {
      "text/plain": [
       "4660046610375530309"
      ]
     },
     "execution_count": 29,
     "metadata": {},
     "output_type": "execute_result"
    }
   ],
   "source": [
    "## Bot_up\n",
    "\n",
    "def B_U(n) :\n",
    "    li = [1, 2]\n",
    "    for i in range(0, n-1) :\n",
    "        if i == 0 or n == 1 :\n",
    "            pass\n",
    "        else : \n",
    "            li.append(li[i]+li[i-1])\n",
    "    return li[-1]\n",
    "B_U(90)"
   ]
  },
  {
   "cell_type": "code",
   "execution_count": null,
   "metadata": {},
   "outputs": [],
   "source": []
  }
 ],
 "metadata": {
  "kernelspec": {
   "display_name": "Python 3",
   "language": "python",
   "name": "python3"
  },
  "language_info": {
   "codemirror_mode": {
    "name": "ipython",
    "version": 3
   },
   "file_extension": ".py",
   "mimetype": "text/x-python",
   "name": "python",
   "nbconvert_exporter": "python",
   "pygments_lexer": "ipython3",
   "version": "3.7.3"
  }
 },
 "nbformat": 4,
 "nbformat_minor": 2
}
