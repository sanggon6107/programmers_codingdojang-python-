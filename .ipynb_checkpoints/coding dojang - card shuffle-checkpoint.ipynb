{
 "cells": [
  {
   "cell_type": "code",
   "execution_count": 76,
   "metadata": {},
   "outputs": [
    {
     "name": "stdout",
     "output_type": "stream",
     "text": [
      "['S8', 'S7', 'S6', 'S5', 'S4', 'S3', 'S2', 'S1', 'C13', 'C12', 'C11', 'C10', 'C9', 'C8', 'C7', 'C6', 'C5', 'C4', 'C3', 'C2', 'C1', 'D13', 'D12', 'D11', 'D10', 'D9', 'D8', 'D7', 'D6', 'D5', 'D4', 'D3', 'D2', 'D1', 'H13', 'H12', 'H11', 'H10', 'H9', 'H8', 'H7', 'H6', 'H5', 'H4', 'H3', 'H2', 'H1', 'S13', 'S12', 'S11', 'S10', 'S9']\n"
     ]
    },
    {
     "data": {
      "text/plain": [
       "50"
      ]
     },
     "execution_count": 76,
     "metadata": {},
     "output_type": "execute_result"
    }
   ],
   "source": [
    "def shuffle(D_data) :\n",
    "    rest, F_out = D_data, D_data\n",
    "    while int(len(F_out)/2) > 0 :\n",
    "        F_out, rest = D_data[:int(len(F_out)/2)], D_data[int(len(F_out)/2):]\n",
    "        D_data = rest + F_out\n",
    "    F_out, rest = D_data[:int(len(F_out)/2)], D_data[int(len(F_out)/2):]\n",
    "    D_data = rest + F_out\n",
    "    \n",
    "    return D_data\n",
    "\n",
    "def M_shuffle(N, obj) :\n",
    "    deck = [x+str(y) for x in 'DHSC' for y in range(13, 0, -1)]\n",
    "    for i in range(N) :\n",
    "        deck = shuffle(deck)\n",
    "    print(deck)\n",
    "    return deck.index(obj)\n",
    "\n",
    "#shuffle(deck)\n",
    "M_shuffle(7, \"S10\")"
   ]
  },
  {
   "cell_type": "code",
   "execution_count": 33,
   "metadata": {},
   "outputs": [
    {
     "name": "stdout",
     "output_type": "stream",
     "text": [
      "[0, 1, 2, 3] [4, 5, 6, 7]\n"
     ]
    }
   ],
   "source": [
    "k = [0, 1, 2, 3, 4, 5, 6, 7]\n",
    "print(k[:int(len(k)/2)], k[int(len(k)/2):])"
   ]
  },
  {
   "cell_type": "code",
   "execution_count": 57,
   "metadata": {},
   "outputs": [
    {
     "data": {
      "text/plain": [
       "[9, 10, 1, 2, 3, 4, 5, 6, 7, 8]"
      ]
     },
     "execution_count": 57,
     "metadata": {},
     "output_type": "execute_result"
    }
   ],
   "source": [
    "def shuffle(D_data) :\n",
    "    rest, F_out = D_data, D_data\n",
    "    while int(len(F_out)/2) > 0 :\n",
    "        F_out, rest = D_data[:int(len(F_out)/2)], D_data[int(len(F_out)/2):]\n",
    "        D_data = rest + F_out\n",
    "    F_out, rest = D_data[:int(len(F_out)/2)], D_data[int(len(F_out)/2):]\n",
    "    D_data = rest + F_out\n",
    "    \n",
    "    return D_data\n",
    "\n",
    "\n",
    "shuffle([1, 2, 3, 4, 5, 6, 7, 8, 9, 10])"
   ]
  },
  {
   "cell_type": "code",
   "execution_count": 67,
   "metadata": {},
   "outputs": [
    {
     "name": "stdout",
     "output_type": "stream",
     "text": [
      "['D13', 'D12', 'D11', 'D10', 'D9', 'D8', 'D7', 'D6', 'D5', 'D4', 'D3', 'D2', 'D1', 'H13', 'H12', 'H11', 'H10', 'H9', 'H8', 'H7', 'H6', 'H5', 'H4', 'H3', 'H2', 'H1', 'S13', 'S12', 'S11', 'S10', 'S9', 'S8', 'S7', 'S6', 'S5', 'S4', 'S3', 'S2', 'S1', 'C13', 'C12', 'C11', 'C10', 'C9', 'C8', 'C7', 'C6', 'C5', 'C4', 'C3', 'C2', 'C1']\n"
     ]
    }
   ],
   "source": [
    "    deck = [x+str(y) for x in 'DHSC' for y in range(13, 0, -1)]\n",
    "    print(deck)"
   ]
  },
  {
   "cell_type": "code",
   "execution_count": 70,
   "metadata": {},
   "outputs": [
    {
     "name": "stdout",
     "output_type": "stream",
     "text": [
      "2 s 11\n",
      "3\n"
     ]
    }
   ],
   "source": [
    "def invert_half_rec(n, p):\n",
    "    if n <= 1 or n < p:\n",
    "        return p\n",
    "\n",
    "    n_lower = n // 2 + ((n+1) % 4 == 0)\n",
    "    n_upper = n - n_lower\n",
    "\n",
    "    if p <= n_upper:\n",
    "        return invert_half_rec(n_lower, p + n_lower)\n",
    "    else:\n",
    "        return invert_half_rec(n_lower, p - n_upper)\n",
    "\n",
    "\n",
    "def card_shuffle(n_shuffle, suit, number):\n",
    "    p = \"cshd\".index(suit) * 13 + number\n",
    "    for _ in range(int(n_shuffle)):\n",
    "        p = invert_half_rec(52, p)\n",
    "\n",
    "    return p\n",
    "\n",
    "\n",
    "n_shuffle, suit, number = input().split()\n",
    "print(card_shuffle(int(n_shuffle), suit, int(number)))"
   ]
  },
  {
   "cell_type": "code",
   "execution_count": null,
   "metadata": {},
   "outputs": [],
   "source": [
    "## shuffle 재귀로 표현? : len의 절반을 뒤로 보내는 작업을 재귀함수로 구현한다.\n",
    "\n",
    "def shuffle(D_data, count) :\n",
    "    bot, top = D_data[:], D_data[:] ## D_data[2**(count-1):2**(count)]와, D_data[2**count:]를 교환한다.\n",
    "    D_data = D_data[:2**(count-1)-1]+D_data[2**(count-1)+1:]\n",
    "    \n",
    "    if D_data[2**(count-1):2**(count)] != 1 : return shuffle(D_data, count+1) ## 올린 리스트 요소의 수가 1보다 많으면, 다음 재귀로 넘어간다.\n",
    "    else : return D_data ## 마지막으로 올린 리스트 요소의 수가 1이면 재귀를 멈추고 D_data를 반환한다.\n",
    "shuffle([1, 2, 3, 4, 5, 6], 1)"
   ]
  },
  {
   "cell_type": "code",
   "execution_count": 99,
   "metadata": {},
   "outputs": [
    {
     "name": "stdout",
     "output_type": "stream",
     "text": [
      "[1, 2, 3, 4, 5, 6, 7, 8, 9]\n",
      "[]\n",
      "[3, 4, 5, 6, 7, 8, 9, 10]\n"
     ]
    }
   ],
   "source": [
    "count = 2\n",
    "D_data = [1, 2, 3, 4, 5, 6, 7, 8, 9, 10]\n",
    "print(D_data[:int(len(D_data)/2**(count+1))-2])\n",
    "print(D_data[int(len(D_data)/2**(count+1))-2:int(len(D_data)/(2**count))])\n",
    "print(D_data[(int(len(D_data)/(2**count))):])"
   ]
  },
  {
   "cell_type": "code",
   "execution_count": 104,
   "metadata": {},
   "outputs": [
    {
     "name": "stdout",
     "output_type": "stream",
     "text": [
      "[6, 7, 8, 9, 10, 1, 2, 3, 4, 5]\n",
      "[6, 7, 8, 9, 10, 3, 4, 5, 1, 2]\n"
     ]
    }
   ],
   "source": [
    "## 절반을 나눠서, 올릴 대상만 반환하는 함수 선언.\n",
    "\n",
    "def ToTop(D_data) :\n",
    "    return D_data[:int(len(D_data)/2)], D_data[int(len(D_data)/2):] ## 앞의 반(올릴 대상), 뒤의 반\n",
    "\n",
    "res1, res2 = ToTop([1, 2, 3, 4, 5, 6, 7, 8, 9, 10])\n",
    "print(res2 + res1)\n",
    "rres1, rres2 = ToTop(res1)\n",
    "print(res2 + rres2 + rres1)"
   ]
  },
  {
   "cell_type": "code",
   "execution_count": 115,
   "metadata": {},
   "outputs": [
    {
     "name": "stdout",
     "output_type": "stream",
     "text": [
      "[6, 7, 8, 9, 10, 3, 4, 5, 2, 1]\n",
      "['H13', 'H12', 'H11', 'H10', 'H9', 'H8', 'H7', 'H6', 'H5', 'H4', 'H3', 'H2', 'H1', 'D7', 'D6', 'D5', 'D4', 'D3', 'D2', 'D1', 'D10', 'D9', 'D8', 'D12', 'D11', 'D13', 'C13', 'C12', 'C11', 'C10', 'C9', 'C8', 'C7', 'C6', 'C5', 'C4', 'C3', 'C2', 'C1', 'S7', 'S6', 'S5', 'S4', 'S3', 'S2', 'S1', 'S10', 'S9', 'S8', 'S12', 'S11', 'S13']\n"
     ]
    }
   ],
   "source": [
    "## 절반을 나눠서, 올릴 대상만 반환하는 함수 선언.\n",
    "\n",
    "def ToTop(D_data) :\n",
    "    res1, res2 = D_data[:int(len(D_data)/2)], D_data[int(len(D_data)/2):] ## 앞의 반(올릴 대상), 뒤의 반\n",
    "    if len(res1) > 1 : return res2 + ToTop(res1)\n",
    "    else : return res2 + res1\n",
    "\n",
    "print(ToTop([1, 2, 3, 4, 5, 6, 7, 8, 9, 10]))\n",
    " \n",
    "def shuffle(N, obj) :\n",
    "    deck = [x+str(y) for x in 'DHSC' for y in range(13, 0, -1)]\n",
    "    for i in range(N) :\n",
    "        deck = ToTop(deck)\n",
    "    return deck\n",
    "print(shuffle(2, \"S11\"))\n"
   ]
  },
  {
   "cell_type": "code",
   "execution_count": 117,
   "metadata": {},
   "outputs": [
    {
     "name": "stdout",
     "output_type": "stream",
     "text": [
      "2 s 11\n",
      "3\n"
     ]
    }
   ],
   "source": [
    "L = [x+str(y+1) for x in 'cshd' for y in range(13)]\n",
    "L = L[::-1]\n",
    "\n",
    "def shuffle():\n",
    "    n, start = 52, 0\n",
    "    while n:\n",
    "        for _ in range(round(n/2)): L.append(L.pop(start))\n",
    "        n, start = round(n/2), start + (n-round(n/2))\n",
    "\n",
    "a, b, c = input().split()\n",
    "for _ in range(int(a)): shuffle()\n",
    "print(L[::-1].index(b+c) + 1)"
   ]
  },
  {
   "cell_type": "code",
   "execution_count": null,
   "metadata": {},
   "outputs": [],
   "source": []
  }
 ],
 "metadata": {
  "kernelspec": {
   "display_name": "Python 3",
   "language": "python",
   "name": "python3"
  },
  "language_info": {
   "codemirror_mode": {
    "name": "ipython",
    "version": 3
   },
   "file_extension": ".py",
   "mimetype": "text/x-python",
   "name": "python",
   "nbconvert_exporter": "python",
   "pygments_lexer": "ipython3",
   "version": "3.7.3"
  }
 },
 "nbformat": 4,
 "nbformat_minor": 2
}
