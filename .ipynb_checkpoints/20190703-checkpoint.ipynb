{
 "cells": [
  {
   "cell_type": "code",
   "execution_count": 26,
   "metadata": {},
   "outputs": [
    {
     "name": "stdout",
     "output_type": "stream",
     "text": [
      "================================================== 2019.07.03 ==================================================\n",
      "SOURCE :  [4, 167, 723, 3, 88, 29]\n",
      "(RESULT1, RESULT2) = (1010, 924393096)\n",
      "number = 5\n",
      "5\n",
      "1\n",
      "2\n",
      "3\n",
      "4\n",
      "5\n",
      "6\n",
      "7\n",
      "8\n",
      "9\n",
      "10\n",
      "11\n",
      "12\n",
      "13\n",
      "14\n",
      "15\n",
      "16\n",
      "17\n",
      "18\n",
      "19\n",
      "20\n"
     ]
    },
    {
     "data": {
      "text/plain": [
       "<function TextIOWrapper.close()>"
      ]
     },
     "execution_count": 26,
     "metadata": {},
     "output_type": "execute_result"
    }
   ],
   "source": [
    "print(\"=\"*50, \"2019.07.03\", \"=\"*50)\n",
    "\n",
    "import sys\n",
    "import numpy as np\n",
    "\n",
    "#To define function\n",
    "\n",
    "def BGG(a, b) : #a, b는 매개변수, 3, 4는 인수\n",
    "    if a > b :\n",
    "        return a\n",
    "    elif a == b:\n",
    "        print(\"%s = %s\" % (a, b))\n",
    "    elif a < b :\n",
    "        return b\n",
    "    else :\n",
    "        return 0\n",
    "\n",
    "#매개변수 개수 미지정\n",
    "\n",
    "def add_mul(CH, *variables) :\n",
    "    if CH == \"add\" : \n",
    "        result = 0;\n",
    "        i = 0;\n",
    "        for i in variables :\n",
    "            result += i\n",
    "        return result\n",
    "        \n",
    "    elif CH == \"mul\" :\n",
    "        result = 1;\n",
    "        i = 0;\n",
    "        for i in variables :\n",
    "            result = result * i\n",
    "        return result\n",
    "    else : \n",
    "        print(\"ERROR : variables are not proper.\")\n",
    "        \n",
    "LIST_DATA = [4, 167, 723, 3, 88, 29]\n",
    "\n",
    "print(\"SOURCE : \", LIST_DATA)\n",
    "\n",
    "RESULT1 = add_mul('add', 167, 723, 3, 88, 29)\n",
    "RESULT2 = add_mul('mul', 167, 723, 3, 88, 29)\n",
    "\n",
    "print(\"(RESULT1, RESULT2) = (%s, %s)\" % (RESULT1, RESULT2) )\n",
    "\n",
    "\n",
    "# number = input() : 사용자 입출력\n",
    "\n",
    "NUM = input(\"number = \")\n",
    "print(NUM)\n",
    "\n",
    "# 파일 읽고 쓰기\n",
    "\n",
    "file = open(\"D:text.txt\", 'w')\n",
    "i = 1\n",
    "for i in range(1, 11) : \n",
    "    write_data = \"%d\\n\" %i\n",
    "    file.write(write_data)\n",
    "\n",
    "file.close()\n",
    "\n",
    "file = open(\"D:text.txt\", 'a')\n",
    "j = 11\n",
    "for j in range(11, 21) :\n",
    "    write_dataa = \"%d\\n\" %j\n",
    "    file.write(write_dataa)\n",
    "    \n",
    "file.close()\n",
    "\n",
    "file = open(\"D:text.txt\", 'r')\n",
    "while True :\n",
    "    line_data = file.readline()\n",
    "    if not line_data :\n",
    "        break;\n",
    "    print(line_data, end='')\n",
    "file.close"
   ]
  },
  {
   "cell_type": "code",
   "execution_count": null,
   "metadata": {},
   "outputs": [],
   "source": []
  }
 ],
 "metadata": {
  "kernelspec": {
   "display_name": "Python 3",
   "language": "python",
   "name": "python3"
  },
  "language_info": {
   "codemirror_mode": {
    "name": "ipython",
    "version": 3
   },
   "file_extension": ".py",
   "mimetype": "text/x-python",
   "name": "python",
   "nbconvert_exporter": "python",
   "pygments_lexer": "ipython3",
   "version": "3.7.3"
  }
 },
 "nbformat": 4,
 "nbformat_minor": 2
}
