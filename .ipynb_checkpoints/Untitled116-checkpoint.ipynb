{
 "cells": [
  {
   "cell_type": "code",
   "execution_count": 27,
   "metadata": {},
   "outputs": [
    {
     "name": "stdout",
     "output_type": "stream",
     "text": [
      "True\n"
     ]
    }
   ],
   "source": [
    "from copy import deepcopy\n",
    "\n",
    "map_ ='''########\n",
    "#<     #\n",
    "#  ##  #\n",
    "#  ##  #\n",
    "#     >#\n",
    "########\n",
    "'''\n",
    "\n",
    "map_list_1 = [list(i) for i in map_.split('\\n')]\n",
    "\n",
    "def start_point(li) : # 시작점 검색\n",
    "    col = 0\n",
    "    for lines in li :\n",
    "        if '<' in lines :\n",
    "            return [lines.index('<'), col]\n",
    "        col += 1\n",
    "    return False\n",
    "\n",
    "def search_(li) :\n",
    "    queue = [li+[start_point(li)]]\n",
    "    while len(queue) != 0 :\n",
    "        head = queue.pop(0)\n",
    "        for cond in [(-1, 0, head[-1][0]), (1, 0, len(head[0])-1-head[-1][0]), (0, -1, head[-1][1]), (0, 1, len(head)-3-head[-1][1])] :  # 순서대로 dx, dy, 방향, 좌표가 데이터 범위 내 있을 조건\n",
    "            head_1 = deepcopy(head)\n",
    "            if cond[2] > 0 and head_1[head_1[-1][1]+cond[1]][head_1[-1][0]+cond[0]] == ('>') : # 목표지점까지 도착할 수 있으면 True를 반환\n",
    "                return True\n",
    "            if cond[2] > 0 and head_1[head_1[-1][1]+cond[1]][head_1[-1][0]+cond[0]] == (' ') : # 좌표가 데이터 범위 내에 있으면서 탐색 가능한 경우\n",
    "                head_1[head_1[-1][1]][head_1[-1][0]] = '#' # 방문한 좌표 '#'로 대체\n",
    "                head_1[-1][0], head_1[-1][1] = head_1[-1][0]+cond[0], head_1[-1][1]+cond[1] #좌표 갱신\n",
    "                queue.append(head_1) # queue의 마지막에 추가\n",
    "    return False # 목표지점까지 도달한 경우가 없으면 False 반환\n",
    "print(search_(map_list_1))"
   ]
  },
  {
   "cell_type": "code",
   "execution_count": 5,
   "metadata": {},
   "outputs": [
    {
     "name": "stdout",
     "output_type": "stream",
     "text": [
      "3\n"
     ]
    }
   ],
   "source": [
    "map_ ='''#< #  #\n",
    "#  #  #\n",
    "#  # >#\n",
    "'''\n",
    "\n",
    "map_list_1 = [list(i) for i in map_.split('\\n')]\n",
    "\n",
    "def start_point(li) :\n",
    "    col = 0\n",
    "    for lines in li :\n",
    "        if '<' in lines :\n",
    "            return [lines.index('<'), col]\n",
    "        col += 1\n",
    "    return False\n",
    "\n"
   ]
  },
  {
   "cell_type": "code",
   "execution_count": null,
   "metadata": {},
   "outputs": [],
   "source": []
  }
 ],
 "metadata": {
  "kernelspec": {
   "display_name": "Python 3",
   "language": "python",
   "name": "python3"
  },
  "language_info": {
   "codemirror_mode": {
    "name": "ipython",
    "version": 3
   },
   "file_extension": ".py",
   "mimetype": "text/x-python",
   "name": "python",
   "nbconvert_exporter": "python",
   "pygments_lexer": "ipython3",
   "version": "3.7.3"
  }
 },
 "nbformat": 4,
 "nbformat_minor": 2
}
