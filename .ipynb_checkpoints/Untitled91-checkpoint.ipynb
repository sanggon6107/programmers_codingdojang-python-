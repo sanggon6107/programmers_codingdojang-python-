{
 "cells": [
  {
   "cell_type": "code",
   "execution_count": 23,
   "metadata": {},
   "outputs": [
    {
     "data": {
      "text/plain": [
       "-1"
      ]
     },
     "execution_count": 23,
     "metadata": {},
     "output_type": "execute_result"
    }
   ],
   "source": [
    "from sympy import *\n",
    "\n",
    "x, y = symbols('x y')\n",
    "\n",
    "eq = x**2 - 2\n",
    "eq.subs(x, 1)"
   ]
  },
  {
   "cell_type": "code",
   "execution_count": 44,
   "metadata": {},
   "outputs": [
    {
     "name": "stdout",
     "output_type": "stream",
     "text": [
      "p1 : 0 0\n",
      "p2 : 1 0\n",
      "None\n"
     ]
    }
   ],
   "source": [
    "from sympy import *\n",
    "import re\n",
    "\n",
    "num_com, points, result = re.compile(\"[-]?\\d*\\.?\\d+\"), [], []\n",
    "\n",
    "points.append(num_com.findall(input(\"p1 : \")))\n",
    "points.append(num_com.findall(input(\"p2 : \")))\n",
    "\n",
    "if points[0][0] == points[1][0] :\n",
    "    for i in range(min(int(points[0][1])+1, int(points[1][1])), max(int(points[0][1]), int(points[1][1]))) :\n",
    "        result.append([int(points[0][0]), i])\n",
    "    print(result)\n",
    "else : \n",
    "    fn = ((int(points[0][1])-int(points[1][1]))/(int(points[0][0])-int(points[1][0])))*(x-int(points[0][0]))+int(points[0][1])\n",
    "    for m in range(min(int(points[0][0])+1, int(points[1][0])), max(int(points[0][0]), int(points[1][0]))) :\n",
    "        if fn.subs(x, m) % 1 == 0 :\n",
    "            result.append([m, int(fn.subs(x, m))])\n",
    "if len(result) == 0 :\n",
    "    print(None)\n",
    "\n",
    "else : \n",
    "    print(result)"
   ]
  },
  {
   "cell_type": "code",
   "execution_count": 42,
   "metadata": {},
   "outputs": [
    {
     "name": "stdout",
     "output_type": "stream",
     "text": [
      "True\n",
      "True\n"
     ]
    }
   ],
   "source": [
    "a = 1\n",
    "if a < 2 : print(True)\n",
    "if a > 0 : print(True)"
   ]
  },
  {
   "cell_type": "code",
   "execution_count": null,
   "metadata": {},
   "outputs": [],
   "source": []
  }
 ],
 "metadata": {
  "kernelspec": {
   "display_name": "Python 3",
   "language": "python",
   "name": "python3"
  },
  "language_info": {
   "codemirror_mode": {
    "name": "ipython",
    "version": 3
   },
   "file_extension": ".py",
   "mimetype": "text/x-python",
   "name": "python",
   "nbconvert_exporter": "python",
   "pygments_lexer": "ipython3",
   "version": "3.7.3"
  }
 },
 "nbformat": 4,
 "nbformat_minor": 2
}
