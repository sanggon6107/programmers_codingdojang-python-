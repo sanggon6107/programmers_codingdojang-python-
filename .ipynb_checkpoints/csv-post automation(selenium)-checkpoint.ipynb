{
 "cells": [
  {
   "cell_type": "code",
   "execution_count": null,
   "metadata": {},
   "outputs": [],
   "source": [
    "## YJ automation  ##############################################################################\n",
    "\n",
    "from selenium import webdriver\n",
    "import time\n",
    "import pyautogui\n",
    "import csv\n",
    "\n",
    "def get_access() :\n",
    "    ch_dir = r'C:\\Users\\user\\Desktop\\ToLearnPy\\chromedriver.exe'\n",
    "    driver = webdriver.Chrome(ch_dir)\n",
    "    driver.get(\"http://99.14.1.3:9802/view/jsp/login/\")\n",
    "    time.sleep(4)\n",
    "    \n",
    "def lg_in() :\n",
    "    elem_log_id = driver.find_element_by_id(\"mgrId\")\n",
    "    #elem_log_id.click()\n",
    "    #time.sleep(2)\n",
    "    #pyautogui.typewrite(\"rjstjf\", interval = 0.1)\n",
    "    elem_log_id.clear()\n",
    "    elem_log_id.send_keys(\"rjstjf\")\n",
    "    time.sleep(2)\n",
    "    elem_log_pw = driver.find_element_by_id(\"mgrPwd\")\n",
    "    elem_log_pw.clear()\n",
    "    elem_log_pw.send_keys(\"rjstjfrhk1*\")\n",
    "    time.sleep(0.5)\n",
    "    \n",
    "    pyautogui.press(\"enter\")\n",
    "    time.sleep(5)\n",
    "\n",
    "def To_reg() : \n",
    "    To_send2 = driver.find_element_by_id(\"active22\")\n",
    "    To_send2.click()\n",
    "    time.sleep(1)\n",
    "    deunggi = driver.find_element_by_id(\"active31\")\n",
    "    deunggi.click()\n",
    "    time.sleep(1.5)\n",
    "    \n",
    "    \n",
    "    driver.switch_to.frame(driver.find_element_by_tag_name(\"iframe\"))\n",
    "    \n",
    "    \n",
    "    #ins_1 = driver.find_element_by_id(\"contentFrame\")\n",
    "    #ins_2 = driver.find_element_by_id(\"bodyWrapperBox\")\n",
    "    #ins_2 = driver.find_element_by_id(\"buttonClonDiv\")\n",
    "    insert_btn = driver.find_element_by_id(\"insertBtn\")\n",
    "    insert_btn.click()\n",
    "\n",
    "\n",
    "if __name__ == \"__main__\" :\n",
    "    get_access()\n",
    "    lg_in()\n",
    "    To_reg()"
   ]
  }
 ],
 "metadata": {
  "kernelspec": {
   "display_name": "Python 3",
   "language": "python",
   "name": "python3"
  },
  "language_info": {
   "codemirror_mode": {
    "name": "ipython",
    "version": 3
   },
   "file_extension": ".py",
   "mimetype": "text/x-python",
   "name": "python",
   "nbconvert_exporter": "python",
   "pygments_lexer": "ipython3",
   "version": "3.7.4"
  }
 },
 "nbformat": 4,
 "nbformat_minor": 2
}
