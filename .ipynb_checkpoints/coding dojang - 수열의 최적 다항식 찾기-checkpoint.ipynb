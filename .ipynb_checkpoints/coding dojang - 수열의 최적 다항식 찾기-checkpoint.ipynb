{
 "cells": [
  {
   "cell_type": "code",
   "execution_count": 8,
   "metadata": {},
   "outputs": [
    {
     "name": "stdout",
     "output_type": "stream",
     "text": [
      "INPUT : 0\n"
     ]
    }
   ],
   "source": [
    "k = int(input(\"INPUT : \"))\n",
    "s = [print('N'+(' '*i+'N').ljust(k)[1:-1]+'N') for i in range(0, k)]"
   ]
  },
  {
   "cell_type": "code",
   "execution_count": 1,
   "metadata": {},
   "outputs": [
    {
     "name": "stdout",
     "output_type": "stream",
     "text": [
      "1번째 항 : 1\n",
      "1\n",
      "2번째 항 : 683\n",
      "682*x - 681\n",
      "3번째 항 : 44287\n",
      "21461*x**2 - 63701*x + 42241\n",
      "4번째 항 : 838861\n",
      "118008*x**3 - 686587*x**2 + 1234387*x - 665807\n",
      "5번째 항 : 8138021\n",
      "210232*x**4 - 1984312*x**3 + 6671533*x**2 - 9277213*x + 4379761\n",
      "6번째 항 : 51828151\n",
      "159060*x**5 - 2175668*x**4 + 11535788*x**3 - 29116967*x**2 + 34305227*x - 14707439\n",
      "7번째 항 : 247165843\n",
      "58542*x**6 - 1070322*x**5 + 8069182*x**4 - 31492582*x**3 + 65955241*x**2 - 68962861*x + 27442801\n",
      "8번째 항 : 954437177\n",
      "11165*x**7 - 254078*x**6 + 2524808*x**5 - 13814218*x**4 + 44083303*x**3 - 80663539*x**2 + 76941359*x - 28828799\n",
      "9번째 항 : 3138105961\n",
      "1111*x**8 - 28831*x**7 + 352528*x**6 - 2514688*x**5 + 11126621*x**4 - 30669221*x**3 + 50572225*x**2 - 44806465*x + 15966721\n",
      "10번째 항 : 9090909091\n",
      "54*x**9 - 1319*x**8 + 18149*x**7 - 157772*x**6 + 902054*x**5 - 3416929*x**4 + 8409499*x**3 - 12753575*x**2 + 10628639*x - 3628799\n",
      "11번째 항 : 23775972551\n",
      "x**10 - x**9 + x**8 - x**7 + x**6 - x**5 + x**4 - x**3 + x**2 - x + 1\n",
      "37076114526\n"
     ]
    }
   ],
   "source": [
    "import sympy\n",
    "import re\n",
    "\n",
    "def lagrange(inp_LIST) : # 라그랑주 보간\n",
    "    if len(inp_LIST) == 1 :\n",
    "        return inp_LIST[0][1]\n",
    "    \n",
    "    else : \n",
    "        x, inter, kou = sympy.Symbol('x'), [], []\n",
    "        for i in range(0, len(inp_LIST)) :\n",
    "            for m in range(1, len(inp_LIST)) :\n",
    "                inter.append('((x-%s)/(%s-%s))'% (inp_LIST[(i+m)%len(inp_LIST)][0], inp_LIST[i][0], inp_LIST[(i+m)%len(inp_LIST)][0] ))\n",
    "            kou.append(\"*\".join(inter)+'*'+str(inp_LIST[i][1]))\n",
    "            inter = []\n",
    "        return sympy.expand(('+'.join(kou)))\n",
    "\n",
    "def opt_poly(count, un) :\n",
    "    y_list, result, x = [], [], sympy.Symbol('x')\n",
    "    while True :\n",
    "        y_list.append([str(count), str(input(\"%s번째 항 : \" %count))])\n",
    "        count += 1\n",
    "        lag_func = sympy.simplify(lagrange(y_list))\n",
    "        print(lag_func)\n",
    "        result.append(lag_func.subs(x, count)) # FIT 을 result에 추가\n",
    "        if sympy.simplify(lag_func) == sympy.simplify(un) : \n",
    "            print(sum(result[:-1]))\n",
    "            #최종 합을 출력\n",
    "            break\n",
    "\n",
    "opt_poly(1, '1-x+x**2-x**3+x**4-x**5+x**6-x**7+x**8-x**9+x**10')\n",
    "# opt_poly(1, 'x**3')"
   ]
  },
  {
   "cell_type": "code",
   "execution_count": 1,
   "metadata": {},
   "outputs": [
    {
     "name": "stdout",
     "output_type": "stream",
     "text": [
      "1\n",
      "n :  1\n",
      "683\n",
      "n :  2\n",
      "44287\n",
      "n :  3\n",
      "838861\n",
      "n :  4\n",
      "8138021\n",
      "n :  5\n",
      "51828151\n",
      "n :  6\n",
      "247165843\n",
      "n :  7\n",
      "954437177\n",
      "n :  8\n",
      "3138105961\n",
      "n :  9\n",
      "9090909091\n",
      "n :  10\n",
      "23775972551\n",
      "n :  11\n"
     ]
    }
   ],
   "source": [
    "import sympy\n",
    "x = sympy.Symbol('x')\n",
    "k = 1-x+x**2-x**3+x**4-x**5+x**6-x**7+x**8-x**9+x**10\n",
    "for o in range(0, 11) :\n",
    "    print(k.subs(x, o+1))\n",
    "    print(\"n : \", o+1)"
   ]
  },
  {
   "cell_type": "code",
   "execution_count": null,
   "metadata": {},
   "outputs": [],
   "source": []
  },
  {
   "cell_type": "code",
   "execution_count": null,
   "metadata": {},
   "outputs": [],
   "source": []
  }
 ],
 "metadata": {
  "kernelspec": {
   "display_name": "Python 3",
   "language": "python",
   "name": "python3"
  },
  "language_info": {
   "codemirror_mode": {
    "name": "ipython",
    "version": 3
   },
   "file_extension": ".py",
   "mimetype": "text/x-python",
   "name": "python",
   "nbconvert_exporter": "python",
   "pygments_lexer": "ipython3",
   "version": "3.7.3"
  }
 },
 "nbformat": 4,
 "nbformat_minor": 2
}
