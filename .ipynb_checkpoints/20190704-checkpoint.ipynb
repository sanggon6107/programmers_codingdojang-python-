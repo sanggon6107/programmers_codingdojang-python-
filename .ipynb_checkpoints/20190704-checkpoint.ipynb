{
 "cells": [
  {
   "cell_type": "code",
   "execution_count": 24,
   "metadata": {},
   "outputs": [
    {
     "name": "stdout",
     "output_type": "stream",
     "text": [
      "================================================== 2019.07.04 ==================================================\n",
      "STRING :  56789\n",
      "INT DATA =  [5, 6, 7, 8, 9]\n",
      "a.first = 3\n",
      "a.second = 7\n",
      "b.first = 5\n",
      "b.second = 6\n"
     ]
    }
   ],
   "source": [
    "print(\"=\"*50, '2019.07.04', \"=\"*50)\n",
    "\n",
    "import sys\n",
    "import numpy as np\n",
    "from copy import copy\n",
    "\n",
    "#string to int : int\n",
    "\n",
    "STRING = \"56789\"\n",
    "print(\"STRING : \", STRING)\n",
    "\n",
    "INT=[]\n",
    "n = 0\n",
    "\n",
    "for n in range(len(STRING)) :\n",
    "    \n",
    "    INT.append(int(STRING[n]))\n",
    "    \n",
    "print('INT DATA = ', INT)\n",
    "\n",
    "\n",
    "# object, class, module, package\n",
    "### Class\n",
    "\n",
    "class Cal : \n",
    "    def setdata(self, first, second) :     #setdata : method\n",
    "        self.first = first\n",
    "        self.second = second\n",
    "\n",
    "a = Cal()\n",
    "a.setdata(3, 7)\n",
    "\n",
    "print(\"a.first =\", a.first)\n",
    "print(\"a.second =\", a.second)\n",
    "\n",
    "b = Cal()\n",
    "b.setdata(5, 6)\n",
    "\n",
    "print(\"b.first =\", b.first)\n",
    "print(\"b.second =\", b.second)"
   ]
  },
  {
   "cell_type": "code",
   "execution_count": null,
   "metadata": {},
   "outputs": [],
   "source": []
  }
 ],
 "metadata": {
  "kernelspec": {
   "display_name": "Python 3",
   "language": "python",
   "name": "python3"
  },
  "language_info": {
   "codemirror_mode": {
    "name": "ipython",
    "version": 3
   },
   "file_extension": ".py",
   "mimetype": "text/x-python",
   "name": "python",
   "nbconvert_exporter": "python",
   "pygments_lexer": "ipython3",
   "version": "3.7.3"
  }
 },
 "nbformat": 4,
 "nbformat_minor": 2
}
