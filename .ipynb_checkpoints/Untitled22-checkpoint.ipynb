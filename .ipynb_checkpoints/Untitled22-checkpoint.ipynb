{
 "cells": [
  {
   "cell_type": "code",
   "execution_count": 10,
   "metadata": {
    "scrolled": false
   },
   "outputs": [
    {
     "name": "stdout",
     "output_type": "stream",
     "text": [
      "input : 55\n",
      "INIT.number =  3\n",
      "5\n",
      "2\n",
      "INIT.number =  5\n",
      "9\n",
      "3\n",
      "INIT.number =  96\n",
      "32.0\n",
      "4.571428571428571\n"
     ]
    }
   ],
   "source": [
    "import numpy as np\n",
    "from matplotlib import pyplot as plt\n",
    "import pandas as pd\n",
    "\n",
    "\n",
    "class dec :\n",
    "    def __init__(self, result) :\n",
    "        self.result = result\n",
    "        \n",
    "        print(\"INIT.number = \", self.result)\n",
    "        \n",
    "    def add(self, ADD_number) :\n",
    "        self.result = self.result + ADD_number\n",
    "        \n",
    "        return self.result\n",
    "        \n",
    "    def sub(self, SUB_number) :\n",
    "        self.result = self.result - SUB_number\n",
    "        \n",
    "        return self.result\n",
    "\n",
    "a = dec(3)\n",
    "\n",
    "print(a.add(2))\n",
    "print(a.sub(3))\n",
    "\n",
    "b= dec(5)\n",
    "\n",
    "print(b.add(4))\n",
    "print(b.sub(6))\n",
    "\n",
    "class more_dec(dec) :\n",
    "    def mul(self, MUL_number) :\n",
    "        self.result = self.result * MUL_number\n",
    "        \n",
    "        return self.result\n",
    "        \n",
    "    def div(self, DIV_number) :\n",
    "        self.result = self.result / DIV_number\n",
    "        \n",
    "        return self.result\n",
    "\n",
    "\n",
    "c = more_dec(96)\n",
    "\n",
    "print(c.div(3))\n",
    "print(c.div(7))"
   ]
  },
  {
   "cell_type": "code",
   "execution_count": null,
   "metadata": {},
   "outputs": [],
   "source": []
  }
 ],
 "metadata": {
  "kernelspec": {
   "display_name": "Python 3",
   "language": "python",
   "name": "python3"
  },
  "language_info": {
   "codemirror_mode": {
    "name": "ipython",
    "version": 3
   },
   "file_extension": ".py",
   "mimetype": "text/x-python",
   "name": "python",
   "nbconvert_exporter": "python",
   "pygments_lexer": "ipython3",
   "version": "3.7.3"
  }
 },
 "nbformat": 4,
 "nbformat_minor": 2
}
