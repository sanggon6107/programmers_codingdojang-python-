{
 "cells": [
  {
   "cell_type": "code",
   "execution_count": 19,
   "metadata": {},
   "outputs": [
    {
     "data": {
      "text/plain": [
       "[1, 2, 27, 29, 28, 31, 30]"
      ]
     },
     "execution_count": 19,
     "metadata": {},
     "output_type": "execute_result"
    }
   ],
   "source": [
    "def find_longest(inp, dic) :\n",
    "    w = ''\n",
    "    for cha_len in range(1, len(inp)+1) :\n",
    "        tentW = inp[:cha_len]\n",
    "        if tentW in dic :\n",
    "            w = tentW\n",
    "    inp = inp[len(w):]\n",
    "    if len(inp) != 0 :\n",
    "        dic.append(w+inp[0])\n",
    "    return w, inp\n",
    "\n",
    "\n",
    "def solution(msg):\n",
    "    dicIni = list(\"ABCDEFGHIJKLMNOPQRSTUVWXYZ\")\n",
    "    res = []\n",
    "    while True :\n",
    "        w, msg = find_longest(msg, dicIni)\n",
    "        res.append(dicIni.index(w)+1)\n",
    "        if msg == '' :\n",
    "            return res\n",
    "\n",
    "#solution(\"KAKAO\")\n",
    "#solution(\"TOBEORNOTTOBEORTOBEORNOT\")\n",
    "#solution(\"ABABABABABABABAB\")\n",
    "#find_longest(\"KAKAO\", list(\"ABCDEFGHIJKLMNOPQRSTUVWXYZ\"))"
   ]
  },
  {
   "cell_type": "code",
   "execution_count": 14,
   "metadata": {},
   "outputs": [
    {
     "data": {
      "text/plain": [
       "('O', '')"
      ]
     },
     "execution_count": 14,
     "metadata": {},
     "output_type": "execute_result"
    }
   ],
   "source": [
    "def find_longest(inp, dic) :\n",
    "    w = ''\n",
    "    for cha_len in range(1, len(inp)+1) :\n",
    "        tentW = inp[:cha_len]\n",
    "        if tentW in dic :\n",
    "            w = tentW\n",
    "    inp = inp[len(w):]\n",
    "    if len(inp) != 0 :\n",
    "        dic.append(w+inp[0])\n",
    "    \n",
    "    return w, inp\n",
    "        \n",
    "find_longest(\"O\", list(\"ABCDEFGHIJKLMNOPQRSTUVWXYZ\"))"
   ]
  },
  {
   "cell_type": "code",
   "execution_count": 13,
   "metadata": {},
   "outputs": [
    {
     "name": "stdout",
     "output_type": "stream",
     "text": [
      " aa\n"
     ]
    }
   ],
   "source": []
  },
  {
   "cell_type": "code",
   "execution_count": null,
   "metadata": {},
   "outputs": [],
   "source": []
  }
 ],
 "metadata": {
  "kernelspec": {
   "display_name": "Python 3",
   "language": "python",
   "name": "python3"
  },
  "language_info": {
   "codemirror_mode": {
    "name": "ipython",
    "version": 3
   },
   "file_extension": ".py",
   "mimetype": "text/x-python",
   "name": "python",
   "nbconvert_exporter": "python",
   "pygments_lexer": "ipython3",
   "version": "3.7.3"
  }
 },
 "nbformat": 4,
 "nbformat_minor": 2
}
