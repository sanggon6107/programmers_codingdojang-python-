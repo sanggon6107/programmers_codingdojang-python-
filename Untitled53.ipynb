{
 "cells": [
  {
   "cell_type": "code",
   "execution_count": 41,
   "metadata": {},
   "outputs": [
    {
     "name": "stdout",
     "output_type": "stream",
     "text": [
      "input : 20\n"
     ]
    },
    {
     "data": {
      "text/plain": [
       "[1, 2, 3, 5, 7, 11, 13, 17, 19]"
      ]
     },
     "execution_count": 41,
     "metadata": {},
     "output_type": "execute_result"
    }
   ],
   "source": [
    "# Goldbach's conjecture\n",
    "\n",
    "i = int(input(\"input : \"))\n",
    "\n",
    "i_list = []  # i이하 소수 리스트 작성\n",
    "\n",
    "for k in range(1, i) :  #k는 i미만의 어떤 수이고, 다음의 for문을 1:i-1의 범위에서 반복시행한다.\n",
    "    for kak in range(2, k) :  #k는 소수인가?\n",
    "        if k == 2 :\n",
    "            tou = True\n",
    "            break\n",
    "        elif k % kak != 0 :\n",
    "            tou = True\n",
    "        elif k % kak == 0 or k == 1 :\n",
    "            tou = False\n",
    "            break\n",
    "    if tou == True :      #만약 k가 소수라면, i_list에 k를 추가한다.\n",
    "        i_list.append(k)\n",
    "\n",
    "i_list"
   ]
  },
  {
   "cell_type": "code",
   "execution_count": 43,
   "metadata": {},
   "outputs": [
    {
     "data": {
      "text/plain": [
       "True"
      ]
     },
     "execution_count": 43,
     "metadata": {},
     "output_type": "execute_result"
    }
   ],
   "source": [
    "k = 11\n",
    "k_list = ["
   ]
  },
  {
   "cell_type": "code",
   "execution_count": null,
   "metadata": {},
   "outputs": [],
   "source": []
  }
 ],
 "metadata": {
  "kernelspec": {
   "display_name": "Python 3",
   "language": "python",
   "name": "python3"
  },
  "language_info": {
   "codemirror_mode": {
    "name": "ipython",
    "version": 3
   },
   "file_extension": ".py",
   "mimetype": "text/x-python",
   "name": "python",
   "nbconvert_exporter": "python",
   "pygments_lexer": "ipython3",
   "version": "3.7.3"
  }
 },
 "nbformat": 4,
 "nbformat_minor": 2
}
