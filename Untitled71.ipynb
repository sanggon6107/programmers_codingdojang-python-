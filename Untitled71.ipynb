{
 "cells": [
  {
   "cell_type": "code",
   "execution_count": 10,
   "metadata": {},
   "outputs": [
    {
     "name": "stdout",
     "output_type": "stream",
     "text": [
      "G : 5\n",
      "R : 5\n",
      "0 1 2 3 4 \n"
     ]
    }
   ],
   "source": [
    "while True : \n",
    "\n",
    "    \n",
    "    inp1st = input('G : ')\n",
    "    inp2nd, RESULT, F_RESULT = input('R : '), [], ''\n",
    "    \n",
    "    if inp1st == 'QUIT' or inp2nd == 'QUIT' :\n",
    "        break\n",
    "    \n",
    "    else :\n",
    "        \n",
    "        for i in range(0, int(inp2nd)) :\n",
    "            RESULT.append(str(i).ljust(2))\n",
    "        \n",
    "        for k in range(0, int(inp2nd)) :\n",
    "            F_RESULT += RESULT[k]\n",
    "        \n",
    "        print(F_RESULT)"
   ]
  },
  {
   "cell_type": "code",
   "execution_count": null,
   "metadata": {},
   "outputs": [],
   "source": []
  }
 ],
 "metadata": {
  "kernelspec": {
   "display_name": "Python 3",
   "language": "python",
   "name": "python3"
  },
  "language_info": {
   "codemirror_mode": {
    "name": "ipython",
    "version": 3
   },
   "file_extension": ".py",
   "mimetype": "text/x-python",
   "name": "python",
   "nbconvert_exporter": "python",
   "pygments_lexer": "ipython3",
   "version": "3.7.3"
  }
 },
 "nbformat": 4,
 "nbformat_minor": 2
}
