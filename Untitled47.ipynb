{
 "cells": [
  {
   "cell_type": "code",
   "execution_count": 3,
   "metadata": {},
   "outputs": [
    {
     "ename": "SystemExit",
     "evalue": "0",
     "output_type": "error",
     "traceback": [
      "An exception has occurred, use %tb to see the full traceback.\n",
      "\u001b[1;31mSystemExit\u001b[0m\u001b[1;31m:\u001b[0m 0\n"
     ]
    },
    {
     "name": "stderr",
     "output_type": "stream",
     "text": [
      "C:\\ProgramData\\Anaconda3\\lib\\site-packages\\IPython\\core\\interactiveshell.py:3304: UserWarning: To exit: use 'exit', 'quit', or Ctrl-D.\n",
      "  warn(\"To exit: use 'exit', 'quit', or Ctrl-D.\", stacklevel=1)\n"
     ]
    }
   ],
   "source": [
    "import sys\n",
    "import pyautogui\n",
    "from PyQt5.QtWidgets import *\n",
    "\n",
    "class MyApp(QWidget):\n",
    "\n",
    "    def __init__(self):\n",
    "        super().__init__()\n",
    "        \n",
    "        self.fresh_btn = QPushButton(\"갱신\")\n",
    "        self.seikai_btn = QPushButton(\"정답 확인\")\n",
    "        self.count = 0\n",
    "        \n",
    "        self.initUI()\n",
    "\n",
    "    def initUI(self):\n",
    "\n",
    "        grid = QGridLayout()\n",
    "        self.setLayout(grid)\n",
    "        \n",
    "        \n",
    "        \n",
    "        grid.addWidget(QLabel(\"한국어 훈/음\"), 0, 0)\n",
    "        grid.addWidget(QLabel(\"한자\"), 0, 1)\n",
    "        grid.addWidget(QLabel(\"訓読み\"), 0, 2)\n",
    "        grid.addWidget(QLabel(\"音読み\"), 0, 3)\n",
    "        \n",
    "        grid.addWidget(QLabel(\"%d번째 단어입니다.\" %self.count), 1, 1)\n",
    "        grid.addWidget(QLabel(\"FILE : \"), 2, 0)\n",
    "        \n",
    "        grid.addWidget(self.fresh_btn, 2, 1)\n",
    "        grid.addWidget(self.)\n",
    "\n",
    "        self.setWindowTitle('Words')\n",
    "        self.setGeometry(300, 300, 300, 200)\n",
    "        self.show()\n",
    "\n",
    "\n",
    "if __name__ == '__main__':\n",
    "    app = QApplication(sys.argv)\n",
    "    ex = MyApp()\n",
    "    sys.exit(app.exec_())"
   ]
  },
  {
   "cell_type": "code",
   "execution_count": null,
   "metadata": {},
   "outputs": [],
   "source": []
  }
 ],
 "metadata": {
  "kernelspec": {
   "display_name": "Python 3",
   "language": "python",
   "name": "python3"
  },
  "language_info": {
   "codemirror_mode": {
    "name": "ipython",
    "version": 3
   },
   "file_extension": ".py",
   "mimetype": "text/x-python",
   "name": "python",
   "nbconvert_exporter": "python",
   "pygments_lexer": "ipython3",
   "version": "3.7.3"
  }
 },
 "nbformat": 4,
 "nbformat_minor": 2
}
