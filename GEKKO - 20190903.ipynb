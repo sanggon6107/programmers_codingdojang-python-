{
 "cells": [
  {
   "cell_type": "code",
   "execution_count": 1,
   "metadata": {
    "collapsed": true
   },
   "outputs": [
    {
     "name": "stdout",
     "output_type": "stream",
     "text": [
      "================================================== 2019.09.03 ==================================================\n",
      "Getting GEKKO optimal control solver started\n"
     ]
    },
    {
     "ename": "ModuleNotFoundError",
     "evalue": "No module named 'gekko'",
     "output_type": "error",
     "traceback": [
      "\u001b[1;31m---------------------------------------------------------------------------\u001b[0m",
      "\u001b[1;31mModuleNotFoundError\u001b[0m                       Traceback (most recent call last)",
      "\u001b[1;32m<ipython-input-1-638a383a93c0>\u001b[0m in \u001b[0;36m<module>\u001b[1;34m\u001b[0m\n\u001b[0;32m      7\u001b[0m \u001b[1;31m##이번 Numerical solution 에서는 Lagrange Problem을 Mayer Problem으로 변환한 후 수치계산\u001b[0m\u001b[1;33m\u001b[0m\u001b[1;33m\u001b[0m\u001b[1;33m\u001b[0m\u001b[0m\n\u001b[0;32m      8\u001b[0m \u001b[1;33m\u001b[0m\u001b[0m\n\u001b[1;32m----> 9\u001b[1;33m \u001b[1;32mfrom\u001b[0m \u001b[0mgekko\u001b[0m \u001b[1;32mimport\u001b[0m \u001b[0mGEKKO\u001b[0m\u001b[1;33m\u001b[0m\u001b[1;33m\u001b[0m\u001b[0m\n\u001b[0m\u001b[0;32m     10\u001b[0m \u001b[1;32mimport\u001b[0m \u001b[0mnumpy\u001b[0m \u001b[1;32mas\u001b[0m \u001b[0mnp\u001b[0m\u001b[1;33m\u001b[0m\u001b[1;33m\u001b[0m\u001b[0m\n\u001b[0;32m     11\u001b[0m \u001b[1;32mimport\u001b[0m \u001b[0mmatplotlib\u001b[0m\u001b[1;33m.\u001b[0m\u001b[0mpyplot\u001b[0m \u001b[1;32mas\u001b[0m \u001b[0mplt\u001b[0m\u001b[1;33m\u001b[0m\u001b[1;33m\u001b[0m\u001b[0m\n",
      "\u001b[1;31mModuleNotFoundError\u001b[0m: No module named 'gekko'"
     ]
    }
   ],
   "source": [
    "print(\"=\"*50, \"2019.09.03\", \"=\"*50)\n",
    "\n",
    "print(\"Getting GEKKO optimal control solver started\")\n",
    "\n",
    "\n",
    "\n",
    "##이번 Numerical solution 에서는 Lagrange Problem을 Mayer Problem으로 변환한 후 수치계산 \n",
    "\n",
    "from gekko import GEKKO\n",
    "import numpy as np\n",
    "import matplotlib.pyplot as plt  \n",
    "\n",
    "m = GEKKO() # initialize gekko\n",
    "nt = 1501\n",
    "m.time = np.linspace(0,15,nt)\n",
    "\n",
    "# Variables\n",
    "x1 = m.Var(value = 1)\n",
    "x2 = m.Var(value=0)  #Lagrange_Problem -> Mayer_Problem \n",
    "u = m.MV(value = 0, lb=-1,ub=1)\n",
    "u.STATUS = 1\n",
    "\n",
    "\n",
    "p = np.zeros(nt) # mark final time point\n",
    "p[-1] = 1.0\n",
    "final = m.Param(value=p)\n",
    "\n",
    "# Equations\n",
    "m.Equation(x1.dt()== 2*u)\n",
    "m.Equation(x2.dt()== 1.5*(x1-3)**2 + 1.0*(u)**2)\n",
    "\n",
    "m.Obj(x2*final) # Objective function\n",
    "\n",
    "m.options.IMODE = 6 # optimal control mode\n",
    "m.options.NODES = 3 # collocation nodes\n",
    "m.options.SOLVER = 3 # solver (IPOPT)\n",
    "\n",
    "\n",
    "\n",
    "m.solve(disp=True) # solve\n",
    "\n",
    "\n",
    "plt.figure(1, figsize = (11, 5)) # plot results\n",
    "plt.style.use('ggplot')\n",
    "plt.plot(m.time,x1.value,'k-',label=r'$x_1$')\n",
    "plt.plot(m.time,u.value,'r--',label=r'$u$')\n",
    "\n",
    "plt.legend(loc='best')\n",
    "plt.xlabel('Time[sec]')\n",
    "plt.ylabel('Value')\n",
    "plt.show()\n"
   ]
  },
  {
   "cell_type": "code",
   "execution_count": null,
   "metadata": {},
   "outputs": [],
   "source": []
  }
 ],
 "metadata": {
  "celltoolbar": "Attachments",
  "kernelspec": {
   "display_name": "Python 3",
   "language": "python",
   "name": "python3"
  },
  "language_info": {
   "codemirror_mode": {
    "name": "ipython",
    "version": 3
   },
   "file_extension": ".py",
   "mimetype": "text/x-python",
   "name": "python",
   "nbconvert_exporter": "python",
   "pygments_lexer": "ipython3",
   "version": "3.7.4"
  }
 },
 "nbformat": 4,
 "nbformat_minor": 2
}
