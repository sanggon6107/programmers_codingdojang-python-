{
 "cells": [
  {
   "cell_type": "code",
   "execution_count": 1,
   "metadata": {},
   "outputs": [
    {
     "name": "stdout",
     "output_type": "stream",
     "text": [
      "-3,245.2,527,327,637,636\n"
     ]
    }
   ],
   "source": [
    "import re\n",
    "\n",
    "def commaParse(num):\n",
    "    return re.sub('(?<=\\d)(?=(\\d{3})+(?!\\d))',',',str(num))\n",
    "\n",
    "\n",
    "print (commaParse(-3245.2527327637634))"
   ]
  },
  {
   "cell_type": "code",
   "execution_count": 5,
   "metadata": {},
   "outputs": [
    {
     "name": "stdout",
     "output_type": "stream",
     "text": [
      "2,546.4567486346\n"
     ]
    }
   ],
   "source": [
    "def comma(n):\n",
    "    if n[0] == '-':\n",
    "        return '-' + comma(n[1:])\n",
    "    if len(n) <= 3:\n",
    "        return n\n",
    "    if n.find('.') == -1:\n",
    "        return comma(n[:-3]) + ',' + n[-3:]\n",
    "    else:\n",
    "        return comma(n[:n.find('.')]) + n[n.find('.'):]\n",
    "\n",
    "print(comma('2546.4567486346'))"
   ]
  },
  {
   "cell_type": "code",
   "execution_count": 7,
   "metadata": {},
   "outputs": [
    {
     "name": "stdout",
     "output_type": "stream",
     "text": [
      "input :1234\n",
      "['1', '2', '3', '4']\n"
     ]
    }
   ],
   "source": [
    "import re\n",
    "\n",
    "inp = list(input(\"input :\"))\n",
    "print(inp)"
   ]
  },
  {
   "cell_type": "code",
   "execution_count": null,
   "metadata": {},
   "outputs": [],
   "source": []
  }
 ],
 "metadata": {
  "kernelspec": {
   "display_name": "Python 3",
   "language": "python",
   "name": "python3"
  },
  "language_info": {
   "codemirror_mode": {
    "name": "ipython",
    "version": 3
   },
   "file_extension": ".py",
   "mimetype": "text/x-python",
   "name": "python",
   "nbconvert_exporter": "python",
   "pygments_lexer": "ipython3",
   "version": "3.7.3"
  }
 },
 "nbformat": 4,
 "nbformat_minor": 2
}
