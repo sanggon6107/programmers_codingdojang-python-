{
 "cells": [
  {
   "cell_type": "code",
   "execution_count": null,
   "metadata": {},
   "outputs": [],
   "source": []
  },
  {
   "cell_type": "code",
   "execution_count": 42,
   "metadata": {},
   "outputs": [
    {
     "data": {
      "text/plain": [
       "43690"
      ]
     },
     "execution_count": 42,
     "metadata": {},
     "output_type": "execute_result"
    }
   ],
   "source": [
    "def get_g(l1, l2) :\n",
    "    result = []\n",
    "    for i in list(set(l1) & set(l2)) :\n",
    "        for j in range(0, min(l1.count(i), l2.count(i))) :\n",
    "            result.append(i)\n",
    "    return len(result)\n",
    "\n",
    "def get_h(L1, L2) :\n",
    "    result = []\n",
    "    for q in list(set(L1) | set(L2)) :\n",
    "        for w in range(0, max(L1.count(q), L2.count(q))) :\n",
    "            result.append(q)\n",
    "    return len(result)\n",
    "\n",
    "def sep(string) :\n",
    "    ten_string, map_, result = string.lower(), 'abcdefghijklmnopqrstuvwxyz', []\n",
    "    for ev in range(0, len(ten_string)-1) :\n",
    "        if ten_string[ev] in map_ and ten_string[ev+1] in map_ :\n",
    "            result.append(ten_string[ev]+ten_string[ev+1])\n",
    "    return result\n",
    "\n",
    "def solution(str1, str2) :\n",
    "    try :\n",
    "        s1, s2 = sep(str1), sep(str2)\n",
    "        return int((get_g(s1, s2)/get_h(s1, s2))*65536)\n",
    "    except :\n",
    "        return 65536\n",
    "#solution('france', 'FRENCH')\n",
    "solution('aa1+aa2', 'AAAA12')"
   ]
  },
  {
   "cell_type": "code",
   "execution_count": 4,
   "metadata": {},
   "outputs": [
    {
     "data": {
      "text/plain": [
       "{2, 3}"
      ]
     },
     "execution_count": 4,
     "metadata": {},
     "output_type": "execute_result"
    }
   ],
   "source": [
    "a = set([1, 2, 3])\n",
    "b = set([2, 3, 4])\n",
    "\n",
    "a & b"
   ]
  },
  {
   "cell_type": "code",
   "execution_count": 11,
   "metadata": {},
   "outputs": [
    {
     "data": {
      "text/plain": [
       "'a12 3aa'"
      ]
     },
     "execution_count": 11,
     "metadata": {},
     "output_type": "execute_result"
    }
   ],
   "source": []
  },
  {
   "cell_type": "code",
   "execution_count": null,
   "metadata": {},
   "outputs": [],
   "source": []
  }
 ],
 "metadata": {
  "kernelspec": {
   "display_name": "Python 3",
   "language": "python",
   "name": "python3"
  },
  "language_info": {
   "codemirror_mode": {
    "name": "ipython",
    "version": 3
   },
   "file_extension": ".py",
   "mimetype": "text/x-python",
   "name": "python",
   "nbconvert_exporter": "python",
   "pygments_lexer": "ipython3",
   "version": "3.7.3"
  }
 },
 "nbformat": 4,
 "nbformat_minor": 2
}
