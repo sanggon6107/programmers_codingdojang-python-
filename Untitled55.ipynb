{
 "cells": [
  {
   "cell_type": "code",
   "execution_count": 4,
   "metadata": {},
   "outputs": [
    {
     "name": "stdout",
     "output_type": "stream",
     "text": [
      "233168\n"
     ]
    }
   ],
   "source": [
    "# project euler\n",
    "\n",
    "result = []\n",
    "for k in range(1, 1000) :\n",
    "    if k % 3 == 0 :\n",
    "        result.append(k)\n",
    "        continue\n",
    "    if k % 5 == 0 :\n",
    "        result.append(k)\n",
    "print(sum(result))"
   ]
  },
  {
   "cell_type": "code",
   "execution_count": 15,
   "metadata": {},
   "outputs": [
    {
     "data": {
      "text/plain": [
       "265"
      ]
     },
     "execution_count": 15,
     "metadata": {},
     "output_type": "execute_result"
    }
   ],
   "source": [
    "#sekigae\n",
    "\n",
    "from __future__ import print_function, division\n",
    "\n",
    "def sekigae(n) :\n",
    "    if n == 1 :\n",
    "        return 0\n",
    "    elif n == 2 :\n",
    "        return 1\n",
    "    return (n-1)*(sekigae(n-1)+sekigae(n-2))\n",
    "\n",
    "sekigae(6)"
   ]
  },
  {
   "cell_type": "code",
   "execution_count": null,
   "metadata": {},
   "outputs": [],
   "source": []
  }
 ],
 "metadata": {
  "kernelspec": {
   "display_name": "Python 3",
   "language": "python",
   "name": "python3"
  },
  "language_info": {
   "codemirror_mode": {
    "name": "ipython",
    "version": 3
   },
   "file_extension": ".py",
   "mimetype": "text/x-python",
   "name": "python",
   "nbconvert_exporter": "python",
   "pygments_lexer": "ipython3",
   "version": "3.7.3"
  }
 },
 "nbformat": 4,
 "nbformat_minor": 2
}
