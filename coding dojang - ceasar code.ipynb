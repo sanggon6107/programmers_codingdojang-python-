{
 "cells": [
  {
   "cell_type": "code",
   "execution_count": 27,
   "metadata": {},
   "outputs": [
    {
     "name": "stdout",
     "output_type": "stream",
     "text": [
      "INPUT : CAT, dog\n",
      "N : 5\n",
      "HFY, itl\n"
     ]
    }
   ],
   "source": [
    "def enig(inp, n) :\n",
    "    s, res = 'aAbBcCdDeEfFgGhHiIjJkKlLmMnNoOpPqQrRsStTuUvVwWxXyYzZ', ''\n",
    "    for M in INP :\n",
    "        if M in s : res += s[(s.index(M)+2*N)%52]\n",
    "        else : res += M\n",
    "    return res\n",
    "INP = str(input(\"INPUT : \"))\n",
    "N = int(input(\"N : \"))\n",
    "print(enig(INP, N))"
   ]
  },
  {
   "cell_type": "code",
   "execution_count": 9,
   "metadata": {},
   "outputs": [
    {
     "name": "stdout",
     "output_type": "stream",
     "text": [
      "INPUT : my enigma\n",
      "N : 0\n"
     ]
    },
    {
     "data": {
      "text/plain": [
       "'myenigma'"
      ]
     },
     "execution_count": 9,
     "metadata": {},
     "output_type": "execute_result"
    }
   ],
   "source": [
    "import re\n",
    "INP = str(input(\"INPUT : \"))\n",
    "N = int(input(\"N : \"))\n",
    "def enig(inp, n) :\n",
    "    s = 'aAbBcCdDeEfFgGhHiIjJkKlLmMnNoOpPqQrRsStTuUvVwWxXyYzZ'\n",
    "    res = ''\n",
    "    eni_com = re.compile('[a-zA-Z]')\n",
    "    for M in INP :\n",
    "        try : res += eni_com.sub(s[(s.index(M)+2*N)%52], M, count = 1)\n",
    "        except : pass\n",
    "    return res\n",
    "enig(INP, N)\n"
   ]
  },
  {
   "cell_type": "code",
   "execution_count": 29,
   "metadata": {},
   "outputs": [
    {
     "name": "stdout",
     "output_type": "stream",
     "text": [
      "INPUT : CAT, dog\n",
      "N : 5\n",
      "HFYEEEEE\n"
     ]
    }
   ],
   "source": [
    "def caesar(s, n):\n",
    "    pre_defined = 'ABCDEFGHIJKLMNOPQRSTUVWXYZ'\n",
    "    n = n % len(pre_defined)\n",
    "    transform = pre_defined[n:] + pre_defined[:n]\n",
    "    return ''.join([transform[pre_defined.find(_)] for _ in s])\n",
    "\n",
    "INP = str(input(\"INPUT : \"))\n",
    "N = int(input(\"N : \"))\n",
    "print(caesar(INP, N))"
   ]
  },
  {
   "cell_type": "code",
   "execution_count": null,
   "metadata": {},
   "outputs": [],
   "source": []
  }
 ],
 "metadata": {
  "kernelspec": {
   "display_name": "Python 3",
   "language": "python",
   "name": "python3"
  },
  "language_info": {
   "codemirror_mode": {
    "name": "ipython",
    "version": 3
   },
   "file_extension": ".py",
   "mimetype": "text/x-python",
   "name": "python",
   "nbconvert_exporter": "python",
   "pygments_lexer": "ipython3",
   "version": "3.7.3"
  }
 },
 "nbformat": 4,
 "nbformat_minor": 2
}
