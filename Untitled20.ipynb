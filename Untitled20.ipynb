{
 "cells": [
  {
   "cell_type": "code",
   "execution_count": 7,
   "metadata": {},
   "outputs": [
    {
     "name": "stdout",
     "output_type": "stream",
     "text": [
      "================================================== 2019.09.18 ==================================================\n",
      "[2, 4, 77, 2, 122, 1, 208]\n"
     ]
    }
   ],
   "source": [
    "print('='*50, \"2019.09.18\", '='*50)\n",
    "\n",
    "def SUM_D(*data) :\n",
    "    \n",
    "    DATA_LIST = []\n",
    "    \n",
    "    n = 0  # 초기화\n",
    "    m = 0\n",
    "    s_result = 0\n",
    "    \n",
    "    for n in data :\n",
    "        DATA_LIST.append(n)\n",
    "        \n",
    "    for m in data :\n",
    "        s_result = s_result + m\n",
    "    DATA_LIST.append(s_result)\n",
    "    \n",
    "    return DATA_LIST\n",
    "\n",
    "k = SUM_D(2, 4, 77, 2, 122, 1) # k객체 선언\n",
    "\n",
    "print(k)"
   ]
  },
  {
   "cell_type": "code",
   "execution_count": null,
   "metadata": {},
   "outputs": [],
   "source": []
  }
 ],
 "metadata": {
  "kernelspec": {
   "display_name": "Python 3",
   "language": "python",
   "name": "python3"
  },
  "language_info": {
   "codemirror_mode": {
    "name": "ipython",
    "version": 3
   },
   "file_extension": ".py",
   "mimetype": "text/x-python",
   "name": "python",
   "nbconvert_exporter": "python",
   "pygments_lexer": "ipython3",
   "version": "3.7.3"
  }
 },
 "nbformat": 4,
 "nbformat_minor": 2
}
