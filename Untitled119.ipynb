{
 "cells": [
  {
   "cell_type": "code",
   "execution_count": 1,
   "metadata": {},
   "outputs": [
    {
     "name": "stdout",
     "output_type": "stream",
     "text": [
      "INPUT : CAT, dog\n",
      "N : 5\n",
      "HFY, itl\n"
     ]
    }
   ],
   "source": [
    "def enig(inp, n) :\n",
    "    s, res = 'aAbBcCdDeEfFgGhHiIjJkKlLmMnNoOpPqQrRsStTuUvVwWxXyYzZ', ''\n",
    "    for M in inp :\n",
    "        if M in s : res += s[(s.index(M)+2*n)%52]\n",
    "        else : res += M\n",
    "    return res\n",
    "INP = str(input(\"INPUT : \"))\n",
    "N = int(input(\"N : \"))\n",
    "print(enig(INP, N))"
   ]
  },
  {
   "cell_type": "code",
   "execution_count": null,
   "metadata": {},
   "outputs": [],
   "source": []
  }
 ],
 "metadata": {
  "kernelspec": {
   "display_name": "Python 3",
   "language": "python",
   "name": "python3"
  },
  "language_info": {
   "codemirror_mode": {
    "name": "ipython",
    "version": 3
   },
   "file_extension": ".py",
   "mimetype": "text/x-python",
   "name": "python",
   "nbconvert_exporter": "python",
   "pygments_lexer": "ipython3",
   "version": "3.7.3"
  }
 },
 "nbformat": 4,
 "nbformat_minor": 2
}
