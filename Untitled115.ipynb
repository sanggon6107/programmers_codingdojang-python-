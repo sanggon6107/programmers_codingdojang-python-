{
 "cells": [
  {
   "cell_type": "code",
   "execution_count": 23,
   "metadata": {},
   "outputs": [
    {
     "name": "stdout",
     "output_type": "stream",
     "text": [
      "INPUT : 6\n",
      " 1  3  4 10 11 21\n",
      " 2  5  9 12 20 22\n",
      " 6  8 13 19 23 30\n",
      " 7 14 18 24 29 31\n",
      "15 17 25 28 32 35\n",
      "16 26 27 33 34 36\n"
     ]
    }
   ],
   "source": [
    "inp = int(input(\"INPUT : \"))\n",
    "\n",
    "def ZZarray(N) :\n",
    "    map_, x, y, dx, dy, numb = [['#' for i in range(N)] for z in range(N)], 0, 0, -1, 1, 1\n",
    "    dx_dy, trans = [(1, -1), (-1, 1)], [(1, 0), (0, 1)] # dx, dy\n",
    "    while numb <= (N**2) :\n",
    "        while numb <= (N**2) :  #내부 루프에서 dx, dy만큼 옮겨가며 숫자를 갱신하고, 리스트 범위의 끝을 만나면 다음 루프로 넘어간다.\n",
    "            map_[y][x] = numb\n",
    "            if ((dx, dy) == (1,-1) and y == 0 and x != len(map_[0])-1) or ((dx, dy) == (-1, 1) and y == len(map_)-1) : ##trans가 x 증가인 경우 : dx_dy == (1,-1), y == 0 or dx_dy == (-1, 1), y == len(map)-1\n",
    "                x += 1\n",
    "                dx, dy = dx_dy[(dx_dy.index((dx, dy))+1)%2][0], dx_dy[(dx_dy.index((dx, dy))+1)%2][1]\n",
    "                numb += 1\n",
    "            elif ((dx, dy) == (-1,1) and x == 0) or ((dx, dy) == (1, -1) and x == len(map_[0])-1) : ## trans가 y 증가인 경우 : dx_dy == (-1,1), x == 0 or dx_dy == (1, -1), x == len(map[0])-1\n",
    "                y += 1\n",
    "                dx, dy = dx_dy[(dx_dy.index((dx, dy))+1)%2][0], dx_dy[(dx_dy.index((dx, dy))+1)%2][1]\n",
    "                numb += 1\n",
    "            else :\n",
    "                x, y = x + dx, y + dy\n",
    "                numb += 1\n",
    "    for i in map_ :\n",
    "        print(\" \".join(list(map(lambda x : (str(x).rjust(len(str(N**2)))), i)))) # 결과 출력\n",
    "ZZarray(inp)"
   ]
  },
  {
   "cell_type": "code",
   "execution_count": 10,
   "metadata": {},
   "outputs": [
    {
     "name": "stdout",
     "output_type": "stream",
     "text": [
      "1\n"
     ]
    }
   ],
   "source": [
    "dx_dy, trans = [(1, -1), (-1, 1)], [(1, 0), (0, 1)]\n",
    "dx, dy = -1, 1\n",
    "print(dx_dy.index((dx, dy)))"
   ]
  },
  {
   "cell_type": "code",
   "execution_count": 16,
   "metadata": {},
   "outputs": [
    {
     "name": "stdout",
     "output_type": "stream",
     "text": [
      "INPUT : 3\n",
      "[[1, '#', '#'], ['#', '#', '#'], ['#', '#', '#']]\n",
      "[[1, '#', '#'], ['#', '#', 2], ['#', '#', '#']]\n",
      "[[1, '#', '#'], ['#', '#', 2], ['#', 3, '#']]\n"
     ]
    },
    {
     "ename": "IndexError",
     "evalue": "list index out of range",
     "output_type": "error",
     "traceback": [
      "\u001b[1;31m---------------------------------------------------------------------------\u001b[0m",
      "\u001b[1;31mIndexError\u001b[0m                                Traceback (most recent call last)",
      "\u001b[1;32m<ipython-input-16-fbc6995e55ba>\u001b[0m in \u001b[0;36m<module>\u001b[1;34m\u001b[0m\n\u001b[0;32m     30\u001b[0m     \u001b[1;32mreturn\u001b[0m \u001b[0mmap_\u001b[0m\u001b[1;33m\u001b[0m\u001b[1;33m\u001b[0m\u001b[0m\n\u001b[0;32m     31\u001b[0m \u001b[1;33m\u001b[0m\u001b[0m\n\u001b[1;32m---> 32\u001b[1;33m \u001b[0mprint\u001b[0m\u001b[1;33m(\u001b[0m\u001b[0mZZarray\u001b[0m\u001b[1;33m(\u001b[0m\u001b[0minp\u001b[0m\u001b[1;33m)\u001b[0m\u001b[1;33m)\u001b[0m\u001b[1;33m\u001b[0m\u001b[1;33m\u001b[0m\u001b[0m\n\u001b[0m",
      "\u001b[1;32m<ipython-input-16-fbc6995e55ba>\u001b[0m in \u001b[0;36mZZarray\u001b[1;34m(N)\u001b[0m\n\u001b[0;32m     10\u001b[0m             \u001b[1;31m# inner loop : 정해진 방향에 대하여, 방향 전환의 근거 없는 한 dx, dy만큼 옮기며 숫자를 갱신한다.\u001b[0m\u001b[1;33m\u001b[0m\u001b[1;33m\u001b[0m\u001b[1;33m\u001b[0m\u001b[0m\n\u001b[0;32m     11\u001b[0m             \u001b[1;31m# outer loop : outer loop의 마지막에 방향 전환 코드 구현. 모두 탐색하였으면 결과를 출력한다.\u001b[0m\u001b[1;33m\u001b[0m\u001b[1;33m\u001b[0m\u001b[1;33m\u001b[0m\u001b[0m\n\u001b[1;32m---> 12\u001b[1;33m             \u001b[0mmap_\u001b[0m\u001b[1;33m[\u001b[0m\u001b[0my\u001b[0m\u001b[1;33m]\u001b[0m\u001b[1;33m[\u001b[0m\u001b[0mx\u001b[0m\u001b[1;33m]\u001b[0m \u001b[1;33m=\u001b[0m \u001b[0mnumb\u001b[0m\u001b[1;33m\u001b[0m\u001b[1;33m\u001b[0m\u001b[0m\n\u001b[0m\u001b[0;32m     13\u001b[0m             \u001b[1;32mtry\u001b[0m \u001b[1;33m:\u001b[0m\u001b[1;33m\u001b[0m\u001b[1;33m\u001b[0m\u001b[0m\n\u001b[0;32m     14\u001b[0m                 \u001b[0mx\u001b[0m\u001b[1;33m,\u001b[0m \u001b[0my\u001b[0m \u001b[1;33m=\u001b[0m \u001b[0mx\u001b[0m \u001b[1;33m+\u001b[0m \u001b[0mdx\u001b[0m\u001b[1;33m,\u001b[0m \u001b[0my\u001b[0m \u001b[1;33m+\u001b[0m \u001b[0mdy\u001b[0m\u001b[1;33m\u001b[0m\u001b[1;33m\u001b[0m\u001b[0m\n",
      "\u001b[1;31mIndexError\u001b[0m: list index out of range"
     ]
    }
   ],
   "source": [
    "inp = int(input(\"INPUT : \"))\n",
    "\n",
    "def ZZarray(N) :\n",
    "    map_, x, y, dx, dy, numb = [['#' for i in range(N)] for z in range(N)], 0, 0, -1, 1, 1\n",
    "    dx_dy, trans = [(1, -1), (-1, 1)], [(1, 0), (0, 1)] # 방향 벡터\n",
    "    # 오른쪽 위 방향 탐색 : y index로 range확인(y>0?)\n",
    "    # 왼쪽 아래 방향 탐색 : x index로 range확인(x>0?)\n",
    "    while numb <= (N**2) :\n",
    "        while numb <= (N**2) :\n",
    "            # inner loop : 정해진 방향에 대하여, 방향 전환의 근거 없는 한 dx, dy만큼 옮기며 숫자를 갱신한다.\n",
    "            # outer loop : outer loop의 마지막에 방향 전환 코드 구현. 모두 탐색하였으면 결과를 출력한다.\n",
    "            map_[y][x] = numb\n",
    "            try :\n",
    "                x, y = x + dx, y + dy\n",
    "                numb += 1\n",
    "            except :\n",
    "                x, y = x+trans[dx_dy.index((dx, dy))][0], y+trans[dx_dy.index((dx, dy))][1]\n",
    "                dx, dy = dx_dy[(dx_dy.index((dx, dy))+1)%2][0], dx_dy[(dx_dy.index((dx, dy))+1)%2][1]\n",
    "                numb += 1\n",
    "            print(map_)\n",
    "\n",
    "            \n",
    "### try except ?????\n",
    "\n",
    "\n",
    "### vector 방향 전환 시점 : (1) dx_dy = (1, -1)이고 y index = 0이다. (2) dx_dy = (-1, 1)이고 x index = 0이다.\n",
    "        \n",
    "    return map_\n",
    "\n",
    "print(ZZarray(inp))"
   ]
  },
  {
   "cell_type": "code",
   "execution_count": 13,
   "metadata": {},
   "outputs": [
    {
     "name": "stdout",
     "output_type": "stream",
     "text": [
      "                  dd\n"
     ]
    }
   ],
   "source": [
    "import random\n",
    "\n",
    "k = 'dd'\n",
    "\n",
    "print(k.rjust(20))0"
   ]
  },
  {
   "cell_type": "code",
   "execution_count": null,
   "metadata": {},
   "outputs": [],
   "source": []
  }
 ],
 "metadata": {
  "kernelspec": {
   "display_name": "Python 3",
   "language": "python",
   "name": "python3"
  },
  "language_info": {
   "codemirror_mode": {
    "name": "ipython",
    "version": 3
   },
   "file_extension": ".py",
   "mimetype": "text/x-python",
   "name": "python",
   "nbconvert_exporter": "python",
   "pygments_lexer": "ipython3",
   "version": "3.7.3"
  }
 },
 "nbformat": 4,
 "nbformat_minor": 2
}
