{
 "cells": [
  {
   "cell_type": "code",
   "execution_count": 13,
   "metadata": {},
   "outputs": [
    {
     "name": "stdout",
     "output_type": "stream",
     "text": [
      "height & width : 6 5\n",
      "INPUT : 0 1 1 1 0\n",
      "INPUT : 0 0 0 0 1 \n",
      "INPUT : 0 1 1 1 1\n",
      "INPUT : 1 0 0 0 1\n",
      "INPUT : 1 0 0 0 1\n",
      "INPUT : 0 1 1 1 1\n",
      "[1, 3, 1]\n",
      "[4, 1]\n",
      "[1, 4]\n",
      "[0, 1, 3, 1]\n",
      "[0, 1, 3, 1]\n",
      "[1, 4]\n"
     ]
    }
   ],
   "source": [
    "import re\n",
    "\n",
    "def sol() :\n",
    "    height_width, bit_map = list(map(int, input(\"height & width : \").split())), []\n",
    "    for g in range(0, height_width[0]) :\n",
    "        bit_map.append(\"\".join(input(\"INPUT : \").split()))\n",
    "        if len(bit_map[-1]) != height_width[1] : return print(\"INVALID INPUT\")\n",
    "    \n",
    "    comp = re.compile(\"1+|0+\")\n",
    "    for g2 in bit_map :\n",
    "        if g2[0] == '1' : \n",
    "            print([0]+list(map(len, comp.findall(g2))))\n",
    "            continue\n",
    "        print(list(map(len, comp.findall(g2))))\n",
    "\n",
    "if __name__ == \"__main__\" :\n",
    "    sol()"
   ]
  },
  {
   "cell_type": "code",
   "execution_count": null,
   "metadata": {},
   "outputs": [],
   "source": [
    "#Input2\n",
    "height & width: 9 17\n",
    "0 0 0 0 1 1 1 1 1 1 1 1 1 1 1 0 0\n",
    "0 0 0 0 1 1 1 1 1 1 1 1 1 0 0 1 0\n",
    "0 0 0 0 1 1 1 1 1 1 1 1 1 0 0 1 0\n",
    "0 0 0 0 1 1 1 1 1 1 1 1 1 1 1 0 0\n",
    "0 0 0 0 1 1 1 1 1 1 1 1 1 0 0 0 0\n",
    "0 0 0 0 1 1 1 1 1 1 1 1 1 0 0 0 0 \n",
    "0 0 0 0 0 1 1 1 1 1 1 1 0 0 0 0 0  \n",
    "1 1 1 1 1 1 1 1 1 1 1 1 1 1 1 1 1 \n",
    "0 1 1 1 1 1 1 1 1 1 1 1 1 1 1 1 0\n",
    "\n",
    "#Input1\n",
    "height & width: 6 5\n",
    "0 1 1 1 0 \n",
    "0 0 0 0 1 \n",
    "0 1 1 1 1 \n",
    "1 0 0 0 1 \n",
    "1 0 0 0 1 \n",
    "0 1 1 1 1 \n",
    "\n",
    "#Output1\n",
    "1 3 1\n",
    "4 1\n",
    "1 4\n",
    "0 1 3 1\n",
    "0 1 3 1\n",
    "1 4\n"
   ]
  }
 ],
 "metadata": {
  "kernelspec": {
   "display_name": "Python 3",
   "language": "python",
   "name": "python3"
  },
  "language_info": {
   "codemirror_mode": {
    "name": "ipython",
    "version": 3
   },
   "file_extension": ".py",
   "mimetype": "text/x-python",
   "name": "python",
   "nbconvert_exporter": "python",
   "pygments_lexer": "ipython3",
   "version": "3.7.4"
  }
 },
 "nbformat": 4,
 "nbformat_minor": 2
}
