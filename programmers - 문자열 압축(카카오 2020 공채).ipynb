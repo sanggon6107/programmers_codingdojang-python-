{
 "cells": [
  {
   "cell_type": "code",
   "execution_count": 6,
   "metadata": {},
   "outputs": [
    {
     "name": "stdout",
     "output_type": "stream",
     "text": [
      "1\n"
     ]
    },
    {
     "data": {
      "text/plain": [
       "0"
      ]
     },
     "execution_count": 6,
     "metadata": {},
     "output_type": "execute_result"
    }
   ],
   "source": [
    "\n",
    "\"\"\"  \n",
    "'길이' 반환할 것\n",
    "\n",
    "\"\"\"\n",
    "def find(st, l) :\n",
    "    if (len(st)/l) % != 0 : return len(st)\n",
    "    else :\n",
    "        for pos in range(1, len(st)) :\n",
    "            \n",
    "\n",
    "def solution(s):\n",
    "    min_ = len(s)\n",
    "    if len(s) == 1 : return 1\n",
    "    for i in range(1, int(len(s)/2)+1) :\n",
    "        find(s, i)\n",
    "    return 0\n",
    "\n",
    "solution('ss')"
   ]
  },
  {
   "cell_type": "code",
   "execution_count": 1,
   "metadata": {},
   "outputs": [
    {
     "data": {
      "text/plain": [
       "'2a2a2a3a3a3aa'"
      ]
     },
     "execution_count": 1,
     "metadata": {},
     "output_type": "execute_result"
    }
   ],
   "source": [
    "def find(st, l) :\n",
    "    count, res = 0, ''\n",
    "    for pos in range(1, len(st)) :\n",
    "        if st[pos] != st[pos-1] :\n",
    "            count = 0\n",
    "            res += st[pos-1]\n",
    "        elif st[pos] == st[pos-1] :\n",
    "            for dr in range(pos, len(st)) :\n",
    "                if st[dr] == st[pos-1] :\n",
    "                    count += 1\n",
    "                elif st[dr] != st[pos-1] :\n",
    "                    res += '%s%s'%(count, st[pos-1])\n",
    "    return res\n",
    "\n",
    "\n",
    "def solution(s):\n",
    "    answer = 0\n",
    "    return answer\n",
    "\n",
    "find('aaabbb', 1)"
   ]
  },
  {
   "cell_type": "code",
   "execution_count": 22,
   "metadata": {},
   "outputs": [
    {
     "name": "stdout",
     "output_type": "stream",
     "text": [
      "2aabbba2cc\n",
      "abbbbc\n"
     ]
    }
   ],
   "source": [
    "\n",
    "def nComp(string, n) :\n",
    "    state, result, dResult = string, '', ''\n",
    "    while len(state) != 0 :\n",
    "        count, dResult = 1, state[:n]\n",
    "        while state[:n] == state[n:2*n] :\n",
    "            count += 1\n",
    "            state = state[n:]\n",
    "        if count != 1 : result += str(count)+dResult\n",
    "        else : result += dResult\n",
    "        state = state[n:]\n",
    "    return result\n",
    "\n",
    "def solution(s):\n",
    "    answer = 0\n",
    "    return answer\n",
    "\n",
    "if __name__ == \"__main__\" :\n",
    "    solution(\"aaaabbbaccc\")\n",
    "    print(nComp(\"aaaabbbacccc\", 2))\n",
    "    print(nComp(\"abbbbc\", 2))"
   ]
  },
  {
   "cell_type": "code",
   "execution_count": 26,
   "metadata": {},
   "outputs": [
    {
     "name": "stdout",
     "output_type": "stream",
     "text": [
      "True\n",
      "\n",
      "\n"
     ]
    }
   ],
   "source": [
    "\n",
    "def nComp(string, n) :\n",
    "    result = ''\n",
    "    for i in range(0, len(string)) :\n",
    "        count, dif = 1, 1\n",
    "        while string[i : i+n] == string[i+n*dif : i+n*(dif+1)] :\n",
    "            count += 1\n",
    "            break\n",
    "        break\n",
    "        \n",
    "    return result\n",
    "def solution(s):\n",
    "    answer = 0\n",
    "    return answer\n",
    "\n",
    "if __name__ == \"__main__\" :\n",
    "    solution(\"aaaabbbaccc\")\n",
    "    print(nComp(\"aaaabbbacccc\", 2))\n",
    "    print(nComp(\"abbbbc\", 2))"
   ]
  },
  {
   "cell_type": "code",
   "execution_count": null,
   "metadata": {},
   "outputs": [],
   "source": [
    "a = 'abcdefghijk'\n",
    "string[i : i+n] == string[i+n*dif : i+n*(dif+1)]"
   ]
  }
 ],
 "metadata": {
  "kernelspec": {
   "display_name": "Python 3",
   "language": "python",
   "name": "python3"
  },
  "language_info": {
   "codemirror_mode": {
    "name": "ipython",
    "version": 3
   },
   "file_extension": ".py",
   "mimetype": "text/x-python",
   "name": "python",
   "nbconvert_exporter": "python",
   "pygments_lexer": "ipython3",
   "version": "3.7.4"
  }
 },
 "nbformat": 4,
 "nbformat_minor": 2
}
