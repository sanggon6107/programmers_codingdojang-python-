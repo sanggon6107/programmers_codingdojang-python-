{
 "cells": [
  {
   "cell_type": "code",
   "execution_count": 13,
   "metadata": {
    "scrolled": false
   },
   "outputs": [
    {
     "name": "stdout",
     "output_type": "stream",
     "text": [
      "Input : 1\n",
      "Input : 2\n",
      "Input : 4\n",
      "Input : 5\n",
      "Input : 8\n",
      "Input : 15\n",
      "Input : 19\n",
      "Input : done\n",
      "[[1, 2], [4, 5]]\n"
     ]
    }
   ],
   "source": [
    "# sekigae\n",
    "\n",
    "c = []\n",
    "while True :\n",
    "    s = input(\"Input : \")                #점 입력\n",
    "    if s == \"done\" :\n",
    "        break\n",
    "    c.append(int(s))\n",
    "c.sort()                                 #점 정렬\n",
    "m = c[len(c)-1]-c[0]\n",
    "result = []\n",
    "for n in range(0, len(c)-1) :\n",
    "    if c[n+1]-c[n] < m :                 #최소값 갱신\n",
    "        m = c[n+1]-c[n]\n",
    "        result = [[c[n], c[n+1]]]\n",
    "    elif c[n+1]-c[n] == m :              #최소값과 같은 거리가 나왔을 때 처리\n",
    "        result.append([c[n], c[n+1]])\n",
    "print(result)"
   ]
  },
  {
   "cell_type": "code",
   "execution_count": 71,
   "metadata": {
    "scrolled": false
   },
   "outputs": [
    {
     "name": "stdout",
     "output_type": "stream",
     "text": [
      "분자 : 5\n",
      "분모 : 7\n",
      "1/2 + 1/5 + 1/70\n"
     ]
    }
   ],
   "source": [
    "from fractions import Fraction\n",
    "\n",
    "nn = input(\"분자 : \")\n",
    "dd = input(\"분모 : \")\n",
    "n = int(nn)\n",
    "d = int(dd)\n",
    "\n",
    "number = Fraction(n, d)\n",
    "o = 1\n",
    "k = []\n",
    "while number != 0 :\n",
    "    if o == d :\n",
    "        o = o + 1 \n",
    "    if Fraction(1, o) < number :\n",
    "        k.append(\"1/%d\" %o)\n",
    "        number = number - Fraction(1, o)\n",
    "        o = o+1\n",
    "    elif Fraction(1, o) == number :\n",
    "        k.append(\"1/%d\" %o)\n",
    "        number = number - Fraction(1, o)\n",
    "        break\n",
    "    o = o+1\n",
    "print(\" + \".join(k))"
   ]
  },
  {
   "cell_type": "code",
   "execution_count": 94,
   "metadata": {},
   "outputs": [
    {
     "name": "stdout",
     "output_type": "stream",
     "text": [
      "x1 :1\n",
      "y1 :2\n",
      "x2 :3\n",
      "y2 :4\n"
     ]
    },
    {
     "data": {
      "text/plain": [
       "[3, 4]"
      ]
     },
     "execution_count": 94,
     "metadata": {},
     "output_type": "execute_result"
    }
   ],
   "source": [
    "x1=int(input(\"x1 :\"))\n",
    "y1=int(input(\"y1 :\"))\n",
    "x2=int(input(\"x2 :\"))\n",
    "y2=int(input(\"y2 :\"))\n",
    "\n",
    "\n",
    "p1 = [x1, y1]\n",
    "p2 = [x2, y2]"
   ]
  },
  {
   "cell_type": "code",
   "execution_count": null,
   "metadata": {},
   "outputs": [],
   "source": []
  }
 ],
 "metadata": {
  "kernelspec": {
   "display_name": "Python 3",
   "language": "python",
   "name": "python3"
  },
  "language_info": {
   "codemirror_mode": {
    "name": "ipython",
    "version": 3
   },
   "file_extension": ".py",
   "mimetype": "text/x-python",
   "name": "python",
   "nbconvert_exporter": "python",
   "pygments_lexer": "ipython3",
   "version": "3.7.3"
  }
 },
 "nbformat": 4,
 "nbformat_minor": 2
}
