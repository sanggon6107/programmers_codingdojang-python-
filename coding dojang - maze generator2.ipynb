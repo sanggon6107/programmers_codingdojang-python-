{
 "cells": [
  {
   "cell_type": "code",
   "execution_count": 99,
   "metadata": {},
   "outputs": [
    {
     "name": "stdout",
     "output_type": "stream",
     "text": [
      "Size : 5 5\n",
      "+-+-+-+-+-+\n",
      "|#|   |   |\n",
      "+ + + +-+ +\n",
      "|   |     |\n",
      "+ +-+-+-+-+\n",
      "|     |   |\n",
      "+ +-+ + +-+\n",
      "| |   |   |\n",
      "+ + +-+ + +\n",
      "| |     |  \n",
      "+-+-+-+-+-+\n"
     ]
    }
   ],
   "source": [
    "#hunt-and-kill algorithm\n",
    "import random\n",
    "from copy import deepcopy\n",
    "\n",
    "def Gen_maze(lis) :\n",
    "    if lis[0]%2 == 0 or lis[1]%2 == 0 : return False\n",
    "    od = list(\"-\".join('+'*(lis[1]+1)))\n",
    "    ev = list(\"&\".join('|'*(lis[1]+1)))\n",
    "    map_ = []\n",
    "    for r in range(lis[0]) :\n",
    "        map_.append(deepcopy(od))\n",
    "        map_.append(deepcopy(ev))\n",
    "    map_.append(deepcopy(od))\n",
    "    \n",
    "    map_[-2][-1] = ' '\n",
    "    \n",
    "    visited, map_[1][1], x, y = set([(1, 1)]), '#', 1, 1          # 방문기록 좌표 set()형으로 설정. map_duplicate로 하면 메모리 사용량 많음.\n",
    "    \n",
    "    while '&' in (\"\".join([\"\".join(jo) for jo in map_])) : # 전체 루프\n",
    "        while True : # get stuck 할 때 까지 랜덤으로 길을 만든다.(True부분 고려할 것)\n",
    "            potential, nextWay = [], \"\"\n",
    "            for cond in [((lis[0]*2+1)-2-y, 0, 2, \"D\"), (x-2, -2, 0, \"L\"), (y-2, 0, -2, \"U\"), ((lis[1]*2+1)-2-x, 2, 0, \"R\")] : ## cond : 범위, dx, dy, ltter   방향 탐색 : 아래방향부터 진행 가능한 방향 확인 후 potential에 추가\n",
    "                if (cond[0]>0) and (map_[y+cond[2]][x+cond[1]] == '&' ) :\n",
    "                    # and (not (x+cond[1], y+cond[2]) in visited)\n",
    "                    potential.append(cond[3])\n",
    "            \n",
    "            if potential == [] : ## 진행방향 없다면 :\n",
    "                break ## Go hunt\n",
    "            nextWay = potential[random.randint(0, len(potential)-1)]## 방향 결정\n",
    "            \n",
    "            for cond_2nd in [(0, 1, 'D'), (-1, 0, 'L'), (0, -1, 'U'), (1, 0, 'R')] :\n",
    "                if nextWay == cond_2nd[2] :\n",
    "                    map_[y+cond_2nd[1]][x+cond_2nd[0]] = ' '\n",
    "                    x, y = x+2*cond_2nd[0], y+2*cond_2nd[1]\n",
    "                    map_[y][x] = ' '\n",
    "                    #visited.add((x, y))\n",
    "            \n",
    "        if not '&' in (\"\".join([\"\".join(jo) for jo in map_])) : return printOut(map_)\n",
    "        (map_, visited, x, y) = hunt(map_, visited, x, y)\n",
    "    \n",
    "    return printOut(map_)\n",
    "\n",
    "def hunt(hunt_map_, hunt_visited_, hunt_x, hunt_y) :  # hunt\n",
    "    for hunt_c in range(0, len(hunt_map_)) :\n",
    "        for hunt_r in range(0, len(hunt_map_[0])) :\n",
    "            if (hunt_map_[hunt_c][hunt_r] == '&') :\n",
    "                for hunt_cond in [((lis[0]*2+1)-2-hunt_c, 0, 1), (hunt_r-2, -1, 0), (hunt_c-2, 0, -1), ((lis[1]*2+1)-2-hunt_r, 1, 0)] : ## cond : 범위, dx, dy, ltter   방향 탐색 : 아래방향부터 진행 가능한 방향 확인 후 potential에 추가\n",
    "                    if (hunt_cond[0]>0) and (hunt_map_[hunt_c+(hunt_cond[2]*2)][hunt_r+(hunt_cond[1]*2)] == ' ' ) :\n",
    "                        hunt_map_[hunt_c][hunt_r], hunt_map_[hunt_c+hunt_cond[2]][hunt_r+hunt_cond[1]] = ' ', ' '\n",
    "                        hunt_x, hunt_y = hunt_r, hunt_c\n",
    "                        hunt_visited_.add((hunt_x, hunt_y))\n",
    "                        return (hunt_map_, hunt_visited_, hunt_x, hunt_y)\n",
    "\n",
    "def printOut(m) : # 맵 출력\n",
    "    for r in m :\n",
    "        print(\"\".join(r))\n",
    "if __name__ == '__main__' :\n",
    "    Gen_maze(list(map(int, input(\"Size : \").split()))[:2])"
   ]
  },
  {
   "cell_type": "code",
   "execution_count": 85,
   "metadata": {
    "collapsed": true
   },
   "outputs": [
    {
     "name": "stdout",
     "output_type": "stream",
     "text": [
      "+ - + - + - + - + - + - + - + | & | & | & | & | & | & | & | + - + - + - + - + - + - + - + | & | & | & | & | & | & | & | + - + - + - + - + - + - + - + | & | & | & | & | & | & | & | + - + - + - + - + - + - + - + | & | & | & | & | & | & | & | + - + - + - + - + - + - + - + | & | & | & | & | & | & | & | + - + - + - + - + - + - + - +\n"
     ]
    },
    {
     "data": {
      "text/plain": [
       "False"
      ]
     },
     "execution_count": 85,
     "metadata": {},
     "output_type": "execute_result"
    }
   ],
   "source": [
    "from copy import deepcopy\n",
    "\n",
    "\n",
    "lis = [5, 7]\n",
    "od = list(\"-\".join('+'*(lis[1]+1)))\n",
    "ev = list(\"&\".join('|'*(lis[1]+1)))\n",
    "\n",
    "#map_ = deepcopy([deepcopy(od), deepcopy(ev)])*lis[0]+deepcopy([od])\n",
    "map_ = []\n",
    "for r in range(lis[0]) :\n",
    "    map_.append(deepcopy(od))\n",
    "    map_.append(deepcopy(ev))\n",
    "map_.append(deepcopy(od))\n",
    "\n",
    "print(\"\".join([\"\".join(jo) for jo in map_]))\n",
    "'&'in map_"
   ]
  },
  {
   "cell_type": "code",
   "execution_count": 105,
   "metadata": {
    "collapsed": true
   },
   "outputs": [
    {
     "name": "stdout",
     "output_type": "stream",
     "text": [
      "Size : 15 15\n",
      "+-+-+-+-+-+-+-+-+-+-+-+-+-+-+-+\n",
      "|#|   |       |   |   |       |\n",
      "+ + + + +-+-+ + + + + + +-+-+-+\n",
      "| | | | |   |   |   |         |\n",
      "+ +-+ + + + +-+-+-+ +-+-+-+-+ +\n",
      "|   |   | |   |     |       | |\n",
      "+ + +-+-+ +-+ + +-+-+ +-+-+ +-+\n",
      "| | |     |   |           |   |\n",
      "+ + + +-+-+ +-+-+-+-+-+ + +-+ +\n",
      "| | | |   |   |       | | |   |\n",
      "+ + + +-+ +-+ + +-+-+ + + + +-+\n",
      "| |   |   |   | |     | | |   |\n",
      "+ +-+-+ +-+ +-+ + +-+-+ +-+ + +\n",
      "| |       |   | |     | |   | |\n",
      "+ + +-+-+-+-+ + +-+-+ + + +-+ +\n",
      "| |   |     | |   |   | |   | |\n",
      "+ +-+ + +-+ + + +-+ +-+-+-+ + +\n",
      "|   | |   |   | |     |   | | |\n",
      "+ +-+ +-+ +-+-+ + +-+-+ + + + +\n",
      "|       | |     |   |   |   | |\n",
      "+ +-+-+ + + +-+-+-+ + +-+-+-+ +\n",
      "|   |   |     |   | |       | |\n",
      "+-+ + +-+-+-+ + +-+ + +-+-+ + +\n",
      "|   |   |     |   | | |     | |\n",
      "+ +-+-+ + +-+-+-+ + + + +-+-+ +\n",
      "|   |   |   |     |   |   |   |\n",
      "+-+ + +-+-+ + +-+-+-+-+-+-+ +-+\n",
      "|   |     | | |         |     |\n",
      "+ +-+-+-+ +-+ + +-+ +-+-+ +-+ +\n",
      "|       |     |   |       |    \n",
      "+-+-+-+-+-+-+-+-+-+-+-+-+-+-+-+\n"
     ]
    }
   ],
   "source": [
    "#hunt-and-kill algorithm\n",
    "import random\n",
    "from copy import deepcopy\n",
    "\n",
    "def Gen_maze(lis) :\n",
    "    if lis[0]%2 == 0 or lis[1]%2 == 0 : return False\n",
    "    od = list(\"-\".join('+'*(lis[1]+1)))\n",
    "    ev = list(\"&\".join('|'*(lis[1]+1))) # 맵의 모든 벽을 만들고, 미방문 좌표를 '&'로 표시한다.\n",
    "    map_ = []\n",
    "    for r in range(lis[0]) :\n",
    "        map_.append(deepcopy(od))\n",
    "        map_.append(deepcopy(ev))\n",
    "    map_.append(deepcopy(od))\n",
    "    map_[1][1], x, y, map_[-2][-1] = '#', 1, 1, ' ' # 시작점과 x,y좌표 초기화\n",
    "    \n",
    "    while '&' in (\"\".join([\"\".join(jo) for jo in map_])) : # 전체 루프\n",
    "        while True : #막힐 때까지 랜덤으로 벽을 없애서 진행하면서 길을 만든다.\n",
    "            potential, nextWay = [], \"\"\n",
    "            for cond in [((lis[0]*2+1)-2-y, 0, 2, \"D\"), (x-2, -2, 0, \"L\"), (y-2, 0, -2, \"U\"), ((lis[1]*2+1)-2-x, 2, 0, \"R\")] : #진행가능한 방향을 찾아, potential에 추가한다.\n",
    "                if (cond[0]>0) and (map_[y+cond[2]][x+cond[1]] == '&' ) :\n",
    "                    potential.append(cond[3])\n",
    "            \n",
    "            if potential == [] : ## 진행방향 없다면 :\n",
    "                break ## Go hunt.(또다른 탐색 시작점 찾는다)\n",
    "            nextWay = potential[random.randint(0, len(potential)-1)]## 진행할 수 있는 방향이 있다면 : 방향 결정(위의 potential에 추가된 방향들 중 랜덤하게 선택)\n",
    "            \n",
    "            for cond_2nd in [(0, 1, 'D'), (-1, 0, 'L'), (0, -1, 'U'), (1, 0, 'R')] : #선택된 방향(nextWay)으로 진행한다\n",
    "                if nextWay == cond_2nd[2] :\n",
    "                    map_[y+cond_2nd[1]][x+cond_2nd[0]] = ' ' #진행방향에 있는 벽을 없앤다\n",
    "                    x, y = x+2*cond_2nd[0], y+2*cond_2nd[1] # 좌표를 갱신한다\n",
    "                    map_[y][x] = ' ' #갱신된 좌표의 '&'(미방문 좌표 표시)를 지운다.\n",
    "            \n",
    "        if not '&' in (\"\".join([\"\".join(jo) for jo in map_])) : return printOut(map_)\n",
    "        (map_, x, y) = hunt(map_, x, y)\n",
    "    \n",
    "    return printOut(map_)\n",
    "\n",
    "def hunt(hunt_map_, hunt_x, hunt_y) :  # hunt. 상단의 왼쪽부터 차례로 탐색하지 않은 점('&')을 찾아서, 그 점과 미로를 연결시킨다\n",
    "    for hunt_c in range(0, len(hunt_map_)) :\n",
    "        for hunt_r in range(0, len(hunt_map_[0])) :\n",
    "            if (hunt_map_[hunt_c][hunt_r] == '&') :\n",
    "                for hunt_cond in [((lis[0]*2+1)-2-hunt_c, 0, 1), (hunt_r-2, -1, 0), (hunt_c-2, 0, -1), ((lis[1]*2+1)-2-hunt_r, 1, 0)] :\n",
    "                    if (hunt_cond[0]>0) and (hunt_map_[hunt_c+(hunt_cond[2]*2)][hunt_r+(hunt_cond[1]*2)] == ' ' ) :\n",
    "                        hunt_map_[hunt_c][hunt_r], hunt_map_[hunt_c+hunt_cond[2]][hunt_r+hunt_cond[1]] = ' ', ' '\n",
    "                        hunt_x, hunt_y = hunt_r, hunt_c #찾아낸 '&'의 좌표를 x,y로 갱신한다.\n",
    "                        return (hunt_map_, hunt_x, hunt_y) # 갱신된 x,y 좌표와 맵으로 다시 탐색한다.\n",
    "\n",
    "def printOut(m) : # 맵 출력\n",
    "    for r in m :\n",
    "        print(\"\".join(r))\n",
    "if __name__ == '__main__' :\n",
    "    Gen_maze(list(map(int, input(\"Size : \").split()))[:2])\n"
   ]
  },
  {
   "cell_type": "code",
   "execution_count": null,
   "metadata": {},
   "outputs": [],
   "source": []
  }
 ],
 "metadata": {
  "kernelspec": {
   "display_name": "Python 3",
   "language": "python",
   "name": "python3"
  },
  "language_info": {
   "codemirror_mode": {
    "name": "ipython",
    "version": 3
   },
   "file_extension": ".py",
   "mimetype": "text/x-python",
   "name": "python",
   "nbconvert_exporter": "python",
   "pygments_lexer": "ipython3",
   "version": "3.7.4"
  }
 },
 "nbformat": 4,
 "nbformat_minor": 2
}
