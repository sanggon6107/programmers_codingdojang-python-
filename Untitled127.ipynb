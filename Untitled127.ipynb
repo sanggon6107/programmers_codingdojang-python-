{
 "cells": [
  {
   "cell_type": "code",
   "execution_count": 1,
   "metadata": {},
   "outputs": [
    {
     "ename": "NameError",
     "evalue": "name 'raw_input' is not defined",
     "output_type": "error",
     "traceback": [
      "\u001b[1;31m---------------------------------------------------------------------------\u001b[0m",
      "\u001b[1;31mNameError\u001b[0m                                 Traceback (most recent call last)",
      "\u001b[1;32m<ipython-input-1-8c2fdd48a321>\u001b[0m in \u001b[0;36m<module>\u001b[1;34m\u001b[0m\n\u001b[0;32m     28\u001b[0m \u001b[1;33m\u001b[0m\u001b[0m\n\u001b[0;32m     29\u001b[0m \u001b[1;33m\u001b[0m\u001b[0m\n\u001b[1;32m---> 30\u001b[1;33m \u001b[0mn\u001b[0m \u001b[1;33m=\u001b[0m \u001b[0mDecimal\u001b[0m\u001b[1;33m(\u001b[0m\u001b[0mraw_input\u001b[0m\u001b[1;33m(\u001b[0m\u001b[1;33m)\u001b[0m\u001b[1;33m)\u001b[0m\u001b[1;33m\u001b[0m\u001b[1;33m\u001b[0m\u001b[0m\n\u001b[0m\u001b[0;32m     31\u001b[0m \u001b[0mprint\u001b[0m \u001b[1;33m(\u001b[0m\u001b[0mfibonacci\u001b[0m\u001b[1;33m(\u001b[0m\u001b[0mn\u001b[0m\u001b[1;33m)\u001b[0m \u001b[1;33m%\u001b[0m \u001b[1;36m4294967291\u001b[0m\u001b[1;33m)\u001b[0m\u001b[1;33m\u001b[0m\u001b[1;33m\u001b[0m\u001b[0m\n",
      "\u001b[1;31mNameError\u001b[0m: name 'raw_input' is not defined"
     ]
    }
   ],
   "source": [
    "## fib2\n",
    "import numpy as np\n",
    "from decimal import Decimal\n",
    "\n",
    "\n",
    "def mat_power(m, p, ulimit):\n",
    "    if p == 0:\n",
    "        return 1\n",
    "\n",
    "    value = np.matrix([[1, 0], [0, 1]])\n",
    "    while p != 0:\n",
    "        if p & 1 == 1:\n",
    "            value = value * m % ulimit\n",
    "\n",
    "        m = m * m % ulimit\n",
    "        p >>= 1\n",
    "    return value\n",
    "\n",
    "\n",
    "def fibonacci(n):\n",
    "    if n == 1:\n",
    "        return(0)\n",
    "\n",
    "    first = np.matrix([[1, 0]], Decimal)\n",
    "    mat = np.matrix([[1, 1], [1, 0]], Decimal)\n",
    "\n",
    "    return (first * mat_power(mat, (n - 1), 4294967291)).tolist()[0][1]\n",
    "\n",
    "\n",
    "n = Decimal(raw_input())\n",
    "print (fibonacci(n) % 4294967291)\n"
   ]
  },
  {
   "cell_type": "code",
   "execution_count": 7,
   "metadata": {},
   "outputs": [
    {
     "name": "stdout",
     "output_type": "stream",
     "text": [
      "1818635352\n"
     ]
    }
   ],
   "source": [
    "def core01(n,m):\n",
    "    temp=[0,1]\n",
    "    for i in range(n-1):\n",
    "        temp=[temp[1]%4294967291,(temp[0]+temp[1])%4294967291]\n",
    "    return temp\n",
    "\n",
    "def core04(n,m):\n",
    "    lim=100\n",
    "    if n>=lim:\n",
    "        temp=core04(n//2, n//2+1)\n",
    "        if n%2==0:\n",
    "            return [(temp[0]**2+temp[1]**2)%4294967291,(2*temp[0]*temp[1]+temp[1]**2)%4294967291]\n",
    "        elif n%2==1:\n",
    "            return [(2*temp[0]*temp[1]+temp[1]**2)%4294967291, (temp[0]**2+2*temp[0]*temp[1]+2*temp[1]**2)%4294967291]\n",
    "    elif n<lim:\n",
    "        return (core01(n,m))\n",
    "\n",
    "def core05(n):\n",
    "    return sum(core04(n-2,n-1))%4294967291\n",
    "\n",
    "a=core05(100000000000000000000000000000000000000000000000000000000000000000000000000000000000000000000000000000000000000000)\n",
    "\n",
    "print(a)"
   ]
  },
  {
   "cell_type": "code",
   "execution_count": null,
   "metadata": {},
   "outputs": [],
   "source": []
  }
 ],
 "metadata": {
  "kernelspec": {
   "display_name": "Python 3",
   "language": "python",
   "name": "python3"
  },
  "language_info": {
   "codemirror_mode": {
    "name": "ipython",
    "version": 3
   },
   "file_extension": ".py",
   "mimetype": "text/x-python",
   "name": "python",
   "nbconvert_exporter": "python",
   "pygments_lexer": "ipython3",
   "version": "3.7.3"
  }
 },
 "nbformat": 4,
 "nbformat_minor": 2
}
