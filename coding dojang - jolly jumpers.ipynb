{
 "cells": [
  {
   "cell_type": "code",
   "execution_count": 15,
   "metadata": {},
   "outputs": [
    {
     "name": "stdout",
     "output_type": "stream",
     "text": [
      "INPUT : 4 1 4 2 3\n",
      "Jolly\n"
     ]
    }
   ],
   "source": [
    "def J_J(inp) :\n",
    "    if inp[0] != len(inp)-1 :\n",
    "        return \"Error!\"\n",
    "    else :\n",
    "        bt = set(map(lambda x : abs(x[0]-x[1]), zip(inp[1:], inp[2:])))\n",
    "        \n",
    "        if bt == set(range(1, inp[0])) :\n",
    "            return \"Jolly\"\n",
    "        else :\n",
    "            return \"Not jolly\"\n",
    "\n",
    "if __name__ == '__main__' :\n",
    "    print(J_J(list(map(int, input(\"INPUT : \").split()))))"
   ]
  },
  {
   "cell_type": "code",
   "execution_count": 10,
   "metadata": {},
   "outputs": [
    {
     "name": "stdout",
     "output_type": "stream",
     "text": [
      "{0, 1, 2, 3, 4, 5, 6, 7, 8, 9}\n"
     ]
    }
   ],
   "source": []
  },
  {
   "cell_type": "code",
   "execution_count": null,
   "metadata": {},
   "outputs": [],
   "source": []
  }
 ],
 "metadata": {
  "kernelspec": {
   "display_name": "Python 3",
   "language": "python",
   "name": "python3"
  },
  "language_info": {
   "codemirror_mode": {
    "name": "ipython",
    "version": 3
   },
   "file_extension": ".py",
   "mimetype": "text/x-python",
   "name": "python",
   "nbconvert_exporter": "python",
   "pygments_lexer": "ipython3",
   "version": "3.7.3"
  }
 },
 "nbformat": 4,
 "nbformat_minor": 2
}
