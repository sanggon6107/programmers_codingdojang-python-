{
 "cells": [
  {
   "cell_type": "code",
   "execution_count": null,
   "metadata": {},
   "outputs": [],
   "source": [
    "import csv\n",
    "import numpy as np\n",
    "\n",
    "INP_DATA = input(\"Input data : \")\n",
    "\n",
    "file_data = open('D:data_file.csv', 'r')  #object file_data에 읽기 전용으로 호출\n",
    "\n",
    "c_ation_file = csv.reader(file_data, delimiter = ',')\n",
    "\n",
    "if not c_ation_file :\n",
    "    print(\"File does not exist!\")\n",
    "    \n",
    "elif c_ation_file :\n",
    "    line_data = 0\n",
    "    \n",
    "    for line_data in c_ation_file :\n",
    "        if INPUT_DATA in line_data :\n",
    "            print(\"Counterpart found.\")\n",
    "            \n",
    "        elif not line_data :\n",
    "            \n",
    "            c_ation = ['0']\n",
    "            print(\"ERROR : Could not find [line_data]\")\n",
    "            \n",
    "            \n",
    "            \n",
    "        else : \n",
    "            pass\n",
    "        \n",
    "\n",
    "file_data.close()\n",
    "\n",
    "　　\n",
    "print('DONE')\n",
    "\n"
   ]
  }
 ],
 "metadata": {
  "kernelspec": {
   "display_name": "Python 3",
   "language": "python",
   "name": "python3"
  },
  "language_info": {
   "codemirror_mode": {
    "name": "ipython",
    "version": 3
   },
   "file_extension": ".py",
   "mimetype": "text/x-python",
   "name": "python",
   "nbconvert_exporter": "python",
   "pygments_lexer": "ipython3",
   "version": "3.7.3"
  }
 },
 "nbformat": 4,
 "nbformat_minor": 2
}
