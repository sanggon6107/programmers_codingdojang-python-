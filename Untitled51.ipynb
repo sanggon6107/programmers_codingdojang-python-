{
 "cells": [
  {
   "cell_type": "code",
   "execution_count": 12,
   "metadata": {},
   "outputs": [
    {
     "name": "stdout",
     "output_type": "stream",
     "text": [
      "Input : 1\n",
      "Input : 2\n",
      "Input : 4\n",
      "Input : 5\n",
      "Input : 8\n",
      "Input : 15\n",
      "Input : 19\n",
      "Input : done\n",
      "[1, 2, [4, 5]]\n"
     ]
    }
   ],
   "source": [
    "# sekigae\n",
    "\n",
    "c = []\n",
    "while True :\n",
    "    s = input(\"Input : \")\n",
    "    if s == \"done\" :\n",
    "        break\n",
    "    c.append(int(s))\n",
    "c.sort()\n",
    "m = c[len(c)-1]-c[0]\n",
    "result = []\n",
    "for n in range(0, len(c)-1) :\n",
    "    if c[n+1]-c[n] < m :\n",
    "        m = c[n+1]-c[n]\n",
    "        result = [[c[n], c[n+1]]\n",
    "    elif c[n+1]-c[n] == m :\n",
    "        result.append([c[n], c[n+1]])\n",
    "print(result)"
   ]
  },
  {
   "cell_type": "code",
   "execution_count": null,
   "metadata": {},
   "outputs": [],
   "source": []
  }
 ],
 "metadata": {
  "kernelspec": {
   "display_name": "Python 3",
   "language": "python",
   "name": "python3"
  },
  "language_info": {
   "codemirror_mode": {
    "name": "ipython",
    "version": 3
   },
   "file_extension": ".py",
   "mimetype": "text/x-python",
   "name": "python",
   "nbconvert_exporter": "python",
   "pygments_lexer": "ipython3",
   "version": "3.7.3"
  }
 },
 "nbformat": 4,
 "nbformat_minor": 2
}
