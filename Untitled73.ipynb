{
 "cells": [
  {
   "cell_type": "code",
   "execution_count": 14,
   "metadata": {},
   "outputs": [
    {
     "name": "stdout",
     "output_type": "stream",
     "text": [
      "INPUT : 48\n",
      "3\n",
      "48\n",
      "48\n",
      "-1\n"
     ]
    }
   ],
   "source": [
    "inp = int(input(\"INPUT : \"))\n",
    "\n",
    "x, y, result, nmax, dx, dy = 0, 0, 0, 0, 0, 1\n",
    "\n",
    "DXDY_LIST,ADDRESS_IN_LIST  = [(0, 1), (-1, 0), (0, -1), (1, 0)], 0\n",
    "\n",
    "## nmax 계산\n",
    "while True :\n",
    "    if inp == 1 :\n",
    "        nmax = 0\n",
    "    elif (2*nmax+1)*(2*nmax+1) > inp :\n",
    "        print(nmax)\n",
    "        break\n",
    "    else :\n",
    "        nmax += 1\n",
    "x, y, result = nmax, nmax+1, (2*(nmax-1)+1)*(2*(nmax-1)+1)+1\n",
    "\n",
    "# 좌표 계산\n",
    "while True :\n",
    "    if result == inp :\n",
    "        print(result)\n",
    "        print(inp)\n",
    "        print(abs(x)+abs(y))\n",
    "        break\n",
    "    else :\n",
    "        x, y = x+dx, y+dy\n",
    "        result += 1\n",
    "        if abs(x) > nmax or abs(y) > nmax :\n",
    "            x, y = x-dx, y-dy\n",
    "            ADDRESS_IN_LIST = (ADDRESS_IN_LIST+1)%4\n",
    "            dx = DXDY_LIST[ADDRESS_IN_LIST][0]\n",
    "            dy = DXDY_LIST[ADDRESS_IN_LIST][1]\n",
    "            x, y = x+dx, y+dy"
   ]
  },
  {
   "cell_type": "code",
   "execution_count": null,
   "metadata": {},
   "outputs": [],
   "source": []
  }
 ],
 "metadata": {
  "kernelspec": {
   "display_name": "Python 3",
   "language": "python",
   "name": "python3"
  },
  "language_info": {
   "codemirror_mode": {
    "name": "ipython",
    "version": 3
   },
   "file_extension": ".py",
   "mimetype": "text/x-python",
   "name": "python",
   "nbconvert_exporter": "python",
   "pygments_lexer": "ipython3",
   "version": "3.7.3"
  }
 },
 "nbformat": 4,
 "nbformat_minor": 2
}
