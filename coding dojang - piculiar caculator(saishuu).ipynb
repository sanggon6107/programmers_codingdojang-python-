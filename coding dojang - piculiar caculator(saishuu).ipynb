{
 "cells": [
  {
   "cell_type": "code",
   "execution_count": 8,
   "metadata": {},
   "outputs": [
    {
     "data": {
      "text/plain": [
       "'52341'"
      ]
     },
     "execution_count": 8,
     "metadata": {},
     "output_type": "execute_result"
    }
   ],
   "source": [
    "k = str(k)\n",
    "k = k[-1]+k[1:-1]+k[0]"
   ]
  },
  {
   "cell_type": "code",
   "execution_count": 17,
   "metadata": {},
   "outputs": [
    {
     "name": "stdout",
     "output_type": "stream",
     "text": [
      "(77, 'DDDDDDDDRDDDRDDDRDDDRDRDRRDRDRDRDR')\n"
     ]
    }
   ],
   "source": [
    "def rev(r) :\n",
    "    if r < 10 :\n",
    "        return r\n",
    "    else :\n",
    "        r = str(r)\n",
    "        return int(r[-1]+r[1:-1]+r[0])\n",
    "\n",
    "def cal(res, ob) :\n",
    "    while not ob in res :\n",
    "        pre_res = {}\n",
    "        for n in res :\n",
    "            rev_n, doub_n = rev(n), 2 * n\n",
    "            if not rev_n in res :\n",
    "                pre_res[rev_n] = res[n] + 'R'\n",
    "            if not doub_n in res :\n",
    "                pre_res[doub_n] = res[n] + \"D\"\n",
    "        res.update(pre_res)\n",
    "    return ob, res[ob]\n",
    "\n",
    "\n",
    "RES = {1 : ''}\n",
    "OBJ = 77\n",
    "print(cal(RES, OBJ))"
   ]
  },
  {
   "cell_type": "code",
   "execution_count": 18,
   "metadata": {},
   "outputs": [
    {
     "name": "stdout",
     "output_type": "stream",
     "text": [
      "1 - 2 - 4 - 8 - 16 - 32 - 64 - 128 - 256 - 652 - 1304 - 2608 - 5216 - 6215 - 12430 - 24860 - 49720 - 9724 - 19448 - 38896 - 77792 - 27797 - 55594 - 45595 - 91190 - 1199 - 9191 - 18382 - 28381 - 56762 - 26765 - 53530 - 3535 - 7070 - 77\n"
     ]
    }
   ],
   "source": [
    "\n",
    "# DDDRDDRDRDDDDRDDDRDRDRR\n",
    "k = 'DDDDDDDDRDDDRDDDRDDDRDRDRRDRDRDRDR'\n",
    "\n",
    "n = 1\n",
    "r = '1'\n",
    "for i in k :\n",
    "    if i == 'D' :\n",
    "        n = n * 2\n",
    "        r += ' - ' + str(n)\n",
    "    elif i == 'R' :\n",
    "        if len(str(n)) == 1 :\n",
    "            continue\n",
    "        else : \n",
    "            n = str(n)\n",
    "            n = int(n[-1] + n[1:-1] + n[0])\n",
    "        r += ' - ' + str(n)\n",
    "\n",
    "print(r)"
   ]
  },
  {
   "cell_type": "code",
   "execution_count": null,
   "metadata": {},
   "outputs": [],
   "source": []
  }
 ],
 "metadata": {
  "kernelspec": {
   "display_name": "Python 3",
   "language": "python",
   "name": "python3"
  },
  "language_info": {
   "codemirror_mode": {
    "name": "ipython",
    "version": 3
   },
   "file_extension": ".py",
   "mimetype": "text/x-python",
   "name": "python",
   "nbconvert_exporter": "python",
   "pygments_lexer": "ipython3",
   "version": "3.7.3"
  }
 },
 "nbformat": 4,
 "nbformat_minor": 2
}
