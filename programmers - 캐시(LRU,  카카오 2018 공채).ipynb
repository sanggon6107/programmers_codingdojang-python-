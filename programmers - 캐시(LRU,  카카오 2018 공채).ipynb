{
 "cells": [
  {
   "cell_type": "code",
   "execution_count": null,
   "metadata": {},
   "outputs": [],
   "source": []
  },
  {
   "cell_type": "code",
   "execution_count": 4,
   "metadata": {},
   "outputs": [],
   "source": [
    "from collections import deque\n",
    "\n",
    "def solution(cacheSize, cities):\n",
    "    cache = deque([])\n",
    "    answer = 0\n",
    "    for ct in cities  :\n",
    "        l_ct = ct.lower()\n",
    "        if not l_ct in cache and len(cache) < cacheSize :\n",
    "            cache.append(l_ct)\n",
    "            answer += 5\n",
    "        elif not l_ct in cache and len(cache) == cacheSize :\n",
    "            if cacheSize != 0 :\n",
    "                popData = cache.popleft()\n",
    "                cache.append(l_ct)\n",
    "            answer += 5\n",
    "        elif l_ct in cache :\n",
    "            cache.remove(l_ct)\n",
    "            cache.append(l_ct)\n",
    "            answer += 1\n",
    "    \n",
    "    return answer\n",
    "\n"
   ]
  },
  {
   "cell_type": "code",
   "execution_count": 5,
   "metadata": {},
   "outputs": [
    {
     "ename": "SyntaxError",
     "evalue": "can't assign to operator (<ipython-input-5-066055e0dd11>, line 2)",
     "output_type": "error",
     "traceback": [
      "\u001b[1;36m  File \u001b[1;32m\"<ipython-input-5-066055e0dd11>\"\u001b[1;36m, line \u001b[1;32m2\u001b[0m\n\u001b[1;33m    for i+1 in k :\u001b[0m\n\u001b[1;37m       ^\u001b[0m\n\u001b[1;31mSyntaxError\u001b[0m\u001b[1;31m:\u001b[0m can't assign to operator\n"
     ]
    }
   ],
   "source": []
  },
  {
   "cell_type": "code",
   "execution_count": 7,
   "metadata": {},
   "outputs": [
    {
     "data": {
      "text/plain": [
       "53.93"
      ]
     },
     "execution_count": 7,
     "metadata": {},
     "output_type": "execute_result"
    }
   ],
   "source": [
    "import random\n",
    "a = 0\n",
    "for i in range(100) :\n",
    "    a += random.randint(0, 100)\n",
    "a/100"
   ]
  },
  {
   "cell_type": "code",
   "execution_count": null,
   "metadata": {},
   "outputs": [],
   "source": []
  }
 ],
 "metadata": {
  "kernelspec": {
   "display_name": "Python 3",
   "language": "python",
   "name": "python3"
  },
  "language_info": {
   "codemirror_mode": {
    "name": "ipython",
    "version": 3
   },
   "file_extension": ".py",
   "mimetype": "text/x-python",
   "name": "python",
   "nbconvert_exporter": "python",
   "pygments_lexer": "ipython3",
   "version": "3.7.3"
  }
 },
 "nbformat": 4,
 "nbformat_minor": 2
}
