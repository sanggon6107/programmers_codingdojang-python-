{
 "cells": [
  {
   "cell_type": "code",
   "execution_count": 21,
   "metadata": {},
   "outputs": [
    {
     "name": "stdout",
     "output_type": "stream",
     "text": [
      "================================================== 2019.08.13 ==================================================\n",
      "                                 Number of Nobel laureates\n",
      "Country                                                   \n",
      "United States                                  375[Note 1]\n",
      "United Kingdom                                 131[Note 2]\n",
      "Germany                                                108\n",
      "France                                          69[Note 3]\n",
      "Sweden                                                  32\n",
      "Russia/ Soviet Union                                    31\n",
      "Japan                                                   27\n",
      "Canada                                                  26\n",
      "Switzerland                                             26\n",
      "Austria                                                 21\n",
      "Netherlands                                             21\n",
      "Italy                                                   20\n",
      "Poland                                                  14\n",
      "Denmark                                                 13\n",
      "Hungary                                                 13\n",
      "Norway                                                  13\n",
      "Australia                                               12\n",
      "Israel                                                  12\n",
      "Belgium                                                 11\n",
      "Ireland                                                 11\n",
      "India                                                   10\n",
      "South Africa                                            10\n",
      "ROC/ PRC                                                 8\n",
      "Spain                                                    8\n",
      "Czech Republic                                           6\n",
      "Ukraine                                                  6\n",
      "Argentina                                                5\n",
      "Finland                                                  5\n",
      "Egypt                                                    4\n",
      "Romania                                                  4\n",
      "...                                                    ...\n",
      "Saint Lucia                                              2\n",
      "Taiwan                                                   2\n",
      "Turkey                                                   2\n",
      "Azerbaijan                                               1\n",
      "Brazil                                                   1\n",
      "Bulgaria                                                 1\n",
      "Democratic Republic of the Congo                         1\n",
      "Costa Rica                                               1\n",
      "Cyprus                                                   1\n",
      "Faroe Islands                                            1\n",
      "Ghana                                                    1\n",
      "Hong Kong                                                1\n",
      "Iceland                                                  1\n",
      "Iraq                                                     1\n",
      "Iran                                                     1\n",
      "Kenya                                                    1\n",
      "Latvia                                                   1\n",
      "North Macedonia                                          1\n",
      "Morocco                                                  1\n",
      "Myanmar                                                  1\n",
      "Nigeria                                                  1\n",
      "Palestine                                                1\n",
      "Peru                                                     1\n",
      "Slovenia                                                 1\n",
      "Tibet                                                    1\n",
      "Trinidad and Tobago                                      1\n",
      "Tunisia                                                  1\n",
      "Venezuela                                                1\n",
      "Vietnam                                                  1\n",
      "Yemen                                                    1\n",
      "\n",
      "[78 rows x 1 columns]\n"
     ]
    }
   ],
   "source": [
    "import pandas as pd\n",
    "import numpy as np\n",
    "import re\n",
    "from matplotlib import pyplot as plt\n",
    "\n",
    "print(\"=\"*50, \"2019.08.13\", \"=\"*50)\n",
    "\n",
    "DATA_FRAME = pd.read_html(\"https://en.wikipedia.org/wiki/List_of_Nobel_laureates_by_country\", \n",
    "                          header=0, index_col=0)\n",
    "\n",
    "RE_DF = DATA_FRAME[1].iloc[:78,:1]\n",
    "\n",
    "\n",
    "\n",
    "\n",
    "print(RE_DF)"
   ]
  },
  {
   "cell_type": "code",
   "execution_count": null,
   "metadata": {},
   "outputs": [],
   "source": []
  }
 ],
 "metadata": {
  "kernelspec": {
   "display_name": "Python 3",
   "language": "python",
   "name": "python3"
  },
  "language_info": {
   "codemirror_mode": {
    "name": "ipython",
    "version": 3
   },
   "file_extension": ".py",
   "mimetype": "text/x-python",
   "name": "python",
   "nbconvert_exporter": "python",
   "pygments_lexer": "ipython3",
   "version": "3.7.3"
  }
 },
 "nbformat": 4,
 "nbformat_minor": 2
}
