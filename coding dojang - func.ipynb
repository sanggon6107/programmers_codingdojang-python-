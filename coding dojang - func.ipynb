{
 "cells": [
  {
   "cell_type": "code",
   "execution_count": 5,
   "metadata": {},
   "outputs": [
    {
     "data": {
      "text/plain": [
       "[-sqrt(2), sqrt(2)]"
      ]
     },
     "execution_count": 5,
     "metadata": {},
     "output_type": "execute_result"
    }
   ],
   "source": [
    "from sympy import Symbol, solve\n",
    "import re\n",
    "\n",
    "\n",
    "x = Symbol('x')\n",
    "eq = x**2 - 2\n",
    "solve(eq)"
   ]
  },
  {
   "cell_type": "code",
   "execution_count": 90,
   "metadata": {
    "scrolled": false
   },
   "outputs": [
    {
     "name": "stdout",
     "output_type": "stream",
     "text": [
      "INPUT('-.1' to quit) : 2 0\n",
      "INPUT('-.1' to quit) : 1 0\n",
      "INPUT('-.1' to quit) : 3 2\n",
      "INPUT('-.1' to quit) : -1 6\n",
      "INPUT('-.1' to quit) : -.1\n",
      "[['2', '0'], ['1', '0'], ['3', '2'], ['-1', '6']]\n",
      "y= x**2 - 3*x + 2\n"
     ]
    }
   ],
   "source": [
    "import sympy\n",
    "import re\n",
    "\n",
    "inp_com, inp_LIST = re.compile(\"([-]?\\d*\\.?\\d+)\"), []\n",
    "x, inter, kou = Symbol('x'), [], []\n",
    "while True : \n",
    "    inp_LIST.append(inp_com.findall(input(\"INPUT(\\'-.1\\' to quit) : \")))\n",
    "    if inp_LIST[-1] == ['-.1'] :\n",
    "        del inp_LIST[-1]\n",
    "        break\n",
    "print(inp_LIST)\n",
    "for i in range(0, len(inp_LIST)) :\n",
    "    for m in range(1, len(inp_LIST)) :\n",
    "        inter.append('((x-%s)/(%s-%s))'% (inp_LIST[(i+m)%len(inp_LIST)][0], inp_LIST[i][0], inp_LIST[(i+m)%len(inp_LIST)][0] ))\n",
    "    kou.append(\"*\".join(inter)+'*'+str(inp_LIST[i][1]))\n",
    "    inter = []\n",
    "print('y=', sympy.expand(('+'.join(kou))))"
   ]
  },
  {
   "cell_type": "code",
   "execution_count": 61,
   "metadata": {},
   "outputs": [
    {
     "data": {
      "text/plain": [
       "x"
      ]
     },
     "execution_count": 61,
     "metadata": {},
     "output_type": "execute_result"
    }
   ],
   "source": [
    "import sympy\n",
    "x = Symbol('x')\n",
    "ee='+((x-2)/(1-2))*1+((x-1)/(2-1))*2'\n",
    "(sympy.expand(ee))"
   ]
  },
  {
   "cell_type": "code",
   "execution_count": 104,
   "metadata": {},
   "outputs": [
    {
     "name": "stdout",
     "output_type": "stream",
     "text": [
      "INPUT : 1\n",
      "X\n"
     ]
    }
   ],
   "source": [
    "inp = int(input(\"INPUT : \"))\n",
    "print(\"\\n\".join([\"O\"*(inp-i)+\"X\"*i for i in range(1, inp+1)]))"
   ]
  },
  {
   "cell_type": "code",
   "execution_count": 105,
   "metadata": {
    "scrolled": true
   },
   "outputs": [
    {
     "name": "stdout",
     "output_type": "stream",
     "text": [
      "INPUT : 1\n",
      "X\n"
     ]
    }
   ],
   "source": [
    "def OXs(N, O) :\n",
    "    print(\"O\"*(O-N)+\"X\"*N)\n",
    "    if N != O :\n",
    "        return OXs(N+1, O) \n",
    "OXs(1, int(input(\"INPUT : \")))"
   ]
  },
  {
   "cell_type": "code",
   "execution_count": null,
   "metadata": {},
   "outputs": [],
   "source": []
  }
 ],
 "metadata": {
  "kernelspec": {
   "display_name": "Python 3",
   "language": "python",
   "name": "python3"
  },
  "language_info": {
   "codemirror_mode": {
    "name": "ipython",
    "version": 3
   },
   "file_extension": ".py",
   "mimetype": "text/x-python",
   "name": "python",
   "nbconvert_exporter": "python",
   "pygments_lexer": "ipython3",
   "version": "3.7.3"
  }
 },
 "nbformat": 4,
 "nbformat_minor": 2
}
