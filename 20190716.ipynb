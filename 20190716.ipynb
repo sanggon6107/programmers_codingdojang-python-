{
 "cells": [
  {
   "cell_type": "code",
   "execution_count": 50,
   "metadata": {},
   "outputs": [
    {
     "name": "stdout",
     "output_type": "stream",
     "text": [
      "================================================== 2019.07.16 ==================================================\n",
      "<re.Match object; span=(0, 2), match='12'>\n",
      "<re.Match object; span=(0, 1), match='1'>\n",
      "['life', '2', '22', '88', '33', 'ee', '12', '124']\n",
      "['life', '2', '22', '88', 'LIT', '33', 'IT', 'ee', '12', '124']\n",
      "['l', 'i', 'f', 'e', '2', '2', '2', '8', '8', 'L', 'I', 'T', '3', '3', 'I', 'T', 'e', 'e', '1', '2', '1', '2', '4']\n",
      "<re.Match object; span=(0, 9), match='ABCABCABC'>\n",
      "<re.Match object; span=(0, 7), match='1 2 3 4'>\n",
      "1 2 3 4       4\n"
     ]
    }
   ],
   "source": [
    "print(\"=\"*50, \"2019.07.16\", \"=\"*50)\n",
    "\n",
    "import re\n",
    "import numpy as np\n",
    "import pandas as pd\n",
    "from copy import copy\n",
    "\n",
    "# Regular Expressions\n",
    " \n",
    "reg = re.match(\"[1-9]+\", \"12f34\")\n",
    "\n",
    "print(reg)\n",
    "\n",
    "exh = re.compile(\"\\d\")\n",
    "ieh = exh.match(\"123\")\n",
    "\n",
    "print(ieh)\n",
    "\n",
    "\n",
    "EITO = re.findall(r\"\\d+|[a-z]+\", \"life 2 22 88 LIT 33 IT ee 12.124\")\n",
    "EITO2 = re.findall(r\"\\w+\", \"life 2 22 88 LIT 33 IT ee 12.124\" )\n",
    "EITO3 = re.findall(r\"\\w\", \"life 2 22 88 LIT 33 IT ee 12.124\" )\n",
    "\n",
    "print(EITO)\n",
    "print(EITO2)\n",
    "print(EITO3)\n",
    "\n",
    "## ^, \\A\n",
    "## $, \\Z\n",
    "\n",
    "\n",
    "#grouping\n",
    "\n",
    "p = re.search(r\"[A-C]+\", \"ABCABCABC ok?\")\n",
    "print(p)\n",
    "\n",
    "gr = re.search(r\"(\\d+\\s+\\d+\\s+\\d+)\\s(\\d)\", \"1 2 3 4\")\n",
    "\n",
    "print(gr)\n",
    "\n",
    "print(gr.group(0),\" \"*5, gr.group(2))"
   ]
  },
  {
   "cell_type": "code",
   "execution_count": null,
   "metadata": {},
   "outputs": [],
   "source": []
  }
 ],
 "metadata": {
  "kernelspec": {
   "display_name": "Python 3",
   "language": "python",
   "name": "python3"
  },
  "language_info": {
   "codemirror_mode": {
    "name": "ipython",
    "version": 3
   },
   "file_extension": ".py",
   "mimetype": "text/x-python",
   "name": "python",
   "nbconvert_exporter": "python",
   "pygments_lexer": "ipython3",
   "version": "3.7.3"
  }
 },
 "nbformat": 4,
 "nbformat_minor": 2
}
