{
 "cells": [
  {
   "cell_type": "code",
   "execution_count": null,
   "metadata": {},
   "outputs": [],
   "source": [
    "'''\n",
    "List 1: [4, 10, 15, 24, 26] \n",
    "List 2: [0, 9, 12, 20] \n",
    "List 3: [5, 18, 22, 30] \n",
    "\n",
    "'''\n",
    "\n",
    "l1 = [4, 10, 15, 24, 26]\n",
    "l2 = [0, 9, 12, 20]\n",
    "l3 = [5, 18, 22, 30]\n",
    "\n",
    "pos_1, pos_2, pos_3 = 0, 0, 0\n",
    "\n",
    "while True :\n",
    "    "
   ]
  }
 ],
 "metadata": {
  "kernelspec": {
   "display_name": "Python 3",
   "language": "python",
   "name": "python3"
  },
  "language_info": {
   "codemirror_mode": {
    "name": "ipython",
    "version": 3
   },
   "file_extension": ".py",
   "mimetype": "text/x-python",
   "name": "python",
   "nbconvert_exporter": "python",
   "pygments_lexer": "ipython3",
   "version": "3.7.3"
  }
 },
 "nbformat": 4,
 "nbformat_minor": 2
}
