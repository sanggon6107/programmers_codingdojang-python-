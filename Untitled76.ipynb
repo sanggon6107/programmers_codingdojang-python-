{
 "cells": [
  {
   "cell_type": "code",
   "execution_count": 1,
   "metadata": {},
   "outputs": [
    {
     "name": "stdout",
     "output_type": "stream",
     "text": [
      "input : 3 22222\n",
      "['3', '22222']\n"
     ]
    }
   ],
   "source": [
    "import re\n",
    "\n",
    "INP = input(\"input : \")\n",
    "INP_COMPILE = re.compile(\"\\d+\")\n",
    "INP_LIST = INP_COMPILE.findall(INP)\n",
    "\n",
    "print(INP_LIST)\n",
    "\n",
    "a = '1011011111'\n",
    "b = '1000111111'\n",
    "c = '1111100111'\n",
    "d = '0011111011'\n",
    "e = '1010001010'\n",
    "f = '1101111111'\n",
    "g = '1011011011'\n",
    "\n"
   ]
  },
  {
   "cell_type": "code",
   "execution_count": null,
   "metadata": {},
   "outputs": [],
   "source": []
  }
 ],
 "metadata": {
  "kernelspec": {
   "display_name": "Python 3",
   "language": "python",
   "name": "python3"
  },
  "language_info": {
   "codemirror_mode": {
    "name": "ipython",
    "version": 3
   },
   "file_extension": ".py",
   "mimetype": "text/x-python",
   "name": "python",
   "nbconvert_exporter": "python",
   "pygments_lexer": "ipython3",
   "version": "3.7.3"
  }
 },
 "nbformat": 4,
 "nbformat_minor": 2
}
