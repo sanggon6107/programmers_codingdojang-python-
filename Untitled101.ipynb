{
 "cells": [
  {
   "cell_type": "code",
   "execution_count": null,
   "metadata": {},
   "outputs": [],
   "source": [
    "'''\n",
    "\n",
    "Facebook Interview Question for Software Engineer / Developers\n",
    "\n",
    "If a=1, b=2, c=3,....z=26. Given a string, find all possible codes that string can generate. Give a count as well as print the strings.\n",
    "\n",
    "For example:\n",
    "Input: \"1123\". You need to general all valid alphabet codes from this string.\n",
    "\n",
    "Output List\n",
    "aabc //a = 1, a = 1, b = 2, c = 3\n",
    "kbc // since k is 11, b = 2, c= 3\n",
    "alc // a = 1, l = 12, c = 3\n",
    "aaw // a= 1, a =1, w= 23\n",
    "kw // k = 11, w = 23\n",
    "\n",
    "'''"
   ]
  },
  {
   "cell_type": "code",
   "execution_count": null,
   "metadata": {},
   "outputs": [],
   "source": []
  }
 ],
 "metadata": {
  "kernelspec": {
   "display_name": "Python 3",
   "language": "python",
   "name": "python3"
  },
  "language_info": {
   "codemirror_mode": {
    "name": "ipython",
    "version": 3
   },
   "file_extension": ".py",
   "mimetype": "text/x-python",
   "name": "python",
   "nbconvert_exporter": "python",
   "pygments_lexer": "ipython3",
   "version": "3.7.3"
  }
 },
 "nbformat": 4,
 "nbformat_minor": 2
}
