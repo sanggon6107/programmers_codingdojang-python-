{
 "cells": [
  {
   "cell_type": "code",
   "execution_count": 2,
   "metadata": {},
   "outputs": [
    {
     "name": "stdout",
     "output_type": "stream",
     "text": [
      "\n",
      "\n",
      "Hello world!\n",
      "\n",
      "\n",
      "2^n= 2\n",
      "2^n= 4\n",
      "2^n= 8\n",
      "2^n= 16\n",
      "2^n= 32\n",
      "2^n= 64\n",
      "2^n= 128\n",
      "2^n= 256\n",
      "2^n= 512\n",
      "2^n= 1024\n",
      "2^n= 2048\n",
      "2^n= 4096\n",
      "2^n= 8192\n"
     ]
    }
   ],
   "source": [
    "'''\n",
    "2019. 6. 27\n",
    "'''\n",
    "\n",
    "print(\"\\n\\nHello world!\\n\\n\")\n",
    "\n",
    "import numpy as np\n",
    "\n",
    "n=0\n",
    "\n",
    "while n<13:\n",
    "    n=n+1\n",
    "    print(\"2^n=\", 2**n)\n",
    "    \n"
   ]
  },
  {
   "cell_type": "code",
   "execution_count": null,
   "metadata": {},
   "outputs": [],
   "source": []
  }
 ],
 "metadata": {
  "kernelspec": {
   "display_name": "Python 3",
   "language": "python",
   "name": "python3"
  },
  "language_info": {
   "codemirror_mode": {
    "name": "ipython",
    "version": 3
   },
   "file_extension": ".py",
   "mimetype": "text/x-python",
   "name": "python",
   "nbconvert_exporter": "python",
   "pygments_lexer": "ipython3",
   "version": "3.7.3"
  }
 },
 "nbformat": 4,
 "nbformat_minor": 2
}
