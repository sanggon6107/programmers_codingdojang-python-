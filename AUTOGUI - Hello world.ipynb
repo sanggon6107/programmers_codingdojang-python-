{
 "cells": [
  {
   "cell_type": "code",
   "execution_count": null,
   "metadata": {},
   "outputs": [],
   "source": [
    "import pyautogui\n",
    "import random\n",
    "\n",
    "dummy = input(\"press any key to continue.\")\n",
    "\n",
    "file_image_range = pyautogui.locateOnScreen(\"D:icon.bmp\")\n",
    "center = pyautogui.center(file_image_range)\n",
    "\n",
    "pyautogui.PAUSE = 7.0\n",
    "\n",
    "pyautogui.doubleClick(center)\n",
    "\n",
    "pyautogui.click(500, 500)\n",
    "\n",
    "pyautogui.PAUSE = 0.1\n",
    "\n",
    "while True :\n",
    "    n = 1\n",
    "    k = random.randint(1, 20)\n",
    "    for n in range(1, k) :\n",
    "        pyautogui.typewrite('Hello world! '*n+'\\n', interval=0.07)\n",
    "        \n",
    "        \n",
    "print(\"DONE\")"
   ]
  },
  {
   "cell_type": "raw",
   "metadata": {},
   "source": []
  }
 ],
 "metadata": {
  "kernelspec": {
   "display_name": "Python 3",
   "language": "python",
   "name": "python3"
  },
  "language_info": {
   "codemirror_mode": {
    "name": "ipython",
    "version": 3
   },
   "file_extension": ".py",
   "mimetype": "text/x-python",
   "name": "python",
   "nbconvert_exporter": "python",
   "pygments_lexer": "ipython3",
   "version": "3.7.4"
  }
 },
 "nbformat": 4,
 "nbformat_minor": 2
}
