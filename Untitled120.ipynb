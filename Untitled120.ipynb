{
 "cells": [
  {
   "cell_type": "code",
   "execution_count": 11,
   "metadata": {},
   "outputs": [
    {
     "name": "stdout",
     "output_type": "stream",
     "text": [
      "INPUT : 50% 700g\n",
      "['50%']\n",
      "['700g']\n"
     ]
    }
   ],
   "source": [
    "import re\n",
    "\n",
    "inp = input(\"INPUT : \")\n",
    "\n",
    "res_per, res_g = [], []\n",
    "\n",
    "per_com = re.compile(\"\\d*\\.?\\d+%{1}\")\n",
    "g_com = re.compile(\"\\d*\\.?\\d+g{1}\")\n",
    "res_per.append(per_com.search(inp).group())\n",
    "res_g.append(g_com.search(inp).group())\n",
    "\n",
    "print(res_per)\n",
    "print(res_g)"
   ]
  },
  {
   "cell_type": "code",
   "execution_count": 42,
   "metadata": {},
   "outputs": [
    {
     "name": "stdout",
     "output_type": "stream",
     "text": [
      "INPUT : 1.234% 10g\n",
      "INPUT : 5.3325% 22g\n",
      "INPUT : 31g 13.2%\n",
      "INPUT : end\n",
      "8.55% 63.0g\n"
     ]
    }
   ],
   "source": [
    "import re\n",
    "def s_w() :\n",
    "    res_per, res_g, INP = [], [], 0\n",
    "    while INP != 'end' :\n",
    "        INP = input(\"INPUT : \")\n",
    "        \n",
    "        per_com = re.compile(\"\\d*\\.?\\d+%{1}\")\n",
    "        g_com = re.compile(\"\\d*\\.?\\d+g{1}\")\n",
    "        try :\n",
    "            res_per.append((float(per_com.search(INP).group(0)[:-1])/100.0))\n",
    "            res_g.append(float(g_com.search(INP).group(0)[:-1]))\n",
    "        except :\n",
    "            pass\n",
    "    am = list(zip(res_per, res_g))\n",
    "    am_sum = sum([i[0]*i[1] for i in am])\n",
    "    per = am_sum/sum(res_g)\n",
    "    wat = sum(res_g)\n",
    "    return str(round(per*100, 2))+'%', str(round(wat, 2))+'g'\n",
    "a, b = s_w()\n",
    "print(a, b)"
   ]
  },
  {
   "cell_type": "code",
   "execution_count": 33,
   "metadata": {},
   "outputs": [
    {
     "data": {
      "text/plain": [
       "[10.0, 10.0]"
      ]
     },
     "execution_count": 33,
     "metadata": {},
     "output_type": "execute_result"
    }
   ],
   "source": [
    "x = [(0.1, 100.0), (0.1, 100.0)]\n",
    "[i[0]*i[1] for i in x]\n"
   ]
  },
  {
   "cell_type": "code",
   "execution_count": null,
   "metadata": {},
   "outputs": [],
   "source": []
  }
 ],
 "metadata": {
  "kernelspec": {
   "display_name": "Python 3",
   "language": "python",
   "name": "python3"
  },
  "language_info": {
   "codemirror_mode": {
    "name": "ipython",
    "version": 3
   },
   "file_extension": ".py",
   "mimetype": "text/x-python",
   "name": "python",
   "nbconvert_exporter": "python",
   "pygments_lexer": "ipython3",
   "version": "3.7.3"
  }
 },
 "nbformat": 4,
 "nbformat_minor": 2
}
