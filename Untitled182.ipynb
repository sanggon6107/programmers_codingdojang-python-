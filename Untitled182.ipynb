{
 "cells": [
  {
   "cell_type": "code",
   "execution_count": 14,
   "metadata": {},
   "outputs": [
    {
     "name": "stdout",
     "output_type": "stream",
     "text": [
      "['2+3', '15-9']\n",
      "5*12/15-9+0\n",
      "['15-9']\n",
      "5*12/6+0\n",
      "['6+0']\n",
      "5*12/6\n",
      "[]\n"
     ]
    },
    {
     "ename": "IndexError",
     "evalue": "list index out of range",
     "output_type": "error",
     "traceback": [
      "\u001b[1;31m---------------------------------------------------------------------------\u001b[0m",
      "\u001b[1;31mIndexError\u001b[0m                                Traceback (most recent call last)",
      "\u001b[1;32m<ipython-input-14-7a13d4381f80>\u001b[0m in \u001b[0;36m<module>\u001b[1;34m\u001b[0m\n\u001b[0;32m     12\u001b[0m     \u001b[1;32mreturn\u001b[0m \u001b[1;36m0\u001b[0m\u001b[1;33m\u001b[0m\u001b[1;33m\u001b[0m\u001b[0m\n\u001b[0;32m     13\u001b[0m \u001b[1;33m\u001b[0m\u001b[0m\n\u001b[1;32m---> 14\u001b[1;33m \u001b[0msolution\u001b[0m\u001b[1;33m(\u001b[0m\u001b[1;34m'2+3*12/15-9+0'\u001b[0m\u001b[1;33m)\u001b[0m\u001b[1;33m\u001b[0m\u001b[1;33m\u001b[0m\u001b[0m\n\u001b[0m\u001b[0;32m     15\u001b[0m \u001b[1;33m\u001b[0m\u001b[0m\n",
      "\u001b[1;32m<ipython-input-14-7a13d4381f80>\u001b[0m in \u001b[0;36msolution\u001b[1;34m(s)\u001b[0m\n\u001b[0;32m      6\u001b[0m         \u001b[0msFind\u001b[0m \u001b[1;33m=\u001b[0m \u001b[0mpmCom\u001b[0m\u001b[1;33m.\u001b[0m\u001b[0mfindall\u001b[0m\u001b[1;33m(\u001b[0m\u001b[0ms\u001b[0m\u001b[1;33m)\u001b[0m\u001b[1;33m\u001b[0m\u001b[1;33m\u001b[0m\u001b[0m\n\u001b[0;32m      7\u001b[0m         \u001b[0mprint\u001b[0m\u001b[1;33m(\u001b[0m\u001b[0msFind\u001b[0m\u001b[1;33m)\u001b[0m\u001b[1;33m\u001b[0m\u001b[1;33m\u001b[0m\u001b[0m\n\u001b[1;32m----> 8\u001b[1;33m         \u001b[0ms\u001b[0m \u001b[1;33m=\u001b[0m \u001b[0mpmCom\u001b[0m\u001b[1;33m.\u001b[0m\u001b[0msub\u001b[0m\u001b[1;33m(\u001b[0m\u001b[0mstr\u001b[0m\u001b[1;33m(\u001b[0m\u001b[0meval\u001b[0m\u001b[1;33m(\u001b[0m\u001b[0msFind\u001b[0m\u001b[1;33m[\u001b[0m\u001b[1;36m0\u001b[0m\u001b[1;33m]\u001b[0m\u001b[1;33m)\u001b[0m\u001b[1;33m)\u001b[0m\u001b[1;33m,\u001b[0m \u001b[0ms\u001b[0m\u001b[1;33m,\u001b[0m \u001b[0mcount\u001b[0m \u001b[1;33m=\u001b[0m \u001b[1;36m1\u001b[0m\u001b[1;33m)\u001b[0m\u001b[1;33m\u001b[0m\u001b[1;33m\u001b[0m\u001b[0m\n\u001b[0m\u001b[0;32m      9\u001b[0m         \u001b[1;31m#s.replace(sFind)\u001b[0m\u001b[1;33m\u001b[0m\u001b[1;33m\u001b[0m\u001b[1;33m\u001b[0m\u001b[0m\n\u001b[0;32m     10\u001b[0m         \u001b[0mprint\u001b[0m\u001b[1;33m(\u001b[0m\u001b[0ms\u001b[0m\u001b[1;33m)\u001b[0m\u001b[1;33m\u001b[0m\u001b[1;33m\u001b[0m\u001b[0m\n",
      "\u001b[1;31mIndexError\u001b[0m: list index out of range"
     ]
    }
   ],
   "source": [
    "import re\n",
    "\n",
    "def solution(s) :\n",
    "    pmCom = re.compile(\"\\d*\\.?\\d+[+-]{1}\\d*\\.?\\d+\")\n",
    "    while True :\n",
    "        sFind = pmCom.findall(s)\n",
    "        print(sFind)\n",
    "        s = pmCom.sub(str(eval(sFind[0])), s, count = 1)\n",
    "        #s.replace(sFind)\n",
    "        print(s)\n",
    "        \n",
    "    return 0\n",
    "\n",
    "solution('2+3*12/15-9+0')\n",
    "\n"
   ]
  },
  {
   "cell_type": "code",
   "execution_count": 38,
   "metadata": {},
   "outputs": [
    {
     "data": {
      "text/plain": [
       "10.0"
      ]
     },
     "execution_count": 38,
     "metadata": {},
     "output_type": "execute_result"
    }
   ],
   "source": [
    "import re\n",
    "\n",
    "def solution(s) :\n",
    "    numCom, opCom = re.compile(\"\\d*\\.?\\d+\"), re.compile(\"[*+-\\/]{1}\")\n",
    "    nums, ops = numCom.findall(s), opCom.findall(s)\n",
    "\n",
    "    while True :\n",
    "        for opIndex in range(len(ops)-1, -1, -1) :\n",
    "            if ops[opIndex] in ('+', '-') :\n",
    "                nums[opIndex] = str(eval(nums[opIndex]+ops[opIndex]+nums[opIndex+1]))\n",
    "                p1, p2 = nums.pop(opIndex+1), ops.pop(opIndex)\n",
    "        if not '+' in ops and not '-' in ops :\n",
    "            break\n",
    "\n",
    "    while True :\n",
    "        for opIndex in range(len(ops)-1, -1, -1) :\n",
    "            if ops[opIndex] in ('*', '/') :\n",
    "                nums[opIndex] = str(eval(nums[opIndex]+ops[opIndex]+nums[opIndex+1]))\n",
    "                p1, p2 = nums.pop(opIndex+1), ops.pop(opIndex)\n",
    "        if not '*' in ops and not '/' in ops :\n",
    "            break\n",
    "    \n",
    "    return float(nums[0])\n",
    "\n",
    "solution('2+3*12/15-9')"
   ]
  },
  {
   "cell_type": "code",
   "execution_count": 21,
   "metadata": {},
   "outputs": [
    {
     "name": "stdout",
     "output_type": "stream",
     "text": [
      "['2', '3', '1', '2', '3']\n"
     ]
    }
   ],
   "source": [
    "a = list('123123')\n",
    "a.remove(a[3])\n",
    "print(a)"
   ]
  },
  {
   "cell_type": "code",
   "execution_count": null,
   "metadata": {},
   "outputs": [],
   "source": []
  }
 ],
 "metadata": {
  "kernelspec": {
   "display_name": "Python 3",
   "language": "python",
   "name": "python3"
  },
  "language_info": {
   "codemirror_mode": {
    "name": "ipython",
    "version": 3
   },
   "file_extension": ".py",
   "mimetype": "text/x-python",
   "name": "python",
   "nbconvert_exporter": "python",
   "pygments_lexer": "ipython3",
   "version": "3.7.3"
  }
 },
 "nbformat": 4,
 "nbformat_minor": 2
}
