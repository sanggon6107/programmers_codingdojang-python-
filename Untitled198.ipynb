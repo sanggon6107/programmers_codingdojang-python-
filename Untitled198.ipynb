{
 "cells": [
  {
   "cell_type": "code",
   "execution_count": 21,
   "metadata": {
    "collapsed": true
   },
   "outputs": [
    {
     "name": "stdout",
     "output_type": "stream",
     "text": [
      "height, width6 6\n",
      "INPUT : 1 3 1\n",
      "INPUT : 4 1\n",
      "INPUT : 1 4\n",
      "INPUT : 0 1 3 1\n",
      "INPUT : 0 1 3 1\n",
      "INPUT : 1 4\n",
      "[[1, 3, 1], [4, 1], [1, 4], [0, 1, 3, 1], [0, 1, 3, 1], [1, 4]]\n",
      "□ ■ ■ ■ □\n",
      "□ □ □ □ ■\n",
      "□ ■ ■ ■ ■\n",
      "■ □ □ □ ■\n",
      "■ □ □ □ ■\n",
      "□ ■ ■ ■ ■\n"
     ]
    }
   ],
   "source": [
    "def sol() :\n",
    "    height_width, inp_map, inp_list = list(map(int, input(\"height, width\").split())), ['□', '■'], []\n",
    "    \n",
    "    for col in range(0, height_width[0]) :\n",
    "        inp_list.append(list(map(int, input(\"INPUT : \").split())))\n",
    "    print(inp_list)\n",
    "    for col in inp_list :\n",
    "        print(\" \".join(\"\".join([inp_map[j%2]*col[j] for j in range(0, len(col))])))\n",
    "    return 0\n",
    "\n",
    "if __name__ == \"__main__\" :\n",
    "    sol()"
   ]
  },
  {
   "cell_type": "code",
   "execution_count": 7,
   "metadata": {},
   "outputs": [
    {
     "name": "stdout",
     "output_type": "stream",
     "text": [
      "INPUT1 1\n",
      "<map object at 0x0000026841AC0388>\n"
     ]
    }
   ],
   "source": [
    "inp = map(int, input(\"INPUT\").split())\n",
    "print(inp)"
   ]
  },
  {
   "cell_type": "code",
   "execution_count": null,
   "metadata": {},
   "outputs": [],
   "source": []
  }
 ],
 "metadata": {
  "kernelspec": {
   "display_name": "Python 3",
   "language": "python",
   "name": "python3"
  },
  "language_info": {
   "codemirror_mode": {
    "name": "ipython",
    "version": 3
   },
   "file_extension": ".py",
   "mimetype": "text/x-python",
   "name": "python",
   "nbconvert_exporter": "python",
   "pygments_lexer": "ipython3",
   "version": "3.7.4"
  }
 },
 "nbformat": 4,
 "nbformat_minor": 2
}
