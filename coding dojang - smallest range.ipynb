{
 "cells": [
  {
   "cell_type": "code",
   "execution_count": 3,
   "metadata": {},
   "outputs": [
    {
     "name": "stdout",
     "output_type": "stream",
     "text": [
      "30\n"
     ]
    }
   ],
   "source": [
    "'''\n",
    "List 1: [4, 10, 15, 24, 26] \n",
    "List 2: [0, 9, 12, 20] \n",
    "List 3: [5, 18, 22, 30] \n",
    "\n",
    "'''\n",
    "\n",
    "l1 = [4, 10, 15, 24, 26]\n",
    "l2 = [0, 9, 12, 20]\n",
    "l3 = [5, 18, 22, 30]\n",
    "\n",
    "pos_1, pos_2, pos_3 = 0, 0, 0\n",
    "res = max(max(l1), max(l2), max(l3))-min(min(l1), min(l2), min(l3))\n",
    "\n",
    "while True :\n",
    "    comp = [l1[pos_1], l2[pos_2], l3[pos_3]]\n",
    "    # comp 내부 (최대 - 최소)\n",
    "    \n",
    "    mi = comp.index(min(comp))+1 #최소값 리스트 넘버 반환\n",
    "\n",
    "#리스트 인덱스 -> pop으로 구현"
   ]
  },
  {
   "cell_type": "code",
   "execution_count": 30,
   "metadata": {},
   "outputs": [
    {
     "name": "stdout",
     "output_type": "stream",
     "text": [
      "24 20 22\n",
      "4\n"
     ]
    }
   ],
   "source": [
    "'''\n",
    "List 1: [4, 10, 15, 24, 26] \n",
    "List 2: [0, 9, 12, 20] \n",
    "List 3: [5, 18, 22, 30] \n",
    "\n",
    "'''\n",
    "\n",
    "l1 = sorted([4, 10, 15, 24, 26])\n",
    "l2 = sorted([0, 9, 12, 20])\n",
    "l3 = sorted([5, 18, 22, 30])\n",
    "\n",
    "po_1, po_2, po_3 = l1.pop(0), l2.pop(0), l3.pop(0)\n",
    "res = max(max(l1), max(l2), max(l3))-min(min(l1), min(l2), min(l3))\n",
    "\n",
    "while True :\n",
    "    comp = [po_1, po_2, po_3]\n",
    "    loc_res = max(comp)-min(comp)\n",
    "    if res >= loc_res :\n",
    "        res = loc_res\n",
    "    loc_mi = comp.index(min(comp))+1\n",
    "    try :\n",
    "        globals()['po_{}'.format(loc_mi)] = globals()['l{}'.format(loc_mi)].pop(0)\n",
    "    except : \n",
    "        print(po_1, po_2, po_3)\n",
    "        print(res)\n",
    "        break\n",
    "#리스트 인덱스 -> pop으로 구현\n",
    "\n"
   ]
  },
  {
   "cell_type": "code",
   "execution_count": 34,
   "metadata": {
    "scrolled": true
   },
   "outputs": [
    {
     "name": "stdout",
     "output_type": "stream",
     "text": [
      "INPUT : 255\n"
     ]
    },
    {
     "data": {
      "text/plain": [
       "'11111111'"
      ]
     },
     "execution_count": 34,
     "metadata": {},
     "output_type": "execute_result"
    }
   ],
   "source": [
    "bin(int(input('INPUT : ')))[2:]"
   ]
  },
  {
   "cell_type": "code",
   "execution_count": null,
   "metadata": {},
   "outputs": [],
   "source": []
  }
 ],
 "metadata": {
  "kernelspec": {
   "display_name": "Python 3",
   "language": "python",
   "name": "python3"
  },
  "language_info": {
   "codemirror_mode": {
    "name": "ipython",
    "version": 3
   },
   "file_extension": ".py",
   "mimetype": "text/x-python",
   "name": "python",
   "nbconvert_exporter": "python",
   "pygments_lexer": "ipython3",
   "version": "3.7.3"
  }
 },
 "nbformat": 4,
 "nbformat_minor": 2
}
