{
 "cells": [
  {
   "cell_type": "code",
   "execution_count": 6,
   "metadata": {},
   "outputs": [
    {
     "data": {
      "text/plain": [
       "'mislav'"
      ]
     },
     "execution_count": 6,
     "metadata": {},
     "output_type": "execute_result"
    }
   ],
   "source": [
    "def solution(participant, completion):\n",
    "    for i in completion :\n",
    "        participant.remove(i)\n",
    "    answer = participant[0]\n",
    "    return answer\n",
    "solution(['mislav', 'stanko', 'mislav', 'ana'], ['stanko', 'ana', 'mislav'])"
   ]
  },
  {
   "cell_type": "code",
   "execution_count": 5,
   "metadata": {},
   "outputs": [
    {
     "name": "stdout",
     "output_type": "stream",
     "text": [
      "['stanko', 'mislav', 'ana']\n"
     ]
    }
   ],
   "source": [
    "a = ['mislav', 'stanko', 'mislav', 'ana']\n",
    "b = ['stanko', 'ana', 'mislav']\n",
    "\n",
    "a.remove('mislav')\n",
    "print(a)"
   ]
  },
  {
   "cell_type": "code",
   "execution_count": null,
   "metadata": {},
   "outputs": [],
   "source": [
    "set으로 해야할듯.\n",
    "else? set(participant)와 participant의 원소 개수의 차 -> ㄴㄴㄴ"
   ]
  },
  {
   "cell_type": "code",
   "execution_count": 16,
   "metadata": {},
   "outputs": [
    {
     "data": {
      "text/plain": [
       "'vinko'"
      ]
     },
     "execution_count": 16,
     "metadata": {},
     "output_type": "execute_result"
    }
   ],
   "source": [
    "def solution(participant, completion):\n",
    "    answer = ''\n",
    "    if False in  [i[0]==i[1] for i in (zip(sorted(participant), sorted(completion)))] :\n",
    "        answer = (sorted(participant)[[i[0]==i[1] for i in (zip(sorted(participant), sorted(completion)))].index(False)])\n",
    "    else :\n",
    "        answer = (sorted(participant)[-1])\n",
    "    return answer\n",
    "\n",
    "solution(['marina', 'josipa', 'nikola', 'vinko', 'filipa'], ['josipa', 'filipa', 'marina', 'nikola'])"
   ]
  },
  {
   "cell_type": "code",
   "execution_count": 13,
   "metadata": {},
   "outputs": [
    {
     "name": "stdout",
     "output_type": "stream",
     "text": [
      "['filipa', 'josipa', 'marina', 'nikola', 'vinko']\n",
      "['filipa', 'josipa', 'marina', 'nikola']\n",
      "vinko\n"
     ]
    }
   ],
   "source": [
    "a = ['marina', 'josipa', 'nikola', 'vinko', 'filipa']\n",
    "b = ['josipa', 'filipa', 'marina', 'nikola']\n",
    "\n",
    "#a = ['mislav', 'stanko', 'mislav', 'ana']\n",
    "#b = ['stanko', 'ana', 'mislav']\n",
    "print(sorted(a))\n",
    "print(sorted(b))\n",
    "if False in  [i[0]==i[1] for i in (zip(sorted(a), sorted(b)))] :\n",
    "    print(a[[i[0]==i[1] for i in (zip(sorted(a), sorted(b)))].index(False)])\n",
    "else :\n",
    "    print(sorted(a)[-1])"
   ]
  },
  {
   "cell_type": "code",
   "execution_count": null,
   "metadata": {},
   "outputs": [],
   "source": []
  }
 ],
 "metadata": {
  "kernelspec": {
   "display_name": "Python 3",
   "language": "python",
   "name": "python3"
  },
  "language_info": {
   "codemirror_mode": {
    "name": "ipython",
    "version": 3
   },
   "file_extension": ".py",
   "mimetype": "text/x-python",
   "name": "python",
   "nbconvert_exporter": "python",
   "pygments_lexer": "ipython3",
   "version": "3.7.3"
  }
 },
 "nbformat": 4,
 "nbformat_minor": 2
}
