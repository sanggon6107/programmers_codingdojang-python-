{
 "cells": [
  {
   "cell_type": "code",
   "execution_count": 20,
   "metadata": {},
   "outputs": [
    {
     "ename": "SyntaxError",
     "evalue": "invalid syntax (<ipython-input-20-05a4246f48ad>, line 11)",
     "output_type": "error",
     "traceback": [
      "\u001b[1;36m  File \u001b[1;32m\"<ipython-input-20-05a4246f48ad>\"\u001b[1;36m, line \u001b[1;32m11\u001b[0m\n\u001b[1;33m    for xextent in range(min(position_LIST[2], position_LIST[0])+1, max(position_LIST[2], position_LIST[0])) :\u001b[0m\n\u001b[1;37m                                                                                                             ^\u001b[0m\n\u001b[1;31mSyntaxError\u001b[0m\u001b[1;31m:\u001b[0m invalid syntax\n"
     ]
    }
   ],
   "source": [
    "position_LIST, RESULT = [], []\n",
    "for i in range(1, 3) :\n",
    "    position_LIST += eval('['+input(\"INPUT :\")+']')\n",
    "\n",
    "if position_LIST[0] == position_LIST[2] :\n",
    "    for yextent in range(min(position_LIST[3], position_LIST[1])+1, max(position_LIST[3], position_LIST[1])) :\n",
    "        RESULT.append((position_LIST[0], yextent))\n",
    "\n",
    "else : \n",
    "    dfdx = (position_LIST[position_LIST.index(max(position_LIST[0], position_LIST[2]))+1]-position_LIST[position_LIST.index(min(position_LIST[0], position_LIST[2]))+1])/(max(position_LIST[2], position_LIST[0])-min(position_LIST[2], position_LIST[0])\n",
    "    for xextent in range(min(position_LIST[2], position_LIST[0])+1, max(position_LIST[2], position_LIST[0])) :\n",
    "        y_xextent =  (dfdx*(xextent-min(position_LIST[2], position_LIST[0])))+position_LIST[position_LIST.index(min(position_LIST[0], position_LIST[2]))+1]\n",
    "        if y_xextent%1 == 0 :\n",
    "            RESULT.append((xextent, yextent))\n",
    "print(RESULT)"
   ]
  },
  {
   "cell_type": "code",
   "execution_count": 11,
   "metadata": {},
   "outputs": [
    {
     "ename": "IndentationError",
     "evalue": "unexpected indent (<ipython-input-11-b325c3634502>, line 2)",
     "output_type": "error",
     "traceback": [
      "\u001b[1;36m  File \u001b[1;32m\"<ipython-input-11-b325c3634502>\"\u001b[1;36m, line \u001b[1;32m2\u001b[0m\n\u001b[1;33m    else :##열 string, 행 list?\u001b[0m\n\u001b[1;37m    ^\u001b[0m\n\u001b[1;31mIndentationError\u001b[0m\u001b[1;31m:\u001b[0m unexpected indent\n"
     ]
    }
   ],
   "source": [
    "    else :##열 string, 행 list?\n",
    "        for i in range(0, int(inp1st)) :\n",
    "            globals()['GYOU{}'.format(i)] = ''\n",
    "            for m in range(0, int(inp2nd)) :\n",
    "                globals()['GYOU{}'.format(i)] += str(m).ljust(2)"
   ]
  },
  {
   "cell_type": "code",
   "execution_count": 21,
   "metadata": {},
   "outputs": [
    {
     "ename": "SyntaxError",
     "evalue": "unexpected EOF while parsing (<ipython-input-21-039ac33b4212>, line 4)",
     "output_type": "error",
     "traceback": [
      "\u001b[1;36m  File \u001b[1;32m\"<ipython-input-21-039ac33b4212>\"\u001b[1;36m, line \u001b[1;32m4\u001b[0m\n\u001b[1;33m    dfdx = (position_LIST[position_LIST.index(max(position_LIST[0], position_LIST[2]))+1]-position_LIST[position_LIST.index(min(position_LIST[0], position_LIST[2]))+1])/(max(position_LIST[2], position_LIST[0])-min(position_LIST[2], position_LIST[0])\u001b[0m\n\u001b[1;37m                                                                                                                                                                                                                                                         ^\u001b[0m\n\u001b[1;31mSyntaxError\u001b[0m\u001b[1;31m:\u001b[0m unexpected EOF while parsing\n"
     ]
    }
   ],
   "source": [
    "position_LIST, RESULT = [1, 2, 3, 4], []\n",
    "position_LIST[position_LIST.index(max(position_LIST[0], position_LIST[2]))+1]\n",
    "position_LIST[position_LIST.index(min(position_LIST[0], position_LIST[2]))+1]\n",
    "dfdx = (position_LIST[position_LIST.index(max(position_LIST[0], position_LIST[2]))+1]-position_LIST[position_LIST.index(min(position_LIST[0], position_LIST[2]))+1])/(max(position_LIST[2], position_LIST[0])-min(position_LIST[2], position_LIST[0])\n"
   ]
  },
  {
   "cell_type": "code",
   "execution_count": null,
   "metadata": {},
   "outputs": [],
   "source": []
  }
 ],
 "metadata": {
  "kernelspec": {
   "display_name": "Python 3",
   "language": "python",
   "name": "python3"
  },
  "language_info": {
   "codemirror_mode": {
    "name": "ipython",
    "version": 3
   },
   "file_extension": ".py",
   "mimetype": "text/x-python",
   "name": "python",
   "nbconvert_exporter": "python",
   "pygments_lexer": "ipython3",
   "version": "3.7.3"
  }
 },
 "nbformat": 4,
 "nbformat_minor": 2
}
