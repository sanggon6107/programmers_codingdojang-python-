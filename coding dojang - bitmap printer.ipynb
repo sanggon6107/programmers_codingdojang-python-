{
 "cells": [
  {
   "cell_type": "code",
   "execution_count": 23,
   "metadata": {
    "collapsed": true
   },
   "outputs": [
    {
     "name": "stdout",
     "output_type": "stream",
     "text": [
      "height, width17 18\n",
      "INPUT : 6 2 2 2\n",
      "INPUT : 5 1 2 2 2 1\n",
      "INPUT : 6 6\n",
      "INPUT : 4 2 6 2\n",
      "INPUT : 3 1 10 1\n",
      "INPUT : 2 1 12 1\n",
      "INPUT : 2 1 3 1 4 1 3 1\n",
      "INPUT : 1 2 12 2\n",
      "INPUT : 0 1 16 1\n",
      "INPUT : 0 1 6 1 2 1 6 1\n",
      "INPUT : 0 1 7 2 7 1\n",
      "INPUT : 1 1 14 1\n",
      "INPUT : 2 1 12 1\n",
      "INPUT : 2 1 5 2 5 1\n",
      "INPUT : 3 1 10 1\n",
      "INPUT : 4 2 6 2\n",
      "INPUT : 6 6\n",
      "□ □ □ □ □ □ ■ ■ □ □ ■ ■\n",
      "□ □ □ □ □ ■ □ □ ■ ■ □ □ ■\n",
      "□ □ □ □ □ □ ■ ■ ■ ■ ■ ■\n",
      "□ □ □ □ ■ ■ □ □ □ □ □ □ ■ ■\n",
      "□ □ □ ■ □ □ □ □ □ □ □ □ □ □ ■\n",
      "□ □ ■ □ □ □ □ □ □ □ □ □ □ □ □ ■\n",
      "□ □ ■ □ □ □ ■ □ □ □ □ ■ □ □ □ ■\n",
      "□ ■ ■ □ □ □ □ □ □ □ □ □ □ □ □ ■ ■\n",
      "■ □ □ □ □ □ □ □ □ □ □ □ □ □ □ □ □ ■\n",
      "■ □ □ □ □ □ □ ■ □ □ ■ □ □ □ □ □ □ ■\n",
      "■ □ □ □ □ □ □ □ ■ ■ □ □ □ □ □ □ □ ■\n",
      "□ ■ □ □ □ □ □ □ □ □ □ □ □ □ □ □ ■\n",
      "□ □ ■ □ □ □ □ □ □ □ □ □ □ □ □ ■\n",
      "□ □ ■ □ □ □ □ □ ■ ■ □ □ □ □ □ ■\n",
      "□ □ □ ■ □ □ □ □ □ □ □ □ □ □ ■\n",
      "□ □ □ □ ■ ■ □ □ □ □ □ □ ■ ■\n",
      "□ □ □ □ □ □ ■ ■ ■ ■ ■ ■\n"
     ]
    }
   ],
   "source": [
    "def sol() :\n",
    "    height_width, inp_map, inp_list = list(map(int, input(\"height, width\").split())), ['□', '■'], []\n",
    "    \n",
    "    for col in range(0, height_width[0]) :\n",
    "        inp_list.append(list(map(int, input(\"INPUT : \").split())))\n",
    "    for col in inp_list :\n",
    "        print(\" \".join(\"\".join([inp_map[j%2]*col[j] for j in range(0, len(col))])))\n",
    "\n",
    "if __name__ == \"__main__\" :\n",
    "    sol()"
   ]
  },
  {
   "cell_type": "code",
   "execution_count": 7,
   "metadata": {},
   "outputs": [
    {
     "name": "stdout",
     "output_type": "stream",
     "text": [
      "INPUT1 1\n",
      "<map object at 0x0000026841AC0388>\n"
     ]
    }
   ],
   "source": [
    "\"\"\"\n",
    "INPUT 3\n",
    "\n",
    "height, width13 18\n",
    "INPUT : 6 5 2 3\n",
    "INPUT : 4 2 5 2 3 1\n",
    "INPUT : 3 1 9 1 2 1\n",
    "INPUT : 3 1 9 1 1 1\n",
    "INPUT : 2 1 11 1\n",
    "INPUT : 2 1 10 2\n",
    "INPUT : 2 1 9 1 1 1\n",
    "INPUT : 2 1 8 1 2 1\n",
    "INPUT : 2 1 7 1 3 1\n",
    "INPUT : 1 1 1 1 4 2 3 1\n",
    "INPUT : 0 1 2 1 2 2 5 1\n",
    "INPUT : 0 1 3 2 5 2\n",
    "INPUT : 1 3 2 5\n",
    "□ □ □ □ □ □ ■ ■ ■ ■ ■ □ □ ■ ■ ■\n",
    "□ □ □ □ ■ ■ □ □ □ □ □ ■ ■ □ □ □ ■\n",
    "□ □ □ ■ □ □ □ □ □ □ □ □ □ ■ □ □ ■\n",
    "□ □ □ ■ □ □ □ □ □ □ □ □ □ ■ □ ■\n",
    "□ □ ■ □ □ □ □ □ □ □ □ □ □ □ ■\n",
    "□ □ ■ □ □ □ □ □ □ □ □ □ □ ■ ■\n",
    "□ □ ■ □ □ □ □ □ □ □ □ □ ■ □ ■\n",
    "□ □ ■ □ □ □ □ □ □ □ □ ■ □ □ ■\n",
    "□ □ ■ □ □ □ □ □ □ □ ■ □ □ □ ■\n",
    "□ ■ □ ■ □ □ □ □ ■ ■ □ □ □ ■\n",
    "■ □ □ ■ □ □ ■ ■ □ □ □ □ □ ■\n",
    "■ □ □ □ ■ ■ □ □ □ □ □ ■ ■\n",
    "□ ■ ■ ■ □ □ ■ ■ ■ ■ ■\n",
    "\n",
    "\"\"\""
   ]
  },
  {
   "cell_type": "code",
   "execution_count": null,
   "metadata": {},
   "outputs": [],
   "source": [
    "\"\"\"\n",
    "\n",
    "INPUT 4\n",
    "\n",
    "\n",
    "\n",
    "\n",
    "\n",
    "\"\"\""
   ]
  }
 ],
 "metadata": {
  "kernelspec": {
   "display_name": "Python 3",
   "language": "python",
   "name": "python3"
  },
  "language_info": {
   "codemirror_mode": {
    "name": "ipython",
    "version": 3
   },
   "file_extension": ".py",
   "mimetype": "text/x-python",
   "name": "python",
   "nbconvert_exporter": "python",
   "pygments_lexer": "ipython3",
   "version": "3.7.4"
  }
 },
 "nbformat": 4,
 "nbformat_minor": 2
}
