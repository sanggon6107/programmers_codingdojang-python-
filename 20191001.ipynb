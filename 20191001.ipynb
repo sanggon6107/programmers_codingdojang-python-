{
 "cells": [
  {
   "cell_type": "code",
   "execution_count": 14,
   "metadata": {},
   "outputs": [
    {
     "name": "stdout",
     "output_type": "stream",
     "text": [
      "input :[1, 2, 3, 4, 5, 6]\n",
      "3.5\n",
      "\n"
     ]
    }
   ],
   "source": [
    "inp = eval(input(\"input :\"))\n",
    "if len(inp)%2 == 0 :\n",
    "    print((inp[int(len(inp)/2)-1]+ inp[int(len(inp)/2)])/2)\n",
    "    print()\n",
    "else :\n",
    "    print(inp[int((len(inp)-1)/2)])"
   ]
  },
  {
   "cell_type": "code",
   "execution_count": 49,
   "metadata": {},
   "outputs": [
    {
     "name": "stdout",
     "output_type": "stream",
     "text": [
      "1.김씨 : 2명, 이씨 : 6명\n",
      "2. 3 번\n",
      "3. {'강상희', '전경헌', '송정환', '최승혁', '이재영', '박영서', '권종표', '이성연', '이유덕', '김지완', '김재성', '박민호'}\n",
      "4. ['강상희', '권종표', '김재성', '김지완', '박민호', '박영서', '송정환', '이성연', '이유덕', '이재영', '전경헌', '최승혁']\n"
     ]
    }
   ],
   "source": [
    "import re\n",
    "inp = '이유덕,이재영,권종표,이재영,박민호,강상희,이재영,김지완,최승혁,이성연,박영서,박민호,전경헌,송정환,김재성,이유덕,전경헌'\n",
    "inp_list = \" \".join(inp.split(','))\n",
    "kim, lee = re.compile(\"김[^0-9]{2}\"), re.compile(\"이[^0-9]{2}\")\n",
    "k_list, l_list = kim.findall(inp_list), lee.findall(inp_list)\n",
    "print(\"1.김씨 : %d명, 이씨 : %d명\" %(len(k_list), len(l_list)))\n",
    "print('2.', inp.split(',').count(\"이재영\"), \"번\")\n",
    "print(\"3.\", set(inp.split(',')))\n",
    "print(\"4.\", sorted(list(set(inp.split(',')))))"
   ]
  },
  {
   "cell_type": "code",
   "execution_count": 77,
   "metadata": {},
   "outputs": [
    {
     "ename": "SyntaxError",
     "evalue": "illegal expression for augmented assignment (<ipython-input-77-c506139119ea>, line 7)",
     "output_type": "error",
     "traceback": [
      "\u001b[1;36m  File \u001b[1;32m\"<ipython-input-77-c506139119ea>\"\u001b[1;36m, line \u001b[1;32m7\u001b[0m\n\u001b[1;33m    a_list[i], a_list[i-1] +='2', '*2'\u001b[0m\n\u001b[1;37m    ^\u001b[0m\n\u001b[1;31mSyntaxError\u001b[0m\u001b[1;31m:\u001b[0m illegal expression for augmented assignment\n"
     ]
    }
   ],
   "source": [
    "import re\n",
    "inp = input(\"input : \")\n",
    "s, a = re.compile(\"\\d{1,2}\"), re.compile(\"[SDT][*#]?\")\n",
    "s_list, a_list = s.findall(inp), a.findall(inp)\n",
    "for i in range(0, 3) :\n",
    "    if  a_list[i][-1] == '*' and i == 0 :\n",
    "        a_list[i] +='2'\n",
    "    elif a_list[i][-1] == '#' and i == 0 :\n",
    "        a_list[i] +='-2'\n",
    "    elif a_list[i][-1] == '*' and i != 0 :\n",
    "        a_list[i] +='2'\n",
    "        a_list[i-1] += '*2'\n",
    "print(s_list, a_list)\n",
    "aa_list = \":\".join(a_list).replace('S', '**1').replace('D', '**2').replace('T', '**3').split(':')\n",
    "print(aa_list)"
   ]
  },
  {
   "cell_type": "code",
   "execution_count": null,
   "metadata": {},
   "outputs": [],
   "source": []
  }
 ],
 "metadata": {
  "kernelspec": {
   "display_name": "Python 3",
   "language": "python",
   "name": "python3"
  },
  "language_info": {
   "codemirror_mode": {
    "name": "ipython",
    "version": 3
   },
   "file_extension": ".py",
   "mimetype": "text/x-python",
   "name": "python",
   "nbconvert_exporter": "python",
   "pygments_lexer": "ipython3",
   "version": "3.7.3"
  }
 },
 "nbformat": 4,
 "nbformat_minor": 2
}
