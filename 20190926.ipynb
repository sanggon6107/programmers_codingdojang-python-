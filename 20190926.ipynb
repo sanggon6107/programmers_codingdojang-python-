{
 "cells": [
  {
   "cell_type": "code",
   "execution_count": 4,
   "metadata": {},
   "outputs": [
    {
     "name": "stdout",
     "output_type": "stream",
     "text": [
      "233168\n"
     ]
    }
   ],
   "source": [
    "# project euler\n",
    "\n",
    "result = []\n",
    "for k in range(1, 1000) :\n",
    "    if k % 3 == 0 :\n",
    "        result.append(k)\n",
    "        continue\n",
    "    if k % 5 == 0 :\n",
    "        result.append(k)\n",
    "print(sum(result))"
   ]
  },
  {
   "cell_type": "code",
   "execution_count": 15,
   "metadata": {},
   "outputs": [
    {
     "data": {
      "text/plain": [
       "265"
      ]
     },
     "execution_count": 15,
     "metadata": {},
     "output_type": "execute_result"
    }
   ],
   "source": [
    "#sekigae\n",
    "\n",
    "from __future__ import print_function, division\n",
    "\n",
    "def sekigae(n) :\n",
    "    if n == 1 :\n",
    "        return 0\n",
    "    elif n == 2 :\n",
    "        return 1\n",
    "    return (n-1)*(sekigae(n-1)+sekigae(n-2))\n",
    "\n",
    "sekigae(6)"
   ]
  },
  {
   "cell_type": "code",
   "execution_count": 66,
   "metadata": {
    "scrolled": true
   },
   "outputs": [
    {
     "name": "stdout",
     "output_type": "stream",
     "text": [
      "input :30000\n",
      "200000002\n"
     ]
    }
   ],
   "source": [
    "n = int(input(\"input :\"))\n",
    "result, inp, count = [], 0, 1\n",
    "while len(result) <= n-1 :\n",
    "    num = []\n",
    "    num, num_rev = list(str(inp)), list(str(inp))\n",
    "    num_rev.reverse()\n",
    "    if num == num_rev :\n",
    "            result.append(inp)\n",
    "    inp += 1\n",
    "print(result[-1])"
   ]
  },
  {
   "cell_type": "code",
   "execution_count": 86,
   "metadata": {
    "scrolled": false
   },
   "outputs": [
    {
     "name": "stdout",
     "output_type": "stream",
     "text": [
      "The delimiter is \" \"\n",
      "input :-1 2 4 -4 8 -9 88 2 -45\n",
      "[-1, -4, -9, -45, 2, 4, 8, 88, 2]\n"
     ]
    }
   ],
   "source": [
    "# google\n",
    "\n",
    "n = input(\"The delimiter is \\\" \\\".\\ninput :\").split(\" \")\n",
    "sei, fu = [], []\n",
    "for k in n :\n",
    "    if int(k) >= 0 :\n",
    "        sei.append(int(k))\n",
    "    else :\n",
    "        fu.append(int(k))\n",
    "print(fu + sei)"
   ]
  },
  {
   "cell_type": "code",
   "execution_count": 103,
   "metadata": {},
   "outputs": [
    {
     "name": "stdout",
     "output_type": "stream",
     "text": [
      "1227365\n"
     ]
    }
   ],
   "source": [
    "fr, rea = list(range(1, 5001)), []   # 5000까지의 자연수로 이루어진 리스트 셀프 넘버의 리스트 선언\n",
    "for n in range(1, 5001):\n",
    "    gen = n\n",
    "    for i in str(n) :\n",
    "        gen += int(i)\n",
    "    rea.append(gen)    #셀프 넘버가 아닌 수들을 계산, rea에 추가\n",
    "\n",
    "fr_s, rea_s = set(fr), set(rea)       #집합으로 변환\n",
    "print(sum(fr_s - rea_s))"
   ]
  },
  {
   "cell_type": "code",
   "execution_count": 112,
   "metadata": {},
   "outputs": [
    {
     "name": "stdout",
     "output_type": "stream",
     "text": [
      "input :1234\n"
     ]
    },
    {
     "data": {
      "text/plain": [
       "10"
      ]
     },
     "execution_count": 112,
     "metadata": {},
     "output_type": "execute_result"
    }
   ],
   "source": [
    "#ssum\n",
    "\n",
    "inp = input(\"input :\")\n",
    "sum([int(i) for i in inp])"
   ]
  },
  {
   "cell_type": "code",
   "execution_count": 113,
   "metadata": {},
   "outputs": [
    {
     "name": "stdout",
     "output_type": "stream",
     "text": [
      "     *\n",
      "     *\n",
      "    * *\n",
      "   *   *\n",
      "  *     *\n",
      "**       **\n",
      "  *     *\n",
      "   *   *\n",
      "    * *\n",
      "     *\n",
      "     *\n"
     ]
    }
   ],
   "source": [
    "#dia\n",
    "\n",
    "print(\"     *\\n     *\\n    * *\\n   *   *\\n  *     *\\n**       **\\n  *     *\\n   *   *\\n    * *\\n     *\\n     *\")"
   ]
  },
  {
   "cell_type": "code",
   "execution_count": null,
   "metadata": {},
   "outputs": [],
   "source": []
  }
 ],
 "metadata": {
  "kernelspec": {
   "display_name": "Python 3",
   "language": "python",
   "name": "python3"
  },
  "language_info": {
   "codemirror_mode": {
    "name": "ipython",
    "version": 3
   },
   "file_extension": ".py",
   "mimetype": "text/x-python",
   "name": "python",
   "nbconvert_exporter": "python",
   "pygments_lexer": "ipython3",
   "version": "3.7.3"
  }
 },
 "nbformat": 4,
 "nbformat_minor": 2
}
