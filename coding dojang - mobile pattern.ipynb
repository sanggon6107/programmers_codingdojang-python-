{
 "cells": [
  {
   "cell_type": "code",
   "execution_count": 43,
   "metadata": {},
   "outputs": [
    {
     "name": "stdout",
     "output_type": "stream",
     "text": [
      "[1, 2, 3, 4, 5, 6, 7, 8, 9, 10, 11, 12, 13, 14, 15, 16, 17, 18, 19, 20]\n",
      "INPUT : 2 5\n",
      "[1, 5, 4, 3, 2, 6, 7, 8, 9, 10, 11, 12, 13, 14, 15, 16, 17, 18, 19, 20]\n",
      "INPUT : 10 11\n",
      "[1, 5, 4, 3, 2, 6, 7, 8, 9, 11, 10, 12, 13, 14, 15, 16, 17, 18, 19, 20]\n",
      "INPUT : 19 20\n",
      "[1, 5, 4, 3, 2, 6, 7, 8, 9, 11, 10, 12, 13, 14, 15, 16, 17, 18, 20, 19]\n",
      "INPUT : 5 9\n",
      "[1, 5, 4, 3, 9, 8, 7, 6, 2, 11, 10, 12, 13, 14, 15, 16, 17, 18, 20, 19]\n",
      "INPUT : d\n"
     ]
    },
    {
     "ename": "ValueError",
     "evalue": "invalid literal for int() with base 10: 'd'",
     "output_type": "error",
     "traceback": [
      "\u001b[1;31m---------------------------------------------------------------------------\u001b[0m",
      "\u001b[1;31mValueError\u001b[0m                                Traceback (most recent call last)",
      "\u001b[1;32m<ipython-input-43-de672bf79b5f>\u001b[0m in \u001b[0;36m<module>\u001b[1;34m\u001b[0m\n\u001b[0;32m      2\u001b[0m \u001b[0mprint\u001b[0m\u001b[1;33m(\u001b[0m\u001b[0mk\u001b[0m\u001b[1;33m)\u001b[0m\u001b[1;33m\u001b[0m\u001b[1;33m\u001b[0m\u001b[0m\n\u001b[0;32m      3\u001b[0m \u001b[1;32mfor\u001b[0m \u001b[0mc\u001b[0m \u001b[1;32min\u001b[0m \u001b[0mrange\u001b[0m\u001b[1;33m(\u001b[0m\u001b[1;36m10\u001b[0m\u001b[1;33m)\u001b[0m \u001b[1;33m:\u001b[0m\u001b[1;33m\u001b[0m\u001b[1;33m\u001b[0m\u001b[0m\n\u001b[1;32m----> 4\u001b[1;33m     \u001b[0minp1\u001b[0m\u001b[1;33m,\u001b[0m \u001b[0minp2\u001b[0m \u001b[1;33m=\u001b[0m \u001b[0mmap\u001b[0m\u001b[1;33m(\u001b[0m\u001b[0mint\u001b[0m\u001b[1;33m,\u001b[0m \u001b[0minput\u001b[0m\u001b[1;33m(\u001b[0m\u001b[1;34m\"INPUT : \"\u001b[0m\u001b[1;33m)\u001b[0m\u001b[1;33m.\u001b[0m\u001b[0msplit\u001b[0m\u001b[1;33m(\u001b[0m\u001b[1;33m)\u001b[0m\u001b[1;33m)\u001b[0m\u001b[1;33m\u001b[0m\u001b[1;33m\u001b[0m\u001b[0m\n\u001b[0m\u001b[0;32m      5\u001b[0m     \u001b[0mk\u001b[0m \u001b[1;33m=\u001b[0m \u001b[0mk\u001b[0m\u001b[1;33m[\u001b[0m\u001b[1;33m:\u001b[0m\u001b[0minp1\u001b[0m\u001b[1;33m-\u001b[0m\u001b[1;36m1\u001b[0m\u001b[1;33m]\u001b[0m\u001b[1;33m+\u001b[0m\u001b[0mlist\u001b[0m\u001b[1;33m(\u001b[0m\u001b[0mreversed\u001b[0m\u001b[1;33m(\u001b[0m\u001b[0mk\u001b[0m\u001b[1;33m[\u001b[0m\u001b[0minp1\u001b[0m\u001b[1;33m-\u001b[0m\u001b[1;36m1\u001b[0m\u001b[1;33m:\u001b[0m\u001b[0minp2\u001b[0m\u001b[1;33m]\u001b[0m\u001b[1;33m)\u001b[0m\u001b[1;33m)\u001b[0m\u001b[1;33m+\u001b[0m\u001b[0mk\u001b[0m\u001b[1;33m[\u001b[0m\u001b[0minp2\u001b[0m\u001b[1;33m:\u001b[0m\u001b[1;33m]\u001b[0m\u001b[1;33m\u001b[0m\u001b[1;33m\u001b[0m\u001b[0m\n\u001b[0;32m      6\u001b[0m     \u001b[0mprint\u001b[0m\u001b[1;33m(\u001b[0m\u001b[0mk\u001b[0m\u001b[1;33m)\u001b[0m\u001b[1;33m\u001b[0m\u001b[1;33m\u001b[0m\u001b[0m\n",
      "\u001b[1;31mValueError\u001b[0m: invalid literal for int() with base 10: 'd'"
     ]
    }
   ],
   "source": [
    "k = list(range(1, 21))\n",
    "print(k)\n",
    "for c in range(10) :\n",
    "    inp1, inp2 = map(int, input(\"INPUT : \").split())\n",
    "    k = k[:inp1-1]+list(reversed(k[inp1-1:inp2]))+k[inp2:]\n",
    "    print(k)"
   ]
  },
  {
   "cell_type": "code",
   "execution_count": 18,
   "metadata": {},
   "outputs": [
    {
     "name": "stdout",
     "output_type": "stream",
     "text": [
      "INPUT : 2 8 4 6\n",
      "(0, 1) (2, 1)\n"
     ]
    },
    {
     "data": {
      "text/plain": [
       "False"
      ]
     },
     "execution_count": 18,
     "metadata": {},
     "output_type": "execute_result"
    }
   ],
   "source": [
    "from math import sqrt\n",
    "\n",
    "def pattern(op_inp) :\n",
    "    map_ = {1 : (0, 0), 2 : (0, 1), 3 : (0, 2), \n",
    "            4 : (1, 0), 5 : (1, 1), 6 : (1, 2), \n",
    "            7 : (2, 0), 8 : (2, 1), 9 : (2, 2)}\n",
    "    dis_false, dis_true = [2, 2*sqrt(2)], [1, sqrt(2), sqrt(5)]\n",
    "    \n",
    "    visited = set([])\n",
    "    for pos in range(0, len(op_inp)-1) :\n",
    "        if op_inp[pos+1] in visited : ## 이미 방문한 노드 : return False\n",
    "            return False\n",
    "        else :\n",
    "            dis = sqrt((map_[op_inp[pos]][0]-map_[op_inp[pos+1]][0])**2+(map_[op_inp[pos]][1]-map_[op_inp[pos+1]][1])**2)\n",
    "            \n",
    "            if dis in dis_false and op_inp[pos] in visited : pass\n",
    "            \n",
    "            elif dis in dis_false : return False ## True 불가능한 노드 거리에 대한 처리\n",
    "            \n",
    "            visited.update([op_inp[pos], op_inp[pos+1]])\n",
    "    return True\n",
    "\n",
    "## dis와 같은 값이 dis_false에 있더라도, 해당 좌표의 사잇값이 visited에 있다면 False를 return하지 않는다\n",
    "### 예 : 1 - 3 - 2, 1 - 5 - 9\n",
    "\n",
    "## 단순 계산 시 False 대상 노드 거리 : 2.0, 2*sqrt(2)\n",
    "## 단순 계산 시 True 대상 노드 거리 : 1.0, sqrt(2), sqrt(5)\n",
    "\n",
    "pattern(list(map(int, input(\"INPUT : \").split())))\n",
    "### 입력 내부에 중복 숫자([6, 8, 6])확인\n",
    "### 딕셔너리로 노드 좌표와 노드명 매치\n",
    "### 노드간 거리, visited node에 대한 확인 collection으로.\n",
    "### 노드간 거리가 False형임에도 visited node의 제외로 인해 True로 되는 예외적 경우 고려 : '5 : (1, 1)'만 고려하면 되는가?###"
   ]
  },
  {
   "cell_type": "code",
   "execution_count": 15,
   "metadata": {},
   "outputs": [
    {
     "data": {
      "text/plain": [
       "[('1', '2'), ('2', '3'), ('3', '4'), ('4', '5'), ('5', '6'), ('6', '7')]"
      ]
     },
     "execution_count": 15,
     "metadata": {},
     "output_type": "execute_result"
    }
   ],
   "source": [
    "from functools import reduce\n",
    "a = ['1', '2', '3', '4', '5', '6', '7']\n",
    "\n",
    "list(zip(a, a[1:]))"
   ]
  },
  {
   "cell_type": "code",
   "execution_count": 23,
   "metadata": {},
   "outputs": [
    {
     "name": "stdout",
     "output_type": "stream",
     "text": [
      "INPUT : 2 8 4 6\n"
     ]
    },
    {
     "data": {
      "text/plain": [
       "False"
      ]
     },
     "execution_count": 23,
     "metadata": {},
     "output_type": "execute_result"
    }
   ],
   "source": [
    "from math import sqrt\n",
    "\n",
    "def pattern(op_inp) :\n",
    "    map_ = {1 : (0, 0), 2 : (0, 1), 3 : (0, 2), \n",
    "            4 : (1, 0), 5 : (1, 1), 6 : (1, 2), \n",
    "            7 : (2, 0), 8 : (2, 1), 9 : (2, 2)}\n",
    "    dis_false = [2, 2*sqrt(2)]\n",
    "    \n",
    "    visited = set([]) # 방문한 점 기록\n",
    "    for pos in range(0, len(op_inp)-1) :\n",
    "        if op_inp[pos+1] in visited : ## 이미 방문한 점 : return False\n",
    "            return False\n",
    "        else :\n",
    "            dis = sqrt((map_[op_inp[pos]][0]-map_[op_inp[pos+1]][0])**2+(map_[op_inp[pos]][1]-map_[op_inp[pos+1]][1])**2) # 현재점과 다음점의 거리를 계산\n",
    "            if dis in dis_false and op_inp[pos] in visited : pass # 거리상 False의 대상이라도 그 중간의 점이 visited(방문한 점)에 있다면 False를 반환하지 않음\n",
    "            elif dis in dis_false : return False # 계산한 거리가 False의 대상(1과 9처럼 중간에 다른 숫자가 있다면)이라면 False\n",
    "            visited.update([op_inp[pos], op_inp[pos+1]]) # 방문한 점 업데이트\n",
    "    return True # 입력된 점들을 모두 처리해도 False가 반환되지 않는다면 True 반환\n",
    "\n",
    "pattern(list(map(int, input(\"INPUT : \").split())))"
   ]
  },
  {
   "cell_type": "code",
   "execution_count": null,
   "metadata": {},
   "outputs": [],
   "source": []
  }
 ],
 "metadata": {
  "kernelspec": {
   "display_name": "Python 3",
   "language": "python",
   "name": "python3"
  },
  "language_info": {
   "codemirror_mode": {
    "name": "ipython",
    "version": 3
   },
   "file_extension": ".py",
   "mimetype": "text/x-python",
   "name": "python",
   "nbconvert_exporter": "python",
   "pygments_lexer": "ipython3",
   "version": "3.7.3"
  }
 },
 "nbformat": 4,
 "nbformat_minor": 2
}
