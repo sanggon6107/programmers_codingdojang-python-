{
 "cells": [
  {
   "cell_type": "code",
   "execution_count": 12,
   "metadata": {
    "scrolled": true
   },
   "outputs": [
    {
     "name": "stdout",
     "output_type": "stream",
     "text": [
      "Hello world!\n",
      "\n",
      "A= [[1 2]\n",
      " [1 2]]\n",
      "B= [[-1  0]\n",
      " [ 0  1]]\n",
      "C=\n"
     ]
    },
    {
     "data": {
      "text/plain": [
       "array([[-1,  0],\n",
       "       [ 0,  2]])"
      ]
     },
     "execution_count": 12,
     "metadata": {},
     "output_type": "execute_result"
    }
   ],
   "source": [
    "import numpy as np\n",
    "import matplotlib\n",
    "\n",
    "\n",
    "print(\"Hello \"+\"world!\\n\")\n",
    "\n",
    "A=np.array([[1, 2], [1, 2]])\n",
    "\n",
    "print('A=', A)\n",
    "\n",
    "B=np.array([[2, 3], [3, 4]])-3\n",
    "\n",
    "print('B=', B)\n",
    "\n",
    "C=A*B\n",
    "\n",
    "print('C=')\n",
    "\n",
    "while n<11\n",
    "\n",
    "n="
   ]
  },
  {
   "cell_type": "code",
   "execution_count": null,
   "metadata": {},
   "outputs": [],
   "source": []
  }
 ],
 "metadata": {
  "kernelspec": {
   "display_name": "Python 3",
   "language": "python",
   "name": "python3"
  },
  "language_info": {
   "codemirror_mode": {
    "name": "ipython",
    "version": 3
   },
   "file_extension": ".py",
   "mimetype": "text/x-python",
   "name": "python",
   "nbconvert_exporter": "python",
   "pygments_lexer": "ipython3",
   "version": "3.7.3"
  }
 },
 "nbformat": 4,
 "nbformat_minor": 2
}
