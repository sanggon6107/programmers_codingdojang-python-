{
 "cells": [
  {
   "cell_type": "code",
   "execution_count": 1,
   "metadata": {
    "scrolled": false
   },
   "outputs": [
    {
     "name": "stdout",
     "output_type": "stream",
     "text": [
      "3366615\n"
     ]
    }
   ],
   "source": [
    "## generator\n",
    "generators = set([])\n",
    "\n",
    "for n in range(1, 5000):\n",
    "    result = 0\n",
    "    result = result + n\n",
    "    gen = set(str(n))\n",
    "    gen_list = list(gen)\n",
    "    ss = 0\n",
    "    for list_sum in gen_list :\n",
    "        ss = ss + int(list_sum)\n",
    "    result = result + ss\n",
    "    generators.add(result)\n",
    "numbers = set(range(1, 5001))\n",
    "selnum = numbers - generators\n",
    "selnum_list = list(selnum)\n",
    "print(sum(selnum_list))"
   ]
  },
  {
   "cell_type": "code",
   "execution_count": null,
   "metadata": {},
   "outputs": [],
   "source": []
  }
 ],
 "metadata": {
  "kernelspec": {
   "display_name": "Python 3",
   "language": "python",
   "name": "python3"
  },
  "language_info": {
   "codemirror_mode": {
    "name": "ipython",
    "version": 3
   },
   "file_extension": ".py",
   "mimetype": "text/x-python",
   "name": "python",
   "nbconvert_exporter": "python",
   "pygments_lexer": "ipython3",
   "version": "3.7.3"
  }
 },
 "nbformat": 4,
 "nbformat_minor": 2
}
