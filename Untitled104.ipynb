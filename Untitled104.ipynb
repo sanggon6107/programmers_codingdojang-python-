{
 "cells": [
  {
   "cell_type": "code",
   "execution_count": 28,
   "metadata": {},
   "outputs": [
    {
     "name": "stdout",
     "output_type": "stream",
     "text": [
      "1\n",
      "4\n",
      "10\n",
      "12\n"
     ]
    }
   ],
   "source": [
    "k = [1, 4, 7, 10, 11, 12]\n",
    "\n",
    "def pr(n) :\n",
    "    if n == 1 : return False\n",
    "    for d in range(2, n) :\n",
    "        if n%d == 0 : return False\n",
    "    return True\n",
    "\n",
    "\n",
    "###   [[[1, 4], [7, 10]], 11, 12]\n",
    "\n",
    "### list형 데이터에,  k의 index를 저장하는 방식으로 구현.\n",
    "### 탐색 방법은 BFS기반. 가능한 모든 경우의 수 탐색 후 결과 출력.\n",
    "exi_nums = {}\n",
    "\n",
    "comp_num_1 = k[0]\n",
    "for comp_num_2 in k :\n",
    "    if (not comp_num_1 in exi_nums) and (not comp_num_2 in exi_nums) and pr(comp_num_1+comp_num_2) == True :\n",
    "        print(comp_num_2)"
   ]
  },
  {
   "cell_type": "code",
   "execution_count": 2,
   "metadata": {},
   "outputs": [
    {
     "data": {
      "text/plain": [
       "3"
      ]
     },
     "execution_count": 2,
     "metadata": {},
     "output_type": "execute_result"
    }
   ],
   "source": [
    "len([[[1, 4], [7, 10]], 11, 12])"
   ]
  },
  {
   "cell_type": "code",
   "execution_count": 24,
   "metadata": {},
   "outputs": [
    {
     "data": {
      "text/plain": [
       "True"
      ]
     },
     "execution_count": 24,
     "metadata": {},
     "output_type": "execute_result"
    }
   ],
   "source": [
    "def pr(n) :\n",
    "    if n == 1 : return False\n",
    "    for d in range(2, n) :\n",
    "        if n%d == 0 : return False\n",
    "    return True"
   ]
  }
 ],
 "metadata": {
  "kernelspec": {
   "display_name": "Python 3",
   "language": "python",
   "name": "python3"
  },
  "language_info": {
   "codemirror_mode": {
    "name": "ipython",
    "version": 3
   },
   "file_extension": ".py",
   "mimetype": "text/x-python",
   "name": "python",
   "nbconvert_exporter": "python",
   "pygments_lexer": "ipython3",
   "version": "3.7.3"
  }
 },
 "nbformat": 4,
 "nbformat_minor": 2
}
