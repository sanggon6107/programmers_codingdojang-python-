{
 "cells": [
  {
   "cell_type": "code",
   "execution_count": 3,
   "metadata": {
    "scrolled": true
   },
   "outputs": [
    {
     "ename": "NameError",
     "evalue": "name 'd' is not defined",
     "output_type": "error",
     "traceback": [
      "\u001b[1;31m---------------------------------------------------------------------------\u001b[0m",
      "\u001b[1;31mNameError\u001b[0m                                 Traceback (most recent call last)",
      "\u001b[1;32m<ipython-input-3-d78a1b5ab61d>\u001b[0m in \u001b[0;36m<module>\u001b[1;34m\u001b[0m\n\u001b[1;32m----> 1\u001b[1;33m \u001b[0md\u001b[0m\u001b[1;33m\u001b[0m\u001b[1;33m\u001b[0m\u001b[0m\n\u001b[0m\u001b[0;32m      2\u001b[0m \u001b[1;32mfor\u001b[0m \u001b[0mi\u001b[0m \u001b[1;32min\u001b[0m \u001b[0mrange\u001b[0m\u001b[1;33m(\u001b[0m\u001b[1;36m0\u001b[0m\u001b[1;33m,\u001b[0m \u001b[1;36m10\u001b[0m\u001b[1;33m)\u001b[0m \u001b[1;33m:\u001b[0m\u001b[1;33m\u001b[0m\u001b[1;33m\u001b[0m\u001b[0m\n\u001b[0;32m      3\u001b[0m     \u001b[0mglobals\u001b[0m\u001b[1;33m(\u001b[0m\u001b[1;33m)\u001b[0m\u001b[1;33m[\u001b[0m\u001b[1;34m'kk{}'\u001b[0m\u001b[1;33m.\u001b[0m\u001b[0mformat\u001b[0m\u001b[1;33m(\u001b[0m\u001b[0mi\u001b[0m\u001b[1;33m)\u001b[0m \u001b[1;33m]\u001b[0m\u001b[1;33m=\u001b[0m \u001b[0mi\u001b[0m\u001b[1;33m\u001b[0m\u001b[1;33m\u001b[0m\u001b[0m\n\u001b[0;32m      4\u001b[0m     \u001b[0mprint\u001b[0m\u001b[1;33m(\u001b[0m\u001b[0mglobals\u001b[0m\u001b[1;33m(\u001b[0m\u001b[1;33m)\u001b[0m\u001b[1;33m[\u001b[0m\u001b[1;34m'kk{}'\u001b[0m\u001b[1;33m.\u001b[0m\u001b[0mformat\u001b[0m\u001b[1;33m(\u001b[0m\u001b[0mi\u001b[0m\u001b[1;33m)\u001b[0m\u001b[1;33m]\u001b[0m\u001b[1;33m)\u001b[0m\u001b[1;33m\u001b[0m\u001b[1;33m\u001b[0m\u001b[0m\n\u001b[0;32m      5\u001b[0m \u001b[1;32mfor\u001b[0m  \u001b[0mw\u001b[0m \u001b[1;32min\u001b[0m \u001b[0menumerate\u001b[0m\u001b[1;33m(\u001b[0m\u001b[1;33m[\u001b[0m\u001b[1;36m1\u001b[0m\u001b[1;33m,\u001b[0m \u001b[1;36m2\u001b[0m\u001b[1;33m,\u001b[0m \u001b[1;36m3\u001b[0m\u001b[1;33m]\u001b[0m\u001b[1;33m)\u001b[0m \u001b[1;33m:\u001b[0m\u001b[1;33m\u001b[0m\u001b[1;33m\u001b[0m\u001b[0m\n",
      "\u001b[1;31mNameError\u001b[0m: name 'd' is not defined"
     ]
    }
   ],
   "source": [
    "for i in range(0, 10) :\n",
    "    globals()['kk{}'.format(i) ]= i\n",
    "    print(globals()['kk{}'.format(i)])\n",
    "for  w in enumerate([1, 2, 3]) :\n",
    "    print(w)\n",
    "counter = [0, 1, 2]*10\n",
    "for u in range(0, 40) :\n",
    "    try :\n",
    "        print(counter[u], u)\n",
    "    except :\n",
    "        print(\"ERROR\")\n",
    "        break\n"
   ]
  },
  {
   "cell_type": "code",
   "execution_count": 72,
   "metadata": {},
   "outputs": [
    {
     "name": "stdout",
     "output_type": "stream",
     "text": [
      "후보 수 : 3\n",
      "NAME 1: John Doe\n",
      "NAME 2: Jane Smith\n",
      "NAME 3: Jane Austen\n",
      "INPUT 1 : 1 2 3\n",
      "INPUT 2 : 2 1 3\n",
      "INPUT 3 : 2 3 1\n",
      "INPUT 4 : 1 2 3\n",
      "INPUT 5 : 3 1 2\n",
      "INPUT 6 : \n",
      "John Doe\n"
     ]
    }
   ],
   "source": [
    "import re\n",
    "def inp() : # 후보 수, 이름, 선호도를 사용자 입력으로 받음\n",
    "    N = int(input(\"후보 수 : \"))\n",
    "    cand = [input(\"NAME {}: \".format(na+1)) for na in range(N)]\n",
    "    pre_com, PRE_mat, co = re.compile(\"\\d+\"), [], 1\n",
    "    while True :\n",
    "        PRE_mat.append(list(map(int, pre_com.findall(input(\"INPUT {} : \".format(co))))))\n",
    "        co += 1\n",
    "        if (PRE_mat[-1]) == [] : break\n",
    "    return N, cand, PRE_mat[:-1]\n",
    "\n",
    "def First_c(np, ns, prem) :\n",
    "    counter = [0]*np\n",
    "    for itera in prem :\n",
    "        counter[itera.index(min(itera))] += 1\n",
    "    return counter\n",
    "\n",
    "def filt(nu_before, ca_before, mat_before, counter_before) : # 최소 카운트 키록한 후보 제외한 테이블 반환\n",
    "    num_min, collection_min = counter_before.count(min(counter_before)), set([]) # 최소 카운트 기록한 후보의 수, 후보의 인덱스\n",
    "    for w in range(0, len(counter_before)) : # 삭제 후보의 인덱스를 집합 collection_min에 추가\n",
    "        if counter_before[w] == min(counter_before) : collection_min.add(w)\n",
    "    for r in range(0, len(mat_before)) :\n",
    "        if mat_before[r].index(min(mat_before[r])) != counter_before.index(max(counter_before)) : # 최대 득표자 선택이 아닌 경우\n",
    "            while mat_before[r].index(min(mat_before[r])) in collection_min : # 해당 행의 최소값을 얻은 후보가 삭제 대상이 아닐 떄 까지, 해당 행의 값을 계속 갱신\n",
    "                mat_before[r] = list(map(lambda x : x-1, (mat_before[r])))\n",
    "                mat_before[r][mat_before[r].index(min(mat_before[r]))] += nu_before\n",
    "    for t in range(0, len(counter_before)) : # nu_before, ca_before 갱신\n",
    "        if counter_before[t] == min(counter_before) :\n",
    "            ca_before[t] = '#'\n",
    "            nu_before -= 1\n",
    "    return nu_before, ca_before, mat_before\n",
    "\n",
    "\n",
    "def m_proced() :\n",
    "    n, CAND, pre_MAT = inp() # 사용자 입력\n",
    "    while True :\n",
    "        loc_res = First_c(n, CAND, pre_MAT) # local result의 최대값이 오직 하나 존재하고 과반수일 떄 : break, 결과 return\n",
    "        if loc_res.count(max(loc_res)) == 1 and max(loc_res) >= (len(pre_MAT)/2) :\n",
    "            return CAND[loc_res.index(max(loc_res))]\n",
    "        else : # 종료 조건 만족하지 않을 떄 :\n",
    "            n, CAND, pre_MAT = filt(n, CAND, pre_MAT, loc_res)\n",
    "\n",
    "print(m_proced())"
   ]
  },
  {
   "cell_type": "code",
   "execution_count": 67,
   "metadata": {},
   "outputs": [
    {
     "name": "stdout",
     "output_type": "stream",
     "text": [
      "2 3\n"
     ]
    }
   ],
   "source": [
    "def su(a, b):\n",
    "    return a+1, b+1\n",
    "\n",
    "n, m = 1, 2\n",
    "n, m = su(n, m)d\n",
    "print(n, m)"
   ]
  },
  {
   "cell_type": "code",
   "execution_count": null,
   "metadata": {},
   "outputs": [],
   "source": []
  }
 ],
 "metadata": {
  "kernelspec": {
   "display_name": "Python 3",
   "language": "python",
   "name": "python3"
  },
  "language_info": {
   "codemirror_mode": {
    "name": "ipython",
    "version": 3
   },
   "file_extension": ".py",
   "mimetype": "text/x-python",
   "name": "python",
   "nbconvert_exporter": "python",
   "pygments_lexer": "ipython3",
   "version": "3.7.3"
  }
 },
 "nbformat": 4,
 "nbformat_minor": 2
}
