{
 "cells": [
  {
   "cell_type": "code",
   "execution_count": 8,
   "metadata": {},
   "outputs": [
    {
     "name": "stdout",
     "output_type": "stream",
     "text": [
      "================================================== 2019.08.02 ==================================================\n",
      "INPUT : 사하\n",
      "MONTH : 09\n",
      "[]\n",
      "\n",
      "\n",
      "\n",
      "[]\n"
     ]
    }
   ],
   "source": [
    "print(\"=\"*50, \"2019.08.02\", \"=\"*50)\n",
    "\n",
    "import csv\n",
    "from matplotlib import pyplot as plt\n",
    "\n",
    "file_data_1 = open(\"D:POP_METR_2018.csv\", 'r')\n",
    "read_data_1 = csv.reader(file_data_1, delimiter = ',')\n",
    "header = next(read_data_1)\n",
    "\n",
    "ip_data = input(\"INPUT : \")\n",
    "mon_data = input(\"MONTH : \")\n",
    "\n",
    "up_data = []\n",
    "up_x = []\n",
    "down_data = []\n",
    "down_x = []\n",
    "line_data = []\n",
    "\n",
    "## map(function, object) : 함수 일괄 적용\n",
    "\n",
    "for line_data in read_data_1 :\n",
    "    if ip_data in line_data[2] and line_data[0][4:6] == mon_data :\n",
    "        if \"승차\" in line_data[3] :\n",
    "            up_data.append(line_data)\n",
    "            up_x.append(line_data[0][6:8])\n",
    "        if \"하차\" in line_data[3] :\n",
    "            down_data.append(line_data)\n",
    "\n",
    "print(up_data)\n",
    "\n",
    "print(\"\\n\\n\")\n",
    "print(up_x)\n",
    "file_data_1.close()"
   ]
  },
  {
   "cell_type": "code",
   "execution_count": null,
   "metadata": {},
   "outputs": [],
   "source": []
  }
 ],
 "metadata": {
  "kernelspec": {
   "display_name": "Python 3",
   "language": "python",
   "name": "python3"
  },
  "language_info": {
   "codemirror_mode": {
    "name": "ipython",
    "version": 3
   },
   "file_extension": ".py",
   "mimetype": "text/x-python",
   "name": "python",
   "nbconvert_exporter": "python",
   "pygments_lexer": "ipython3",
   "version": "3.7.3"
  }
 },
 "nbformat": 4,
 "nbformat_minor": 2
}
