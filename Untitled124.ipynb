{
 "cells": [
  {
   "cell_type": "code",
   "execution_count": null,
   "metadata": {},
   "outputs": [],
   "source": [
    "## gcd를 dynamic programming으로 구현가능한가?\n",
    "sum_list = [0 for i in range(200)]\n",
    "\n",
    "def sum_gcd(numb, s_num) : ## numb이하의 (해당 수를 제외한)cd들의 합을 list형 데이터로 return\n",
    "    if numb == 1 :\n",
    "        return numb + s_num\n",
    "    else :\n",
    "        \n",
    "\n",
    "sum_gcd(200)\n",
    "def C_N() :\n",
    "    return 0\n",
    "\n",
    "'''\n",
    "1. sub문제로 나눌 수 있다.\n",
    "2. sub문제의 중복이 출현한다.\n",
    "3. sub문제의 답이 일의적으로 정해진다.\n",
    "4. 각 sub문제의 최적해로 전체 문제의 최적해를 구할 수 있다.\n",
    "-> dynamic programming\n",
    "\n",
    " sub문제의 정답이 중복될 수 있으므로 index와 sum을 list형으로 구성하지 말고\n",
    " dictionary형 자료의 key를 대상 인자, value를 집합형으로 구현할 것.\n",
    "\n",
    "-> 각 노드가 상태량을 나타내는 것이 아니므로, 애초에 트리형으로 문제 해결 불가능.\n",
    "\n",
    "'''"
   ]
  },
  {
   "cell_type": "code",
   "execution_count": 1,
   "metadata": {},
   "outputs": [
    {
     "name": "stdout",
     "output_type": "stream",
     "text": [
      "[4, 2, 3, 4]\n"
     ]
    }
   ],
   "source": [
    "\n",
    "def s_sum(n) :\n",
    "    lis = ['#' for j in range(n)]\n",
    "    for i in range(1, n+1) :\n",
    "        "
   ]
  },
  {
   "cell_type": "code",
   "execution_count": null,
   "metadata": {},
   "outputs": [],
   "source": []
  }
 ],
 "metadata": {
  "kernelspec": {
   "display_name": "Python 3",
   "language": "python",
   "name": "python3"
  },
  "language_info": {
   "codemirror_mode": {
    "name": "ipython",
    "version": 3
   },
   "file_extension": ".py",
   "mimetype": "text/x-python",
   "name": "python",
   "nbconvert_exporter": "python",
   "pygments_lexer": "ipython3",
   "version": "3.7.3"
  }
 },
 "nbformat": 4,
 "nbformat_minor": 2
}
