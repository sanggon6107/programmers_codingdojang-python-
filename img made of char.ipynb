{
 "cells": [
  {
   "cell_type": "code",
   "execution_count": 15,
   "metadata": {},
   "outputs": [
    {
     "name": "stdout",
     "output_type": "stream",
     "text": [
      "                                                                                          \n",
      "                                                                                          \n",
      "                                                                                          \n",
      "                                                                                          \n",
      "                    *^2TOV)KI*_5QV^TTbGF                        0G                        \n",
      "                  *;E2^0  RD9)50V*LV8f        HL                  Y#                      \n",
      "            BwHO  VYj402    %^P8tf0Vw;                HF      U)C%j0N(Ln    QP            \n",
      "  ^ZV4LfHOB)@V3*Z#  3HP&LUK(  3E0$3n          t3D3Gd  J^L(J($LLwU^PIe@2B%47%NKHP0O70YL    \n",
      "  @BjP*dKTG(&G2(6nT$)Y  4@^0  )y88          K@iu%%JO:o09TT$*FCO6@V&N8E*ZY0fI+^56$YB0;8    \n",
      "    +D    QI@Qa;6^^6;e  )e25                  n904B92Q85*O%)7%a&*E;i(TJKHyIY    Y_        \n",
      "            9^_^0#37UoBy6*2:1*            eYCT%t%P%)&9T8V*j5CuO1DnQ^ToM4d_Zf              \n",
      "            575#&^8KGwHD^U              8(R)MKtH)^  8FU:aO&e57DP2H)NJ*Lfi7                \n",
      "            fU32T4fGH+H&                LF6e      );164$0yOIHZU%e*4^Y4Ld                  \n",
      "              B7^8UF  $L                D%H8f$9IY58%2(8GK057duV32tFO46HU                  \n",
      "                  ON                  ybb+)HOOU;H%309wwI  )L4ot2:-&$DT                    \n",
      "                    yo(^              8%3uj)**4yOyed^D      u7    (*                      \n",
      "                        3*12V2          adIL5dBbP%()9P            *I  )P                  \n",
      "                      Bj8F66&_F5)T          fe(jtNO(                08F3  idO_            \n",
      "                        LF05fP^4e4            w-34(T                                      \n",
      "                          B)4Va@TL            _V&0  ^^                8HL((8oL            \n",
      "                          CKPo                DiY)                    0L$$IO9f            \n",
      "                        Ra7uL8                                              TH            \n",
      "                        IMP$                                                      oB      \n",
      "                        H(                                                                \n",
      "                                                                                          \n",
      "                                                                                          \n",
      "                                                                                          \n",
      "                                                                                          \n"
     ]
    }
   ],
   "source": [
    "from PIL import Image\n",
    "import random\n",
    "\n",
    "\n",
    "def sol() :\n",
    "    char_map = \"af;oweuf902y4t0882t4i50()^D-+&HIFUH7635DQRFTGYHUIOP)(*%$%^&45678900987123(*)VCB*TV^*OH@)_$UPOJTL:NKLVNZ:ME@#$%^&*(KLHBGYnjbd\"\n",
    "    char_map_len = len(char_map)\n",
    "    img = Image.open(\"imagedd.png\")\n",
    "    im = img.load()\n",
    "    (width, height) = img.size\n",
    "    \n",
    "    \n",
    "    for h in range(0, height) :\n",
    "        col = \"\"\n",
    "        for w in range(0, width) :\n",
    "            if im[w, h][0] < 220 or im[w, h][1] < 220 or im[w, h][2] < 220 :\n",
    "                col += char_map[random.randint(0, char_map_len-1)]+char_map[random.randint(0, char_map_len-1)]\n",
    "            else :\n",
    "                col += \"  \"\n",
    "        print(col)\n",
    "\n",
    "    return 0\n",
    "\n",
    "if __name__ == \"__main__\" :\n",
    "    sol()"
   ]
  },
  {
   "cell_type": "code",
   "execution_count": 20,
   "metadata": {},
   "outputs": [
    {
     "name": "stdout",
     "output_type": "stream",
     "text": [
      "123\n",
      "123\n",
      "150\n"
     ]
    }
   ],
   "source": [
    "print(\"123\\n123\")\n",
    "print(len(\"*Y0G)8H6*7R7)6Y5bnG^5&@-Ha^3Etj04VV7VfGf384b%f^Ub@C00%0:0O6UHILZf^)t)I9%86%K(R6DK0Ua4BVYEF^*HD&HYG7Ot5a*I^3LL9BT8$%(36(Y5dTH6*Dy$-YBy+_H@L*:74PfLK%jtI\"))"
   ]
  },
  {
   "cell_type": "code",
   "execution_count": 27,
   "metadata": {
    "scrolled": true
   },
   "outputs": [
    {
     "name": "stdout",
     "output_type": "stream",
     "text": [
      "92\n"
     ]
    }
   ],
   "source": []
  },
  {
   "cell_type": "code",
   "execution_count": 31,
   "metadata": {},
   "outputs": [],
   "source": [
    "from PIL import Image\n",
    "\n",
    "img = Image.open(\"exp3.png\")\n",
    "img.resize((500, 500))\n",
    "img.save(\"exp3_1.png\")"
   ]
  }
 ],
 "metadata": {
  "kernelspec": {
   "display_name": "Python 3",
   "language": "python",
   "name": "python3"
  },
  "language_info": {
   "codemirror_mode": {
    "name": "ipython",
    "version": 3
   },
   "file_extension": ".py",
   "mimetype": "text/x-python",
   "name": "python",
   "nbconvert_exporter": "python",
   "pygments_lexer": "ipython3",
   "version": "3.7.4"
  }
 },
 "nbformat": 4,
 "nbformat_minor": 2
}
