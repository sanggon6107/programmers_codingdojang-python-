{
 "cells": [
  {
   "cell_type": "code",
   "execution_count": 2,
   "metadata": {},
   "outputs": [
    {
     "ename": "SyntaxError",
     "evalue": "Missing parentheses in call to 'print'. Did you mean print(stack)? (<ipython-input-2-43bcdf7885fd>, line 8)",
     "output_type": "error",
     "traceback": [
      "\u001b[1;36m  File \u001b[1;32m\"<ipython-input-2-43bcdf7885fd>\"\u001b[1;36m, line \u001b[1;32m8\u001b[0m\n\u001b[1;33m    print stack\u001b[0m\n\u001b[1;37m              ^\u001b[0m\n\u001b[1;31mSyntaxError\u001b[0m\u001b[1;31m:\u001b[0m Missing parentheses in call to 'print'. Did you mean print(stack)?\n"
     ]
    }
   ],
   "source": [
    "from copy import deepcopy\n",
    "\n",
    "def solution(n, computers):\n",
    "    stack = [[i] for i in range(n)]\n",
    "    answer = []\n",
    "    ## 각 노트 데이터 설정 : [2 : {1, 2, 3}] <- 현재 노드, visit.\n",
    "    ## stack에 교집합 있을 시 합집합 반환.\n",
    "    \n",
    "    ## 제안2. 리스트로 구성.(2중 리스트) 리스트의 각 요소가 visited 의미하므로\n",
    "    ##        새로운 노드로 진행 가능할 시에만 append로 추가.\n",
    "    ##        DFS의 경우 queue를 사용하지 않으므로 pop()과 append를 사용할 수 있다.\n",
    "    ##        둘 다 타임 컴플렉시티 O(1).\n",
    "    while len(stack)!= 0 :\n",
    "        popData = stack.pop()\n",
    "        next_exist = False\n",
    "        for next_node in range(n) :\n",
    "            copyData = deepcopy(popData)\n",
    "            if computers[next_node][copyData]\n",
    "        print(stack)\n",
    "        break\n",
    "    \n",
    "    return answer\n",
    "\n",
    "if __name__ == '__main__' :\n",
    "    print(solution(3, [[1, 1, 0], [1, 1, 0], [0, 0, 1]]))\n",
    "    # return : 2"
   ]
  },
  {
   "cell_type": "code",
   "execution_count": 3,
   "metadata": {},
   "outputs": [
    {
     "data": {
      "text/plain": [
       "[0, 1, 2]"
      ]
     },
     "execution_count": 3,
     "metadata": {},
     "output_type": "execute_result"
    }
   ],
   "source": []
  },
  {
   "cell_type": "code",
   "execution_count": null,
   "metadata": {},
   "outputs": [],
   "source": []
  }
 ],
 "metadata": {
  "kernelspec": {
   "display_name": "Python 3",
   "language": "python",
   "name": "python3"
  },
  "language_info": {
   "codemirror_mode": {
    "name": "ipython",
    "version": 3
   },
   "file_extension": ".py",
   "mimetype": "text/x-python",
   "name": "python",
   "nbconvert_exporter": "python",
   "pygments_lexer": "ipython3",
   "version": "3.7.4"
  }
 },
 "nbformat": 4,
 "nbformat_minor": 2
}
