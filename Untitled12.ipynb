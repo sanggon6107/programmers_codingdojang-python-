{
 "cells": [
  {
   "cell_type": "code",
   "execution_count": null,
   "metadata": {},
   "outputs": [],
   "source": [
    "print(\"=\"*50, \"2019.09.04\", \"=\"*50)\n",
    "\n",
    "print(\"openCV 4 - 2\")\n",
    "\n",
    "import cv2\n",
    "import numpy as np\n",
    "\n",
    "img = cv2.imread(\"D:test_image.jpeg\")\n",
    "\n",
    "if img is None :\n",
    "    print(\"failed to load an image file.\")\n",
    "    \n",
    "I_SHOW = cv2.imshow('image', img)\n",
    "\n",
    "print(I_SHOW)\n",
    "\n",
    "cv2.waitK"
   ]
  }
 ],
 "metadata": {
  "kernelspec": {
   "display_name": "Python 3",
   "language": "python",
   "name": "python3"
  },
  "language_info": {
   "codemirror_mode": {
    "name": "ipython",
    "version": 3
   },
   "file_extension": ".py",
   "mimetype": "text/x-python",
   "name": "python",
   "nbconvert_exporter": "python",
   "pygments_lexer": "ipython3",
   "version": "3.7.3"
  }
 },
 "nbformat": 4,
 "nbformat_minor": 2
}
