{
 "cells": [
  {
   "cell_type": "code",
   "execution_count": 28,
   "metadata": {},
   "outputs": [
    {
     "name": "stdout",
     "output_type": "stream",
     "text": [
      "INPUT1 : s\n",
      "INPUT2 : s\n",
      "1\n"
     ]
    },
    {
     "data": {
      "text/plain": [
       "'s'"
      ]
     },
     "execution_count": 28,
     "metadata": {},
     "output_type": "execute_result"
    }
   ],
   "source": [
    "def comm_char():\n",
    "    INP1 = input(\"INPUT1 : \")\n",
    "    INP2 = input(\"INPUT2 : \")\n",
    "    res = ''\n",
    "    for pos in range(0, len(INP1)) :\n",
    "        if INP1[pos] in INP2 :\n",
    "#            if len(INP1[pos]) > len(res) : res = INP1[pos]\n",
    "            for unt in range(0, len(INP1)-pos) : \n",
    "                if INP1[pos:pos+unt+1] in INP2 and len(INP1[pos:pos+unt+1]) > len(res) : \n",
    "                    res = INP1[pos:pos+unt+1]\n",
    "    print(len(res))\n",
    "    return res\n",
    "\n",
    "comm_char()"
   ]
  },
  {
   "cell_type": "code",
   "execution_count": 32,
   "metadata": {},
   "outputs": [
    {
     "name": "stdout",
     "output_type": "stream",
     "text": [
      "INPUT1 : abcd\n",
      "INPUT2 : efgh\n",
      "0\n",
      "\n"
     ]
    }
   ],
   "source": [
    "def comm_str():\n",
    "    INP1 = input(\"INPUT1 : \")\n",
    "    INP2 = input(\"INPUT2 : \")\n",
    "    res = ''\n",
    "    for pos in range(0, len(INP1)) :\n",
    "        if INP1[pos] in INP2 :\n",
    "            for unt in range(0, len(INP1)-pos) : \n",
    "                if INP1[pos:pos+unt+1] in INP2 and len(INP1[pos:pos+unt+1]) > len(res) : \n",
    "                    res = INP1[pos:pos+unt+1]\n",
    "    print(len(res))\n",
    "    print(res)\n",
    "\n",
    "comm_str()"
   ]
  },
  {
   "cell_type": "code",
   "execution_count": 6,
   "metadata": {},
   "outputs": [
    {
     "name": "stdout",
     "output_type": "stream",
     "text": [
      "INPUT1 : abcd\n",
      "INPUT2 : behd\n",
      "1\n",
      "b\n"
     ]
    }
   ],
   "source": [
    "def comm_str():\n",
    "    INP1 = input(\"INPUT1 : \")\n",
    "    INP2 = input(\"INPUT2 : \")\n",
    "    res = ''\n",
    "    for pos in range(0, len(INP1)) :\n",
    "        if INP1[pos] in INP2 : # 첫 번째 입력의 각 문자를 돌아가며, '그 문자로 시작하는 부분 문자열'이 두 번째 입력에 존재하는지 확인\n",
    "            for unt in range(len(res), len(INP1)-pos) :  # 현재까지의 최대공통부분문자열(res)보다 문자열이 더 길 경우의 가능성만 확인. 예를 들어, res가 6인 경우, 다음 반복에서도 길이가 6 이상인 부분문자열에 대하여만 비교한다.\n",
    "                if INP1[pos:pos+unt+1] in INP2 and len(INP1[pos:pos+unt+1]) > len(res) :  # 현재까지의 최대공통부분문자열보다 긴 부분문자열이 발견된 경우 :\n",
    "                    res = INP1[pos:pos+unt+1] # res(결과)를 갱신한다\n",
    "    print(len(res))\n",
    "    print(res)\n",
    "\n",
    "comm_str()"
   ]
  },
  {
   "cell_type": "code",
   "execution_count": 5,
   "metadata": {},
   "outputs": [
    {
     "name": "stdout",
     "output_type": "stream",
     "text": [
      "[[0, 0, 0, 0, 0], [0, 0, 0, 0, 0], [0, 0, 0, 0, 0], [0, 0, 0, 0, 0], [0, 0, 0, 0, 0]]\n",
      "[[0, 0, 0, 0, 0], [0, 0, 0, 0, 0], [0, 0, 0, 0, 0], [0, 0, 0, 0, 0], [0, 0, 0, 0, 0]]\n",
      "[[0, 0, 0, 0, 0], [0, 0, 0, 0, 0], [0, 0, 0, 0, 0], [0, 0, 0, 0, 0], [0, 0, 0, 0, 0]]\n",
      "[[0, 0, 0, 0, 0], [0, 0, 0, 0, 0], [0, 0, 0, 0, 0], [0, 0, 0, 0, 0], [0, 0, 0, 0, 0]]\n",
      "[[0, 0, 0, 0, 0], [0, 0, 0, 0, 0], [0, 0, 0, 0, 0], [0, 0, 0, 0, 0], [0, 0, 0, 0, 0]]\n",
      "[[0, 0, 0, 0, 0], [0, 0, 0, 0, 0], [0, 1, 0, 0, 0], [0, 0, 0, 0, 0], [0, 0, 0, 0, 0]]\n",
      "[[0, 0, 0, 0, 0], [0, 0, 0, 0, 0], [0, 1, 1, 0, 0], [0, 0, 0, 0, 0], [0, 0, 0, 0, 0]]\n",
      "[[0, 0, 0, 0, 0], [0, 0, 0, 0, 0], [0, 1, 1, 1, 0], [0, 0, 0, 0, 0], [0, 0, 0, 0, 0]]\n",
      "[[0, 0, 0, 0, 0], [0, 0, 0, 0, 0], [0, 1, 1, 1, 1], [0, 0, 0, 0, 0], [0, 0, 0, 0, 0]]\n",
      "[[0, 0, 0, 0, 0], [0, 0, 0, 0, 0], [0, 1, 1, 1, 1], [0, 1, 0, 0, 0], [0, 0, 0, 0, 0]]\n",
      "[[0, 0, 0, 0, 0], [0, 0, 0, 0, 0], [0, 1, 1, 1, 1], [0, 1, 1, 0, 0], [0, 0, 0, 0, 0]]\n",
      "[[0, 0, 0, 0, 0], [0, 0, 0, 0, 0], [0, 1, 1, 1, 1], [0, 1, 1, 1, 0], [0, 0, 0, 0, 0]]\n",
      "[[0, 0, 0, 0, 0], [0, 0, 0, 0, 0], [0, 1, 1, 1, 1], [0, 1, 1, 1, 1], [0, 0, 0, 0, 0]]\n",
      "[[0, 0, 0, 0, 0], [0, 0, 0, 0, 0], [0, 1, 1, 1, 1], [0, 1, 1, 1, 1], [0, 1, 0, 0, 0]]\n",
      "[[0, 0, 0, 0, 0], [0, 0, 0, 0, 0], [0, 1, 1, 1, 1], [0, 1, 1, 1, 1], [0, 1, 1, 0, 0]]\n",
      "[[0, 0, 0, 0, 0], [0, 0, 0, 0, 0], [0, 1, 1, 1, 1], [0, 1, 1, 1, 1], [0, 1, 1, 1, 0]]\n",
      "[[0, 0, 0, 0, 0], [0, 0, 0, 0, 0], [0, 1, 1, 1, 1], [0, 1, 1, 1, 1], [0, 1, 1, 1, 2]]\n"
     ]
    },
    {
     "data": {
      "text/plain": [
       "2"
      ]
     },
     "execution_count": 5,
     "metadata": {},
     "output_type": "execute_result"
    }
   ],
   "source": [
    "def LCS(S,T):\n",
    "  #初期化\n",
    "    dp=[[0 for i in range(len(T)+1)] for j in range(len(S)+1)]\n",
    "\n",
    "  #DP(bottom_up)\n",
    "    for i in range(len(S)):\n",
    "        for j in range(len(T)):\n",
    "            print(dp)\n",
    "            dp[i+1][j+1]=max(dp[i][j+1],dp[i+1][j])\n",
    "            if S[i]==T[j]:\n",
    "                dp[i+1][j+1]=max(dp[i+1][j+1],dp[i][j]+1)\n",
    "    print(dp)\n",
    "    return dp[len(S)][len(T)]\n",
    "\n",
    "LCS('abcd', 'behd')"
   ]
  },
  {
   "cell_type": "code",
   "execution_count": null,
   "metadata": {},
   "outputs": [],
   "source": []
  }
 ],
 "metadata": {
  "kernelspec": {
   "display_name": "Python 3",
   "language": "python",
   "name": "python3"
  },
  "language_info": {
   "codemirror_mode": {
    "name": "ipython",
    "version": 3
   },
   "file_extension": ".py",
   "mimetype": "text/x-python",
   "name": "python",
   "nbconvert_exporter": "python",
   "pygments_lexer": "ipython3",
   "version": "3.7.4"
  }
 },
 "nbformat": 4,
 "nbformat_minor": 2
}
