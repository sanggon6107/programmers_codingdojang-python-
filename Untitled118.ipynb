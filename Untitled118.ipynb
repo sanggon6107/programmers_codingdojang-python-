{
 "cells": [
  {
   "cell_type": "code",
   "execution_count": 9,
   "metadata": {},
   "outputs": [
    {
     "name": "stdout",
     "output_type": "stream",
     "text": [
      "Initial point : 5 5\n",
      "Color : 2\n",
      "[[['0', '0', '0', '0', '0', '0', '0', '0', '0', '0'], ['0', '0', '0', '0', '0', '0', '1', '0', '0', '0'], ['0', '0', '0', '0', '1', '1', '0', '1', '0', '0'], ['0', '0', '1', '1', '0', '0', '0', '0', '1', '0'], ['0', '1', '0', '0', '0', '0', '0', '0', '1', '0'], ['0', '1', '0', '0', '0', '0', '0', '0', '1', '0'], ['0', '1', '0', '0', '0', '0', '0', '1', '0', '0'], ['0', '0', '1', '0', '0', '0', '1', '0', '0', '0'], ['0', '0', '0', '1', '0', '0', '1', '0', '0', '0'], ['0', '0', '0', '0', '1', '1', '0', '0', '0', '0']], ['5', '5', 0]]\n"
     ]
    }
   ],
   "source": [
    "from copy import deepcopy\n",
    "\n",
    "## visited point 방향 확인 불가한 경우이므로, queue에 중복된 경우 있는경우 append하지 않는다.\n",
    "## 증복(x, y까지 모두 일치해야 중복으로 간주해야 함.) 제외한 모든 경우의 수 queue에 append한다.\n",
    "## queue에 append할 조건 설정할 떄, 이동 자체가 불가능한 경우에 대해, else로 구현하되 else의 횟수를 세고 그 수가 queue의 len과 같다면 while 정지\n",
    "## 결과 queue에 대해, path의 maximum 성분을 출력하도록 한다.(path의 길이 )\n",
    "\n",
    "def painter(map_, x_i, y_i, color) :\n",
    "    queue = [[list(i) for i in map_.split()]]+[[x_i, y_i, 0]] # x, y, the length of the path\n",
    "    \n",
    "    while True :\n",
    "        for cond in [] :\n",
    "            if\n",
    "            else\n",
    "    \n",
    "    return queue\n",
    "\n",
    "sample = '''0000000000\n",
    "0000001000\n",
    "0000110100\n",
    "0011000010\n",
    "0100000010\n",
    "0100000010\n",
    "0100000100\n",
    "0010001000\n",
    "0001001000\n",
    "0000110000\n",
    "'''\n",
    "\n",
    "x, y = input(\"Initial point : \").split()\n",
    "c = input(\"Color : \")\n",
    "\n",
    "print(painter(sample, x, y, c))"
   ]
  },
  {
   "cell_type": "code",
   "execution_count": 10,
   "metadata": {},
   "outputs": [
    {
     "ename": "NameError",
     "evalue": "name 'w' is not defined",
     "output_type": "error",
     "traceback": [
      "\u001b[1;31m---------------------------------------------------------------------------\u001b[0m",
      "\u001b[1;31mNameError\u001b[0m                                 Traceback (most recent call last)",
      "\u001b[1;32m<ipython-input-10-07ece94d0e0d>\u001b[0m in \u001b[0;36m<module>\u001b[1;34m\u001b[0m\n\u001b[0;32m     33\u001b[0m 0000110000\"\"\"\n\u001b[0;32m     34\u001b[0m \u001b[0mx\u001b[0m\u001b[1;33m,\u001b[0m \u001b[0my\u001b[0m\u001b[1;33m,\u001b[0m \u001b[0mc\u001b[0m \u001b[1;33m=\u001b[0m \u001b[1;36m5\u001b[0m\u001b[1;33m,\u001b[0m \u001b[1;36m5\u001b[0m\u001b[1;33m,\u001b[0m \u001b[1;36m3\u001b[0m\u001b[1;33m\u001b[0m\u001b[1;33m\u001b[0m\u001b[0m\n\u001b[1;32m---> 35\u001b[1;33m \u001b[0mdo\u001b[0m\u001b[1;33m(\u001b[0m\u001b[0msample\u001b[0m\u001b[1;33m,\u001b[0m \u001b[0mx\u001b[0m\u001b[1;33m-\u001b[0m\u001b[1;36m1\u001b[0m\u001b[1;33m,\u001b[0m \u001b[0my\u001b[0m\u001b[1;33m-\u001b[0m\u001b[1;36m1\u001b[0m\u001b[1;33m,\u001b[0m \u001b[0mc\u001b[0m\u001b[1;33m)\u001b[0m\u001b[1;33m\u001b[0m\u001b[1;33m\u001b[0m\u001b[0m\n\u001b[0m",
      "\u001b[1;32m<ipython-input-10-07ece94d0e0d>\u001b[0m in \u001b[0;36mdo\u001b[1;34m(s, x, y, c)\u001b[0m\n\u001b[0;32m      8\u001b[0m     \u001b[0mdata\u001b[0m \u001b[1;33m=\u001b[0m \u001b[0mlist\u001b[0m\u001b[1;33m(\u001b[0m\u001b[0ms\u001b[0m\u001b[1;33m.\u001b[0m\u001b[0mreplace\u001b[0m\u001b[1;33m(\u001b[0m\u001b[1;34m'\\n'\u001b[0m\u001b[1;33m,\u001b[0m \u001b[1;34m''\u001b[0m\u001b[1;33m)\u001b[0m\u001b[1;33m)\u001b[0m\u001b[1;33m\u001b[0m\u001b[1;33m\u001b[0m\u001b[0m\n\u001b[0;32m      9\u001b[0m     \u001b[0mc\u001b[0m \u001b[1;33m=\u001b[0m \u001b[0mstr\u001b[0m\u001b[1;33m(\u001b[0m\u001b[0mc\u001b[0m\u001b[1;33m)\u001b[0m\u001b[1;33m\u001b[0m\u001b[1;33m\u001b[0m\u001b[0m\n\u001b[1;32m---> 10\u001b[1;33m     \u001b[1;32mif\u001b[0m \u001b[0mdata\u001b[0m\u001b[1;33m[\u001b[0m\u001b[0mx\u001b[0m \u001b[1;33m+\u001b[0m \u001b[0my\u001b[0m \u001b[1;33m*\u001b[0m \u001b[0mw\u001b[0m\u001b[1;33m]\u001b[0m \u001b[1;33m==\u001b[0m \u001b[1;34m'0'\u001b[0m\u001b[1;33m:\u001b[0m\u001b[1;33m\u001b[0m\u001b[1;33m\u001b[0m\u001b[0m\n\u001b[0m\u001b[0;32m     11\u001b[0m         \u001b[0mtemp\u001b[0m \u001b[1;33m=\u001b[0m \u001b[1;33m[\u001b[0m\u001b[1;33m(\u001b[0m\u001b[0mx\u001b[0m\u001b[1;33m,\u001b[0m \u001b[0my\u001b[0m\u001b[1;33m)\u001b[0m\u001b[1;33m]\u001b[0m\u001b[1;33m\u001b[0m\u001b[1;33m\u001b[0m\u001b[0m\n\u001b[0;32m     12\u001b[0m         \u001b[1;32mwhile\u001b[0m \u001b[0mtemp\u001b[0m\u001b[1;33m:\u001b[0m\u001b[1;33m\u001b[0m\u001b[1;33m\u001b[0m\u001b[0m\n",
      "\u001b[1;31mNameError\u001b[0m: name 'w' is not defined"
     ]
    }
   ],
   "source": [
    "def do(s, x, y, c):\n",
    "    def offsets(p):\n",
    "        x, y = p\n",
    "        result = [(x+a, y+b) for (a, b) in [(-1, 0), (1, 0), (0, -1), (0, 1)]\n",
    "                   if (0 <= (x+a) < w) and (0 <= y + b < h)]\n",
    "        return result\n",
    "\n",
    "    data = list(s.replace('\\n', ''))\n",
    "    c = str(c)\n",
    "    if data[x + y * w] == '0':\n",
    "        temp = [(x, y)]\n",
    "        while temp:\n",
    "            a, b = temp.pop()\n",
    "            if data[a + b * w] == '0':\n",
    "                data[a + b * w] = c\n",
    "                for i, j in offsets((a, b)):\n",
    "                    if data[i + j * w] == '0':\n",
    "                        temp.append((i, j))\n",
    "    result = '\\n'.join(''.join(data[x*w:(x+1)*w]) for x in range(h))\n",
    "    print(result)\n",
    "\n",
    "\n",
    "sample = \"\"\"\\\n",
    "0000000000\n",
    "0000001000\n",
    "0000110100\n",
    "0011000010\n",
    "0100000010\n",
    "0100000010\n",
    "0100000100\n",
    "0010001000\n",
    "0001001000\n",
    "0000110000\"\"\"\n",
    "x, y, c = 5, 5, 3\n",
    "do(sample, x-1, y-1, c)"
   ]
  },
  {
   "cell_type": "code",
   "execution_count": null,
   "metadata": {},
   "outputs": [],
   "source": []
  }
 ],
 "metadata": {
  "kernelspec": {
   "display_name": "Python 3",
   "language": "python",
   "name": "python3"
  },
  "language_info": {
   "codemirror_mode": {
    "name": "ipython",
    "version": 3
   },
   "file_extension": ".py",
   "mimetype": "text/x-python",
   "name": "python",
   "nbconvert_exporter": "python",
   "pygments_lexer": "ipython3",
   "version": "3.7.3"
  }
 },
 "nbformat": 4,
 "nbformat_minor": 2
}
