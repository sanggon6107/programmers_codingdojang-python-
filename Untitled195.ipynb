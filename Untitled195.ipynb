{
 "cells": [
  {
   "cell_type": "code",
   "execution_count": 26,
   "metadata": {},
   "outputs": [
    {
     "name": "stdout",
     "output_type": "stream",
     "text": [
      "answer : 0\n",
      "qb cb\n",
      "False 0\n",
      "answer : 1\n",
      "bc bc\n",
      "True 1\n",
      "answer : 1\n",
      "bc bc\n",
      "True 3\n",
      "answer : 1\n",
      "bc aa\n",
      "False 5\n",
      "answer : 4\n",
      "ca ab\n",
      "False 6\n",
      "answer : 5\n",
      "aa bb\n",
      "False 7\n",
      "answer : 6\n",
      "9\n",
      "answer : 0\n",
      "ab ab\n",
      "True 0\n",
      "answer : 0\n",
      "ab ab\n",
      "True 2\n",
      "answer : 0\n",
      "2\n"
     ]
    }
   ],
   "source": [
    "import re\n",
    "def solution() :\n",
    "    \n",
    "    return 0\n",
    "\n",
    "def sq(string, n) :\n",
    "    answer,step, count = 0, 0, 1\n",
    "    while True :\n",
    "        print(\"answer : %d\" %answer)\n",
    "        a, b = len(string[step:step+n]), len(string[step+n:step+2*n])\n",
    "        if a < n or b < n : \n",
    "            answer += a+b\n",
    "            break\n",
    "        print(string[step:step+n], string[step+n:step+2*n] )\n",
    "        if string[step:step+n] == string[step+n:step+2*n] :\n",
    "            print(True, step)\n",
    "            step += n\n",
    "            count += 1\n",
    "            continue\n",
    "            \n",
    "        elif string[step:step+n] != string[step+n:step+2*n] :\n",
    "            print(False, step)\n",
    "            step += 1\n",
    "\n",
    "            if count != 1 : answer += n+len(str(count))\n",
    "            else : answer += 1\n",
    "            count = 1\n",
    "            continue\n",
    "            \n",
    "    return answer\n",
    "\n",
    "if __name__ == \"__main__\" :\n",
    "    solution()\n",
    "    print(sq('qbcbcbcaabb', 2))\n",
    "    print(sq('ababab', 2))"
   ]
  },
  {
   "cell_type": "code",
   "execution_count": 15,
   "metadata": {},
   "outputs": [
    {
     "data": {
      "text/plain": [
       "''"
      ]
     },
     "execution_count": 15,
     "metadata": {},
     "output_type": "execute_result"
    }
   ],
   "source": [
    "st = '012345'\n",
    "st[10:12]"
   ]
  },
  {
   "cell_type": "code",
   "execution_count": null,
   "metadata": {},
   "outputs": [],
   "source": []
  }
 ],
 "metadata": {
  "kernelspec": {
   "display_name": "Python 3",
   "language": "python",
   "name": "python3"
  },
  "language_info": {
   "codemirror_mode": {
    "name": "ipython",
    "version": 3
   },
   "file_extension": ".py",
   "mimetype": "text/x-python",
   "name": "python",
   "nbconvert_exporter": "python",
   "pygments_lexer": "ipython3",
   "version": "3.7.4"
  }
 },
 "nbformat": 4,
 "nbformat_minor": 2
}
