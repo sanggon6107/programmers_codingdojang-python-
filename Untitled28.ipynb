{
 "cells": [
  {
   "cell_type": "code",
   "execution_count": null,
   "metadata": {},
   "outputs": [],
   "source": [
    "print(\"=\"*50, \"2019.07.29\", \"=\"*50)\n",
    "\n",
    "import csv\n",
    "import re\n",
    "from matplotlib import pyplot as plt\n",
    "\n",
    "f = open(\"D:GLOBAL_FILE.csv\", 'r')\n",
    "\n",
    "read_data = csv.reader(f, delimiter = \",\")\n",
    "line_data = "
   ]
  }
 ],
 "metadata": {
  "kernelspec": {
   "display_name": "Python 3",
   "language": "python",
   "name": "python3"
  },
  "language_info": {
   "codemirror_mode": {
    "name": "ipython",
    "version": 3
   },
   "file_extension": ".py",
   "mimetype": "text/x-python",
   "name": "python",
   "nbconvert_exporter": "python",
   "pygments_lexer": "ipython3",
   "version": "3.7.3"
  }
 },
 "nbformat": 4,
 "nbformat_minor": 2
}
