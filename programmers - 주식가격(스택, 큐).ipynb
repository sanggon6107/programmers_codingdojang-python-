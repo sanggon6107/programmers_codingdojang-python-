{
 "cells": [
  {
   "cell_type": "code",
   "execution_count": 20,
   "metadata": {},
   "outputs": [
    {
     "name": "stdout",
     "output_type": "stream",
     "text": [
      "[0, 3, 2, -4, 4, -2, 4, -7]\n"
     ]
    },
    {
     "data": {
      "text/plain": [
       "['#', '#', '#', '#', '#', '#', '#', '#']"
      ]
     },
     "execution_count": 20,
     "metadata": {},
     "output_type": "execute_result"
    }
   ],
   "source": [
    "def solution(prices):\n",
    "    answer = ['#']*len(prices) ## 떨어지지 않는다고 가정하고 초기화\n",
    "    dev = [0]+[i[1]-i[0] for i in zip(prices, prices[1:])]\n",
    "    print(dev)\n",
    "    for pos in range(0, len(dev)) :\n",
    "        if dev[pos] < 0 :\n",
    "            sum_ = 0\n",
    "            for find in range(pos, -1, -1) :\n",
    "                if (sum_ < 0) and (dev[find] == '#') :\n",
    "                    answer[find] = pos-find\n",
    "                    print(sum_)\n",
    "                else :\n",
    "                    pass\n",
    "                sum_ += dev[find]\n",
    "    return answer\n",
    "\n",
    "solution([1, 4, 6, 2, 6, 4, 8, 1])\n",
    "[0, 1, 2, 3, 4]"
   ]
  },
  {
   "cell_type": "code",
   "execution_count": 4,
   "metadata": {},
   "outputs": [
    {
     "name": "stdout",
     "output_type": "stream",
     "text": [
      "[0, 1, 1, -1, 1]\n"
     ]
    }
   ],
   "source": [
    "a = [1, 2, 3, 2, 3]\n",
    "k = [0]+[i[1]-i[0] for i in zip(a, a[1:])]\n",
    "print(k)"
   ]
  },
  {
   "cell_type": "code",
   "execution_count": 47,
   "metadata": {},
   "outputs": [
    {
     "data": {
      "text/plain": [
       "[7, 2, 1, 4, 1, 2, 1, 0]"
      ]
     },
     "execution_count": 47,
     "metadata": {},
     "output_type": "execute_result"
    }
   ],
   "source": [
    "\n",
    "def solution(prices):\n",
    "    answer = list(range(0, len(prices)))[::-1]\n",
    "    for pos in range(0, len(prices)) :\n",
    "        for find in range(pos, len(prices)) :\n",
    "            if prices[pos]>prices[find] :\n",
    "                answer[pos] = find - pos\n",
    "                break\n",
    "    return answer\n",
    "\n",
    "solution([1, 4, 6, 2, 6, 4, 8, 1])"
   ]
  },
  {
   "cell_type": "code",
   "execution_count": null,
   "metadata": {},
   "outputs": [],
   "source": []
  }
 ],
 "metadata": {
  "kernelspec": {
   "display_name": "Python 3",
   "language": "python",
   "name": "python3"
  },
  "language_info": {
   "codemirror_mode": {
    "name": "ipython",
    "version": 3
   },
   "file_extension": ".py",
   "mimetype": "text/x-python",
   "name": "python",
   "nbconvert_exporter": "python",
   "pygments_lexer": "ipython3",
   "version": "3.7.3"
  }
 },
 "nbformat": 4,
 "nbformat_minor": 2
}
