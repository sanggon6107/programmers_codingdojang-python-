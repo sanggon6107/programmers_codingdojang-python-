{
 "cells": [
  {
   "cell_type": "code",
   "execution_count": 45,
   "metadata": {
    "scrolled": false
   },
   "outputs": [
    {
     "name": "stdout",
     "output_type": "stream",
     "text": [
      "================================================== 2019.07.09 ==================================================\n",
      "[Errno 2] No such file or directory: 'D:Error.csv'\n",
      "FAST\n",
      "천사\n",
      "허용되지 않는 별명입니다.\n",
      "\n",
      "END\n",
      "\n"
     ]
    },
    {
     "data": {
      "text/plain": [
       "31"
      ]
     },
     "execution_count": 45,
     "metadata": {},
     "output_type": "execute_result"
    }
   ],
   "source": [
    "print(\"=\"*50, \"2019.07.09\", \"=\"*50)\n",
    "\n",
    "import numpy as np\n",
    "import pandas as pd\n",
    "import sys\n",
    "\n",
    "#try, except\n",
    "\n",
    "try :\n",
    "\n",
    "    f = open(\"D:Error.csv\", 'r')\n",
    "\n",
    "    while True :\n",
    "        read.DATA = f.readline()\n",
    "        if not read.DATA :\n",
    "            break;\n",
    "        print(read.DATA)\n",
    "        \n",
    "except FileNotFoundError as e :\n",
    "    print(e)\n",
    "    \n",
    "except IndexError :\n",
    "    pass\n",
    "    \n",
    "except SyntaxError :\n",
    "    print(\"Invalid syntax.\")\n",
    "\n",
    "    \n",
    "    \n",
    "# finally\n",
    "\n",
    "try :\n",
    "    file = open(\"D:file.csv\", 'w')\n",
    "    write_DATA = \"write_DATA\"\n",
    "    \n",
    "    file.write(write_DATA)\n",
    "\n",
    "except SyntaxError :\n",
    "    print(\"Invalid syntax.\")\n",
    "    \n",
    "finally :\n",
    "    file.close()\n",
    "\n",
    "# raise\n",
    "\n",
    "class Bird :\n",
    "    def fly(self) :\n",
    "        raise NotImplementedError\n",
    "        \n",
    "class Eagle(Bird) :\n",
    "    def fly(self) :\n",
    "        print(\"FAST\")\n",
    "\n",
    "        \n",
    "kkk = Eagle()\n",
    "kkk.fly()\n",
    "\n",
    "#예외 만들기\n",
    "\n",
    "class MyError(Exception) :\n",
    "    pass\n",
    "\n",
    "def say_nick(nick) :\n",
    "    if nick == \"바보\" :\n",
    "        raise  MyError()\n",
    "    print(nick)\n",
    "    \n",
    "    \n",
    "try :\n",
    "    say_nick(\"천사\")\n",
    "    say_nick(\"바보\")\n",
    "    \n",
    "except MyError :\n",
    "    print(\"허용되지 않는 별명입니다.\")\n",
    "    \n",
    "finally :\n",
    "    print(\"\\nEND\\n\")\n",
    "    \n",
    "    \n",
    "    \n",
    "int('11111', 2)"
   ]
  },
  {
   "cell_type": "code",
   "execution_count": 36,
   "metadata": {},
   "outputs": [
    {
     "ename": "TypeError",
     "evalue": "'str' object is not callable",
     "output_type": "error",
     "traceback": [
      "\u001b[1;31m---------------------------------------------------------------------------\u001b[0m",
      "\u001b[1;31mTypeError\u001b[0m                                 Traceback (most recent call last)",
      "\u001b[1;32m<ipython-input-36-99d426d96cb3>\u001b[0m in \u001b[0;36m<module>\u001b[1;34m\u001b[0m\n\u001b[1;32m----> 1\u001b[1;33m \u001b[0mstr\u001b[0m\u001b[1;33m(\u001b[0m\u001b[1;36m3\u001b[0m\u001b[1;33m)\u001b[0m\u001b[1;33m\u001b[0m\u001b[1;33m\u001b[0m\u001b[0m\n\u001b[0m",
      "\u001b[1;31mTypeError\u001b[0m: 'str' object is not callable"
     ]
    }
   ],
   "source": []
  },
  {
   "cell_type": "code",
   "execution_count": null,
   "metadata": {},
   "outputs": [],
   "source": []
  }
 ],
 "metadata": {
  "kernelspec": {
   "display_name": "Python 3",
   "language": "python",
   "name": "python3"
  },
  "language_info": {
   "codemirror_mode": {
    "name": "ipython",
    "version": 3
   },
   "file_extension": ".py",
   "mimetype": "text/x-python",
   "name": "python",
   "nbconvert_exporter": "python",
   "pygments_lexer": "ipython3",
   "version": "3.7.4"
  }
 },
 "nbformat": 4,
 "nbformat_minor": 2
}
