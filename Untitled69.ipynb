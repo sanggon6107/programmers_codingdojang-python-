{
 "cells": [
  {
   "cell_type": "code",
   "execution_count": 4,
   "metadata": {},
   "outputs": [
    {
     "name": "stdout",
     "output_type": "stream",
     "text": [
      "==============================Type 'QUIT' to exit.==============================\n",
      "INPUT : 123cm\n",
      "123cm\n",
      "==============================Type 'QUIT' to exit.==============================\n",
      "INPUT : QUIT\n"
     ]
    }
   ],
   "source": [
    "import re\n",
    "\n",
    "UNIT_DICTIONARY = [(\"inch\", \"cm\", 2.54), (\"cm\", \"mm\", 10), (\"inch\", \"pt\", 72), (\"inch\", \"px\", 96),\n",
    "                   (\"pt\", \"dxa\", 20), (\"dxa\", \"emu\", 635)]\n",
    "\n",
    "while True : \n",
    "    print(\"=\"*30+\"Type \\'QUIT\\' to exit.\"+\"=\"*30)\n",
    "    inp = input(\"INPUT : \")\n",
    "        \n",
    "    if inp == 'QUIT' :\n",
    "        break\n",
    "        \n",
    "    else : \n",
    "        \n",
    "        TRANS_digits = re.compile(\"\\d+\")\n",
    "        TRANS_unit = re.compile(\"[a-zA-Z]+\")\n",
    "        \n",
    "        digits_BEFORE_TRANS = \"\".join(TRANS_digits.findall(inp))\n",
    "        unit_BEFORE_TRANS = \"\".join(TRANS_unit.findall(inp))\n",
    "        \n",
    "        inp2nd = input(\"CONVERSE INTO : \")"
   ]
  },
  {
   "cell_type": "code",
   "execution_count": null,
   "metadata": {},
   "outputs": [],
   "source": []
  }
 ],
 "metadata": {
  "kernelspec": {
   "display_name": "Python 3",
   "language": "python",
   "name": "python3"
  },
  "language_info": {
   "codemirror_mode": {
    "name": "ipython",
    "version": 3
   },
   "file_extension": ".py",
   "mimetype": "text/x-python",
   "name": "python",
   "nbconvert_exporter": "python",
   "pygments_lexer": "ipython3",
   "version": "3.7.3"
  }
 },
 "nbformat": 4,
 "nbformat_minor": 2
}
