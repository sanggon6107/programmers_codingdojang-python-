{
 "cells": [
  {
   "cell_type": "code",
   "execution_count": null,
   "metadata": {},
   "outputs": [],
   "source": [
    "def solution(record):\n",
    "    state = []\n",
    "    \n",
    "    for line in record :\n",
    "        lineSplit = line.split()\n",
    "        if lineSplit[0] == \"Enter\" :\n",
    "            ####닉네임 바꿔서 : \n",
    "            state.append([lineSplit[2], \"님이 들어왔습니다.\", lineSplit[1]])\n",
    "        elif lineSplit[0] == \"Leave\" :\n",
    "            #state.append([lineSplit[2], \"님이 나갔습니다.\", lineSplit[1]])\n",
    "            for l in state :\n",
    "                if lineSplit[1] == \n",
    "            \n",
    "        else :\n",
    "            for c in state :\n",
    "                if lineSplit[1] == c[2] :\n",
    "                    c[0] = lineSplit[2]\n",
    "    \n",
    "    \n",
    "    return state"
   ]
  },
  {
   "cell_type": "code",
   "execution_count": 4,
   "metadata": {},
   "outputs": [
    {
     "data": {
      "text/plain": [
       "['Prodo님이 들어왔습니다.', 'Ryan님이 들어왔습니다.', 'Prodo님이 나갔습니다.', 'Prodo님이 들어왔습니다.']"
      ]
     },
     "execution_count": 4,
     "metadata": {},
     "output_type": "execute_result"
    }
   ],
   "source": [
    "# enter, leave | id 따로\n",
    "def result(eL, iN) :\n",
    "    r = []\n",
    "    for line in eL :\n",
    "        r.append(iN[line[0]]+line[1])\n",
    "    return r\n",
    "\n",
    "\n",
    "def solution(record):\n",
    "    enterLeave, idNickname = [], {}\n",
    "    for line in record :\n",
    "        lineSplit = line.split()\n",
    "        if lineSplit[0] == \"Enter\" :\n",
    "            enterLeave.append([lineSplit[1], \"님이 들어왔습니다.\"])\n",
    "            idNickname[lineSplit[1]] = lineSplit[2]\n",
    "            \n",
    "        elif lineSplit[0] == \"Leave\" :\n",
    "            enterLeave.append([lineSplit[1], \"님이 나갔습니다.\"])\n",
    "        else :\n",
    "            idNickname[lineSplit[1]] = lineSplit[2]\n",
    "    return result(enterLeave, idNickname)\n",
    "\n",
    "solution([\"Enter uid1234 Muzi\", \"Enter uid4567 Prodo\",\"Leave uid1234\",\"Enter uid1234 Prodo\",\"Change uid4567 Ryan\"])"
   ]
  },
  {
   "cell_type": "code",
   "execution_count": null,
   "metadata": {},
   "outputs": [],
   "source": []
  }
 ],
 "metadata": {
  "kernelspec": {
   "display_name": "Python 3",
   "language": "python",
   "name": "python3"
  },
  "language_info": {
   "codemirror_mode": {
    "name": "ipython",
    "version": 3
   },
   "file_extension": ".py",
   "mimetype": "text/x-python",
   "name": "python",
   "nbconvert_exporter": "python",
   "pygments_lexer": "ipython3",
   "version": "3.7.3"
  }
 },
 "nbformat": 4,
 "nbformat_minor": 2
}
