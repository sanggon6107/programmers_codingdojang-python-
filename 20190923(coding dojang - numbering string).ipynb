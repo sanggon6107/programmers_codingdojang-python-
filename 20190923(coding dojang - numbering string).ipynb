{
 "cells": [
  {
   "cell_type": "code",
   "execution_count": 21,
   "metadata": {},
   "outputs": [
    {
     "name": "stdout",
     "output_type": "stream",
     "text": [
      "================================================== 2019.09.23 ==================================================\n",
      "0 : 192\n",
      "1 : 301\n",
      "2 : 300\n",
      "3 : 300\n",
      "4 : 300\n",
      "5 : 300\n",
      "6 : 300\n",
      "7 : 300\n",
      "8 : 300\n",
      "9 : 300\n"
     ]
    }
   ],
   "source": [
    "print(\"=\"*50, \"2019.09.23\", \"=\"*50)\n",
    "\n",
    "##coding dojang, numbering of strings\n",
    "\n",
    "\n",
    "number_list = list(range(1, 1001))\n",
    "kk = ''\n",
    "n = 0\n",
    "for n in range(0, 1000) :\n",
    "    kk = kk + str(number_list[n])\n",
    "m = 0\n",
    "for m in range(0, 10) :\n",
    "    s = kk.count(\"%d\" %m)\n",
    "    print(\"%d : %d\"%(m, s))\n"
   ]
  },
  {
   "cell_type": "code",
   "execution_count": null,
   "metadata": {},
   "outputs": [],
   "source": []
  }
 ],
 "metadata": {
  "kernelspec": {
   "display_name": "Python 3",
   "language": "python",
   "name": "python3"
  },
  "language_info": {
   "codemirror_mode": {
    "name": "ipython",
    "version": 3
   },
   "file_extension": ".py",
   "mimetype": "text/x-python",
   "name": "python",
   "nbconvert_exporter": "python",
   "pygments_lexer": "ipython3",
   "version": "3.7.3"
  }
 },
 "nbformat": 4,
 "nbformat_minor": 2
}
