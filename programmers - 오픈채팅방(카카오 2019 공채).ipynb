{
 "cells": [
  {
   "cell_type": "code",
   "execution_count": 4,
   "metadata": {},
   "outputs": [
    {
     "data": {
      "text/plain": [
       "['Prodo님이 들어왔습니다.', 'Ryan님이 들어왔습니다.', 'Prodo님이 나갔습니다.', 'Prodo님이 들어왔습니다.']"
      ]
     },
     "execution_count": 4,
     "metadata": {},
     "output_type": "execute_result"
    }
   ],
   "source": [
    "# enter, leave | id 따로\n",
    "def result(eL, iN) :\n",
    "    r = []\n",
    "    for line in eL :\n",
    "        r.append(iN[line[0]]+line[1])\n",
    "    return r\n",
    "\n",
    "def solution(record):\n",
    "    enterLeave, idNickname = [], {}\n",
    "    for line in record :\n",
    "        lineSplit = line.split()\n",
    "        if lineSplit[0] == \"Enter\" :\n",
    "            enterLeave.append([lineSplit[1], \"님이 들어왔습니다.\"])\n",
    "            idNickname[lineSplit[1]] = lineSplit[2]\n",
    "        elif lineSplit[0] == \"Leave\" :\n",
    "            enterLeave.append([lineSplit[1], \"님이 나갔습니다.\"])\n",
    "        else :\n",
    "            idNickname[lineSplit[1]] = lineSplit[2]\n",
    "    return result(enterLeave, idNickname)\n",
    " \n",
    "solution([\"Enter uid1234 Muzi\", \"Enter uid4567 Prodo\",\"Leave uid1234\",\"Enter uid1234 Prodo\",\"Change uid4567 Ryan\"])\n"
   ]
  },
  {
   "cell_type": "code",
   "execution_count": null,
   "metadata": {},
   "outputs": [],
   "source": []
  }
 ],
 "metadata": {
  "kernelspec": {
   "display_name": "Python 3",
   "language": "python",
   "name": "python3"
  },
  "language_info": {
   "codemirror_mode": {
    "name": "ipython",
    "version": 3
   },
   "file_extension": ".py",
   "mimetype": "text/x-python",
   "name": "python",
   "nbconvert_exporter": "python",
   "pygments_lexer": "ipython3",
   "version": "3.7.3"
  }
 },
 "nbformat": 4,
 "nbformat_minor": 2
}
